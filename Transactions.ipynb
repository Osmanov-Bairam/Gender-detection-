{
  "cells": [
    {
      "cell_type": "markdown",
      "metadata": {
        "id": "view-in-github",
        "colab_type": "text"
      },
      "source": [
        "<a href=\"https://colab.research.google.com/github/Osmanov-Bairam/Gender-detection-/blob/main/Transactions.ipynb\" target=\"_parent\"><img src=\"https://colab.research.google.com/assets/colab-badge.svg\" alt=\"Open In Colab\"/></a>"
      ]
    },
    {
      "cell_type": "markdown",
      "metadata": {
        "id": "DzoUIWFvQmbu"
      },
      "source": [
        "# Define the problem"
      ]
    },
    {
      "cell_type": "markdown",
      "metadata": {
        "id": "YbemNPebmx9E"
      },
      "source": [
        "## Предсказание пола клиента\n",
        "\n",
        "### Необходимо выявить пол клиента, основываясь на его транзакционных исторических данных. В роли метрики качества выступает [ROC AUC](https://dyakonov.org/2017/07/28/auc-roc-%D0%BF%D0%BB%D0%BE%D1%89%D0%B0%D0%B4%D1%8C-%D0%BF%D0%BE%D0%B4-%D0%BA%D1%80%D0%B8%D0%B2%D0%BE%D0%B9-%D0%BE%D1%88%D0%B8%D0%B1%D0%BE%D0%BA/), который и нужно будет максимизировать."
      ]
    },
    {
      "cell_type": "markdown",
      "metadata": {
        "id": "1Kikaxn4mx9H"
      },
      "source": [
        "## Описание файлов\n",
        "- transactions.csv - исторические транзакции банковских клиентов\n",
        "- gender.csv - информация по полу для части клиентов (null - для тестовых)\n",
        "- tr_mcc_codes.csv - mcc-коды транзакций\n",
        "- tr_types.csv - типы транзакций\n",
        "\n",
        "## Описание полей\n",
        "### transactions.csv\n",
        "- customer_id - идентификатор клиента\n",
        "- tr_datetime - день и время совершения транзакции (дни нумеруются с начала данных)\n",
        "- mcc_code - mcc-код транзакции\n",
        "- tr_type - тип транзакции\n",
        "- amount - сумма транзакции в условных единицах; со знаком \"+\" — начисление средств клиенту, \"-\" — списание средств\n",
        "- term_id - идентификатор терминала\n",
        "\n",
        "### gender.csv\n",
        "- customer_id - идентификатор клиента\n",
        "- gender - пол клиента (пустые значения - тестовые клиенты)\n",
        "\n",
        "### tr_mcc_codes.csv\n",
        "- mcc_code - mcc-код транзакции\n",
        "- mcc_description - описание mcc-кода транзакции\n",
        "\n",
        "### tr_types.csv\n",
        "- tr_type - тип транзакции\n",
        "- tr_description - описание типа транзакции"
      ]
    },
    {
      "cell_type": "markdown",
      "metadata": {
        "id": "Y8_jV9vHmx9I"
      },
      "source": [
        "## Задачи:\n",
        "- Разработать модель бинарной классификации для определения пола клиента. Никаких ограничений к модели - может быть что угодно от KNN до трансформеров. Главное, чтобы ROC AUC на отложенном тесте получился выше 77.5%.\n",
        "- Интерпретировать результаты модели: важность входящих в нее переменных, демонстрация на нескольких примерах, почему получился соответствующий прогноз. Последнее позволит понять, какой пол к какому из таргетов (0/1) принадлежит. Опять же, полная свобода выбора подходов! Полезные ключевые слова: gain, permutation importance, SHAP. \n",
        "- Конвертировать результаты в отчет без кода (идеально - напрямую в [html](https://stackoverflow.com/questions/49907455/hide-code-when-exporting-jupyter-notebook-to-html))\n",
        "\n",
        "#### P.S. Не забываем про [PEP8](https://www.python.org/dev/peps/pep-0008/)!"
      ]
    },
    {
      "cell_type": "markdown",
      "metadata": {
        "id": "Rt63MHJIOsN2"
      },
      "source": [
        "# Import libraries"
      ]
    },
    {
      "cell_type": "markdown",
      "metadata": {
        "id": "Ggf0ndL1sPpA"
      },
      "source": [
        "Imort and install all neccessery libraries"
      ]
    },
    {
      "cell_type": "code",
      "execution_count": 1,
      "metadata": {
        "id": "5gnkXAWLpEG1"
      },
      "outputs": [],
      "source": [
        "%%capture\n",
        "\n",
        "!pip install scikit-learn-intelex;"
      ]
    },
    {
      "cell_type": "code",
      "execution_count": 2,
      "metadata": {
        "id": "5IhwNj_qpEuh"
      },
      "outputs": [],
      "source": [
        "%%capture\n",
        "\n",
        "!pip install catboost;"
      ]
    },
    {
      "cell_type": "code",
      "execution_count": 3,
      "metadata": {
        "id": "uTWFI94hzrv9"
      },
      "outputs": [],
      "source": [
        "%%capture\n",
        "\n",
        "!pip install shap;"
      ]
    },
    {
      "cell_type": "code",
      "execution_count": 4,
      "metadata": {
        "colab": {
          "base_uri": "https://localhost:8080/"
        },
        "id": "I8vFy5nsTycz",
        "outputId": "626129b8-4f45-4a74-ecad-5e4b4dbc845e"
      },
      "outputs": [
        {
          "output_type": "stream",
          "name": "stdout",
          "text": [
            "Python version: 3.7.12 (default, Jan 15 2022, 18:48:18) \n",
            "[GCC 7.5.0]\n",
            "pandas version: 1.3.5\n",
            "matplotlib version: 3.2.2\n",
            "NumPy version: 1.19.5\n",
            "SciPy version: 1.4.1\n",
            "IPython version: 5.5.0\n",
            "scikit-learn version: 1.0.2\n",
            "-------------------------\n"
          ]
        },
        {
          "output_type": "stream",
          "name": "stderr",
          "text": [
            "Intel(R) Extension for Scikit-learn* enabled (https://github.com/intel/scikit-learn-intelex)\n"
          ]
        }
      ],
      "source": [
        "# load packages\n",
        "import sys #access to system parameters https://docs.python.org/3/library/sys.html\n",
        "print(\"Python version: {}\". format(sys.version))\n",
        "\n",
        "import pandas as pd #collection of functions for data processing and analysis modeled after R dataframes with SQL like features\n",
        "print(\"pandas version: {}\". format(pd.__version__))\n",
        "\n",
        "import matplotlib #collection of functions for scientific and publication-ready visualization\n",
        "print(\"matplotlib version: {}\". format(matplotlib.__version__))\n",
        "\n",
        "import numpy as np #foundational package for scientific computing\n",
        "print(\"NumPy version: {}\". format(np.__version__))\n",
        "\n",
        "import scipy as sp #collection of functions for scientific computing and advance mathematics\n",
        "print(\"SciPy version: {}\". format(sp.__version__)) \n",
        "\n",
        "import IPython\n",
        "from IPython import display #pretty printing of dataframes in Jupyter notebook\n",
        "print(\"IPython version: {}\". format(IPython.__version__)) \n",
        "\n",
        "import sklearn #collection of machine learning algorithms\n",
        "print(\"scikit-learn version: {}\". format(sklearn.__version__))\n",
        "\n",
        "# ignore warnings\n",
        "import warnings\n",
        "warnings.filterwarnings('ignore')\n",
        "print('-'*25)"
      ]
    },
    {
      "cell_type": "code",
      "execution_count": 5,
      "metadata": {
        "id": "E7NWTar-JLT2"
      },
      "outputs": [],
      "source": [
        "# other libraries\n",
        "import random\n",
        "import time\n",
        "import os\n",
        "import requests\n",
        "import collections\n",
        "import pickle\n",
        "from tqdm import tqdm"
      ]
    },
    {
      "cell_type": "code",
      "execution_count": 6,
      "metadata": {
        "id": "4WYN46uxW7Fh"
      },
      "outputs": [],
      "source": [
        "# Common Model Algorithms\n",
        "from sklearn import svm, tree, linear_model, neighbors, naive_bayes, ensemble, discriminant_analysis, gaussian_process\n",
        "from xgboost import XGBClassifier\n",
        "\n",
        "# Common Model Helpers\n",
        "from sklearn.preprocessing import OneHotEncoder, LabelEncoder\n",
        "from sklearn import feature_selection\n",
        "from sklearn import model_selection\n",
        "from sklearn import metrics\n",
        "from sklearn.pipeline import Pipeline\n",
        "\n",
        "# Uncommon Model Algorithms\n",
        "from catboost import CatBoostClassifier, Pool, metrics, cv\n",
        "from sklearn.metrics import accuracy_score\n",
        "from catboost import Pool\n",
        "\n",
        "# to split the datasets\n",
        "from sklearn.model_selection import train_test_split\n",
        "\n",
        "# Visualization\n",
        "import matplotlib as mpl\n",
        "import matplotlib.pyplot as plt\n",
        "import matplotlib.pylab as pylab\n",
        "import seaborn as sns\n",
        "\n",
        "# from pandas.tools.plotting import scatter_matrix\n",
        "import missingno as msno\n"
      ]
    },
    {
      "cell_type": "code",
      "execution_count": 7,
      "metadata": {
        "colab": {
          "base_uri": "https://localhost:8080/"
        },
        "id": "oIyLU36of6BH",
        "outputId": "7a1ab12f-9731-49b5-8f64-dcd15de7caa6"
      },
      "outputs": [
        {
          "output_type": "stream",
          "name": "stdout",
          "text": [
            "Requirement already satisfied: feature-engine in /usr/local/lib/python3.7/dist-packages (1.2.0)\n",
            "Requirement already satisfied: scikit-learn>=0.22.2 in /usr/local/lib/python3.7/dist-packages (from feature-engine) (1.0.2)\n",
            "Requirement already satisfied: pandas>=1.0.3 in /usr/local/lib/python3.7/dist-packages (from feature-engine) (1.3.5)\n",
            "Requirement already satisfied: statsmodels>=0.11.1 in /usr/local/lib/python3.7/dist-packages (from feature-engine) (0.13.2)\n",
            "Requirement already satisfied: scipy>=1.4.1 in /usr/local/lib/python3.7/dist-packages (from feature-engine) (1.4.1)\n",
            "Requirement already satisfied: numpy>=1.18.2 in /usr/local/lib/python3.7/dist-packages (from feature-engine) (1.19.5)\n",
            "Requirement already satisfied: pytz>=2017.3 in /usr/local/lib/python3.7/dist-packages (from pandas>=1.0.3->feature-engine) (2018.9)\n",
            "Requirement already satisfied: python-dateutil>=2.7.3 in /usr/local/lib/python3.7/dist-packages (from pandas>=1.0.3->feature-engine) (2.8.2)\n",
            "Requirement already satisfied: six>=1.5 in /usr/local/lib/python3.7/dist-packages (from python-dateutil>=2.7.3->pandas>=1.0.3->feature-engine) (1.15.0)\n",
            "Requirement already satisfied: threadpoolctl>=2.0.0 in /usr/local/lib/python3.7/dist-packages (from scikit-learn>=0.22.2->feature-engine) (3.1.0)\n",
            "Requirement already satisfied: joblib>=0.11 in /usr/local/lib/python3.7/dist-packages (from scikit-learn>=0.22.2->feature-engine) (1.1.0)\n",
            "Requirement already satisfied: patsy>=0.5.2 in /usr/local/lib/python3.7/dist-packages (from statsmodels>=0.11.1->feature-engine) (0.5.2)\n",
            "Requirement already satisfied: packaging>=21.3 in /usr/local/lib/python3.7/dist-packages (from statsmodels>=0.11.1->feature-engine) (21.3)\n",
            "Requirement already satisfied: pyparsing!=3.0.5,>=2.0.2 in /usr/local/lib/python3.7/dist-packages (from packaging>=21.3->statsmodels>=0.11.1->feature-engine) (3.0.7)\n"
          ]
        }
      ],
      "source": [
        "! pip install feature-engine"
      ]
    },
    {
      "cell_type": "code",
      "execution_count": 8,
      "metadata": {
        "id": "spEgseqAfyVx"
      },
      "outputs": [],
      "source": [
        "# from feature-engine\n",
        "from feature_engine.imputation import (\n",
        "    AddMissingIndicator,\n",
        "    RandomSampleImputer,\n",
        "    EndTailImputer,\n",
        "    CategoricalImputer\n",
        ")\n",
        "\n",
        "from feature_engine.encoding import CountFrequencyEncoder\n",
        "from feature_engine.discretisation import EqualWidthDiscretiser"
      ]
    },
    {
      "cell_type": "markdown",
      "metadata": {
        "id": "hlh-BKf1PrnF"
      },
      "source": [
        "# Presetting"
      ]
    },
    {
      "cell_type": "code",
      "execution_count": 9,
      "metadata": {
        "id": "IPZ1s-Xfor57"
      },
      "outputs": [],
      "source": [
        "# To plot pretty figures\n",
        "\n",
        "#%matplotlib inline = show plots in Jupyter Notebook browser\n",
        "%matplotlib inline\n",
        "\n",
        "mpl.style.use('ggplot')\n",
        "sns.set_style('white')\n",
        "pylab.rcParams['figure.figsize'] = 12,8\n",
        "\n",
        "mpl.rc('axes', labelsize=14)\n",
        "mpl.rc('xtick', labelsize=12)\n",
        "mpl.rc('ytick', labelsize=12)"
      ]
    },
    {
      "cell_type": "code",
      "execution_count": 10,
      "metadata": {
        "colab": {
          "base_uri": "https://localhost:8080/"
        },
        "id": "ID-wy4uKUO8W",
        "outputId": "d1e8725d-fd17-44d6-bc9a-73451cb54293"
      },
      "outputs": [
        {
          "output_type": "stream",
          "name": "stdout",
          "text": [
            "Mounted at /content/gdrive\n"
          ]
        }
      ],
      "source": [
        "# Connect to google drive to get access to data\n",
        "\n",
        "from google.colab import drive\n",
        "drive.mount('/content/gdrive', force_remount=True)"
      ]
    },
    {
      "cell_type": "code",
      "execution_count": 11,
      "metadata": {
        "id": "qIJYirJdU_EC"
      },
      "outputs": [],
      "source": [
        "# Where to save the figures\n",
        "\n",
        "IMAGES_PATH = \"/content/gdrive/MyDrive/Projects/Assessment/Plots\"\n",
        "\n",
        "def save_fig(fig_id, tight_layout=True, fig_extension=\"png\", resolution=300):\n",
        "    path = os.path.join(IMAGES_PATH, fig_id + \".\" + fig_extension)\n",
        "    print(\"Saving figure\", fig_id)\n",
        "    if tight_layout:\n",
        "        plt.tight_layout()\n",
        "    plt.savefig(path, format=fig_extension, dpi=resolution)"
      ]
    },
    {
      "cell_type": "code",
      "execution_count": 12,
      "metadata": {
        "id": "qMuZY67ze_xE"
      },
      "outputs": [],
      "source": [
        "path_pikcle = \"/content/gdrive/MyDrive/Projects/Assessment/Pickles\""
      ]
    },
    {
      "cell_type": "markdown",
      "metadata": {
        "id": "rbqHh0ehOyJe"
      },
      "source": [
        "# Gather & Import the data"
      ]
    },
    {
      "cell_type": "code",
      "execution_count": null,
      "metadata": {
        "id": "PMo1hFQd6cqR"
      },
      "outputs": [],
      "source": [
        "# load dataset from google drive folders\n",
        "\n",
        "path_gender = \"/content/gdrive/MyDrive/Projects/Assessment/data/gender.csv\"\n",
        "path_tr_mcc_codes = \"/content/gdrive/MyDrive/Projects/Assessment/data/tr_mcc_codes.csv\"\n",
        "path_tr_types = \"/content/gdrive/MyDrive/Projects/Assessment/data/tr_types.csv\"\n",
        "path_transactions = \"/content/gdrive/MyDrive/Projects/Assessment/data/transactions.csv\"\n",
        "\n",
        "data_gender = pd.read_csv(path_gender)\n",
        "data_tr_mcc_codes = pd.read_csv(path_tr_mcc_codes, sep=';')\n",
        "data_tr_types = pd.read_csv(path_tr_types, sep=';')\n",
        "data_transactions = pd.read_csv(path_transactions, sep=',')"
      ]
    },
    {
      "cell_type": "markdown",
      "metadata": {
        "id": "wapL248jPxA1"
      },
      "source": [
        "# Meet and Greet Data"
      ]
    },
    {
      "cell_type": "markdown",
      "metadata": {
        "id": "2LxpS3AMtP2f"
      },
      "source": [
        "Let's familiarize ourselves with data"
      ]
    },
    {
      "cell_type": "code",
      "execution_count": null,
      "metadata": {
        "colab": {
          "base_uri": "https://localhost:8080/"
        },
        "id": "zgrRUMUu7jYD",
        "outputId": "4f082d86-64f9-4b94-e0f8-60e245487eef"
      },
      "outputs": [
        {
          "data": {
            "text/html": [
              "\n",
              "  <div id=\"df-8030100d-6852-4cf5-8b49-5bb510c28e86\">\n",
              "    <div class=\"colab-df-container\">\n",
              "      <div>\n",
              "<style scoped>\n",
              "    .dataframe tbody tr th:only-of-type {\n",
              "        vertical-align: middle;\n",
              "    }\n",
              "\n",
              "    .dataframe tbody tr th {\n",
              "        vertical-align: top;\n",
              "    }\n",
              "\n",
              "    .dataframe thead th {\n",
              "        text-align: right;\n",
              "    }\n",
              "</style>\n",
              "<table border=\"1\" class=\"dataframe\">\n",
              "  <thead>\n",
              "    <tr style=\"text-align: right;\">\n",
              "      <th></th>\n",
              "      <th>customer_id</th>\n",
              "      <th>gender</th>\n",
              "    </tr>\n",
              "  </thead>\n",
              "  <tbody>\n",
              "    <tr>\n",
              "      <th>0</th>\n",
              "      <td>6740969</td>\n",
              "      <td>1.0</td>\n",
              "    </tr>\n",
              "    <tr>\n",
              "      <th>1</th>\n",
              "      <td>36599781</td>\n",
              "      <td>0.0</td>\n",
              "    </tr>\n",
              "    <tr>\n",
              "      <th>2</th>\n",
              "      <td>91453656</td>\n",
              "      <td>1.0</td>\n",
              "    </tr>\n",
              "  </tbody>\n",
              "</table>\n",
              "</div>\n",
              "      <button class=\"colab-df-convert\" onclick=\"convertToInteractive('df-8030100d-6852-4cf5-8b49-5bb510c28e86')\"\n",
              "              title=\"Convert this dataframe to an interactive table.\"\n",
              "              style=\"display:none;\">\n",
              "        \n",
              "  <svg xmlns=\"http://www.w3.org/2000/svg\" height=\"24px\"viewBox=\"0 0 24 24\"\n",
              "       width=\"24px\">\n",
              "    <path d=\"M0 0h24v24H0V0z\" fill=\"none\"/>\n",
              "    <path d=\"M18.56 5.44l.94 2.06.94-2.06 2.06-.94-2.06-.94-.94-2.06-.94 2.06-2.06.94zm-11 1L8.5 8.5l.94-2.06 2.06-.94-2.06-.94L8.5 2.5l-.94 2.06-2.06.94zm10 10l.94 2.06.94-2.06 2.06-.94-2.06-.94-.94-2.06-.94 2.06-2.06.94z\"/><path d=\"M17.41 7.96l-1.37-1.37c-.4-.4-.92-.59-1.43-.59-.52 0-1.04.2-1.43.59L10.3 9.45l-7.72 7.72c-.78.78-.78 2.05 0 2.83L4 21.41c.39.39.9.59 1.41.59.51 0 1.02-.2 1.41-.59l7.78-7.78 2.81-2.81c.8-.78.8-2.07 0-2.86zM5.41 20L4 18.59l7.72-7.72 1.47 1.35L5.41 20z\"/>\n",
              "  </svg>\n",
              "      </button>\n",
              "      \n",
              "  <style>\n",
              "    .colab-df-container {\n",
              "      display:flex;\n",
              "      flex-wrap:wrap;\n",
              "      gap: 12px;\n",
              "    }\n",
              "\n",
              "    .colab-df-convert {\n",
              "      background-color: #E8F0FE;\n",
              "      border: none;\n",
              "      border-radius: 50%;\n",
              "      cursor: pointer;\n",
              "      display: none;\n",
              "      fill: #1967D2;\n",
              "      height: 32px;\n",
              "      padding: 0 0 0 0;\n",
              "      width: 32px;\n",
              "    }\n",
              "\n",
              "    .colab-df-convert:hover {\n",
              "      background-color: #E2EBFA;\n",
              "      box-shadow: 0px 1px 2px rgba(60, 64, 67, 0.3), 0px 1px 3px 1px rgba(60, 64, 67, 0.15);\n",
              "      fill: #174EA6;\n",
              "    }\n",
              "\n",
              "    [theme=dark] .colab-df-convert {\n",
              "      background-color: #3B4455;\n",
              "      fill: #D2E3FC;\n",
              "    }\n",
              "\n",
              "    [theme=dark] .colab-df-convert:hover {\n",
              "      background-color: #434B5C;\n",
              "      box-shadow: 0px 1px 3px 1px rgba(0, 0, 0, 0.15);\n",
              "      filter: drop-shadow(0px 1px 2px rgba(0, 0, 0, 0.3));\n",
              "      fill: #FFFFFF;\n",
              "    }\n",
              "  </style>\n",
              "\n",
              "      <script>\n",
              "        const buttonEl =\n",
              "          document.querySelector('#df-8030100d-6852-4cf5-8b49-5bb510c28e86 button.colab-df-convert');\n",
              "        buttonEl.style.display =\n",
              "          google.colab.kernel.accessAllowed ? 'block' : 'none';\n",
              "\n",
              "        async function convertToInteractive(key) {\n",
              "          const element = document.querySelector('#df-8030100d-6852-4cf5-8b49-5bb510c28e86');\n",
              "          const dataTable =\n",
              "            await google.colab.kernel.invokeFunction('convertToInteractive',\n",
              "                                                     [key], {});\n",
              "          if (!dataTable) return;\n",
              "\n",
              "          const docLinkHtml = 'Like what you see? Visit the ' +\n",
              "            '<a target=\"_blank\" href=https://colab.research.google.com/notebooks/data_table.ipynb>data table notebook</a>'\n",
              "            + ' to learn more about interactive tables.';\n",
              "          element.innerHTML = '';\n",
              "          dataTable['output_type'] = 'display_data';\n",
              "          await google.colab.output.renderOutput(dataTable, element);\n",
              "          const docLink = document.createElement('div');\n",
              "          docLink.innerHTML = docLinkHtml;\n",
              "          element.appendChild(docLink);\n",
              "        }\n",
              "      </script>\n",
              "    </div>\n",
              "  </div>\n",
              "  "
            ],
            "text/plain": [
              "   customer_id  gender\n",
              "0      6740969     1.0\n",
              "1     36599781     0.0\n",
              "2     91453656     1.0"
            ]
          },
          "execution_count": 17,
          "metadata": {},
          "output_type": "execute_result"
        }
      ],
      "source": [
        "data_gender.head(3)"
      ]
    },
    {
      "cell_type": "code",
      "execution_count": null,
      "metadata": {
        "colab": {
          "base_uri": "https://localhost:8080/"
        },
        "id": "SCvYEh2m1Daj",
        "outputId": "e07c6e4a-6a3a-47ba-ce30-4ec12b91acf9"
      },
      "outputs": [
        {
          "name": "stdout",
          "output_type": "stream",
          "text": [
            "<class 'pandas.core.frame.DataFrame'>\n",
            "RangeIndex: 12000 entries, 0 to 11999\n",
            "Data columns (total 2 columns):\n",
            " #   Column       Non-Null Count  Dtype  \n",
            "---  ------       --------------  -----  \n",
            " 0   customer_id  12000 non-null  int64  \n",
            " 1   gender       8400 non-null   float64\n",
            "dtypes: float64(1), int64(1)\n",
            "memory usage: 187.6 KB\n"
          ]
        }
      ],
      "source": [
        "data_gender.info()"
      ]
    },
    {
      "cell_type": "code",
      "execution_count": null,
      "metadata": {
        "colab": {
          "base_uri": "https://localhost:8080/"
        },
        "id": "4rbZbbgCzQNq",
        "outputId": "57e3bafd-554a-46a8-f2f8-813282248019"
      },
      "outputs": [
        {
          "data": {
            "text/html": [
              "\n",
              "  <div id=\"df-7218c758-7733-4710-85ad-74204228fe2d\">\n",
              "    <div class=\"colab-df-container\">\n",
              "      <div>\n",
              "<style scoped>\n",
              "    .dataframe tbody tr th:only-of-type {\n",
              "        vertical-align: middle;\n",
              "    }\n",
              "\n",
              "    .dataframe tbody tr th {\n",
              "        vertical-align: top;\n",
              "    }\n",
              "\n",
              "    .dataframe thead th {\n",
              "        text-align: right;\n",
              "    }\n",
              "</style>\n",
              "<table border=\"1\" class=\"dataframe\">\n",
              "  <thead>\n",
              "    <tr style=\"text-align: right;\">\n",
              "      <th></th>\n",
              "      <th>mcc_code</th>\n",
              "      <th>mcc_description</th>\n",
              "    </tr>\n",
              "  </thead>\n",
              "  <tbody>\n",
              "    <tr>\n",
              "      <th>0</th>\n",
              "      <td>742</td>\n",
              "      <td>Ветеринарные услуги</td>\n",
              "    </tr>\n",
              "    <tr>\n",
              "      <th>1</th>\n",
              "      <td>1711</td>\n",
              "      <td>Генеральные подрядчики по вентиляции, теплосна...</td>\n",
              "    </tr>\n",
              "    <tr>\n",
              "      <th>2</th>\n",
              "      <td>1731</td>\n",
              "      <td>Подрядчики по электричеству</td>\n",
              "    </tr>\n",
              "  </tbody>\n",
              "</table>\n",
              "</div>\n",
              "      <button class=\"colab-df-convert\" onclick=\"convertToInteractive('df-7218c758-7733-4710-85ad-74204228fe2d')\"\n",
              "              title=\"Convert this dataframe to an interactive table.\"\n",
              "              style=\"display:none;\">\n",
              "        \n",
              "  <svg xmlns=\"http://www.w3.org/2000/svg\" height=\"24px\"viewBox=\"0 0 24 24\"\n",
              "       width=\"24px\">\n",
              "    <path d=\"M0 0h24v24H0V0z\" fill=\"none\"/>\n",
              "    <path d=\"M18.56 5.44l.94 2.06.94-2.06 2.06-.94-2.06-.94-.94-2.06-.94 2.06-2.06.94zm-11 1L8.5 8.5l.94-2.06 2.06-.94-2.06-.94L8.5 2.5l-.94 2.06-2.06.94zm10 10l.94 2.06.94-2.06 2.06-.94-2.06-.94-.94-2.06-.94 2.06-2.06.94z\"/><path d=\"M17.41 7.96l-1.37-1.37c-.4-.4-.92-.59-1.43-.59-.52 0-1.04.2-1.43.59L10.3 9.45l-7.72 7.72c-.78.78-.78 2.05 0 2.83L4 21.41c.39.39.9.59 1.41.59.51 0 1.02-.2 1.41-.59l7.78-7.78 2.81-2.81c.8-.78.8-2.07 0-2.86zM5.41 20L4 18.59l7.72-7.72 1.47 1.35L5.41 20z\"/>\n",
              "  </svg>\n",
              "      </button>\n",
              "      \n",
              "  <style>\n",
              "    .colab-df-container {\n",
              "      display:flex;\n",
              "      flex-wrap:wrap;\n",
              "      gap: 12px;\n",
              "    }\n",
              "\n",
              "    .colab-df-convert {\n",
              "      background-color: #E8F0FE;\n",
              "      border: none;\n",
              "      border-radius: 50%;\n",
              "      cursor: pointer;\n",
              "      display: none;\n",
              "      fill: #1967D2;\n",
              "      height: 32px;\n",
              "      padding: 0 0 0 0;\n",
              "      width: 32px;\n",
              "    }\n",
              "\n",
              "    .colab-df-convert:hover {\n",
              "      background-color: #E2EBFA;\n",
              "      box-shadow: 0px 1px 2px rgba(60, 64, 67, 0.3), 0px 1px 3px 1px rgba(60, 64, 67, 0.15);\n",
              "      fill: #174EA6;\n",
              "    }\n",
              "\n",
              "    [theme=dark] .colab-df-convert {\n",
              "      background-color: #3B4455;\n",
              "      fill: #D2E3FC;\n",
              "    }\n",
              "\n",
              "    [theme=dark] .colab-df-convert:hover {\n",
              "      background-color: #434B5C;\n",
              "      box-shadow: 0px 1px 3px 1px rgba(0, 0, 0, 0.15);\n",
              "      filter: drop-shadow(0px 1px 2px rgba(0, 0, 0, 0.3));\n",
              "      fill: #FFFFFF;\n",
              "    }\n",
              "  </style>\n",
              "\n",
              "      <script>\n",
              "        const buttonEl =\n",
              "          document.querySelector('#df-7218c758-7733-4710-85ad-74204228fe2d button.colab-df-convert');\n",
              "        buttonEl.style.display =\n",
              "          google.colab.kernel.accessAllowed ? 'block' : 'none';\n",
              "\n",
              "        async function convertToInteractive(key) {\n",
              "          const element = document.querySelector('#df-7218c758-7733-4710-85ad-74204228fe2d');\n",
              "          const dataTable =\n",
              "            await google.colab.kernel.invokeFunction('convertToInteractive',\n",
              "                                                     [key], {});\n",
              "          if (!dataTable) return;\n",
              "\n",
              "          const docLinkHtml = 'Like what you see? Visit the ' +\n",
              "            '<a target=\"_blank\" href=https://colab.research.google.com/notebooks/data_table.ipynb>data table notebook</a>'\n",
              "            + ' to learn more about interactive tables.';\n",
              "          element.innerHTML = '';\n",
              "          dataTable['output_type'] = 'display_data';\n",
              "          await google.colab.output.renderOutput(dataTable, element);\n",
              "          const docLink = document.createElement('div');\n",
              "          docLink.innerHTML = docLinkHtml;\n",
              "          element.appendChild(docLink);\n",
              "        }\n",
              "      </script>\n",
              "    </div>\n",
              "  </div>\n",
              "  "
            ],
            "text/plain": [
              "   mcc_code                                    mcc_description\n",
              "0       742                                Ветеринарные услуги\n",
              "1      1711  Генеральные подрядчики по вентиляции, теплосна...\n",
              "2      1731                        Подрядчики по электричеству"
            ]
          },
          "execution_count": 19,
          "metadata": {},
          "output_type": "execute_result"
        }
      ],
      "source": [
        "data_tr_mcc_codes.head(3)"
      ]
    },
    {
      "cell_type": "code",
      "execution_count": null,
      "metadata": {
        "colab": {
          "base_uri": "https://localhost:8080/"
        },
        "id": "6VPJOMRl04OD",
        "outputId": "5fc5b168-d105-48b0-91ca-6301e64f1c51"
      },
      "outputs": [
        {
          "name": "stdout",
          "output_type": "stream",
          "text": [
            "<class 'pandas.core.frame.DataFrame'>\n",
            "RangeIndex: 184 entries, 0 to 183\n",
            "Data columns (total 2 columns):\n",
            " #   Column           Non-Null Count  Dtype \n",
            "---  ------           --------------  ----- \n",
            " 0   mcc_code         184 non-null    int64 \n",
            " 1   mcc_description  184 non-null    object\n",
            "dtypes: int64(1), object(1)\n",
            "memory usage: 3.0+ KB\n"
          ]
        }
      ],
      "source": [
        "data_tr_mcc_codes.info()"
      ]
    },
    {
      "cell_type": "code",
      "execution_count": null,
      "metadata": {
        "colab": {
          "base_uri": "https://localhost:8080/"
        },
        "id": "jzlHI5RRzZa6",
        "outputId": "cdabe8ef-ec76-4efa-c859-53502b2a6799"
      },
      "outputs": [
        {
          "data": {
            "text/html": [
              "\n",
              "  <div id=\"df-104b463f-16b0-440b-99a5-19ba9f10d10c\">\n",
              "    <div class=\"colab-df-container\">\n",
              "      <div>\n",
              "<style scoped>\n",
              "    .dataframe tbody tr th:only-of-type {\n",
              "        vertical-align: middle;\n",
              "    }\n",
              "\n",
              "    .dataframe tbody tr th {\n",
              "        vertical-align: top;\n",
              "    }\n",
              "\n",
              "    .dataframe thead th {\n",
              "        text-align: right;\n",
              "    }\n",
              "</style>\n",
              "<table border=\"1\" class=\"dataframe\">\n",
              "  <thead>\n",
              "    <tr style=\"text-align: right;\">\n",
              "      <th></th>\n",
              "      <th>tr_type</th>\n",
              "      <th>tr_description</th>\n",
              "    </tr>\n",
              "  </thead>\n",
              "  <tbody>\n",
              "    <tr>\n",
              "      <th>0</th>\n",
              "      <td>3200</td>\n",
              "      <td>Плата за предоставление услуг посредством моби...</td>\n",
              "    </tr>\n",
              "    <tr>\n",
              "      <th>1</th>\n",
              "      <td>3210</td>\n",
              "      <td>Плата за предоставление отчета по счету карты ...</td>\n",
              "    </tr>\n",
              "    <tr>\n",
              "      <th>2</th>\n",
              "      <td>3800</td>\n",
              "      <td>Плата за обслуживание банковской карты (за пер...</td>\n",
              "    </tr>\n",
              "    <tr>\n",
              "      <th>3</th>\n",
              "      <td>4000</td>\n",
              "      <td>Плата за получение наличных в Сбербанке</td>\n",
              "    </tr>\n",
              "    <tr>\n",
              "      <th>4</th>\n",
              "      <td>4001</td>\n",
              "      <td>Плата за получение наличных в Сбербанке (в дру...</td>\n",
              "    </tr>\n",
              "    <tr>\n",
              "      <th>5</th>\n",
              "      <td>4010</td>\n",
              "      <td>Плата за получение наличных в АТМ Сбербанка</td>\n",
              "    </tr>\n",
              "    <tr>\n",
              "      <th>6</th>\n",
              "      <td>4011</td>\n",
              "      <td>Плата за получение наличных в АТМ Сбербанка (в...</td>\n",
              "    </tr>\n",
              "    <tr>\n",
              "      <th>7</th>\n",
              "      <td>4020</td>\n",
              "      <td>Плата за получение наличных через POS в Сбербанке</td>\n",
              "    </tr>\n",
              "    <tr>\n",
              "      <th>8</th>\n",
              "      <td>4021</td>\n",
              "      <td>Плата за получение наличных через POS в Сберба...</td>\n",
              "    </tr>\n",
              "    <tr>\n",
              "      <th>9</th>\n",
              "      <td>4030</td>\n",
              "      <td>Плата за взнос наличных через АТМ (в своем тер...</td>\n",
              "    </tr>\n",
              "  </tbody>\n",
              "</table>\n",
              "</div>\n",
              "      <button class=\"colab-df-convert\" onclick=\"convertToInteractive('df-104b463f-16b0-440b-99a5-19ba9f10d10c')\"\n",
              "              title=\"Convert this dataframe to an interactive table.\"\n",
              "              style=\"display:none;\">\n",
              "        \n",
              "  <svg xmlns=\"http://www.w3.org/2000/svg\" height=\"24px\"viewBox=\"0 0 24 24\"\n",
              "       width=\"24px\">\n",
              "    <path d=\"M0 0h24v24H0V0z\" fill=\"none\"/>\n",
              "    <path d=\"M18.56 5.44l.94 2.06.94-2.06 2.06-.94-2.06-.94-.94-2.06-.94 2.06-2.06.94zm-11 1L8.5 8.5l.94-2.06 2.06-.94-2.06-.94L8.5 2.5l-.94 2.06-2.06.94zm10 10l.94 2.06.94-2.06 2.06-.94-2.06-.94-.94-2.06-.94 2.06-2.06.94z\"/><path d=\"M17.41 7.96l-1.37-1.37c-.4-.4-.92-.59-1.43-.59-.52 0-1.04.2-1.43.59L10.3 9.45l-7.72 7.72c-.78.78-.78 2.05 0 2.83L4 21.41c.39.39.9.59 1.41.59.51 0 1.02-.2 1.41-.59l7.78-7.78 2.81-2.81c.8-.78.8-2.07 0-2.86zM5.41 20L4 18.59l7.72-7.72 1.47 1.35L5.41 20z\"/>\n",
              "  </svg>\n",
              "      </button>\n",
              "      \n",
              "  <style>\n",
              "    .colab-df-container {\n",
              "      display:flex;\n",
              "      flex-wrap:wrap;\n",
              "      gap: 12px;\n",
              "    }\n",
              "\n",
              "    .colab-df-convert {\n",
              "      background-color: #E8F0FE;\n",
              "      border: none;\n",
              "      border-radius: 50%;\n",
              "      cursor: pointer;\n",
              "      display: none;\n",
              "      fill: #1967D2;\n",
              "      height: 32px;\n",
              "      padding: 0 0 0 0;\n",
              "      width: 32px;\n",
              "    }\n",
              "\n",
              "    .colab-df-convert:hover {\n",
              "      background-color: #E2EBFA;\n",
              "      box-shadow: 0px 1px 2px rgba(60, 64, 67, 0.3), 0px 1px 3px 1px rgba(60, 64, 67, 0.15);\n",
              "      fill: #174EA6;\n",
              "    }\n",
              "\n",
              "    [theme=dark] .colab-df-convert {\n",
              "      background-color: #3B4455;\n",
              "      fill: #D2E3FC;\n",
              "    }\n",
              "\n",
              "    [theme=dark] .colab-df-convert:hover {\n",
              "      background-color: #434B5C;\n",
              "      box-shadow: 0px 1px 3px 1px rgba(0, 0, 0, 0.15);\n",
              "      filter: drop-shadow(0px 1px 2px rgba(0, 0, 0, 0.3));\n",
              "      fill: #FFFFFF;\n",
              "    }\n",
              "  </style>\n",
              "\n",
              "      <script>\n",
              "        const buttonEl =\n",
              "          document.querySelector('#df-104b463f-16b0-440b-99a5-19ba9f10d10c button.colab-df-convert');\n",
              "        buttonEl.style.display =\n",
              "          google.colab.kernel.accessAllowed ? 'block' : 'none';\n",
              "\n",
              "        async function convertToInteractive(key) {\n",
              "          const element = document.querySelector('#df-104b463f-16b0-440b-99a5-19ba9f10d10c');\n",
              "          const dataTable =\n",
              "            await google.colab.kernel.invokeFunction('convertToInteractive',\n",
              "                                                     [key], {});\n",
              "          if (!dataTable) return;\n",
              "\n",
              "          const docLinkHtml = 'Like what you see? Visit the ' +\n",
              "            '<a target=\"_blank\" href=https://colab.research.google.com/notebooks/data_table.ipynb>data table notebook</a>'\n",
              "            + ' to learn more about interactive tables.';\n",
              "          element.innerHTML = '';\n",
              "          dataTable['output_type'] = 'display_data';\n",
              "          await google.colab.output.renderOutput(dataTable, element);\n",
              "          const docLink = document.createElement('div');\n",
              "          docLink.innerHTML = docLinkHtml;\n",
              "          element.appendChild(docLink);\n",
              "        }\n",
              "      </script>\n",
              "    </div>\n",
              "  </div>\n",
              "  "
            ],
            "text/plain": [
              "   tr_type                                     tr_description\n",
              "0     3200  Плата за предоставление услуг посредством моби...\n",
              "1     3210  Плата за предоставление отчета по счету карты ...\n",
              "2     3800  Плата за обслуживание банковской карты (за пер...\n",
              "3     4000            Плата за получение наличных в Сбербанке\n",
              "4     4001  Плата за получение наличных в Сбербанке (в дру...\n",
              "5     4010        Плата за получение наличных в АТМ Сбербанка\n",
              "6     4011  Плата за получение наличных в АТМ Сбербанка (в...\n",
              "7     4020  Плата за получение наличных через POS в Сбербанке\n",
              "8     4021  Плата за получение наличных через POS в Сберба...\n",
              "9     4030  Плата за взнос наличных через АТМ (в своем тер..."
            ]
          },
          "execution_count": 21,
          "metadata": {},
          "output_type": "execute_result"
        }
      ],
      "source": [
        "data_tr_types.head(10)"
      ]
    },
    {
      "cell_type": "code",
      "execution_count": null,
      "metadata": {
        "colab": {
          "base_uri": "https://localhost:8080/"
        },
        "id": "BIvAfy8F1R0T",
        "outputId": "80f5981f-ddb9-4f5a-f0fc-5db575899364"
      },
      "outputs": [
        {
          "name": "stdout",
          "output_type": "stream",
          "text": [
            "<class 'pandas.core.frame.DataFrame'>\n",
            "RangeIndex: 155 entries, 0 to 154\n",
            "Data columns (total 2 columns):\n",
            " #   Column          Non-Null Count  Dtype \n",
            "---  ------          --------------  ----- \n",
            " 0   tr_type         155 non-null    int64 \n",
            " 1   tr_description  155 non-null    object\n",
            "dtypes: int64(1), object(1)\n",
            "memory usage: 2.5+ KB\n"
          ]
        }
      ],
      "source": [
        "data_tr_types.info()"
      ]
    },
    {
      "cell_type": "code",
      "execution_count": null,
      "metadata": {
        "colab": {
          "base_uri": "https://localhost:8080/"
        },
        "id": "pprWg2M4zk65",
        "outputId": "8907f8b1-9fc7-42c0-f000-70765030007a"
      },
      "outputs": [
        {
          "data": {
            "text/html": [
              "\n",
              "  <div id=\"df-f9bbb890-c72a-4cbd-9a00-4423b6188818\">\n",
              "    <div class=\"colab-df-container\">\n",
              "      <div>\n",
              "<style scoped>\n",
              "    .dataframe tbody tr th:only-of-type {\n",
              "        vertical-align: middle;\n",
              "    }\n",
              "\n",
              "    .dataframe tbody tr th {\n",
              "        vertical-align: top;\n",
              "    }\n",
              "\n",
              "    .dataframe thead th {\n",
              "        text-align: right;\n",
              "    }\n",
              "</style>\n",
              "<table border=\"1\" class=\"dataframe\">\n",
              "  <thead>\n",
              "    <tr style=\"text-align: right;\">\n",
              "      <th></th>\n",
              "      <th>customer_id</th>\n",
              "      <th>tr_datetime</th>\n",
              "      <th>mcc_code</th>\n",
              "      <th>tr_type</th>\n",
              "      <th>amount</th>\n",
              "      <th>term_id</th>\n",
              "    </tr>\n",
              "  </thead>\n",
              "  <tbody>\n",
              "    <tr>\n",
              "      <th>0</th>\n",
              "      <td>39026145</td>\n",
              "      <td>0 10:23:26</td>\n",
              "      <td>4814</td>\n",
              "      <td>1030</td>\n",
              "      <td>-2245.92</td>\n",
              "      <td>NaN</td>\n",
              "    </tr>\n",
              "    <tr>\n",
              "      <th>1</th>\n",
              "      <td>39026145</td>\n",
              "      <td>1 10:19:29</td>\n",
              "      <td>6011</td>\n",
              "      <td>7010</td>\n",
              "      <td>56147.89</td>\n",
              "      <td>NaN</td>\n",
              "    </tr>\n",
              "    <tr>\n",
              "      <th>2</th>\n",
              "      <td>39026145</td>\n",
              "      <td>1 10:20:56</td>\n",
              "      <td>4829</td>\n",
              "      <td>2330</td>\n",
              "      <td>-56147.89</td>\n",
              "      <td>NaN</td>\n",
              "    </tr>\n",
              "  </tbody>\n",
              "</table>\n",
              "</div>\n",
              "      <button class=\"colab-df-convert\" onclick=\"convertToInteractive('df-f9bbb890-c72a-4cbd-9a00-4423b6188818')\"\n",
              "              title=\"Convert this dataframe to an interactive table.\"\n",
              "              style=\"display:none;\">\n",
              "        \n",
              "  <svg xmlns=\"http://www.w3.org/2000/svg\" height=\"24px\"viewBox=\"0 0 24 24\"\n",
              "       width=\"24px\">\n",
              "    <path d=\"M0 0h24v24H0V0z\" fill=\"none\"/>\n",
              "    <path d=\"M18.56 5.44l.94 2.06.94-2.06 2.06-.94-2.06-.94-.94-2.06-.94 2.06-2.06.94zm-11 1L8.5 8.5l.94-2.06 2.06-.94-2.06-.94L8.5 2.5l-.94 2.06-2.06.94zm10 10l.94 2.06.94-2.06 2.06-.94-2.06-.94-.94-2.06-.94 2.06-2.06.94z\"/><path d=\"M17.41 7.96l-1.37-1.37c-.4-.4-.92-.59-1.43-.59-.52 0-1.04.2-1.43.59L10.3 9.45l-7.72 7.72c-.78.78-.78 2.05 0 2.83L4 21.41c.39.39.9.59 1.41.59.51 0 1.02-.2 1.41-.59l7.78-7.78 2.81-2.81c.8-.78.8-2.07 0-2.86zM5.41 20L4 18.59l7.72-7.72 1.47 1.35L5.41 20z\"/>\n",
              "  </svg>\n",
              "      </button>\n",
              "      \n",
              "  <style>\n",
              "    .colab-df-container {\n",
              "      display:flex;\n",
              "      flex-wrap:wrap;\n",
              "      gap: 12px;\n",
              "    }\n",
              "\n",
              "    .colab-df-convert {\n",
              "      background-color: #E8F0FE;\n",
              "      border: none;\n",
              "      border-radius: 50%;\n",
              "      cursor: pointer;\n",
              "      display: none;\n",
              "      fill: #1967D2;\n",
              "      height: 32px;\n",
              "      padding: 0 0 0 0;\n",
              "      width: 32px;\n",
              "    }\n",
              "\n",
              "    .colab-df-convert:hover {\n",
              "      background-color: #E2EBFA;\n",
              "      box-shadow: 0px 1px 2px rgba(60, 64, 67, 0.3), 0px 1px 3px 1px rgba(60, 64, 67, 0.15);\n",
              "      fill: #174EA6;\n",
              "    }\n",
              "\n",
              "    [theme=dark] .colab-df-convert {\n",
              "      background-color: #3B4455;\n",
              "      fill: #D2E3FC;\n",
              "    }\n",
              "\n",
              "    [theme=dark] .colab-df-convert:hover {\n",
              "      background-color: #434B5C;\n",
              "      box-shadow: 0px 1px 3px 1px rgba(0, 0, 0, 0.15);\n",
              "      filter: drop-shadow(0px 1px 2px rgba(0, 0, 0, 0.3));\n",
              "      fill: #FFFFFF;\n",
              "    }\n",
              "  </style>\n",
              "\n",
              "      <script>\n",
              "        const buttonEl =\n",
              "          document.querySelector('#df-f9bbb890-c72a-4cbd-9a00-4423b6188818 button.colab-df-convert');\n",
              "        buttonEl.style.display =\n",
              "          google.colab.kernel.accessAllowed ? 'block' : 'none';\n",
              "\n",
              "        async function convertToInteractive(key) {\n",
              "          const element = document.querySelector('#df-f9bbb890-c72a-4cbd-9a00-4423b6188818');\n",
              "          const dataTable =\n",
              "            await google.colab.kernel.invokeFunction('convertToInteractive',\n",
              "                                                     [key], {});\n",
              "          if (!dataTable) return;\n",
              "\n",
              "          const docLinkHtml = 'Like what you see? Visit the ' +\n",
              "            '<a target=\"_blank\" href=https://colab.research.google.com/notebooks/data_table.ipynb>data table notebook</a>'\n",
              "            + ' to learn more about interactive tables.';\n",
              "          element.innerHTML = '';\n",
              "          dataTable['output_type'] = 'display_data';\n",
              "          await google.colab.output.renderOutput(dataTable, element);\n",
              "          const docLink = document.createElement('div');\n",
              "          docLink.innerHTML = docLinkHtml;\n",
              "          element.appendChild(docLink);\n",
              "        }\n",
              "      </script>\n",
              "    </div>\n",
              "  </div>\n",
              "  "
            ],
            "text/plain": [
              "   customer_id tr_datetime  mcc_code  tr_type    amount term_id\n",
              "0     39026145  0 10:23:26      4814     1030  -2245.92     NaN\n",
              "1     39026145  1 10:19:29      6011     7010  56147.89     NaN\n",
              "2     39026145  1 10:20:56      4829     2330 -56147.89     NaN"
            ]
          },
          "execution_count": 23,
          "metadata": {},
          "output_type": "execute_result"
        }
      ],
      "source": [
        "data_transactions.head(3)"
      ]
    },
    {
      "cell_type": "code",
      "execution_count": null,
      "metadata": {
        "colab": {
          "base_uri": "https://localhost:8080/"
        },
        "id": "gYYQEJ1B1d1m",
        "outputId": "eb9bff9b-8570-4767-c7fd-a29df9bc6a27"
      },
      "outputs": [
        {
          "name": "stdout",
          "output_type": "stream",
          "text": [
            "<class 'pandas.core.frame.DataFrame'>\n",
            "RangeIndex: 6849346 entries, 0 to 6849345\n",
            "Data columns (total 6 columns):\n",
            " #   Column       Dtype  \n",
            "---  ------       -----  \n",
            " 0   customer_id  int64  \n",
            " 1   tr_datetime  object \n",
            " 2   mcc_code     int64  \n",
            " 3   tr_type      int64  \n",
            " 4   amount       float64\n",
            " 5   term_id      object \n",
            "dtypes: float64(1), int64(3), object(2)\n",
            "memory usage: 313.5+ MB\n"
          ]
        }
      ],
      "source": [
        "data_transactions.info()"
      ]
    },
    {
      "cell_type": "code",
      "execution_count": null,
      "metadata": {
        "colab": {
          "base_uri": "https://localhost:8080/"
        },
        "id": "Hk9yaFrR7zzO",
        "outputId": "48a06726-e395-4358-a17d-8ca807f23af1"
      },
      "outputs": [
        {
          "data": {
            "text/plain": [
              "0.0    4651\n",
              "1.0    3749\n",
              "Name: gender, dtype: int64"
            ]
          },
          "execution_count": 25,
          "metadata": {},
          "output_type": "execute_result"
        }
      ],
      "source": [
        "# data balance\n",
        "\n",
        "data_gender[\"gender\"].value_counts()"
      ]
    },
    {
      "cell_type": "markdown",
      "metadata": {
        "id": "SaQz-uMbAwrT"
      },
      "source": [
        "# Combine and Split the data"
      ]
    },
    {
      "cell_type": "code",
      "execution_count": null,
      "metadata": {
        "id": "adkdJvF_23q1"
      },
      "outputs": [],
      "source": [
        "full_data = data_transactions.merge(data_gender, how = \"left\", on = \"customer_id\").copy()"
      ]
    },
    {
      "cell_type": "code",
      "execution_count": null,
      "metadata": {
        "id": "f--IlttE4rkG"
      },
      "outputs": [],
      "source": [
        "# data_train - will be used for training and validation\n",
        "# data_val - will be used for data_train evaluation\n",
        "\n",
        "# full_data - will be used for final training \n",
        "# test_data - will be used for final training evaluation\n",
        "\n",
        "\n",
        "data = full_data[~full_data[\"gender\"].isnull()].sort_values(by=['customer_id'])\n",
        "data_test = full_data[full_data[\"gender\"].isnull()].sort_values(by=['customer_id'])"
      ]
    },
    {
      "cell_type": "code",
      "execution_count": null,
      "metadata": {
        "id": "nbTkMFeXGbF5"
      },
      "outputs": [],
      "source": [
        "# from sklearn.model_selection import StratifiedShuffleSplit\n",
        "# from sklearn.model_selection import KFold\n",
        "\n",
        "# split = KFold(n_splits=2)\n",
        "\n",
        "# for train_index, test_index in split.split(data, data[\"gender\"]):\n",
        "#   strat_train_set = data.iloc[train_index]\n",
        "#   strat_test_set = data.iloc[test_index]"
      ]
    },
    {
      "cell_type": "code",
      "execution_count": null,
      "metadata": {
        "id": "-MhoK3COdgd9"
      },
      "outputs": [],
      "source": [
        "# data_train = strat_train_set.copy(deep = True)\n",
        "# data_val = strat_test_set.copy(deep = True)"
      ]
    },
    {
      "cell_type": "code",
      "execution_count": null,
      "metadata": {
        "id": "IfonefSq3Lwf"
      },
      "outputs": [],
      "source": [
        "half_id = data[\"customer_id\"].unique()[int(data[\"customer_id\"].nunique()/2)]\n",
        "half_index = data[data[\"customer_id\"] == half_id].index[-1]"
      ]
    },
    {
      "cell_type": "code",
      "execution_count": null,
      "metadata": {
        "id": "SncaaJgh48Q7"
      },
      "outputs": [],
      "source": [
        "data_train = data.loc[:half_index]\n",
        "data_val = data.loc[half_index:]\n",
        "data_full = data.copy()"
      ]
    },
    {
      "cell_type": "code",
      "execution_count": null,
      "metadata": {
        "colab": {
          "base_uri": "https://localhost:8080/"
        },
        "id": "O3vJChnY8dvG",
        "outputId": "59cd24a4-8f47-4934-fb63-af84994b5041"
      },
      "outputs": [
        {
          "name": "stdout",
          "output_type": "stream",
          "text": [
            "(1860145, 7)\n",
            "(1870570, 7)\n",
            "(3730714, 7)\n",
            "(3118632, 7)\n"
          ]
        }
      ],
      "source": [
        "print(data_train.shape)\n",
        "print(data_val.shape)\n",
        "print(data_full.shape)\n",
        "print(data_test.shape)\n"
      ]
    },
    {
      "cell_type": "code",
      "execution_count": null,
      "metadata": {
        "colab": {
          "base_uri": "https://localhost:8080/"
        },
        "id": "P278wwdD9Wo6",
        "outputId": "0af75d8b-76da-459b-d729-2e24d790de72"
      },
      "outputs": [
        {
          "data": {
            "text/plain": [
              "[49979298]"
            ]
          },
          "execution_count": 24,
          "metadata": {},
          "output_type": "execute_result"
        }
      ],
      "source": [
        "# check - do we have the same clients in train and val set?\n",
        "\n",
        "list(set(data_val[\"customer_id\"].unique()) & set(data_train[\"customer_id\"].unique()))"
      ]
    },
    {
      "cell_type": "code",
      "execution_count": null,
      "metadata": {
        "colab": {
          "base_uri": "https://localhost:8080/"
        },
        "id": "NQy-PJp01guR",
        "outputId": "9b0ac6fe-1d93-4633-f177-0cc19abf4ad9"
      },
      "outputs": [
        {
          "data": {
            "text/plain": [
              "4201"
            ]
          },
          "execution_count": 25,
          "metadata": {},
          "output_type": "execute_result"
        }
      ],
      "source": [
        "# check - do we have the same clients in full train and test set?\n",
        "\n",
        "len(list(set(data_full[\"customer_id\"].unique()) & set(data_train[\"customer_id\"].unique())))"
      ]
    },
    {
      "cell_type": "code",
      "execution_count": null,
      "metadata": {
        "colab": {
          "base_uri": "https://localhost:8080/"
        },
        "id": "h9IGNPGOXjoT",
        "outputId": "ee7430b3-77be-432d-f539-269e7d72747f"
      },
      "outputs": [
        {
          "name": "stdout",
          "output_type": "stream",
          "text": [
            "4201\n",
            "4200\n",
            "6600\n",
            "15000\n"
          ]
        }
      ],
      "source": [
        "print(data_train[\"customer_id\"].nunique())\n",
        "print(data_val[\"customer_id\"].nunique())\n",
        "print(data_test[\"customer_id\"].nunique())\n",
        "print(full_data[\"customer_id\"].nunique())"
      ]
    },
    {
      "cell_type": "markdown",
      "metadata": {
        "id": "SdS6MlrtaHhH"
      },
      "source": [
        "# Research"
      ]
    },
    {
      "cell_type": "markdown",
      "metadata": {
        "id": "yhDLYKmjAQ99"
      },
      "source": [
        "## Research on fullness"
      ]
    },
    {
      "cell_type": "markdown",
      "metadata": {
        "id": "WmhOYiG3x7SG"
      },
      "source": [
        "**Let's check how many nulls we have in each column.**\n",
        "\n",
        "---\n",
        "\n"
      ]
    },
    {
      "cell_type": "code",
      "execution_count": null,
      "metadata": {
        "colab": {
          "base_uri": "https://localhost:8080/"
        },
        "id": "2IP0dhNd8EE1",
        "outputId": "6986beb9-6f33-4832-c07c-d489082fb5f8"
      },
      "outputs": [
        {
          "name": "stdout",
          "output_type": "stream",
          "text": [
            "Saving figure Fullness of columns\n"
          ]
        },
        {
          "data": {
            "image/png": "[encoded data removed]",
            "text/plain": [
              "<Figure size 864x432 with 3 Axes>"
            ]
          },
          "metadata": {},
          "output_type": "display_data"
        }
      ],
      "source": [
        "# how much is null on columns level\n",
        "\n",
        "msno.bar(data_train, figsize=(12, 6), fontsize=12, color='steelblue', sort = \"ascending\");\n",
        "save_fig(\"Fullness of columns\")"
      ]
    },
    {
      "cell_type": "markdown",
      "metadata": {
        "id": "pcrkFpkDQUU_"
      },
      "source": [
        "# Data Imputation"
      ]
    },
    {
      "cell_type": "code",
      "execution_count": null,
      "metadata": {
        "id": "fzbd67-jgL3K"
      },
      "outputs": [],
      "source": [
        "imputed_list = {}"
      ]
    },
    {
      "cell_type": "markdown",
      "metadata": {
        "id": "HbkKGRZbGqHa"
      },
      "source": [
        "## Imputation technic №1\n",
        "\n",
        "---\n",
        "\n"
      ]
    },
    {
      "cell_type": "markdown",
      "metadata": {
        "id": "-jBbFEaOb300"
      },
      "source": [
        "Random sampling imputation is in principle similar to mean / median / mode imputation, in the sense that it aims to preserve the statistical parameters of the original variable, for which data is missing.\n",
        "\n",
        "Random sampling consist of taking a random observation from the pool of available observations of the variable, and using that randomly extracted value to fill the NA. In random sample imputation one takes as many random observations as missing values are present in the variable."
      ]
    },
    {
      "cell_type": "markdown",
      "metadata": {
        "id": "_8EZDKBtdDkL"
      },
      "source": [
        "We do not know whether data are missing at random or not. It is a good idea to replace missing observations by random value AND flag those missing observations as well with a Missing Indicator. A Missing Indicator is an additional binary variable, which indicates whether the data was missing for an observation (1) or not (0).\n",
        "\n"
      ]
    },
    {
      "cell_type": "code",
      "execution_count": null,
      "metadata": {
        "id": "vJlkzr7cgxaS"
      },
      "outputs": [],
      "source": [
        "pipe = Pipeline([\n",
        "    ('missing_ind', AddMissingIndicator()),\n",
        "\n",
        "    ('imputer_random', RandomSampleImputer(random_state = 42))\n",
        "])"
      ]
    },
    {
      "cell_type": "code",
      "execution_count": null,
      "metadata": {
        "id": "bJaD4UTDhJRt"
      },
      "outputs": [],
      "source": [
        "# pipe.fit(data_train)\n",
        "\n",
        "# imputed_train = pipe.transform(data_train)\n",
        "# imputed_val = pipe.transform(data_val)"
      ]
    },
    {
      "cell_type": "code",
      "execution_count": null,
      "metadata": {
        "id": "UgWBq4otNaQm"
      },
      "outputs": [],
      "source": [
        "pipe.fit(data_full)\n",
        "imputed_full = pipe.transform(data_full)\n",
        "imputed_test = pipe.transform(data_test)"
      ]
    },
    {
      "cell_type": "code",
      "execution_count": null,
      "metadata": {
        "id": "2oiIDgjUbpip"
      },
      "outputs": [],
      "source": [
        "# # checking\n",
        "\n",
        "# print(\"Columns with missing values in train:\")\n",
        "# [feature for feature in imputed_full.columns if imputed_full.isnull().any()[feature] == True]"
      ]
    },
    {
      "cell_type": "code",
      "execution_count": null,
      "metadata": {
        "id": "rkOv6Jpl98cR"
      },
      "outputs": [],
      "source": [
        "# imputed_list[\"imputed_train\"] = imputed_train\n",
        "# imputed_list[\"imputed_val\"] = imputed_val\n",
        "\n",
        "imputed_list[\"imputed_full\"] = imputed_full\n",
        "imputed_list[\"imputed_test\"] = imputed_test"
      ]
    },
    {
      "cell_type": "markdown",
      "metadata": {
        "id": "C6i_drKEQCUk"
      },
      "source": [
        "# Feature construction"
      ]
    },
    {
      "cell_type": "markdown",
      "metadata": {
        "id": "VtLP_Ws3znck"
      },
      "source": [
        "## Sampling"
      ]
    },
    {
      "cell_type": "code",
      "execution_count": null,
      "metadata": {
        "colab": {
          "base_uri": "https://localhost:8080/"
        },
        "id": "3CyHwwCUwUDz",
        "outputId": "a6444e31-04b9-4aca-e0c9-1a94ecab1b39"
      },
      "outputs": [
        {
          "name": "stdout",
          "output_type": "stream",
          "text": [
            "(100000, 8)\n"
          ]
        }
      ],
      "source": [
        "# create a sample to make preliminary estimation fast \n",
        "\n",
        "data_sample = imputed_full.copy()\n",
        "\n",
        "data_sample[\"combined\"] = list(zip(data_sample[\"customer_id\"],\n",
        "                          data_sample[\"tr_datetime\"],\n",
        "                          data_sample[\"mcc_code\"],\n",
        "                          data_sample[\"tr_type\"],\n",
        "                          data_sample[\"amount\"],\n",
        "                          data_sample[\"term_id\"],\n",
        "                          data_sample[\"gender\"]))\n",
        "\n",
        "combined_weight = data_sample['combined'].value_counts(normalize=True)\n",
        "\n",
        "data_sample['combined_weight'] = data_sample['combined'].apply(lambda x: combined_weight[x])\n",
        "\n",
        "sample = data_sample.sample(100000, weights=data_sample['combined_weight']).drop([\"combined_weight\", \"combined\"], axis = 1)\n",
        "\n",
        "print(sample.shape)"
      ]
    },
    {
      "cell_type": "code",
      "execution_count": null,
      "metadata": {
        "id": "7QsS7Wt1M7sN"
      },
      "outputs": [],
      "source": [
        "imputed_sample = sample.copy()"
      ]
    },
    {
      "cell_type": "code",
      "execution_count": null,
      "metadata": {
        "id": "1Zm_pgMJ52qe"
      },
      "outputs": [],
      "source": [
        "imputed_list[\"imputed_sample\"] = imputed_sample"
      ]
    },
    {
      "cell_type": "code",
      "execution_count": null,
      "metadata": {
        "colab": {
          "base_uri": "https://localhost:8080/"
        },
        "id": "i1Dx8ehWWPuR",
        "outputId": "8ace0762-19f2-4ad6-8c9b-b7c7cb26fc96"
      },
      "outputs": [
        {
          "name": "stdout",
          "output_type": "stream",
          "text": [
            "<class 'pandas.core.frame.DataFrame'>\n",
            "Int64Index: 100000 entries, 1208076 to 1032176\n",
            "Data columns (total 8 columns):\n",
            " #   Column       Non-Null Count   Dtype  \n",
            "---  ------       --------------   -----  \n",
            " 0   customer_id  100000 non-null  int64  \n",
            " 1   tr_datetime  100000 non-null  object \n",
            " 2   mcc_code     100000 non-null  int64  \n",
            " 3   tr_type      100000 non-null  int64  \n",
            " 4   amount       100000 non-null  float64\n",
            " 5   term_id      100000 non-null  object \n",
            " 6   gender       100000 non-null  float64\n",
            " 7   term_id_na   100000 non-null  int64  \n",
            "dtypes: float64(2), int64(4), object(2)\n",
            "memory usage: 6.9+ MB\n"
          ]
        }
      ],
      "source": [
        "imputed_sample.info()"
      ]
    },
    {
      "cell_type": "markdown",
      "metadata": {
        "id": "UAsC0VNvmnzw"
      },
      "source": [
        "## Creating features\n"
      ]
    },
    {
      "cell_type": "code",
      "execution_count": null,
      "metadata": {
        "id": "d_rXipr8ljZ8"
      },
      "outputs": [],
      "source": [
        "def construct_features(data):\n",
        "\n",
        "  # random variable for filtering\n",
        "\n",
        "  data[\"Random_variable\"] = np.random.randint(1, 6, data.shape[0])\n",
        "  \n",
        "  # convert time data for the whole dataset first\n",
        "\n",
        "  splitted = data[\"tr_datetime\"].str.split(' ', expand = True)\n",
        "  data[\"Day\"] = pd.DataFrame(splitted[0]).astype(\"int64\")\n",
        "  data[\"Time\"] = pd.DataFrame(splitted[1].str.split(':', expand = True)[0]).astype(\"int64\")\n",
        "\n",
        "  # amount per transaction\n",
        "\n",
        "  data[\"Mean_net_money_per_transaction\"] = data.groupby(['customer_id'])[\"amount\"].transform(\"mean\")\n",
        "  data[\"Std_net_money_per_transaction\"] = data.groupby(['customer_id'])[\"amount\"].transform(\"std\").fillna(0)\n",
        "\n",
        "  func = lambda x: x.values[0] if x[x < 0].count() == 1 else x[x < 0].mean()\n",
        "  data[\"Mean_spend_money_per_transaction\"] = data.groupby(['customer_id'])[\"amount\"].transform(func).fillna(0)\n",
        "  func = lambda x: x.values[0] if x[x > 0].count() == 1 else x[x > 0].mean()\n",
        "  data[\"Mean_earn_money_per_transaction\"] = data.groupby(['customer_id'])[\"amount\"].transform(func).fillna(0)\n",
        "\n",
        "  func = lambda x: x[x < 0].std()\n",
        "  data[\"Money_spend_std_per_transaction\"] = data.groupby(['customer_id'])[\"amount\"].transform(func).fillna(0)\n",
        "  func = lambda x: x[x > 0].std()\n",
        "  data[\"Mean_earn_std_per_transaction\"] = data.groupby(['customer_id'])[\"amount\"].transform(func).fillna(0)\n",
        "\n",
        "  data[\"Money_earn_spend_ratio_per_transaction\"] = (data[\"Mean_earn_money_per_transaction\"].abs() / data[\"Money_spend_std_per_transaction\"].abs()).fillna(0)\n",
        "  data[\"Money_earn_spend_ratio_per_transaction\"].replace(np.inf, 1000, inplace = True)\n",
        "\n",
        "  print(\"amount per transaction is completed\")\n",
        "  \n",
        "  # amount all\n",
        "\n",
        "  data[\"ALL_money_net\"] = data.groupby(['customer_id'])[\"amount\"].transform(\"sum\")\n",
        "\n",
        "  func = lambda x: x[x < 0].sum()\n",
        "  data[\"ALL_money_spend\"] = data.groupby(['customer_id'])[\"amount\"].transform(func).fillna(0)\n",
        "  func = lambda x: x[x > 0].sum()\n",
        "  data[\"ALL_money_earn\"] = data.groupby(['customer_id'])[\"amount\"].transform(func).fillna(0)\n",
        "\n",
        "  data[\"ALL_money_spend_earn_ratio\"] = (data[\"ALL_money_spend\"].abs() / data[\"ALL_money_earn\"].abs())\n",
        "  data[\"ALL_money_spend_earn_ratio\"].replace(np.inf, 1000, inplace = True)\n",
        "\n",
        "  print(\"amount all is completed\")\n",
        "  \n",
        "  # frequency of transactions\n",
        "\n",
        "  data[\"Frequency_of_spending_per_day\"] =  data.groupby(['customer_id','Day'])['Day'].transform(\"count\")\n",
        "  data[\"Frequency_of_spending_all\"] =  data.groupby(['customer_id'])['Day'].transform(\"count\")\n",
        "  func = lambda x: (x.count()/7)\n",
        "  data[\"Frequency_of_spending_per_week\"] = data.groupby(['customer_id'])['Day'].transform(func)\n",
        "\n",
        "  data[\"Hours_std_transaction_per_day\"] = data.groupby(['customer_id','Day'])['Time'].transform(\"std\").fillna(0)\n",
        "\n",
        "  print(\"frequency is completed\")\n",
        "\n",
        "  # habits\n",
        "\n",
        "  data[\"Terminal_habit\"] = data.groupby(['customer_id','term_id'])['term_id'].transform(\"count\").fillna(0)\n",
        "  data[\"Terminal_habit_sum_money\"] = data.groupby(['customer_id','term_id'])['amount'].transform(\"sum\").fillna(0)\n",
        "  data[\"Terminal_habit_money\"] =data.groupby(['customer_id','term_id'])['amount'].transform(\"mean\").fillna(0)\n",
        "\n",
        "  data[\"Service_habit\"] = data.groupby(['customer_id','tr_type'])['tr_type'].transform(\"count\").fillna(0)\n",
        "\n",
        "  data[\"Product_habit_frequency\"] = data.groupby(['customer_id','mcc_code'])['mcc_code'].transform(\"count\").fillna(0)\n",
        "  data[\"Product_habit_sum_money\"] = data.groupby(['customer_id','mcc_code'])['amount'].transform(\"sum\").fillna(0)\n",
        "  data[\"Product_habit_mean_money\"] = data.groupby(['customer_id','mcc_code'])['amount'].transform(\"mean\").fillna(0)\n",
        "\n",
        "  print(\"habits is completed\")\n",
        "\n",
        "  # amount per day\n",
        "\n",
        "  data[\"Mean_net_money_per_day\"] = data.groupby(['customer_id','Day'])[\"amount\"].transform(\"mean\")\n",
        "  data[\"Std_net_money_per_day\"] = data.groupby(['customer_id','Day'])[\"amount\"].transform(\"std\").fillna(0)\n",
        "\n",
        "  func = lambda x: x.values[0] if x[x < 0].count() == 1 else x[x < 0].mean()\n",
        "  data[\"Mean_spend_money_per_day\"] = data.groupby(['customer_id','Day'])[\"amount\"].transform(func).fillna(0)\n",
        "  func = lambda x: x.values[0] if x[x > 0].count() == 1 else x[x > 0].mean()\n",
        "  data[\"Mean_earn_money_per_day\"] = data.groupby(['customer_id','Day'])[\"amount\"].transform(func).fillna(0)\n",
        "\n",
        "  print(\"amount per day is completed\")\n",
        "\n",
        "  print(\"Feature construction is completed\")"
      ]
    },
    {
      "cell_type": "markdown",
      "metadata": {
        "id": "FYFdk6nmd9IC"
      },
      "source": [
        "## Implement feature construction"
      ]
    },
    {
      "cell_type": "code",
      "execution_count": null,
      "metadata": {
        "colab": {
          "base_uri": "https://localhost:8080/"
        },
        "id": "whMnrh7Q8TJZ",
        "outputId": "22ca7854-5c58-4ca5-c128-02a48c22f003"
      },
      "outputs": [
        {
          "name": "stdout",
          "output_type": "stream",
          "text": [
            "amount per transaction is completed\n",
            "amount all is completed\n",
            "frequency is completed\n",
            "habits is completed\n",
            "amount per day is completed\n",
            "Feature construction is completed\n",
            "===========================================\n",
            "For imputed data imputed_full ALL features are created\n",
            "===========================================\n",
            "amount per transaction is completed\n",
            "amount all is completed\n",
            "frequency is completed\n",
            "habits is completed\n",
            "amount per day is completed\n",
            "Feature construction is completed\n",
            "===========================================\n",
            "For imputed data imputed_test ALL features are created\n",
            "===========================================\n",
            "amount per transaction is completed\n",
            "amount all is completed\n",
            "frequency is completed\n",
            "habits is completed\n",
            "amount per day is completed\n",
            "Feature construction is completed\n",
            "===========================================\n",
            "For imputed data imputed_sample ALL features are created\n",
            "===========================================\n"
          ]
        }
      ],
      "source": [
        "for key, value in imputed_list.items():\n",
        "  construct_features(value)\n",
        "  print(\"===========================================\")\n",
        "  print(f\"For imputed data {key} ALL features are created\")\n",
        "  print(\"===========================================\")"
      ]
    },
    {
      "cell_type": "code",
      "execution_count": null,
      "metadata": {
        "id": "WOIRgxtl99jn"
      },
      "outputs": [],
      "source": [
        "# # checking for null columns\n",
        "# for key, value in imputed_list.items():\n",
        "#   print(f\"Columns with missing values fot {key}:\")\n",
        "#   print([feature for feature in value.columns if value.isnull().any()[feature] == True])"
      ]
    },
    {
      "cell_type": "code",
      "execution_count": null,
      "metadata": {
        "colab": {
          "base_uri": "https://localhost:8080/"
        },
        "id": "HCpHRIm9eDH_",
        "outputId": "3994b3f0-ddee-4004-c7d0-28774c8ca30c"
      },
      "outputs": [
        {
          "name": "stdout",
          "output_type": "stream",
          "text": [
            "Всего столбцов 37\n",
            "Численных признаков 17\n",
            "Категориальных признаков 5\n"
          ]
        }
      ],
      "source": [
        "cat_features = ['mcc_code', 'tr_type', 'term_id', 'term_id_na', 'Time']\n",
        "num_features = ['amount', \"Day\", 'Mean_net_money_per_day', 'Std_net_money_per_day',\n",
        "       'Mean_spend_money_per_day', 'Mean_earn_money_per_day',\n",
        "       'Money_spend_std_per_day', 'Mean_earn_std_per_day',\n",
        "       'Money_earn_spend_ratio_per_day', 'ALL_money_net', 'ALL_money_spend',\n",
        "       'ALL_money_earn', 'ALL_money_spend_earn_ratio',\n",
        "       'Frequency_of_spending_per_day', 'Frequency_of_spending_all',\n",
        "       'Frequency_of_spending_per_week', 'Hours_std_transaction_per_day']\n",
        "       \n",
        "filtered_features = cat_features + num_features\n",
        "\n",
        "\n",
        "#№ change type of cat_features        \n",
        "\n",
        "print('Всего столбцов', len(imputed_sample.columns))  \n",
        "print('Численных признаков', len(num_features))\n",
        "print('Категориальных признаков', len(cat_features))"
      ]
    },
    {
      "cell_type": "code",
      "execution_count": null,
      "metadata": {
        "id": "vOFSKL6KeLAK"
      },
      "outputs": [],
      "source": [
        "for key, value in imputed_list.items():\n",
        "  value[cat_features] = value[cat_features].astype(\"str\")"
      ]
    },
    {
      "cell_type": "code",
      "execution_count": null,
      "metadata": {
        "id": "BWDRiRUmtkGQ"
      },
      "outputs": [],
      "source": [
        "# save imputed data to skip imputation step in the future\n",
        "\n",
        "pickle_out = open(path_pikcle + \"imputed_list.pickle\", \"wb\")\n",
        "pickle.dump(imputed_list, pickle_out)\n",
        "pickle_out.close()"
      ]
    },
    {
      "cell_type": "markdown",
      "metadata": {
        "id": "d5aD660WReYW"
      },
      "source": [
        "# Exploratory Analysis with Statistics (In development)"
      ]
    },
    {
      "cell_type": "markdown",
      "metadata": {
        "id": "h4PekeCCzEJ9"
      },
      "source": [
        "As our data is cleaned, we will explore our data with descriptive and graphical statistics to describe and summarize our variables."
      ]
    },
    {
      "cell_type": "code",
      "execution_count": null,
      "metadata": {
        "colab": {
          "base_uri": "https://localhost:8080/"
        },
        "id": "04nkcG_mBE7V",
        "outputId": "d376fd0a-d146-49cf-d415-2b70011f36ce"
      },
      "outputs": [
        {
          "data": {
            "text/plain": [
              "array([[<matplotlib.axes._subplots.AxesSubplot object at 0x7f3146330c10>,\n",
              "        <matplotlib.axes._subplots.AxesSubplot object at 0x7f314639b490>],\n",
              "       [<matplotlib.axes._subplots.AxesSubplot object at 0x7f3146386250>,\n",
              "        <matplotlib.axes._subplots.AxesSubplot object at 0x7f3146370f90>],\n",
              "       [<matplotlib.axes._subplots.AxesSubplot object at 0x7f31463dcd50>,\n",
              "        <matplotlib.axes._subplots.AxesSubplot object at 0x7f31463c6b10>]],\n",
              "      dtype=object)"
            ]
          },
          "execution_count": 51,
          "metadata": {},
          "output_type": "execute_result"
        },
        {
          "data": {
            "image/png": "[encoded data removed]",
            "text/plain": [
              "<Figure size 864x576 with 6 Axes>"
            ]
          },
          "metadata": {},
          "output_type": "display_data"
        }
      ],
      "source": [
        "imputed_sample.hist(bins = 50)"
      ]
    },
    {
      "cell_type": "markdown",
      "metadata": {
        "id": "F36W8Ru8R3bI"
      },
      "source": [
        "# Baseline model\n"
      ]
    },
    {
      "cell_type": "markdown",
      "metadata": {
        "id": "1CrwuZWbXUlz"
      },
      "source": [
        "Here I am going to use simple Decision tree model with simple imputation and and simple encoding"
      ]
    },
    {
      "cell_type": "markdown",
      "metadata": {
        "id": "ulmD8tK9Cn8v"
      },
      "source": [
        "### Categorical Encoding using Count or frequency encoding"
      ]
    },
    {
      "cell_type": "code",
      "execution_count": null,
      "metadata": {
        "id": "aJ_7diezDGW7"
      },
      "outputs": [],
      "source": [
        "# load imputed data \n",
        "\n",
        "pickle_in = open(path_pikcle + \"imputed_list.pickle\", \"rb\")\n",
        "list_data = pickle.load(pickle_in)"
      ]
    },
    {
      "cell_type": "code",
      "execution_count": null,
      "metadata": {
        "colab": {
          "base_uri": "https://localhost:8080/"
        },
        "id": "nJCOEoSi-M7m",
        "outputId": "19a91714-0312-4191-b358-9a97c30bae33"
      },
      "outputs": [
        {
          "data": {
            "text/plain": [
              "dict_keys(['imputed_full', 'imputed_test', 'imputed_sample'])"
            ]
          },
          "execution_count": 15,
          "metadata": {},
          "output_type": "execute_result"
        }
      ],
      "source": [
        "list_data.keys()"
      ]
    },
    {
      "cell_type": "code",
      "execution_count": null,
      "metadata": {
        "id": "b1Jq9MS4_dEz"
      },
      "outputs": [],
      "source": [
        "# drop some variables\n",
        "data_sample = list_data[\"imputed_sample\"]"
      ]
    },
    {
      "cell_type": "markdown",
      "metadata": {
        "id": "UsJv6RocCn8w"
      },
      "source": [
        "In count encoding we replace the categories by the count of the observations that show that category in the dataset.\n",
        "\n",
        "The assumption of this technique is that the number observations shown by each variable is somewhat informative of the predictive power of the category."
      ]
    },
    {
      "cell_type": "markdown",
      "metadata": {
        "id": "eEF83OIGCn8w"
      },
      "source": [
        "Disadvantages\n",
        "\n",
        "If 2 different categories appear the same amount of times in the dataset, that is, they appear in the same number of observations, they will be replaced by the same number: may lose valuable information."
      ]
    },
    {
      "cell_type": "code",
      "execution_count": null,
      "metadata": {
        "id": "jEGffYnxz6aD"
      },
      "outputs": [],
      "source": [
        "# find categorical variables\n",
        "# those of type 'Object' in the dataset\n",
        "features_categorical =  [c for c in data_sample.columns if data_sample[c].dtypes=='O']"
      ]
    },
    {
      "cell_type": "code",
      "execution_count": null,
      "metadata": {
        "colab": {
          "base_uri": "https://localhost:8080/"
        },
        "id": "k03y-m-hCn8w",
        "outputId": "a5b83308-e862-4481-9956-aa92d67d9abd"
      },
      "outputs": [
        {
          "data": {
            "text/plain": [
              "CountFrequencyEncoder(encoding_method='frequency',\n",
              "                      variables=['tr_datetime', 'mcc_code', 'tr_type',\n",
              "                                 'term_id', 'term_id_na', 'Time'])"
            ]
          },
          "execution_count": 18,
          "metadata": {},
          "output_type": "execute_result"
        }
      ],
      "source": [
        "count_enc = CountFrequencyEncoder(\n",
        "    encoding_method='frequency',\n",
        "    variables=features_categorical)\n",
        "\n",
        "count_enc.fit(data_sample)"
      ]
    },
    {
      "cell_type": "code",
      "execution_count": null,
      "metadata": {
        "id": "KPlaC_4HCn8x"
      },
      "outputs": [],
      "source": [
        "# perform encoding\n",
        "\n",
        "X_sample = count_enc.transform(data_sample)"
      ]
    },
    {
      "cell_type": "markdown",
      "metadata": {
        "id": "aAhYEsuN_2km"
      },
      "source": [
        "Here we will create new features manually. There is a way to do that using nueral networks automatically. But we will not consider that approach in this notebook."
      ]
    },
    {
      "cell_type": "code",
      "execution_count": null,
      "metadata": {
        "colab": {
          "base_uri": "https://localhost:8080/"
        },
        "id": "Hgc-O4KzkPv4",
        "outputId": "bb212af4-87e0-4e4f-ac78-076c47887904"
      },
      "outputs": [
        {
          "data": {
            "text/plain": [
              "Index(['customer_id', 'tr_datetime', 'mcc_code', 'tr_type', 'amount',\n",
              "       'term_id', 'gender', 'term_id_na', 'Random_variable', 'Day', 'Time',\n",
              "       'Mean_net_money_per_transaction', 'Std_net_money_per_transaction',\n",
              "       'Mean_spend_money_per_transaction', 'Mean_earn_money_per_transaction',\n",
              "       'Money_spend_std_per_transaction', 'Mean_earn_std_per_transaction',\n",
              "       'Money_earn_spend_ratio_per_transaction', 'ALL_money_net',\n",
              "       'ALL_money_spend', 'ALL_money_earn', 'ALL_money_spend_earn_ratio',\n",
              "       'Frequency_of_spending_per_day', 'Frequency_of_spending_all',\n",
              "       'Frequency_of_spending_per_week', 'Hours_std_transaction_per_day',\n",
              "       'Terminal_habit', 'Terminal_habit_sum_money', 'Terminal_habit_money',\n",
              "       'Service_habit', 'Product_habit_frequency', 'Product_habit_sum_money',\n",
              "       'Product_habit_mean_money', 'Mean_net_money_per_day',\n",
              "       'Std_net_money_per_day', 'Mean_spend_money_per_day',\n",
              "       'Mean_earn_money_per_day'],\n",
              "      dtype='object')"
            ]
          },
          "execution_count": 20,
          "metadata": {},
          "output_type": "execute_result"
        }
      ],
      "source": [
        "X_sample.columns"
      ]
    },
    {
      "cell_type": "markdown",
      "metadata": {
        "id": "hrLFliOHCwB2"
      },
      "source": [
        "## Fitting with base classification algorithms"
      ]
    },
    {
      "cell_type": "code",
      "execution_count": null,
      "metadata": {
        "colab": {
          "base_uri": "https://localhost:8080/"
        },
        "id": "CD1jWni5Cn8x",
        "outputId": "162c797d-9f12-441a-f04d-65f9faf2f524"
      },
      "outputs": [
        {
          "name": "stdout",
          "output_type": "stream",
          "text": [
            "<class 'pandas.core.frame.DataFrame'>\n",
            "Int64Index: 100000 entries, 1208076 to 1032176\n",
            "Data columns (total 37 columns):\n",
            " #   Column                                  Non-Null Count   Dtype  \n",
            "---  ------                                  --------------   -----  \n",
            " 0   customer_id                             100000 non-null  int64  \n",
            " 1   tr_datetime                             100000 non-null  float64\n",
            " 2   mcc_code                                100000 non-null  float64\n",
            " 3   tr_type                                 100000 non-null  float64\n",
            " 4   amount                                  100000 non-null  float64\n",
            " 5   term_id                                 100000 non-null  float64\n",
            " 6   gender                                  100000 non-null  float64\n",
            " 7   term_id_na                              100000 non-null  float64\n",
            " 8   Random_variable                         100000 non-null  int64  \n",
            " 9   Day                                     100000 non-null  int64  \n",
            " 10  Time                                    100000 non-null  float64\n",
            " 11  Mean_net_money_per_transaction          100000 non-null  float64\n",
            " 12  Std_net_money_per_transaction           100000 non-null  float64\n",
            " 13  Mean_spend_money_per_transaction        100000 non-null  float64\n",
            " 14  Mean_earn_money_per_transaction         100000 non-null  float64\n",
            " 15  Money_spend_std_per_transaction         100000 non-null  float64\n",
            " 16  Mean_earn_std_per_transaction           100000 non-null  float64\n",
            " 17  Money_earn_spend_ratio_per_transaction  100000 non-null  float64\n",
            " 18  ALL_money_net                           100000 non-null  float64\n",
            " 19  ALL_money_spend                         100000 non-null  float64\n",
            " 20  ALL_money_earn                          100000 non-null  float64\n",
            " 21  ALL_money_spend_earn_ratio              100000 non-null  float64\n",
            " 22  Frequency_of_spending_per_day           100000 non-null  int64  \n",
            " 23  Frequency_of_spending_all               100000 non-null  int64  \n",
            " 24  Frequency_of_spending_per_week          100000 non-null  float64\n",
            " 25  Hours_std_transaction_per_day           100000 non-null  float64\n",
            " 26  Terminal_habit                          100000 non-null  int64  \n",
            " 27  Terminal_habit_sum_money                100000 non-null  float64\n",
            " 28  Terminal_habit_money                    100000 non-null  float64\n",
            " 29  Service_habit                           100000 non-null  int64  \n",
            " 30  Product_habit_frequency                 100000 non-null  int64  \n",
            " 31  Product_habit_sum_money                 100000 non-null  float64\n",
            " 32  Product_habit_mean_money                100000 non-null  float64\n",
            " 33  Mean_net_money_per_day                  100000 non-null  float64\n",
            " 34  Std_net_money_per_day                   100000 non-null  float64\n",
            " 35  Mean_spend_money_per_day                100000 non-null  float64\n",
            " 36  Mean_earn_money_per_day                 100000 non-null  float64\n",
            "dtypes: float64(29), int64(8)\n",
            "memory usage: 29.0 MB\n"
          ]
        }
      ],
      "source": [
        "# check for presence of object type columns\n",
        "X_sample.info()"
      ]
    },
    {
      "cell_type": "code",
      "execution_count": null,
      "metadata": {
        "colab": {
          "base_uri": "https://localhost:8080/"
        },
        "id": "gt2Jxo5qCwB4",
        "outputId": "baba80d1-ada5-4b78-ea8b-085d3b4d40d4"
      },
      "outputs": [
        {
          "name": "stderr",
          "output_type": "stream",
          "text": [
            "[Parallel(n_jobs=-1)]: Using backend LokyBackend with 2 concurrent workers.\n",
            "[Parallel(n_jobs=-1)]: Done   4 out of   4 | elapsed:   10.4s finished\n"
          ]
        },
        {
          "name": "stdout",
          "output_type": "stream",
          "text": [
            "Model DecisionTreeClassifier is trained\n"
          ]
        },
        {
          "data": {
            "text/html": [
              "\n",
              "  <div id=\"df-83650275-e01c-4558-bd18-7268adf28217\">\n",
              "    <div class=\"colab-df-container\">\n",
              "      <div>\n",
              "<style scoped>\n",
              "    .dataframe tbody tr th:only-of-type {\n",
              "        vertical-align: middle;\n",
              "    }\n",
              "\n",
              "    .dataframe tbody tr th {\n",
              "        vertical-align: top;\n",
              "    }\n",
              "\n",
              "    .dataframe thead th {\n",
              "        text-align: right;\n",
              "    }\n",
              "</style>\n",
              "<table border=\"1\" class=\"dataframe\">\n",
              "  <thead>\n",
              "    <tr style=\"text-align: right;\">\n",
              "      <th></th>\n",
              "      <th>MLA Name</th>\n",
              "      <th>MLA Parameters</th>\n",
              "      <th>MLA Train Accuracy Mean</th>\n",
              "      <th>MLA Test Accuracy Mean</th>\n",
              "      <th>MLA Test Accuracy 3*STD</th>\n",
              "      <th>MLA Time</th>\n",
              "    </tr>\n",
              "  </thead>\n",
              "  <tbody>\n",
              "    <tr>\n",
              "      <th>0</th>\n",
              "      <td>DecisionTreeClassifier</td>\n",
              "      <td>{'ccp_alpha': 0.0, 'class_weight': None, 'crit...</td>\n",
              "      <td>1.0</td>\n",
              "      <td>0.980214</td>\n",
              "      <td>0.007175</td>\n",
              "      <td>3.883446</td>\n",
              "    </tr>\n",
              "  </tbody>\n",
              "</table>\n",
              "</div>\n",
              "      <button class=\"colab-df-convert\" onclick=\"convertToInteractive('df-83650275-e01c-4558-bd18-7268adf28217')\"\n",
              "              title=\"Convert this dataframe to an interactive table.\"\n",
              "              style=\"display:none;\">\n",
              "        \n",
              "  <svg xmlns=\"http://www.w3.org/2000/svg\" height=\"24px\"viewBox=\"0 0 24 24\"\n",
              "       width=\"24px\">\n",
              "    <path d=\"M0 0h24v24H0V0z\" fill=\"none\"/>\n",
              "    <path d=\"M18.56 5.44l.94 2.06.94-2.06 2.06-.94-2.06-.94-.94-2.06-.94 2.06-2.06.94zm-11 1L8.5 8.5l.94-2.06 2.06-.94-2.06-.94L8.5 2.5l-.94 2.06-2.06.94zm10 10l.94 2.06.94-2.06 2.06-.94-2.06-.94-.94-2.06-.94 2.06-2.06.94z\"/><path d=\"M17.41 7.96l-1.37-1.37c-.4-.4-.92-.59-1.43-.59-.52 0-1.04.2-1.43.59L10.3 9.45l-7.72 7.72c-.78.78-.78 2.05 0 2.83L4 21.41c.39.39.9.59 1.41.59.51 0 1.02-.2 1.41-.59l7.78-7.78 2.81-2.81c.8-.78.8-2.07 0-2.86zM5.41 20L4 18.59l7.72-7.72 1.47 1.35L5.41 20z\"/>\n",
              "  </svg>\n",
              "      </button>\n",
              "      \n",
              "  <style>\n",
              "    .colab-df-container {\n",
              "      display:flex;\n",
              "      flex-wrap:wrap;\n",
              "      gap: 12px;\n",
              "    }\n",
              "\n",
              "    .colab-df-convert {\n",
              "      background-color: #E8F0FE;\n",
              "      border: none;\n",
              "      border-radius: 50%;\n",
              "      cursor: pointer;\n",
              "      display: none;\n",
              "      fill: #1967D2;\n",
              "      height: 32px;\n",
              "      padding: 0 0 0 0;\n",
              "      width: 32px;\n",
              "    }\n",
              "\n",
              "    .colab-df-convert:hover {\n",
              "      background-color: #E2EBFA;\n",
              "      box-shadow: 0px 1px 2px rgba(60, 64, 67, 0.3), 0px 1px 3px 1px rgba(60, 64, 67, 0.15);\n",
              "      fill: #174EA6;\n",
              "    }\n",
              "\n",
              "    [theme=dark] .colab-df-convert {\n",
              "      background-color: #3B4455;\n",
              "      fill: #D2E3FC;\n",
              "    }\n",
              "\n",
              "    [theme=dark] .colab-df-convert:hover {\n",
              "      background-color: #434B5C;\n",
              "      box-shadow: 0px 1px 3px 1px rgba(0, 0, 0, 0.15);\n",
              "      filter: drop-shadow(0px 1px 2px rgba(0, 0, 0, 0.3));\n",
              "      fill: #FFFFFF;\n",
              "    }\n",
              "  </style>\n",
              "\n",
              "      <script>\n",
              "        const buttonEl =\n",
              "          document.querySelector('#df-83650275-e01c-4558-bd18-7268adf28217 button.colab-df-convert');\n",
              "        buttonEl.style.display =\n",
              "          google.colab.kernel.accessAllowed ? 'block' : 'none';\n",
              "\n",
              "        async function convertToInteractive(key) {\n",
              "          const element = document.querySelector('#df-83650275-e01c-4558-bd18-7268adf28217');\n",
              "          const dataTable =\n",
              "            await google.colab.kernel.invokeFunction('convertToInteractive',\n",
              "                                                     [key], {});\n",
              "          if (!dataTable) return;\n",
              "\n",
              "          const docLinkHtml = 'Like what you see? Visit the ' +\n",
              "            '<a target=\"_blank\" href=https://colab.research.google.com/notebooks/data_table.ipynb>data table notebook</a>'\n",
              "            + ' to learn more about interactive tables.';\n",
              "          element.innerHTML = '';\n",
              "          dataTable['output_type'] = 'display_data';\n",
              "          await google.colab.output.renderOutput(dataTable, element);\n",
              "          const docLink = document.createElement('div');\n",
              "          docLink.innerHTML = docLinkHtml;\n",
              "          element.appendChild(docLink);\n",
              "        }\n",
              "      </script>\n",
              "    </div>\n",
              "  </div>\n",
              "  "
            ],
            "text/plain": [
              "                 MLA Name  ...  MLA Time\n",
              "0  DecisionTreeClassifier  ...  3.883446\n",
              "\n",
              "[1 rows x 6 columns]"
            ]
          },
          "execution_count": 22,
          "metadata": {},
          "output_type": "execute_result"
        }
      ],
      "source": [
        "#Machine Learning Algorithm (MLA) Selection and Initialization\n",
        "MLA = [\n",
        "    # #Ensemble Methods\n",
        "    # ensemble.AdaBoostClassifier(),\n",
        "    # ensemble.BaggingClassifier(),\n",
        "    # ensemble.ExtraTreesClassifier(),\n",
        "    # ensemble.GradientBoostingClassifier(),\n",
        "    # ensemble.RandomForestClassifier()\n",
        "\n",
        "    # #Gaussian Processes\n",
        "    # gaussian_process.GaussianProcessClassifier(),\n",
        "    \n",
        "    #GLM\n",
        "    # linear_model.LogisticRegressionCV(),\n",
        "    # linear_model.PassiveAggressiveClassifier(),\n",
        "    # linear_model.RidgeClassifierCV(),\n",
        "    # linear_model.SGDClassifier(),\n",
        "    # linear_model.Perceptron(),\n",
        "    \n",
        "    # #Navies Bayes\n",
        "    # naive_bayes.BernoulliNB(),\n",
        "    # naive_bayes.GaussianNB(),\n",
        "    \n",
        "    #Nearest Neighbor\n",
        "    # neighbors.KNeighborsClassifier(),\n",
        "    \n",
        "    #SVM\n",
        "    # svm.SVC(probability=True),\n",
        "    # svm.NuSVC(probability=True),\n",
        "    # svm.LinearSVC(),\n",
        "    \n",
        "    # #Trees    \n",
        "    tree.DecisionTreeClassifier()\n",
        "    # tree.ExtraTreeClassifier(),\n",
        "    \n",
        "    # #Discriminant Analysis\n",
        "    # discriminant_analysis.LinearDiscriminantAnalysis(),\n",
        "    # discriminant_analysis.QuadraticDiscriminantAnalysis(),\n",
        "\n",
        "    \n",
        "    # #xgboost: http://xgboost.readthedocs.io/en/latest/model.html\n",
        "    # XGBClassifier()    \n",
        "    ]\n",
        "\n",
        "\n",
        "\n",
        "#split dataset in cross-validation with this splitter class: http://scikit-learn.org/stable/modules/generated/sklearn.model_selection.ShuffleSplit.html#sklearn.model_selection.ShuffleSplit\n",
        "#note: this is an alternative to train_test_split\n",
        "#cv_split = model_selection.ShuffleSplit(n_splits = 5, test_size = .3, train_size = .6, random_state = 0 ) # run model 10x with 60/30 split intentionally leaving out 10%\n",
        "cv_split = model_selection.KFold(n_splits = 4)\n",
        "\n",
        "#create table to compare MLA metrics\n",
        "MLA_columns = ['MLA Name', 'MLA Parameters','MLA Train Accuracy Mean', 'MLA Test Accuracy Mean', 'MLA Test Accuracy 3*STD' ,'MLA Time']\n",
        "MLA_compare = pd.DataFrame(columns = MLA_columns)\n",
        "\n",
        "\n",
        "#create table to compare MLA predictions\n",
        "target = X_sample[\"gender\"]\n",
        "train = X_sample.drop([\"customer_id\", \"gender\"], axis = 1)\n",
        "MLA_predict = X_sample[\"gender\"]\n",
        "\n",
        "#index through MLA and save performance to table\n",
        "row_index = 0\n",
        "for alg in MLA:\n",
        "\n",
        "    #set name and parameters\n",
        "    MLA_name = alg.__class__.__name__\n",
        "    MLA_compare.loc[row_index, 'MLA Name'] = MLA_name\n",
        "    MLA_compare.loc[row_index, 'MLA Parameters'] = str(alg.get_params())\n",
        "    \n",
        "    #score model with cross validation: http://scikit-learn.org/stable/modules/generated/sklearn.model_selection.cross_validate.html#sklearn.model_selection.cross_validate\n",
        "    cv_results = model_selection.cross_validate(alg, train, target, cv  = cv_split, n_jobs = -1, scoring = \"roc_auc\", return_train_score=True, verbose=True) # turn on all cores\n",
        "    print(f\"Model {MLA_name} is trained\")\n",
        "    \n",
        "    MLA_compare.loc[row_index, 'MLA Time'] = cv_results['fit_time'].mean()\n",
        "    MLA_compare.loc[row_index, 'MLA Train Accuracy Mean'] = cv_results['train_score'].mean()\n",
        "    MLA_compare.loc[row_index, 'MLA Test Accuracy Mean'] = cv_results['test_score'].mean()   \n",
        "    #if this is a non-bias random sample, then +/-3 standard deviations (std) from the mean, should statistically capture 99.7% of the subsets\n",
        "    MLA_compare.loc[row_index, 'MLA Test Accuracy 3*STD'] = cv_results['test_score'].std()*3   #let's know the worst that can happen!\n",
        "    \n",
        "\n",
        "    #save MLA predictions - see section 6 for usage\n",
        "    alg.fit(train, target)\n",
        "    MLA_predict[MLA_name] = alg.predict(train)\n",
        "    \n",
        "    row_index+=1\n",
        "\n",
        "    \n",
        "#print and sort table: https://pandas.pydata.org/pandas-docs/stable/generated/pandas.DataFrame.sort_values.html\n",
        "MLA_compare.sort_values(by = ['MLA Test Accuracy Mean'], ascending = False, inplace = True)\n",
        "MLA_compare\n",
        "#MLA_predict"
      ]
    },
    {
      "cell_type": "code",
      "execution_count": null,
      "metadata": {
        "id": "636s3xDGCwB4"
      },
      "outputs": [],
      "source": [
        "# save model for future usage\n",
        "\n",
        "pickle_out = open(path_pikcle + \"MLA_compare_baseline.pickle\", \"wb\")\n",
        "pickle.dump(MLA_compare, pickle_out)\n",
        "pickle_out.close()"
      ]
    },
    {
      "cell_type": "markdown",
      "metadata": {
        "id": "Blvk2niQbSxk"
      },
      "source": [
        "# Other Algorithms"
      ]
    },
    {
      "cell_type": "markdown",
      "metadata": {
        "id": "IXVir3esiruN"
      },
      "source": [
        "### Load all imputed data"
      ]
    },
    {
      "cell_type": "code",
      "execution_count": 13,
      "metadata": {
        "id": "iMTcDVjFKtNP"
      },
      "outputs": [],
      "source": [
        "# load imputed data \n",
        "\n",
        "pickle_in = open(path_pikcle + \"imputed_list.pickle\", \"rb\")\n",
        "list_data = pickle.load(pickle_in)\n",
        "\n",
        "# imputed_train_drop = list_data[\"imputed_train\"].drop(['tr_datetime', 'customer_id'], axis = 1)\n",
        "# imputed_val_drop = list_data[\"imputed_val\"].drop(['tr_datetime', 'customer_id'], axis = 1)\n",
        "\n",
        "imputed_sample_drop = list_data[\"imputed_sample\"].drop(['tr_datetime', 'customer_id'], axis = 1)\n",
        "\n",
        "imputed_test_drop = list_data[\"imputed_test\"].drop(['tr_datetime', 'customer_id'], axis = 1)\n",
        "imputed_full_drop = list_data[\"imputed_full\"].drop(['tr_datetime', 'customer_id'], axis = 1)\n",
        "\n",
        "cat_features = ['mcc_code', 'tr_type', 'term_id', 'term_id_na', 'Time']"
      ]
    },
    {
      "cell_type": "markdown",
      "metadata": {
        "id": "k-Sv_GdBRM8A"
      },
      "source": [
        "## Rare lables "
      ]
    },
    {
      "cell_type": "markdown",
      "metadata": {
        "id": "r7MmhiwGbJN7"
      },
      "source": [
        "Rare values are categories within a categorical variable that are present only in a small percentage of the observations. There is no rule of thumb to determine how small is a small percentage, but typically, any value below 5 % can be considered rare."
      ]
    },
    {
      "cell_type": "markdown",
      "metadata": {
        "id": "3Oj1LQzHcZwa"
      },
      "source": [
        "Infrequent labels are so few, that it is hard to derive reliable information from them. But more importantly, infrequent labels tend to appear only on train set or only on the test set:\n",
        "\n",
        "*   If only on the train set, they may cause over-fitting\n",
        "*   If only on the test set, our machine learning model will not know how to score them.\n",
        "\n",
        "Therefore, to avoid this behaviour, we tend to group those into a new category called 'Rare' or 'Other'."
      ]
    },
    {
      "cell_type": "markdown",
      "metadata": {
        "id": "VT-DGkb0CZj-"
      },
      "source": [
        "### Cardinality"
      ]
    },
    {
      "cell_type": "code",
      "execution_count": 14,
      "metadata": {
        "colab": {
          "base_uri": "https://localhost:8080/"
        },
        "id": "WjVFGAfBdqoZ",
        "outputId": "9bbc47d0-ebfe-4775-fb2a-01076af16d8a"
      },
      "outputs": [
        {
          "output_type": "stream",
          "name": "stdout",
          "text": [
            "term_id_na\n",
            "0    0.59657\n",
            "1    0.40343\n",
            "Name: term_id_na, dtype: float64\n",
            "\n"
          ]
        }
      ],
      "source": [
        "# let's explore a few examples in which variables have only a few categories, say less than 3\n",
        "\n",
        "for col in cat_features:\n",
        "       \n",
        "      if imputed_sample_drop[col].nunique() < 3:  # if the variable has less than 3 categories\n",
        "          \n",
        "          # print percentage of observations per category\n",
        "          print(imputed_sample_drop.groupby(col)[col].count() / len(imputed_sample_drop))\n",
        "          print()"
      ]
    },
    {
      "cell_type": "code",
      "execution_count": 15,
      "metadata": {
        "colab": {
          "base_uri": "https://localhost:8080/",
          "height": 575
        },
        "id": "HoxEcMAmfrKQ",
        "outputId": "7b1727ef-4189-4618-8efe-afb282393afb"
      },
      "outputs": [
        {
          "output_type": "display_data",
          "data": {
            "image/png": "[encoded data removed]",
            "text/plain": [
              "<Figure size 720x720 with 1 Axes>"
            ]
          },
          "metadata": {}
        }
      ],
      "source": [
        "(imputed_sample_drop[\"term_id_na\"].value_counts(normalize = True)*100).sort_values(ascending = False).plot(kind = \"pie\", fontsize = 25, figsize = (10,10));"
      ]
    },
    {
      "cell_type": "markdown",
      "metadata": {
        "id": "dyMidVJYe1Vx"
      },
      "source": [
        "**Variables with few categories**"
      ]
    },
    {
      "cell_type": "code",
      "execution_count": 16,
      "metadata": {
        "id": "p70tUJ8Th9nS"
      },
      "outputs": [],
      "source": [
        "# let's explore examples in which variables have several categories, say more than 10\n",
        "\n",
        "multi_cat_cols = []\n",
        "\n",
        "for col in cat_features:\n",
        "  \n",
        "      if 2 < imputed_sample_drop[col].nunique() <= 10: # has more than 2 but less than 10 categories\n",
        "          \n",
        "          multi_cat_cols.append(col)  # add to the list\n",
        "          \n",
        "          print(imputed_sample_drop.groupby(col)[col].count()/ len(imputed_sample_drop)) # and print the percentage of observations within each category\n",
        "          \n",
        "          print()"
      ]
    },
    {
      "cell_type": "markdown",
      "metadata": {
        "id": "bekwYA40gJA_"
      },
      "source": [
        "**Variable with high cardinality**"
      ]
    },
    {
      "cell_type": "code",
      "execution_count": 17,
      "metadata": {
        "colab": {
          "base_uri": "https://localhost:8080/"
        },
        "id": "vMcx8mw7fT6n",
        "outputId": "741c6272-a0b2-4efa-fa41-db6028d8a0e6"
      },
      "outputs": [
        {
          "output_type": "stream",
          "name": "stdout",
          "text": [
            "mcc_code\n",
            "5713    0.00001\n",
            "5044    0.00001\n",
            "1799    0.00001\n",
            "2741    0.00001\n",
            "5969    0.00001\n",
            "         ...   \n",
            "4829    0.09256\n",
            "6010    0.13038\n",
            "5411    0.14273\n",
            "4814    0.14751\n",
            "6011    0.21750\n",
            "Name: mcc_code, Length: 174, dtype: float64\n",
            "\n",
            "tr_type\n",
            "7041    0.00001\n",
            "4021    0.00001\n",
            "4100    0.00001\n",
            "4096    0.00001\n",
            "7015    0.00001\n",
            "         ...   \n",
            "7070    0.08745\n",
            "1110    0.13798\n",
            "1030    0.14529\n",
            "2010    0.15511\n",
            "1010    0.23229\n",
            "Name: tr_type, Length: 63, dtype: float64\n",
            "\n",
            "term_id\n",
            "0  15392    0.00001\n",
            "50124681    0.00001\n",
            "50124707    0.00001\n",
            "50124917    0.00001\n",
            "50125208    0.00001\n",
            "             ...   \n",
            "888993      0.01818\n",
            "888990      0.01821\n",
            "888991      0.01841\n",
            "888986      0.01878\n",
            "888992      0.01891\n",
            "Name: term_id, Length: 48621, dtype: float64\n",
            "\n",
            "Time\n",
            "1     0.00575\n",
            "2     0.00604\n",
            "3     0.00776\n",
            "23    0.00940\n",
            "4     0.01056\n",
            "5     0.01506\n",
            "22    0.01624\n",
            "6     0.02014\n",
            "21    0.02622\n",
            "7     0.02929\n",
            "20    0.03608\n",
            "8     0.04062\n",
            "19    0.04632\n",
            "9     0.05092\n",
            "18    0.05407\n",
            "10    0.05875\n",
            "17    0.06078\n",
            "15    0.06102\n",
            "11    0.06143\n",
            "14    0.06208\n",
            "16    0.06260\n",
            "13    0.06425\n",
            "12    0.06504\n",
            "0     0.12958\n",
            "Name: Time, dtype: float64\n",
            "\n"
          ]
        }
      ],
      "source": [
        "# let's explore examples in which variables have several categories, say more than 10\n",
        "\n",
        "multi_cat_cols = []\n",
        "\n",
        "for col in cat_features:\n",
        "\n",
        "      if imputed_sample_drop[col].nunique() > 10: # and has more than 10 categories\n",
        "          \n",
        "          multi_cat_cols.append(col)  # add to the list\n",
        "          \n",
        "          print((imputed_sample_drop.groupby(col)[col].count()/len(imputed_sample_drop)).sort_values()) # and print the percentage of observations within each category\n",
        "          \n",
        "          print()"
      ]
    },
    {
      "cell_type": "code",
      "execution_count": 18,
      "metadata": {
        "colab": {
          "base_uri": "https://localhost:8080/",
          "height": 736
        },
        "id": "tfo-N3x4frZz",
        "outputId": "4e106cf0-8612-4779-976a-bcde770c29ac"
      },
      "outputs": [
        {
          "output_type": "stream",
          "name": "stdout",
          "text": [
            "Saving figure Кардинальность_терминалов\n"
          ]
        },
        {
          "output_type": "display_data",
          "data": {
            "image/png": "[encoded data removed]",
            "text/plain": [
              "<Figure size 720x720 with 1 Axes>"
            ]
          },
          "metadata": {}
        }
      ],
      "source": [
        "(imputed_sample_drop[\"tr_type\"].value_counts(normalize = True)*100).sort_values(ascending = False).plot(kind = \"pie\", fontsize = 10, figsize = (10,10));\n",
        "save_fig(\"Кардинальность_терминалов\")"
      ]
    },
    {
      "cell_type": "markdown",
      "metadata": {
        "id": "adIHwn24gmHP"
      },
      "source": [
        "## Re-grouping rare labels"
      ]
    },
    {
      "cell_type": "code",
      "execution_count": 19,
      "metadata": {
        "id": "lnSGlvnDmWj1"
      },
      "outputs": [],
      "source": [
        "from feature_engine.encoding import RareLabelEncoder"
      ]
    },
    {
      "cell_type": "code",
      "execution_count": 20,
      "metadata": {
        "id": "0bOzGvIlmijK"
      },
      "outputs": [],
      "source": [
        "# Rare value encoder\n",
        "rare_encoder_1 = RareLabelEncoder(\n",
        "    tol=0.05,  # minimal percentage to be considered non-rare\n",
        "    n_categories=3, # minimal number of categories the variable should have to re-cgroup rare categories\n",
        "    variables=['mcc_code', 'tr_type', 'Time'] # variables to re-group\n",
        ")  \n",
        "\n",
        "\n",
        "# Rare value encoder\n",
        "rare_encoder_2 = RareLabelEncoder(\n",
        "    tol=0.00005,  # minimal percentage to be considered non-rare\n",
        "    n_categories=3, # minimal number of categories the variable should have to re-cgroup rare categories\n",
        "    variables='term_id' # variables to re-group\n",
        ")  "
      ]
    },
    {
      "cell_type": "code",
      "execution_count": 21,
      "metadata": {
        "id": "8iIl5LMOTtqu"
      },
      "outputs": [],
      "source": [
        "# for sample\n",
        "\n",
        "rare_encoder_1.fit(imputed_sample_drop)\n",
        "X_sample = rare_encoder_1.transform(imputed_sample_drop)"
      ]
    },
    {
      "cell_type": "code",
      "execution_count": 22,
      "metadata": {
        "id": "SQDjsguRm_k5"
      },
      "outputs": [],
      "source": [
        "# for train and validation\n",
        "\n",
        "# rare_encoder_1.fit(imputed_train_drop)\n",
        "# rare_encoder_2.fit(imputed_train_drop)\n",
        "\n",
        "# X_train = rare_encoder_1.transform(imputed_train_drop)\n",
        "# X_val = rare_encoder_1.transform(imputed_val_drop)\n",
        "# X_train = rare_encoder_2.transform(X_train)\n",
        "# X_val = rare_encoder_2.transform(X_val)"
      ]
    },
    {
      "cell_type": "code",
      "execution_count": 23,
      "metadata": {
        "id": "6JUShgaiTWl7"
      },
      "outputs": [],
      "source": [
        "# for full set and test set\n",
        "\n",
        "rare_encoder_1.fit(imputed_full_drop)\n",
        "rare_encoder_2.fit(imputed_full_drop)\n",
        "\n",
        "X_full = rare_encoder_2.transform(rare_encoder_1.transform(imputed_full_drop))\n",
        "X_test = rare_encoder_2.transform(rare_encoder_1.transform(imputed_test_drop))"
      ]
    },
    {
      "cell_type": "markdown",
      "metadata": {
        "id": "Xg7W4sY5SvsN"
      },
      "source": [
        "Let's visualize changes"
      ]
    },
    {
      "cell_type": "code",
      "execution_count": 24,
      "metadata": {
        "id": "BWuzxNephTGU",
        "colab": {
          "base_uri": "https://localhost:8080/",
          "height": 1000
        },
        "outputId": "636b0e60-f984-413c-dfda-c3e9e4f9afe6"
      },
      "outputs": [
        {
          "output_type": "display_data",
          "data": {
            "image/png": "[encoded data removed]",
            "text/plain": [
              "<Figure size 864x576 with 1 Axes>"
            ]
          },
          "metadata": {}
        },
        {
          "output_type": "display_data",
          "data": {
            "image/png": "[encoded data removed]",
            "text/plain": [
              "<Figure size 864x576 with 1 Axes>"
            ]
          },
          "metadata": {}
        },
        {
          "output_type": "display_data",
          "data": {
            "image/png": "[encoded data removed]",
            "text/plain": [
              "<Figure size 864x576 with 1 Axes>"
            ]
          },
          "metadata": {}
        },
        {
          "output_type": "stream",
          "name": "stdout",
          "text": [
            "Saving figure До группировки\n"
          ]
        },
        {
          "output_type": "display_data",
          "data": {
            "text/plain": [
              "<Figure size 864x576 with 0 Axes>"
            ]
          },
          "metadata": {}
        }
      ],
      "source": [
        "for col in ['mcc_code', 'tr_type', 'Time']:\n",
        "\n",
        "    temp_df = pd.Series((X_sample[col].value_counts() / len(X_sample)))\n",
        "\n",
        "    # make plot with the above percentages\n",
        "    fig = temp_df.sort_values(ascending=True).plot.bar()\n",
        "    \n",
        "    fig.set_xlabel(col)\n",
        "\n",
        "\n",
        "    # add a line at 5 % to flag the threshold for rare categories\n",
        "    fig.axhline(y=0.05, color='red')\n",
        "    fig.set_ylabel('Percentage of clients before')\n",
        "    plt.show();\n",
        "\n",
        "save_fig(\"До группировки\")"
      ]
    },
    {
      "cell_type": "code",
      "execution_count": 25,
      "metadata": {
        "id": "UAl1xg1rCY-W",
        "colab": {
          "base_uri": "https://localhost:8080/",
          "height": 1000
        },
        "outputId": "f7f18a2b-d161-4e87-952b-9f24ab50f1b6"
      },
      "outputs": [
        {
          "output_type": "display_data",
          "data": {
            "image/png": "[encoded data removed]",
            "text/plain": [
              "<Figure size 864x576 with 1 Axes>"
            ]
          },
          "metadata": {}
        },
        {
          "output_type": "display_data",
          "data": {
            "image/png": "[encoded data removed]",
            "text/plain": [
              "<Figure size 864x576 with 1 Axes>"
            ]
          },
          "metadata": {}
        },
        {
          "output_type": "display_data",
          "data": {
            "image/png": "[encoded data removed]",
            "text/plain": [
              "<Figure size 864x576 with 1 Axes>"
            ]
          },
          "metadata": {}
        },
        {
          "output_type": "stream",
          "name": "stdout",
          "text": [
            "Saving figure После группировки\n"
          ]
        },
        {
          "output_type": "display_data",
          "data": {
            "text/plain": [
              "<Figure size 864x576 with 0 Axes>"
            ]
          },
          "metadata": {}
        }
      ],
      "source": [
        "for col in ['mcc_code', 'tr_type', 'Time']:\n",
        "\n",
        "    temp_df = pd.Series((X_sample[col].value_counts() / len(X_sample)))\n",
        "\n",
        "    # make plot with the above percentages\n",
        "    fig = temp_df.sort_values(ascending=True).plot.bar()\n",
        "    \n",
        "    fig.set_xlabel(col)\n",
        "\n",
        "\n",
        "    # add a line at 5 % to flag the threshold for rare categories\n",
        "    fig.axhline(y=0.05, color='red')\n",
        "    fig.set_ylabel('Percentage of clients after')\n",
        "    plt.show();\n",
        "\n",
        "save_fig(\"После группировки\")"
      ]
    },
    {
      "cell_type": "markdown",
      "metadata": {
        "id": "-Du43znTTGCG"
      },
      "source": [
        "As we expected rare lebels are grouped together."
      ]
    },
    {
      "cell_type": "code",
      "execution_count": 26,
      "metadata": {
        "id": "8U4TskxaK4Ap"
      },
      "outputs": [],
      "source": [
        "list_grouped = {}"
      ]
    },
    {
      "cell_type": "code",
      "execution_count": 27,
      "metadata": {
        "id": "ZSFFhrv9K4Ap"
      },
      "outputs": [],
      "source": [
        "# list_grouped[\"X_train_grouped\"] = X_train\n",
        "# list_grouped[\"X_val_grouped\"] = X_val\n",
        "\n",
        "list_grouped[\"X_sample_grouped\"] = X_sample\n",
        "list_grouped[\"X_full_grouped\"] = X_full\n",
        "list_grouped[\"X_test_grouped\"] = X_test"
      ]
    },
    {
      "cell_type": "code",
      "execution_count": 28,
      "metadata": {
        "id": "hTEBzqf4K4Ap"
      },
      "outputs": [],
      "source": [
        "# save encoded data to skip encoding step in the future\n",
        "\n",
        "pickle_out = open(path_pikcle + \"list_grouped.pickle\", \"wb\")\n",
        "pickle.dump(list_grouped, pickle_out)\n",
        "pickle_out.close()"
      ]
    },
    {
      "cell_type": "markdown",
      "metadata": {
        "id": "T9PLdiKFiTq9"
      },
      "source": [
        "## Modelling with Catboost"
      ]
    },
    {
      "cell_type": "markdown",
      "metadata": {
        "id": "wQxQBX5rHqCK"
      },
      "source": [
        "https://coderzcolumn.com/tutorials/machine-learning/catboost-an-in-depth-guide-python\n",
        "\n",
        "https://colab.research.google.com/github/catboost/tutorials/blob/master/python_tutorial.ipynb#scrollTo=iCEU8FP8U970"
      ]
    },
    {
      "cell_type": "code",
      "execution_count": null,
      "metadata": {
        "id": "mdLeOsMWbUiW"
      },
      "outputs": [],
      "source": [
        "SEED = 42"
      ]
    },
    {
      "cell_type": "code",
      "execution_count": null,
      "metadata": {
        "id": "4Co_JpfHDFxD"
      },
      "outputs": [],
      "source": [
        "pickle_in = open(path_pikcle + \"list_grouped.pickle\", \"rb\")\n",
        "list_grouped = pickle.load(pickle_in)\n",
        "\n",
        "X_sample_grouped = list_grouped[\"X_sample_grouped\"]"
      ]
    },
    {
      "cell_type": "code",
      "execution_count": null,
      "metadata": {
        "id": "9j8XjMIocgOM"
      },
      "outputs": [],
      "source": [
        "X = X_sample_grouped.drop([\"gender\"], axis=1)\n",
        "y = X_sample_grouped['gender'].values"
      ]
    },
    {
      "cell_type": "code",
      "execution_count": null,
      "metadata": {
        "id": "VTZtEpxzYT2N"
      },
      "outputs": [],
      "source": [
        "X_train_cat, X_validation, y_train_cat, y_validation = train_test_split(X, y, test_size=0.25, random_state=SEED)"
      ]
    },
    {
      "cell_type": "markdown",
      "metadata": {
        "id": "E0o_x8vNlouU"
      },
      "source": [
        "**Implementation with CPU using cross-validation technic**"
      ]
    },
    {
      "cell_type": "code",
      "execution_count": null,
      "metadata": {
        "colab": {
          "base_uri": "https://localhost:8080/"
        },
        "id": "KpkWHkvgjgDA",
        "outputId": "6b78fea0-fa9c-4df4-c7fc-a36ff45b1784"
      },
      "outputs": [
        {
          "name": "stdout",
          "output_type": "stream",
          "text": [
            "Training on fold [0/3]\n",
            "0:\ttest: 0.6394542\tbest: 0.6394542 (0)\ttotal: 291ms\tremaining: 4m 51s\n",
            "200:\ttest: 0.8048298\tbest: 0.8048298 (200)\ttotal: 30.4s\tremaining: 2m 1s\n",
            "400:\ttest: 0.8618720\tbest: 0.8618720 (400)\ttotal: 56.2s\tremaining: 1m 23s\n",
            "600:\ttest: 0.9082537\tbest: 0.9082537 (600)\ttotal: 1m 22s\tremaining: 54.7s\n",
            "800:\ttest: 0.9325706\tbest: 0.9325706 (800)\ttotal: 1m 48s\tremaining: 26.9s\n",
            "999:\ttest: 0.9486214\tbest: 0.9486214 (999)\ttotal: 2m 14s\tremaining: 0us\n",
            "\n",
            "bestTest = 0.9486214079\n",
            "bestIteration = 999\n",
            "\n",
            "Training on fold [1/3]\n",
            "0:\ttest: 0.6541197\tbest: 0.6541197 (0)\ttotal: 136ms\tremaining: 2m 15s\n",
            "200:\ttest: 0.8072739\tbest: 0.8072739 (200)\ttotal: 25.5s\tremaining: 1m 41s\n",
            "400:\ttest: 0.8678097\tbest: 0.8678097 (400)\ttotal: 51.5s\tremaining: 1m 16s\n",
            "600:\ttest: 0.9098176\tbest: 0.9098176 (600)\ttotal: 1m 17s\tremaining: 51.5s\n",
            "800:\ttest: 0.9329987\tbest: 0.9329987 (800)\ttotal: 1m 43s\tremaining: 25.7s\n",
            "999:\ttest: 0.9481176\tbest: 0.9481176 (999)\ttotal: 2m 9s\tremaining: 0us\n",
            "\n",
            "bestTest = 0.9481175645\n",
            "bestIteration = 999\n",
            "\n",
            "Training on fold [2/3]\n",
            "0:\ttest: 0.6441020\tbest: 0.6441020 (0)\ttotal: 147ms\tremaining: 2m 26s\n",
            "200:\ttest: 0.8113606\tbest: 0.8113606 (200)\ttotal: 25.3s\tremaining: 1m 40s\n",
            "400:\ttest: 0.8676239\tbest: 0.8676239 (400)\ttotal: 51.2s\tremaining: 1m 16s\n",
            "600:\ttest: 0.9073853\tbest: 0.9073853 (600)\ttotal: 1m 16s\tremaining: 51s\n",
            "800:\ttest: 0.9314321\tbest: 0.9314321 (800)\ttotal: 1m 43s\tremaining: 25.6s\n",
            "999:\ttest: 0.9464072\tbest: 0.9464072 (999)\ttotal: 2m 8s\tremaining: 0us\n",
            "\n",
            "bestTest = 0.9464072261\n",
            "bestIteration = 999\n",
            "\n",
            "Fitting was lasting:  394.60338401794434\n"
          ]
        }
      ],
      "source": [
        "params = {'loss_function':'Logloss',\n",
        "          'eval_metric':'AUC',\n",
        "          'verbose': 200,\n",
        "          'random_seed': SEED,\n",
        "          'early_stopping_rounds': 200,\n",
        "          # 'task_type': 'GPU'\n",
        "         }\n",
        "\n",
        "all_train_data = Pool(data=X,\n",
        "                      label=y,\n",
        "                      cat_features=cat_features\n",
        "                     )\n",
        "\n",
        "start_time = time.time()\n",
        "\n",
        "scores = cv(pool=all_train_data,\n",
        "            params=params, \n",
        "            fold_count=3,\n",
        "            seed=SEED, \n",
        "            shuffle=True,\n",
        "            return_models=True,\n",
        "            stratified=True # if True the folds are made by preserving the percentage of samples for each class\n",
        "           )\n",
        "\n",
        "fit_time = (time.time() - start_time)\n",
        "print(\"Fitting was lasting: \", fit_time)\n",
        "\n",
        "cat_boost_model_first = [scores, fit_time]"
      ]
    },
    {
      "cell_type": "code",
      "execution_count": null,
      "metadata": {
        "id": "mq-91ktq5G7U"
      },
      "outputs": [],
      "source": [
        "# save model\n",
        "\n",
        "pickle_out = open(path_pikcle + \"cat_boost_model_first.pickle\", \"wb\")\n",
        "pickle.dump(cat_boost_model_first, pickle_out)\n",
        "pickle_out.close()"
      ]
    },
    {
      "cell_type": "markdown",
      "metadata": {
        "id": "mXft5mnbbihv"
      },
      "source": [
        "## Categorical Encoding using Count or frequency encoding"
      ]
    },
    {
      "cell_type": "code",
      "execution_count": null,
      "metadata": {
        "id": "IsR1Hc2bvSSi"
      },
      "outputs": [],
      "source": [
        "pickle_in = open(path_pikcle + \"list_grouped.pickle\", \"rb\")\n",
        "list_grouped = pickle.load(pickle_in)\n",
        "\n",
        "X_sample_grouped = list_grouped[\"X_sample_grouped\"]\n",
        "X_full_grouped = list_grouped[\"X_full_grouped\"]\n",
        "X_test_grouped = list_grouped[\"X_test_grouped\"]\n",
        "\n",
        "cat_features = ['mcc_code', 'tr_type', 'term_id', 'term_id_na', 'Time']"
      ]
    },
    {
      "cell_type": "markdown",
      "metadata": {
        "id": "WyM8mKMTt4Z9"
      },
      "source": [
        "In count encoding we replace the categories by the count of the observations that show that category in the dataset.\n",
        "\n",
        "The assumption of this technique is that the number observations shown by each variable is somewhat informative of the predictive power of the category."
      ]
    },
    {
      "cell_type": "markdown",
      "metadata": {
        "id": "6oF2_09uuQNw"
      },
      "source": [
        "Disadvantages\n",
        "\n",
        "If 2 different categories appear the same amount of times in the dataset, that is, they appear in the same number of observations, they will be replaced by the same number: may lose valuable information."
      ]
    },
    {
      "cell_type": "code",
      "execution_count": null,
      "metadata": {
        "id": "LvHATOspu1ma"
      },
      "outputs": [],
      "source": [
        "count_enc = CountFrequencyEncoder(\n",
        "    encoding_method='frequency',\n",
        "    variables=cat_features)\n",
        "\n",
        "count_enc.fit(X_full_grouped)\n",
        "\n",
        "\n",
        "# perform encoding\n",
        "\n",
        "# X_train_encod = count_enc.transform(X_train)\n",
        "# X_val_encod = count_enc.transform(X_val)\n",
        "\n",
        "X_full_encod = count_enc.transform(X_full_grouped)\n",
        "X_test_encod = count_enc.transform(X_test_grouped)"
      ]
    },
    {
      "cell_type": "code",
      "execution_count": null,
      "metadata": {
        "id": "ZYmyWhPz6rpY"
      },
      "outputs": [],
      "source": [
        "count_enc = CountFrequencyEncoder(\n",
        "    encoding_method='frequency',\n",
        "    variables=cat_features)\n",
        "\n",
        "count_enc.fit(X_sample_grouped)\n",
        "\n",
        "# perform encoding\n",
        "X_sample_encod = count_enc.transform(X_sample_grouped)"
      ]
    },
    {
      "cell_type": "code",
      "execution_count": null,
      "metadata": {
        "id": "NAZUAsgdq-4N"
      },
      "outputs": [],
      "source": [
        "list_encoded = {}"
      ]
    },
    {
      "cell_type": "code",
      "execution_count": null,
      "metadata": {
        "id": "rdCU_dqdq1sF"
      },
      "outputs": [],
      "source": [
        "# list_encoded[\"X_train_encod\"] = X_train_encod\n",
        "# list_encoded[\"X_val_encod\"] = X_val_encod\n",
        "list_encoded[\"X_full_encod\"] = X_full_encod\n",
        "list_encoded[\"X_test_encod\"] = X_test_encod\n",
        "\n",
        "list_encoded[\"X_sample_encod\"] = X_sample_encod"
      ]
    },
    {
      "cell_type": "code",
      "execution_count": null,
      "metadata": {
        "id": "a6lLawcnrHPB"
      },
      "outputs": [],
      "source": [
        "# save encoded data to skip encoding step in the future\n",
        "\n",
        "pickle_out = open(path_pikcle + \"list_encoded.pickle\", \"wb\")\n",
        "pickle.dump(list_encoded, pickle_out)\n",
        "pickle_out.close()"
      ]
    },
    {
      "cell_type": "markdown",
      "metadata": {
        "id": "ld9Z3pZIRqg9"
      },
      "source": [
        "## Fitting with other classification algorithms"
      ]
    },
    {
      "cell_type": "code",
      "execution_count": null,
      "metadata": {
        "id": "Vj3S7plHr4IW"
      },
      "outputs": [],
      "source": [
        "pickle_in = open(path_pikcle + \"list_encoded.pickle\", \"rb\")\n",
        "list_encoded = pickle.load(pickle_in)\n",
        "X_sample_encod = list_encoded[\"X_sample_encod\"]"
      ]
    },
    {
      "cell_type": "markdown",
      "metadata": {
        "id": "dGP1D4NKTb5p"
      },
      "source": [
        "Here we will use other classification algorithms to compete with our CatBoost baseline. Additionaly we will apply Intel(R) Extension for Scikit-learn to speed up fitting time.\n",
        "\n",
        "1) How to use\n",
        "\n",
        "https://intel.github.io/scikit-learn-intelex/\n",
        "\n",
        "2) Proofs of acceleration\n",
        "\n",
        "https://www.kaggle.com/andreyrus/tps-apr-rf-with-intel-extension-for-scikit-learn/notebook"
      ]
    },
    {
      "cell_type": "code",
      "execution_count": null,
      "metadata": {
        "id": "pp5a0CHWX-9c"
      },
      "outputs": [],
      "source": [
        "# # checking\n",
        "\n",
        "# print(\"Columns with missing values in train set:\")\n",
        "# [feature for feature in X_sample_encod.columns if X_sample_encod.isnull().any()[feature] == True]"
      ]
    },
    {
      "cell_type": "code",
      "execution_count": null,
      "metadata": {
        "colab": {
          "base_uri": "https://localhost:8080/"
        },
        "id": "fOWu-YI6w085",
        "outputId": "235fe823-d309-4528-e446-b6403269209e"
      },
      "outputs": [
        {
          "name": "stdout",
          "output_type": "stream",
          "text": [
            "Scikit-learn was successfully globally patched by Intel(R) Extension for Scikit-learn\n"
          ]
        },
        {
          "name": "stderr",
          "output_type": "stream",
          "text": [
            "Intel(R) Extension for Scikit-learn* enabled (https://github.com/intel/scikit-learn-intelex)\n",
            "[Parallel(n_jobs=-1)]: Using backend LokyBackend with 2 concurrent workers.\n",
            "[Parallel(n_jobs=-1)]: Done   3 out of   3 | elapsed:   38.4s finished\n"
          ]
        },
        {
          "name": "stdout",
          "output_type": "stream",
          "text": [
            "Model RandomForestClassifier is trained\n"
          ]
        },
        {
          "name": "stderr",
          "output_type": "stream",
          "text": [
            "[Parallel(n_jobs=-1)]: Using backend LokyBackend with 2 concurrent workers.\n",
            "[Parallel(n_jobs=-1)]: Done   3 out of   3 | elapsed:    1.1s finished\n"
          ]
        },
        {
          "name": "stdout",
          "output_type": "stream",
          "text": [
            "Model RidgeClassifierCV is trained\n"
          ]
        },
        {
          "name": "stderr",
          "output_type": "stream",
          "text": [
            "[Parallel(n_jobs=-1)]: Using backend LokyBackend with 2 concurrent workers.\n",
            "[Parallel(n_jobs=-1)]: Done   3 out of   3 | elapsed:  1.1min finished\n"
          ]
        },
        {
          "name": "stdout",
          "output_type": "stream",
          "text": [
            "Model KNeighborsClassifier is trained\n"
          ]
        },
        {
          "name": "stderr",
          "output_type": "stream",
          "text": [
            "[Parallel(n_jobs=-1)]: Using backend LokyBackend with 2 concurrent workers.\n",
            "[Parallel(n_jobs=-1)]: Done   3 out of   3 | elapsed:    6.3s finished\n"
          ]
        },
        {
          "name": "stdout",
          "output_type": "stream",
          "text": [
            "Model DecisionTreeClassifier is trained\n"
          ]
        },
        {
          "name": "stderr",
          "output_type": "stream",
          "text": [
            "[Parallel(n_jobs=-1)]: Using backend LokyBackend with 2 concurrent workers.\n",
            "[Parallel(n_jobs=-1)]: Done   3 out of   3 | elapsed:   23.7s finished\n"
          ]
        },
        {
          "name": "stdout",
          "output_type": "stream",
          "text": [
            "Model XGBClassifier is trained\n"
          ]
        },
        {
          "data": {
            "text/html": [
              "\n",
              "  <div id=\"df-02ae05dd-9f0c-408c-a786-7602a22787be\">\n",
              "    <div class=\"colab-df-container\">\n",
              "      <div>\n",
              "<style scoped>\n",
              "    .dataframe tbody tr th:only-of-type {\n",
              "        vertical-align: middle;\n",
              "    }\n",
              "\n",
              "    .dataframe tbody tr th {\n",
              "        vertical-align: top;\n",
              "    }\n",
              "\n",
              "    .dataframe thead th {\n",
              "        text-align: right;\n",
              "    }\n",
              "</style>\n",
              "<table border=\"1\" class=\"dataframe\">\n",
              "  <thead>\n",
              "    <tr style=\"text-align: right;\">\n",
              "      <th></th>\n",
              "      <th>MLA Name</th>\n",
              "      <th>MLA Parameters</th>\n",
              "      <th>MLA Train Accuracy Mean</th>\n",
              "      <th>MLA Test Accuracy Mean</th>\n",
              "      <th>MLA Test Accuracy 3*STD</th>\n",
              "      <th>MLA Time</th>\n",
              "    </tr>\n",
              "  </thead>\n",
              "  <tbody>\n",
              "    <tr>\n",
              "      <th>1</th>\n",
              "      <td>RandomForestClassifier</td>\n",
              "      <td>{'bootstrap': True, 'ccp_alpha': 0.0, 'class_w...</td>\n",
              "      <td>1.0</td>\n",
              "      <td>0.992824</td>\n",
              "      <td>0.000992</td>\n",
              "      <td>15.0509</td>\n",
              "    </tr>\n",
              "    <tr>\n",
              "      <th>4</th>\n",
              "      <td>DecisionTreeClassifier</td>\n",
              "      <td>{'ccp_alpha': 0.0, 'class_weight': None, 'crit...</td>\n",
              "      <td>1.0</td>\n",
              "      <td>0.948813</td>\n",
              "      <td>0.05777</td>\n",
              "      <td>3.17254</td>\n",
              "    </tr>\n",
              "    <tr>\n",
              "      <th>3</th>\n",
              "      <td>KNeighborsClassifier</td>\n",
              "      <td>{'algorithm': 'auto', 'leaf_size': 30, 'metric...</td>\n",
              "      <td>0.966031</td>\n",
              "      <td>0.908709</td>\n",
              "      <td>0.0016</td>\n",
              "      <td>0.076524</td>\n",
              "    </tr>\n",
              "    <tr>\n",
              "      <th>5</th>\n",
              "      <td>XGBClassifier</td>\n",
              "      <td>{'base_score': 0.5, 'booster': 'gbtree', 'cols...</td>\n",
              "      <td>0.753432</td>\n",
              "      <td>0.747369</td>\n",
              "      <td>0.002773</td>\n",
              "      <td>12.303101</td>\n",
              "    </tr>\n",
              "    <tr>\n",
              "      <th>2</th>\n",
              "      <td>RidgeClassifierCV</td>\n",
              "      <td>{'alphas': array([ 0.1,  1. , 10. ]), 'class_w...</td>\n",
              "      <td>0.518916</td>\n",
              "      <td>0.516236</td>\n",
              "      <td>0.145337</td>\n",
              "      <td>0.482935</td>\n",
              "    </tr>\n",
              "  </tbody>\n",
              "</table>\n",
              "</div>\n",
              "      <button class=\"colab-df-convert\" onclick=\"convertToInteractive('df-02ae05dd-9f0c-408c-a786-7602a22787be')\"\n",
              "              title=\"Convert this dataframe to an interactive table.\"\n",
              "              style=\"display:none;\">\n",
              "        \n",
              "  <svg xmlns=\"http://www.w3.org/2000/svg\" height=\"24px\"viewBox=\"0 0 24 24\"\n",
              "       width=\"24px\">\n",
              "    <path d=\"M0 0h24v24H0V0z\" fill=\"none\"/>\n",
              "    <path d=\"M18.56 5.44l.94 2.06.94-2.06 2.06-.94-2.06-.94-.94-2.06-.94 2.06-2.06.94zm-11 1L8.5 8.5l.94-2.06 2.06-.94-2.06-.94L8.5 2.5l-.94 2.06-2.06.94zm10 10l.94 2.06.94-2.06 2.06-.94-2.06-.94-.94-2.06-.94 2.06-2.06.94z\"/><path d=\"M17.41 7.96l-1.37-1.37c-.4-.4-.92-.59-1.43-.59-.52 0-1.04.2-1.43.59L10.3 9.45l-7.72 7.72c-.78.78-.78 2.05 0 2.83L4 21.41c.39.39.9.59 1.41.59.51 0 1.02-.2 1.41-.59l7.78-7.78 2.81-2.81c.8-.78.8-2.07 0-2.86zM5.41 20L4 18.59l7.72-7.72 1.47 1.35L5.41 20z\"/>\n",
              "  </svg>\n",
              "      </button>\n",
              "      \n",
              "  <style>\n",
              "    .colab-df-container {\n",
              "      display:flex;\n",
              "      flex-wrap:wrap;\n",
              "      gap: 12px;\n",
              "    }\n",
              "\n",
              "    .colab-df-convert {\n",
              "      background-color: #E8F0FE;\n",
              "      border: none;\n",
              "      border-radius: 50%;\n",
              "      cursor: pointer;\n",
              "      display: none;\n",
              "      fill: #1967D2;\n",
              "      height: 32px;\n",
              "      padding: 0 0 0 0;\n",
              "      width: 32px;\n",
              "    }\n",
              "\n",
              "    .colab-df-convert:hover {\n",
              "      background-color: #E2EBFA;\n",
              "      box-shadow: 0px 1px 2px rgba(60, 64, 67, 0.3), 0px 1px 3px 1px rgba(60, 64, 67, 0.15);\n",
              "      fill: #174EA6;\n",
              "    }\n",
              "\n",
              "    [theme=dark] .colab-df-convert {\n",
              "      background-color: #3B4455;\n",
              "      fill: #D2E3FC;\n",
              "    }\n",
              "\n",
              "    [theme=dark] .colab-df-convert:hover {\n",
              "      background-color: #434B5C;\n",
              "      box-shadow: 0px 1px 3px 1px rgba(0, 0, 0, 0.15);\n",
              "      filter: drop-shadow(0px 1px 2px rgba(0, 0, 0, 0.3));\n",
              "      fill: #FFFFFF;\n",
              "    }\n",
              "  </style>\n",
              "\n",
              "      <script>\n",
              "        const buttonEl =\n",
              "          document.querySelector('#df-02ae05dd-9f0c-408c-a786-7602a22787be button.colab-df-convert');\n",
              "        buttonEl.style.display =\n",
              "          google.colab.kernel.accessAllowed ? 'block' : 'none';\n",
              "\n",
              "        async function convertToInteractive(key) {\n",
              "          const element = document.querySelector('#df-02ae05dd-9f0c-408c-a786-7602a22787be');\n",
              "          const dataTable =\n",
              "            await google.colab.kernel.invokeFunction('convertToInteractive',\n",
              "                                                     [key], {});\n",
              "          if (!dataTable) return;\n",
              "\n",
              "          const docLinkHtml = 'Like what you see? Visit the ' +\n",
              "            '<a target=\"_blank\" href=https://colab.research.google.com/notebooks/data_table.ipynb>data table notebook</a>'\n",
              "            + ' to learn more about interactive tables.';\n",
              "          element.innerHTML = '';\n",
              "          dataTable['output_type'] = 'display_data';\n",
              "          await google.colab.output.renderOutput(dataTable, element);\n",
              "          const docLink = document.createElement('div');\n",
              "          docLink.innerHTML = docLinkHtml;\n",
              "          element.appendChild(docLink);\n",
              "        }\n",
              "      </script>\n",
              "    </div>\n",
              "  </div>\n",
              "  "
            ],
            "text/plain": [
              "                 MLA Name  ...   MLA Time\n",
              "1  RandomForestClassifier  ...    15.0509\n",
              "4  DecisionTreeClassifier  ...    3.17254\n",
              "3    KNeighborsClassifier  ...   0.076524\n",
              "5           XGBClassifier  ...  12.303101\n",
              "2       RidgeClassifierCV  ...   0.482935\n",
              "\n",
              "[5 rows x 6 columns]"
            ]
          },
          "execution_count": 23,
          "metadata": {},
          "output_type": "execute_result"
        }
      ],
      "source": [
        "from sklearnex import patch_sklearn\n",
        "patch_sklearn(global_patch=True) # make learning a little bit faster\n",
        "\n",
        "from sklearn import svm, tree, linear_model, neighbors, naive_bayes, ensemble, discriminant_analysis, gaussian_process\n",
        "from xgboost import XGBClassifier\n",
        " \n",
        "#Machine Learning Algorithm (MLA) Selection and Initialization\n",
        "MLA = [\n",
        "    # #Ensemble Methods\n",
        "    # ensemble.AdaBoostClassifier(),\n",
        "    # ensemble.BaggingClassifier(),\n",
        "    # ensemble.ExtraTreesClassifier(),\n",
        "    # ensemble.GradientBoostingClassifier(),\n",
        "    ensemble.RandomForestClassifier(),\n",
        "\n",
        "    # #Gaussian Processes\n",
        "    # gaussian_process.GaussianProcessClassifier(),\n",
        "    \n",
        "    #GLM\n",
        "    # linear_model.LogisticRegressionCV(),\n",
        "    # linear_model.PassiveAggressiveClassifier(),\n",
        "    linear_model.RidgeClassifierCV(),\n",
        "    # linear_model.SGDClassifier(),\n",
        "    # linear_model.Perceptron(),\n",
        "    \n",
        "    # #Navies Bayes\n",
        "    # naive_bayes.BernoulliNB(),\n",
        "    # naive_bayes.GaussianNB(),\n",
        "    \n",
        "    #Nearest Neighbor\n",
        "    neighbors.KNeighborsClassifier(),\n",
        "    \n",
        "    #SVM\n",
        "    # svm.SVC(probability=True),\n",
        "    # svm.NuSVC(probability=True),\n",
        "    # svm.LinearSVC(),\n",
        "    \n",
        "    # #Trees    \n",
        "    tree.DecisionTreeClassifier(),\n",
        "    # tree.ExtraTreeClassifier(),\n",
        "    \n",
        "    # #Discriminant Analysis\n",
        "    # discriminant_analysis.LinearDiscriminantAnalysis(),\n",
        "    # discriminant_analysis.QuadraticDiscriminantAnalysis(),\n",
        "\n",
        "    \n",
        "    # #xgboost: http://xgboost.readthedocs.io/en/latest/model.html\n",
        "    XGBClassifier()    \n",
        "    ]\n",
        "\n",
        "\n",
        "\n",
        "#split dataset in cross-validation with this splitter class: http://scikit-learn.org/stable/modules/generated/sklearn.model_selection.ShuffleSplit.html#sklearn.model_selection.ShuffleSplit\n",
        "#note: this is an alternative to train_test_split\n",
        "#cv_split = model_selection.ShuffleSplit(n_splits = 5, test_size = .3, train_size = .6, random_state = 0 ) # run model 10x with 60/30 split intentionally leaving out 10%\n",
        "cv_split = model_selection.KFold(n_splits = 3)\n",
        "#create table to compare MLA metrics\n",
        "MLA_columns = ['MLA Name', 'MLA Parameters','MLA Train Accuracy Mean', 'MLA Test Accuracy Mean', 'MLA Test Accuracy 3*STD' ,'MLA Time']\n",
        "MLA_compare = pd.DataFrame(columns = MLA_columns)\n",
        "\n",
        "\n",
        "#create table to compare MLA predictions\n",
        "target = X_sample_encod[\"gender\"].copy()\n",
        "data = X_sample_encod.drop([\"gender\"], axis = 1).copy()\n",
        "MLA_predict = X_sample_encod[\"gender\"]\n",
        "\n",
        "#index through MLA and save performance to table\n",
        "row_index = 1\n",
        "for alg in MLA:\n",
        "\n",
        "    #set name and parameters\n",
        "    MLA_name = alg.__class__.__name__\n",
        "    MLA_compare.loc[row_index, 'MLA Name'] = MLA_name\n",
        "    MLA_compare.loc[row_index, 'MLA Parameters'] = str(alg.get_params())\n",
        "    \n",
        "    #score model with cross validation: http://scikit-learn.org/stable/modules/generated/sklearn.model_selection.cross_validate.html#sklearn.model_selection.cross_validate\n",
        "    cv_results = model_selection.cross_validate(alg, data, target, cv  = cv_split, n_jobs = -1, scoring = \"roc_auc\", return_train_score=True, verbose=True) # turn on all cores\n",
        "    print(f\"Model {MLA_name} is trained\")\n",
        "    \n",
        "    MLA_compare.loc[row_index, 'MLA Time'] = cv_results['fit_time'].mean()\n",
        "    MLA_compare.loc[row_index, 'MLA Train Accuracy Mean'] = cv_results['train_score'].mean()\n",
        "    MLA_compare.loc[row_index, 'MLA Test Accuracy Mean'] = cv_results['test_score'].mean()   \n",
        "    #if this is a non-bias random sample, then +/-3 standard deviations (std) from the mean, should statistically capture 99.7% of the subsets\n",
        "    MLA_compare.loc[row_index, 'MLA Test Accuracy 3*STD'] = cv_results['test_score'].std()*3   #let's know the worst that can happen!\n",
        "    \n",
        "\n",
        "    #save MLA predictions - see section 6 for usage\n",
        "    alg.fit(data, target)\n",
        "    MLA_predict[MLA_name] = alg.predict(data)\n",
        "    \n",
        "    row_index+=1\n",
        "\n",
        "    \n",
        "#print and sort table: https://pandas.pydata.org/pandas-docs/stable/generated/pandas.DataFrame.sort_values.html\n",
        "MLA_compare.sort_values(by = ['MLA Test Accuracy Mean'], ascending = False, inplace = True)\n",
        "MLA_compare\n",
        "#MLA_predict"
      ]
    },
    {
      "cell_type": "code",
      "execution_count": null,
      "metadata": {
        "id": "cnzxfcu07Cqi"
      },
      "outputs": [],
      "source": [
        "# save model for future usage\n",
        "\n",
        "pickle_out = open(path_pikcle + \"MLA_compare.pickle\", \"wb\")\n",
        "pickle.dump(MLA_compare, pickle_out)\n",
        "pickle_out.close()"
      ]
    },
    {
      "cell_type": "code",
      "execution_count": null,
      "metadata": {
        "colab": {
          "base_uri": "https://localhost:8080/"
        },
        "id": "lJ0bAdBlIMur",
        "outputId": "1837da4e-fb43-49f9-ce18-ee6686405676"
      },
      "outputs": [
        {
          "name": "stdout",
          "output_type": "stream",
          "text": [
            "Saving figure MLA_compare\n"
          ]
        },
        {
          "data": {
            "image/png": "[encoded data removed]",
            "text/plain": [
              "<Figure size 864x576 with 1 Axes>"
            ]
          },
          "metadata": {},
          "output_type": "display_data"
        }
      ],
      "source": [
        "#barplot using https://seaborn.pydata.org/generated/seaborn.barplot.html\n",
        "sns.barplot(x='MLA Time', y = 'MLA Name', data = MLA_compare, color = 'm')\n",
        "\n",
        "#prettify using pyplot: https://matplotlib.org/api/pyplot_api.html\n",
        "plt.title('Machine Learning Algorithm Fitting time with Extension')\n",
        "plt.xlabel('Time (c)')\n",
        "plt.ylabel('Algorithm')\n",
        "\n",
        "save_fig(\"MLA_compare\")"
      ]
    },
    {
      "cell_type": "markdown",
      "metadata": {
        "id": "I6bMOmZP6XpO"
      },
      "source": [
        "## Other algorithms vs CatBoost"
      ]
    },
    {
      "cell_type": "code",
      "execution_count": null,
      "metadata": {
        "id": "rPVTCrIz6D30"
      },
      "outputs": [],
      "source": [
        "pickle_in = open(path_pikcle + \"cat_boost_model_first.pickle\", \"rb\")\n",
        "cat_boost_model_first = pickle.load(pickle_in)\n",
        "pickle_in = open(path_pikcle + \"MLA_compare.pickle\", \"rb\")\n",
        "MLA_compare = pickle.load(pickle_in)"
      ]
    },
    {
      "cell_type": "code",
      "execution_count": null,
      "metadata": {
        "id": "UALJRa4dkOYC"
      },
      "outputs": [],
      "source": [
        "cv_cat_results = cat_boost_model_first[0][0]\n",
        "fit_time = cat_boost_model_first[1]"
      ]
    },
    {
      "cell_type": "code",
      "execution_count": null,
      "metadata": {
        "id": "uePipv0Qih3I"
      },
      "outputs": [],
      "source": [
        "cv_cat_results[\"MLA Name\"] = \"CatBoost\"\n",
        "cv_cat_results[\"MLA Time\"] = fit_time"
      ]
    },
    {
      "cell_type": "code",
      "execution_count": null,
      "metadata": {
        "id": "wb1jiQkOsMKn"
      },
      "outputs": [],
      "source": [
        "cv_cat_results = cv_cat_results.rename(columns={\"test-AUC-mean\":\"MLA Test Accuracy Mean\", \"test-AUC-std\":\"MLA Test Accuracy 3*STD\"});"
      ]
    },
    {
      "cell_type": "code",
      "execution_count": null,
      "metadata": {
        "id": "kb2TuGd7ZSg0"
      },
      "outputs": [],
      "source": [
        "cv_cat_results = cv_cat_results[['MLA Test Accuracy Mean', 'MLA Test Accuracy 3*STD', 'MLA Name', 'MLA Time']].max()"
      ]
    },
    {
      "cell_type": "code",
      "execution_count": null,
      "metadata": {
        "colab": {
          "base_uri": "https://localhost:8080/"
        },
        "id": "5ByOedK4shVh",
        "outputId": "b8b61767-b4d1-4b8f-9b85-376472a03e56"
      },
      "outputs": [
        {
          "data": {
            "text/html": [
              "\n",
              "  <div id=\"df-77b7c304-2d37-496b-b282-4b0298165023\">\n",
              "    <div class=\"colab-df-container\">\n",
              "      <div>\n",
              "<style scoped>\n",
              "    .dataframe tbody tr th:only-of-type {\n",
              "        vertical-align: middle;\n",
              "    }\n",
              "\n",
              "    .dataframe tbody tr th {\n",
              "        vertical-align: top;\n",
              "    }\n",
              "\n",
              "    .dataframe thead th {\n",
              "        text-align: right;\n",
              "    }\n",
              "</style>\n",
              "<table border=\"1\" class=\"dataframe\">\n",
              "  <thead>\n",
              "    <tr style=\"text-align: right;\">\n",
              "      <th></th>\n",
              "      <th>MLA Name</th>\n",
              "      <th>MLA Parameters</th>\n",
              "      <th>MLA Train Accuracy Mean</th>\n",
              "      <th>MLA Test Accuracy Mean</th>\n",
              "      <th>MLA Test Accuracy 3*STD</th>\n",
              "      <th>MLA Time</th>\n",
              "    </tr>\n",
              "  </thead>\n",
              "  <tbody>\n",
              "    <tr>\n",
              "      <th>4</th>\n",
              "      <td>RidgeClassifierCV</td>\n",
              "      <td>{'alphas': array([ 0.1,  1. , 10. ]), 'class_w...</td>\n",
              "      <td>0.518916</td>\n",
              "      <td>0.516236</td>\n",
              "      <td>0.145337</td>\n",
              "      <td>0.482935</td>\n",
              "    </tr>\n",
              "    <tr>\n",
              "      <th>3</th>\n",
              "      <td>XGBClassifier</td>\n",
              "      <td>{'base_score': 0.5, 'booster': 'gbtree', 'cols...</td>\n",
              "      <td>0.753432</td>\n",
              "      <td>0.747369</td>\n",
              "      <td>0.002773</td>\n",
              "      <td>12.303101</td>\n",
              "    </tr>\n",
              "    <tr>\n",
              "      <th>2</th>\n",
              "      <td>KNeighborsClassifier</td>\n",
              "      <td>{'algorithm': 'auto', 'leaf_size': 30, 'metric...</td>\n",
              "      <td>0.966031</td>\n",
              "      <td>0.908709</td>\n",
              "      <td>0.0016</td>\n",
              "      <td>0.076524</td>\n",
              "    </tr>\n",
              "    <tr>\n",
              "      <th>5</th>\n",
              "      <td>CatBoost</td>\n",
              "      <td>NaN</td>\n",
              "      <td>NaN</td>\n",
              "      <td>0.947715</td>\n",
              "      <td>0.01003</td>\n",
              "      <td>394.603384</td>\n",
              "    </tr>\n",
              "    <tr>\n",
              "      <th>1</th>\n",
              "      <td>DecisionTreeClassifier</td>\n",
              "      <td>{'ccp_alpha': 0.0, 'class_weight': None, 'crit...</td>\n",
              "      <td>1.0</td>\n",
              "      <td>0.948813</td>\n",
              "      <td>0.05777</td>\n",
              "      <td>3.17254</td>\n",
              "    </tr>\n",
              "    <tr>\n",
              "      <th>0</th>\n",
              "      <td>RandomForestClassifier</td>\n",
              "      <td>{'bootstrap': True, 'ccp_alpha': 0.0, 'class_w...</td>\n",
              "      <td>1.0</td>\n",
              "      <td>0.992824</td>\n",
              "      <td>0.000992</td>\n",
              "      <td>15.0509</td>\n",
              "    </tr>\n",
              "  </tbody>\n",
              "</table>\n",
              "</div>\n",
              "      <button class=\"colab-df-convert\" onclick=\"convertToInteractive('df-77b7c304-2d37-496b-b282-4b0298165023')\"\n",
              "              title=\"Convert this dataframe to an interactive table.\"\n",
              "              style=\"display:none;\">\n",
              "        \n",
              "  <svg xmlns=\"http://www.w3.org/2000/svg\" height=\"24px\"viewBox=\"0 0 24 24\"\n",
              "       width=\"24px\">\n",
              "    <path d=\"M0 0h24v24H0V0z\" fill=\"none\"/>\n",
              "    <path d=\"M18.56 5.44l.94 2.06.94-2.06 2.06-.94-2.06-.94-.94-2.06-.94 2.06-2.06.94zm-11 1L8.5 8.5l.94-2.06 2.06-.94-2.06-.94L8.5 2.5l-.94 2.06-2.06.94zm10 10l.94 2.06.94-2.06 2.06-.94-2.06-.94-.94-2.06-.94 2.06-2.06.94z\"/><path d=\"M17.41 7.96l-1.37-1.37c-.4-.4-.92-.59-1.43-.59-.52 0-1.04.2-1.43.59L10.3 9.45l-7.72 7.72c-.78.78-.78 2.05 0 2.83L4 21.41c.39.39.9.59 1.41.59.51 0 1.02-.2 1.41-.59l7.78-7.78 2.81-2.81c.8-.78.8-2.07 0-2.86zM5.41 20L4 18.59l7.72-7.72 1.47 1.35L5.41 20z\"/>\n",
              "  </svg>\n",
              "      </button>\n",
              "      \n",
              "  <style>\n",
              "    .colab-df-container {\n",
              "      display:flex;\n",
              "      flex-wrap:wrap;\n",
              "      gap: 12px;\n",
              "    }\n",
              "\n",
              "    .colab-df-convert {\n",
              "      background-color: #E8F0FE;\n",
              "      border: none;\n",
              "      border-radius: 50%;\n",
              "      cursor: pointer;\n",
              "      display: none;\n",
              "      fill: #1967D2;\n",
              "      height: 32px;\n",
              "      padding: 0 0 0 0;\n",
              "      width: 32px;\n",
              "    }\n",
              "\n",
              "    .colab-df-convert:hover {\n",
              "      background-color: #E2EBFA;\n",
              "      box-shadow: 0px 1px 2px rgba(60, 64, 67, 0.3), 0px 1px 3px 1px rgba(60, 64, 67, 0.15);\n",
              "      fill: #174EA6;\n",
              "    }\n",
              "\n",
              "    [theme=dark] .colab-df-convert {\n",
              "      background-color: #3B4455;\n",
              "      fill: #D2E3FC;\n",
              "    }\n",
              "\n",
              "    [theme=dark] .colab-df-convert:hover {\n",
              "      background-color: #434B5C;\n",
              "      box-shadow: 0px 1px 3px 1px rgba(0, 0, 0, 0.15);\n",
              "      filter: drop-shadow(0px 1px 2px rgba(0, 0, 0, 0.3));\n",
              "      fill: #FFFFFF;\n",
              "    }\n",
              "  </style>\n",
              "\n",
              "      <script>\n",
              "        const buttonEl =\n",
              "          document.querySelector('#df-77b7c304-2d37-496b-b282-4b0298165023 button.colab-df-convert');\n",
              "        buttonEl.style.display =\n",
              "          google.colab.kernel.accessAllowed ? 'block' : 'none';\n",
              "\n",
              "        async function convertToInteractive(key) {\n",
              "          const element = document.querySelector('#df-77b7c304-2d37-496b-b282-4b0298165023');\n",
              "          const dataTable =\n",
              "            await google.colab.kernel.invokeFunction('convertToInteractive',\n",
              "                                                     [key], {});\n",
              "          if (!dataTable) return;\n",
              "\n",
              "          const docLinkHtml = 'Like what you see? Visit the ' +\n",
              "            '<a target=\"_blank\" href=https://colab.research.google.com/notebooks/data_table.ipynb>data table notebook</a>'\n",
              "            + ' to learn more about interactive tables.';\n",
              "          element.innerHTML = '';\n",
              "          dataTable['output_type'] = 'display_data';\n",
              "          await google.colab.output.renderOutput(dataTable, element);\n",
              "          const docLink = document.createElement('div');\n",
              "          docLink.innerHTML = docLinkHtml;\n",
              "          element.appendChild(docLink);\n",
              "        }\n",
              "      </script>\n",
              "    </div>\n",
              "  </div>\n",
              "  "
            ],
            "text/plain": [
              "                 MLA Name  ...    MLA Time\n",
              "4       RidgeClassifierCV  ...    0.482935\n",
              "3           XGBClassifier  ...   12.303101\n",
              "2    KNeighborsClassifier  ...    0.076524\n",
              "5                CatBoost  ...  394.603384\n",
              "1  DecisionTreeClassifier  ...     3.17254\n",
              "0  RandomForestClassifier  ...     15.0509\n",
              "\n",
              "[6 rows x 6 columns]"
            ]
          },
          "execution_count": 31,
          "metadata": {},
          "output_type": "execute_result"
        }
      ],
      "source": [
        "MLA_compare = MLA_compare.append(cv_cat_results, ignore_index=True).sort_values(by = \"MLA Test Accuracy Mean\")\n",
        "MLA_compare"
      ]
    },
    {
      "cell_type": "code",
      "execution_count": null,
      "metadata": {
        "colab": {
          "base_uri": "https://localhost:8080/"
        },
        "id": "d9aeU0i6U7Te",
        "outputId": "58aaca6c-d1c5-4469-fab9-13d398304628"
      },
      "outputs": [
        {
          "name": "stdout",
          "output_type": "stream",
          "text": [
            "Saving figure Compare time\n"
          ]
        },
        {
          "data": {
            "image/png": "[encoded data removed]",
            "text/plain": [
              "<Figure size 864x576 with 1 Axes>"
            ]
          },
          "metadata": {},
          "output_type": "display_data"
        }
      ],
      "source": [
        "#barplot using https://seaborn.pydata.org/generated/seaborn.barplot.html\n",
        "sns.barplot(x='MLA Time', y = 'MLA Name', data = MLA_compare, color = 'm')\n",
        "\n",
        "#prettify using pyplot: https://matplotlib.org/api/pyplot_api.html\n",
        "plt.title('Machine Learning Algorithm Fitting time')\n",
        "plt.xlabel('Time (c)')\n",
        "plt.ylabel('Algorithm')\n",
        "save_fig(\"Compare time\")"
      ]
    },
    {
      "cell_type": "code",
      "execution_count": null,
      "metadata": {
        "colab": {
          "base_uri": "https://localhost:8080/"
        },
        "id": "EnM8-56oqjMm",
        "outputId": "2a510a04-8ac6-4d2d-e7d9-c24b6b66546b"
      },
      "outputs": [
        {
          "name": "stdout",
          "output_type": "stream",
          "text": [
            "Saving figure Compare Accuracy\n"
          ]
        },
        {
          "data": {
            "image/png": "[encoded data removed]",
            "text/plain": [
              "<Figure size 864x576 with 1 Axes>"
            ]
          },
          "metadata": {},
          "output_type": "display_data"
        }
      ],
      "source": [
        "#barplot using https://seaborn.pydata.org/generated/seaborn.barplot.html\n",
        "sns.barplot(x='MLA Test Accuracy Mean', y = 'MLA Name', data = MLA_compare, color = 'm')\n",
        "\n",
        "#prettify using pyplot: https://matplotlib.org/api/pyplot_api.html\n",
        "plt.title('Machine Learning Algorithm Accuracy Score \\n')\n",
        "plt.xlabel('Accuracy Score (%)')\n",
        "plt.ylabel('Algorithm')\n",
        "\n",
        "save_fig(\"Compare Accuracy\")"
      ]
    },
    {
      "cell_type": "markdown",
      "metadata": {
        "id": "b6iMiLfGq0hE"
      },
      "source": [
        "We will choose RandomForest because it gives best score on validation test and requires less time than CatBoost. But first lets check how it predicts on unseen data by fitting on X_train_encod and validating on X_val_encod."
      ]
    },
    {
      "cell_type": "markdown",
      "metadata": {
        "id": "t1V4Ki8htTIk"
      },
      "source": [
        "# Validate by RandomForest"
      ]
    },
    {
      "cell_type": "code",
      "execution_count": null,
      "metadata": {
        "id": "BVSAuPRNsK55"
      },
      "outputs": [],
      "source": [
        "pickle_in = open(path_pikcle + \"list_encoded.pickle\", \"rb\")\n",
        "list_encoded = pickle.load(pickle_in)\n",
        "X_train_encod = list_encoded[\"X_train_encod\"].sample(frac=1)\n",
        "X_val_encod = list_encoded[\"X_val_encod\"].sample(frac=1)"
      ]
    },
    {
      "cell_type": "code",
      "execution_count": null,
      "metadata": {
        "id": "I64LN3Anh5Gr"
      },
      "outputs": [],
      "source": [
        "train = X_train_encod.drop([\"gender\"], axis = 1)\n",
        "target = X_train_encod[\"gender\"]\n",
        "\n",
        "val = X_val_encod.drop([\"gender\"], axis = 1)\n",
        "val_target = X_val_encod[\"gender\"]"
      ]
    },
    {
      "cell_type": "code",
      "execution_count": null,
      "metadata": {
        "colab": {
          "base_uri": "https://localhost:8080/"
        },
        "id": "mwbVrvkLiC8H",
        "outputId": "67a2cf0d-476d-4597-9130-56d39a4fbcc8"
      },
      "outputs": [
        {
          "name": "stdout",
          "output_type": "stream",
          "text": [
            "Scikit-learn was successfully globally patched by Intel(R) Extension for Scikit-learn\n"
          ]
        },
        {
          "name": "stderr",
          "output_type": "stream",
          "text": [
            "Intel(R) Extension for Scikit-learn* enabled (https://github.com/intel/scikit-learn-intelex)\n"
          ]
        },
        {
          "name": "stdout",
          "output_type": "stream",
          "text": [
            "CPU times: user 44.3 s, sys: 1.15 s, total: 45.4 s\n",
            "Wall time: 49.6 s\n"
          ]
        }
      ],
      "source": [
        "%%time\n",
        "\n",
        "from sklearnex import patch_sklearn\n",
        "patch_sklearn(global_patch=True) # make learning a little bit faster\n",
        "\n",
        "from sklearn import ensemble\n",
        "\n",
        "alg = ensemble.RandomForestClassifier(max_depth=8)\n",
        "alg.fit(train, target)"
      ]
    },
    {
      "cell_type": "code",
      "execution_count": null,
      "metadata": {
        "id": "ZvKoExbKvXrF"
      },
      "outputs": [],
      "source": [
        "from sklearn.metrics import roc_auc_score\n",
        "roc_auc_score(val_target, alg.predict_proba(val)[:, 1]) "
      ]
    },
    {
      "cell_type": "markdown",
      "metadata": {
        "id": "Xc-I2ZVRJil9"
      },
      "source": [
        "We get high train and validation score using X_sample_encode and low test score using X_train_encode and X_val_encode. It means that there are a lot of instances in X_val_encode that differs a lot from  X_train_encode ones.  "
      ]
    },
    {
      "cell_type": "markdown",
      "metadata": {
        "id": "YB9xpb8V6NGD"
      },
      "source": [
        "# Final fitting"
      ]
    },
    {
      "cell_type": "markdown",
      "metadata": {
        "id": "8ExDnaewDvgg"
      },
      "source": [
        "## Before tuning"
      ]
    },
    {
      "cell_type": "code",
      "execution_count": null,
      "metadata": {
        "id": "1p0zKm_U7QD4"
      },
      "outputs": [],
      "source": [
        "pickle_in = open(path_pikcle + \"list_encoded.pickle\", \"rb\")\n",
        "list_encoded = pickle.load(pickle_in)\n",
        "X_full_encod = list_encoded[\"X_full_encod\"].sample(frac=1)"
      ]
    },
    {
      "cell_type": "code",
      "execution_count": null,
      "metadata": {
        "id": "M600rLvo8JzX"
      },
      "outputs": [],
      "source": [
        "train = X_full_encod.drop([\"gender\"], axis = 1)\n",
        "target = X_full_encod[\"gender\"]"
      ]
    },
    {
      "cell_type": "code",
      "execution_count": null,
      "metadata": {
        "colab": {
          "base_uri": "https://localhost:8080/"
        },
        "id": "6F9qU8s27tO7",
        "outputId": "c8ea987c-991c-4c5a-a700-984ae8be85ac"
      },
      "outputs": [
        {
          "name": "stdout",
          "output_type": "stream",
          "text": [
            "Scikit-learn was successfully globally patched by Intel(R) Extension for Scikit-learn\n"
          ]
        },
        {
          "name": "stderr",
          "output_type": "stream",
          "text": [
            "Intel(R) Extension for Scikit-learn* enabled (https://github.com/intel/scikit-learn-intelex)\n",
            "[Parallel(n_jobs=-1)]: Using backend LokyBackend with 2 concurrent workers.\n",
            "[Parallel(n_jobs=-1)]: Done   4 out of   4 | elapsed: 23.0min finished\n"
          ]
        },
        {
          "name": "stdout",
          "output_type": "stream",
          "text": [
            "BEFORE - Training score mean: 97.75\n",
            "BEFORE - Test score mean: 97.73\n",
            "BEFORE - Test score 3*std: +/- 0.51\n",
            "BEFORE - Test set score min: 97.47\n",
            "----------\n"
          ]
        }
      ],
      "source": [
        "from sklearnex import patch_sklearn\n",
        "patch_sklearn(global_patch=True) # make learning a little bit faster\n",
        "\n",
        "from sklearn import ensemble\n",
        "\n",
        "cv_split = model_selection.KFold(n_splits = 4)\n",
        "alg = ensemble.RandomForestClassifier(max_depth=14)\n",
        "\n",
        "base_results = model_selection.cross_validate(alg, train, target, cv  = cv_split, n_jobs = -1, scoring = \"roc_auc\", return_train_score=True, verbose=True)\n",
        "\n",
        "alg.fit(train, target)\n",
        "\n",
        "# print('BEFORE - Parameters: ', alg.get_params())\n",
        "\n",
        "print(\"BEFORE - Training score mean: {:.2f}\". format(base_results['train_score'].mean()*100)) \n",
        "print(\"BEFORE - Test score mean: {:.2f}\". format(base_results['test_score'].mean()*100))\n",
        "print(\"BEFORE - Test score 3*std: +/- {:.2f}\". format(base_results['test_score'].std()*100*3))\n",
        "print(\"BEFORE - Test set score min: {:.2f}\". format(base_results['test_score'].min()*100))\n",
        "print('-'*10)"
      ]
    },
    {
      "cell_type": "code",
      "execution_count": null,
      "metadata": {
        "id": "Y5cg6xZlB6jB"
      },
      "outputs": [],
      "source": [
        "pickle_out = open(path_pikcle + \"before_tuning.pickle\", \"wb\")\n",
        "pickle.dump(alg, pickle_out)\n",
        "\n",
        "pickle_out.close()"
      ]
    },
    {
      "cell_type": "code",
      "execution_count": null,
      "metadata": {
        "id": "o-TisNSAd00c"
      },
      "outputs": [],
      "source": [
        "pickle_out = open(path_pikcle + \"base_results_before_tuning.pickle\", \"wb\")\n",
        "pickle.dump(base_results, pickle_out)\n",
        "\n",
        "pickle_out.close()"
      ]
    },
    {
      "cell_type": "markdown",
      "metadata": {
        "id": "cxApcDxlob4Z"
      },
      "source": [
        "## After feature selection"
      ]
    },
    {
      "cell_type": "code",
      "execution_count": 76,
      "metadata": {
        "id": "egwMzGr_EBFZ"
      },
      "outputs": [],
      "source": [
        "pickle_in = open(path_pikcle + \"before_tuning.pickle\", \"rb\")\n",
        "alg = pickle.load(pickle_in)"
      ]
    },
    {
      "cell_type": "code",
      "execution_count": 77,
      "metadata": {
        "id": "L-emc6tTbqH4"
      },
      "outputs": [],
      "source": [
        "pickle_in = open(path_pikcle + \"list_encoded.pickle\", \"rb\")\n",
        "list_encoded = pickle.load(pickle_in)\n",
        "X_full_encod = list_encoded[\"X_full_encod\"].sample(frac=1)"
      ]
    },
    {
      "cell_type": "markdown",
      "metadata": {
        "id": "sla8bGWc_TFI"
      },
      "source": [
        "Feature importances are provided by the fitted attribute feature_importances_ and they are computed as the mean and standard deviation of accumulation of the impurity decrease within each tree."
      ]
    },
    {
      "cell_type": "code",
      "execution_count": 78,
      "metadata": {
        "colab": {
          "base_uri": "https://localhost:8080/"
        },
        "id": "EGtlMz5b_fBc",
        "outputId": "ea8092f6-e8f9-4384-8a80-a113609acb59"
      },
      "outputs": [
        {
          "output_type": "stream",
          "name": "stdout",
          "text": [
            "Elapsed time to compute the importances: 0.033 seconds\n"
          ]
        }
      ],
      "source": [
        "import time\n",
        "import numpy as np\n",
        "\n",
        "start_time = time.time()\n",
        "importances = alg.feature_importances_\n",
        "std = np.std([tree.feature_importances_ for tree in alg.estimators_], axis=0)\n",
        "elapsed_time = time.time() - start_time\n",
        "\n",
        "print(f\"Elapsed time to compute the importances: {elapsed_time:.3f} seconds\")"
      ]
    },
    {
      "cell_type": "code",
      "execution_count": 79,
      "metadata": {
        "colab": {
          "base_uri": "https://localhost:8080/",
          "height": 604
        },
        "id": "fr4la54q_R8v",
        "outputId": "8de0c110-74a5-45cb-ea47-35dbf76eb427"
      },
      "outputs": [
        {
          "output_type": "stream",
          "name": "stdout",
          "text": [
            "Saving figure Важность\n"
          ]
        },
        {
          "output_type": "display_data",
          "data": {
            "image/png": "[encoded data removed]",
            "text/plain": [
              "<Figure size 864x576 with 1 Axes>"
            ]
          },
          "metadata": {}
        }
      ],
      "source": [
        "import pandas as pd\n",
        "\n",
        "feature_names = X_full_encod.drop(['gender'], axis = 1).columns\n",
        "forest_importances = pd.Series(importances, index=feature_names)\n",
        "\n",
        "fig, ax = plt.subplots()\n",
        "forest_importances.plot.bar(yerr=std, ax=ax)\n",
        "ax.set_title(\"Feature importances using MDI\")\n",
        "ax.set_ylabel(\"Mean decrease in impurity\")\n",
        "fig.tight_layout()\n",
        "\n",
        "save_fig(\"Важность\")"
      ]
    },
    {
      "cell_type": "code",
      "execution_count": 80,
      "metadata": {
        "colab": {
          "base_uri": "https://localhost:8080/"
        },
        "id": "DIRvXjuOcaH6",
        "outputId": "85a94c11-e519-4c1c-938b-c93de530a2ee"
      },
      "outputs": [
        {
          "output_type": "execute_result",
          "data": {
            "text/plain": [
              "['Mean_net_money_per_transaction',\n",
              " 'Std_net_money_per_transaction',\n",
              " 'Mean_spend_money_per_transaction',\n",
              " 'Mean_earn_money_per_transaction',\n",
              " 'Money_spend_std_per_transaction',\n",
              " 'Mean_earn_std_per_transaction',\n",
              " 'Money_earn_spend_ratio_per_transaction',\n",
              " 'ALL_money_net',\n",
              " 'ALL_money_spend',\n",
              " 'ALL_money_earn',\n",
              " 'ALL_money_spend_earn_ratio',\n",
              " 'Frequency_of_spending_all',\n",
              " 'Frequency_of_spending_per_week']"
            ]
          },
          "metadata": {},
          "execution_count": 80
        }
      ],
      "source": [
        "good_features = forest_importances[forest_importances > 0.04].index.to_list()\n",
        "good_features"
      ]
    },
    {
      "cell_type": "code",
      "execution_count": 81,
      "metadata": {
        "id": "6jjCnQSSddzW"
      },
      "outputs": [],
      "source": [
        "train = X_full_encod.drop([\"gender\"], axis = 1)[good_features]\n",
        "target = X_full_encod[\"gender\"]"
      ]
    },
    {
      "cell_type": "code",
      "execution_count": 82,
      "metadata": {
        "colab": {
          "base_uri": "https://localhost:8080/"
        },
        "id": "p73fOmqKdH8D",
        "outputId": "564e5ea2-925c-4843-e74e-b778d5a2ae54"
      },
      "outputs": [
        {
          "output_type": "stream",
          "name": "stdout",
          "text": [
            "Scikit-learn was successfully globally patched by Intel(R) Extension for Scikit-learn\n"
          ]
        },
        {
          "output_type": "stream",
          "name": "stderr",
          "text": [
            "Intel(R) Extension for Scikit-learn* enabled (https://github.com/intel/scikit-learn-intelex)\n",
            "[Parallel(n_jobs=-1)]: Using backend LokyBackend with 2 concurrent workers.\n",
            "[Parallel(n_jobs=-1)]: Done   4 out of   4 | elapsed: 15.1min finished\n"
          ]
        },
        {
          "output_type": "stream",
          "name": "stdout",
          "text": [
            "AFTER - Parameters:  {'bootstrap': True, 'ccp_alpha': 0.0, 'class_weight': None, 'criterion': 'gini', 'maxBins': 256, 'max_depth': 14, 'max_features': 'auto', 'max_leaf_nodes': None, 'max_samples': None, 'minBinSize': 1, 'min_impurity_decrease': 0.0, 'min_samples_leaf': 1, 'min_samples_split': 2, 'min_weight_fraction_leaf': 0.0, 'n_estimators': 100, 'n_jobs': None, 'oob_score': False, 'random_state': None, 'verbose': 0, 'warm_start': False}\n",
            "AFTER - Training score mean: 99.27\n",
            "AFTER - Test score mean: 99.26\n",
            "AFTER - Test score 3*std: +/- 0.18\n",
            "AFTER - Test set score min: 99.20\n",
            "----------\n"
          ]
        }
      ],
      "source": [
        "from sklearnex import patch_sklearn\n",
        "patch_sklearn(global_patch=True) # make learning a little bit faster\n",
        "\n",
        "from sklearn import ensemble\n",
        "\n",
        "cv_split = model_selection.KFold(n_splits = 4)\n",
        "alg = ensemble.RandomForestClassifier(max_depth=14)\n",
        "\n",
        "base_results = model_selection.cross_validate(alg, train, target, cv  = cv_split, n_jobs = -1, scoring = \"roc_auc\", return_train_score=True, verbose=True)\n",
        "\n",
        "alg.fit(train, target)\n",
        "\n",
        "print('AFTER - Parameters: ', alg.get_params())\n",
        "\n",
        "print(\"AFTER - Training score mean: {:.2f}\". format(base_results['train_score'].mean()*100)) \n",
        "print(\"AFTER - Test score mean: {:.2f}\". format(base_results['test_score'].mean()*100))\n",
        "print(\"AFTER - Test score 3*std: +/- {:.2f}\". format(base_results['test_score'].std()*100*3))\n",
        "print(\"AFTER - Test set score min: {:.2f}\". format(base_results['test_score'].min()*100))\n",
        "print('-'*10)"
      ]
    },
    {
      "cell_type": "code",
      "execution_count": 83,
      "metadata": {
        "id": "2SeTzOkGdhwb"
      },
      "outputs": [],
      "source": [
        "pickle_out = open(path_pikcle + \"after_selection.pickle\", \"wb\")\n",
        "pickle.dump(alg, pickle_out)\n",
        "\n",
        "pickle_out.close()"
      ]
    },
    {
      "cell_type": "code",
      "execution_count": 84,
      "metadata": {
        "id": "JKJj3sPyd9lG"
      },
      "outputs": [],
      "source": [
        "pickle_out = open(path_pikcle + \"base_results_after_selection.pickle\", \"wb\")\n",
        "pickle.dump(base_results, pickle_out)\n",
        "\n",
        "pickle_out.close()"
      ]
    },
    {
      "cell_type": "markdown",
      "metadata": {
        "id": "J6y1thCFWgDy"
      },
      "source": [
        "## SHAP"
      ]
    },
    {
      "cell_type": "code",
      "execution_count": 13,
      "metadata": {
        "id": "1XuBRXv4mXSE"
      },
      "outputs": [],
      "source": [
        "good_features = ['Mean_net_money_per_transaction',\n",
        " 'Std_net_money_per_transaction',\n",
        " 'Mean_spend_money_per_transaction',\n",
        " 'Mean_earn_money_per_transaction',\n",
        " 'Money_spend_std_per_transaction',\n",
        " 'Mean_earn_std_per_transaction',\n",
        " 'Money_earn_spend_ratio_per_transaction',\n",
        " 'ALL_money_net',\n",
        " 'ALL_money_spend',\n",
        " 'ALL_money_earn',\n",
        " 'ALL_money_spend_earn_ratio',\n",
        " 'Frequency_of_spending_all',\n",
        " 'Frequency_of_spending_per_week']"
      ]
    },
    {
      "cell_type": "code",
      "execution_count": 14,
      "metadata": {
        "id": "o5Pyo8fuWfW1"
      },
      "outputs": [],
      "source": [
        "pickle_in = open(path_pikcle + \"list_encoded.pickle\", \"rb\")\n",
        "list_encoded = pickle.load(pickle_in)\n",
        "\n",
        "X_sample_encod = list_encoded[\"X_sample_encod\"]"
      ]
    },
    {
      "cell_type": "code",
      "execution_count": 15,
      "metadata": {
        "id": "vI5ZOFN0lUo-"
      },
      "outputs": [],
      "source": [
        "train = X_sample_encod.drop([\"gender\"], axis = 1)\n",
        "target = X_sample_encod[\"gender\"]"
      ]
    },
    {
      "cell_type": "code",
      "execution_count": 16,
      "metadata": {
        "id": "eF4AtdrUuzf-"
      },
      "outputs": [],
      "source": [
        "import xgboost as xgb\n",
        "\n",
        "dmat = xgb.DMatrix(train, target)\n",
        "params = {\"tree_method\": \"gpu_hist\",\n",
        "          \"eval_metric\": \"auc\"}\n",
        "\n",
        "bst = xgb.train(params, dmat, num_boost_round=50)"
      ]
    },
    {
      "cell_type": "code",
      "execution_count": 17,
      "metadata": {
        "id": "X3OWysl-07Bl"
      },
      "outputs": [],
      "source": [
        "cv = xgb.cv(params, dmat, nfold=4,\n",
        "                    num_boost_round=50, early_stopping_rounds=10, metrics=\"auc\", as_pandas=True, seed=42)"
      ]
    },
    {
      "cell_type": "code",
      "execution_count": 18,
      "metadata": {
        "id": "T_MdZ5EC1YCL",
        "colab": {
          "base_uri": "https://localhost:8080/",
          "height": 206
        },
        "outputId": "d47742cf-28b8-420c-e034-5570d0c42a18"
      },
      "outputs": [
        {
          "output_type": "execute_result",
          "data": {
            "text/html": [
              "\n",
              "  <div id=\"df-f264a363-c965-4bc3-9b2a-98aa7bd77eed\">\n",
              "    <div class=\"colab-df-container\">\n",
              "      <div>\n",
              "<style scoped>\n",
              "    .dataframe tbody tr th:only-of-type {\n",
              "        vertical-align: middle;\n",
              "    }\n",
              "\n",
              "    .dataframe tbody tr th {\n",
              "        vertical-align: top;\n",
              "    }\n",
              "\n",
              "    .dataframe thead th {\n",
              "        text-align: right;\n",
              "    }\n",
              "</style>\n",
              "<table border=\"1\" class=\"dataframe\">\n",
              "  <thead>\n",
              "    <tr style=\"text-align: right;\">\n",
              "      <th></th>\n",
              "      <th>train-auc-mean</th>\n",
              "      <th>train-auc-std</th>\n",
              "      <th>test-auc-mean</th>\n",
              "      <th>test-auc-std</th>\n",
              "    </tr>\n",
              "  </thead>\n",
              "  <tbody>\n",
              "    <tr>\n",
              "      <th>49</th>\n",
              "      <td>0.954891</td>\n",
              "      <td>0.003224</td>\n",
              "      <td>0.942821</td>\n",
              "      <td>0.002551</td>\n",
              "    </tr>\n",
              "    <tr>\n",
              "      <th>48</th>\n",
              "      <td>0.954033</td>\n",
              "      <td>0.003354</td>\n",
              "      <td>0.942234</td>\n",
              "      <td>0.002809</td>\n",
              "    </tr>\n",
              "    <tr>\n",
              "      <th>47</th>\n",
              "      <td>0.952694</td>\n",
              "      <td>0.004005</td>\n",
              "      <td>0.940735</td>\n",
              "      <td>0.003483</td>\n",
              "    </tr>\n",
              "    <tr>\n",
              "      <th>46</th>\n",
              "      <td>0.950903</td>\n",
              "      <td>0.004679</td>\n",
              "      <td>0.938797</td>\n",
              "      <td>0.004283</td>\n",
              "    </tr>\n",
              "    <tr>\n",
              "      <th>45</th>\n",
              "      <td>0.949273</td>\n",
              "      <td>0.004310</td>\n",
              "      <td>0.937197</td>\n",
              "      <td>0.003962</td>\n",
              "    </tr>\n",
              "  </tbody>\n",
              "</table>\n",
              "</div>\n",
              "      <button class=\"colab-df-convert\" onclick=\"convertToInteractive('df-f264a363-c965-4bc3-9b2a-98aa7bd77eed')\"\n",
              "              title=\"Convert this dataframe to an interactive table.\"\n",
              "              style=\"display:none;\">\n",
              "        \n",
              "  <svg xmlns=\"http://www.w3.org/2000/svg\" height=\"24px\"viewBox=\"0 0 24 24\"\n",
              "       width=\"24px\">\n",
              "    <path d=\"M0 0h24v24H0V0z\" fill=\"none\"/>\n",
              "    <path d=\"M18.56 5.44l.94 2.06.94-2.06 2.06-.94-2.06-.94-.94-2.06-.94 2.06-2.06.94zm-11 1L8.5 8.5l.94-2.06 2.06-.94-2.06-.94L8.5 2.5l-.94 2.06-2.06.94zm10 10l.94 2.06.94-2.06 2.06-.94-2.06-.94-.94-2.06-.94 2.06-2.06.94z\"/><path d=\"M17.41 7.96l-1.37-1.37c-.4-.4-.92-.59-1.43-.59-.52 0-1.04.2-1.43.59L10.3 9.45l-7.72 7.72c-.78.78-.78 2.05 0 2.83L4 21.41c.39.39.9.59 1.41.59.51 0 1.02-.2 1.41-.59l7.78-7.78 2.81-2.81c.8-.78.8-2.07 0-2.86zM5.41 20L4 18.59l7.72-7.72 1.47 1.35L5.41 20z\"/>\n",
              "  </svg>\n",
              "      </button>\n",
              "      \n",
              "  <style>\n",
              "    .colab-df-container {\n",
              "      display:flex;\n",
              "      flex-wrap:wrap;\n",
              "      gap: 12px;\n",
              "    }\n",
              "\n",
              "    .colab-df-convert {\n",
              "      background-color: #E8F0FE;\n",
              "      border: none;\n",
              "      border-radius: 50%;\n",
              "      cursor: pointer;\n",
              "      display: none;\n",
              "      fill: #1967D2;\n",
              "      height: 32px;\n",
              "      padding: 0 0 0 0;\n",
              "      width: 32px;\n",
              "    }\n",
              "\n",
              "    .colab-df-convert:hover {\n",
              "      background-color: #E2EBFA;\n",
              "      box-shadow: 0px 1px 2px rgba(60, 64, 67, 0.3), 0px 1px 3px 1px rgba(60, 64, 67, 0.15);\n",
              "      fill: #174EA6;\n",
              "    }\n",
              "\n",
              "    [theme=dark] .colab-df-convert {\n",
              "      background-color: #3B4455;\n",
              "      fill: #D2E3FC;\n",
              "    }\n",
              "\n",
              "    [theme=dark] .colab-df-convert:hover {\n",
              "      background-color: #434B5C;\n",
              "      box-shadow: 0px 1px 3px 1px rgba(0, 0, 0, 0.15);\n",
              "      filter: drop-shadow(0px 1px 2px rgba(0, 0, 0, 0.3));\n",
              "      fill: #FFFFFF;\n",
              "    }\n",
              "  </style>\n",
              "\n",
              "      <script>\n",
              "        const buttonEl =\n",
              "          document.querySelector('#df-f264a363-c965-4bc3-9b2a-98aa7bd77eed button.colab-df-convert');\n",
              "        buttonEl.style.display =\n",
              "          google.colab.kernel.accessAllowed ? 'block' : 'none';\n",
              "\n",
              "        async function convertToInteractive(key) {\n",
              "          const element = document.querySelector('#df-f264a363-c965-4bc3-9b2a-98aa7bd77eed');\n",
              "          const dataTable =\n",
              "            await google.colab.kernel.invokeFunction('convertToInteractive',\n",
              "                                                     [key], {});\n",
              "          if (!dataTable) return;\n",
              "\n",
              "          const docLinkHtml = 'Like what you see? Visit the ' +\n",
              "            '<a target=\"_blank\" href=https://colab.research.google.com/notebooks/data_table.ipynb>data table notebook</a>'\n",
              "            + ' to learn more about interactive tables.';\n",
              "          element.innerHTML = '';\n",
              "          dataTable['output_type'] = 'display_data';\n",
              "          await google.colab.output.renderOutput(dataTable, element);\n",
              "          const docLink = document.createElement('div');\n",
              "          docLink.innerHTML = docLinkHtml;\n",
              "          element.appendChild(docLink);\n",
              "        }\n",
              "      </script>\n",
              "    </div>\n",
              "  </div>\n",
              "  "
            ],
            "text/plain": [
              "    train-auc-mean  train-auc-std  test-auc-mean  test-auc-std\n",
              "49        0.954891       0.003224       0.942821      0.002551\n",
              "48        0.954033       0.003354       0.942234      0.002809\n",
              "47        0.952694       0.004005       0.940735      0.003483\n",
              "46        0.950903       0.004679       0.938797      0.004283\n",
              "45        0.949273       0.004310       0.937197      0.003962"
            ]
          },
          "metadata": {},
          "execution_count": 18
        }
      ],
      "source": [
        "cv.sort_values(by = [\"test-auc-mean\"], ascending=False).head()"
      ]
    },
    {
      "cell_type": "code",
      "execution_count": 19,
      "metadata": {
        "id": "DRFNPKDrzq01",
        "colab": {
          "base_uri": "https://localhost:8080/"
        },
        "outputId": "8cf9600a-fcd7-425b-b443-c1518693374d"
      },
      "outputs": [
        {
          "output_type": "stream",
          "name": "stdout",
          "text": [
            "SHAP time 56.02846884727478\n"
          ]
        }
      ],
      "source": [
        "# Make sure GPU prediction is enabled\n",
        "# Set \"cpu_predictor\" to use CPU\n",
        "bst.set_param({\"predictor\": \"gpu_predictor\"})\n",
        "\n",
        "# Compute our shap values\n",
        "start = time.time()\n",
        "shap_values = bst.predict(dmat, pred_contribs=True)\n",
        "print(\"SHAP time {}\".format(time.time() - start))"
      ]
    },
    {
      "cell_type": "code",
      "execution_count": 20,
      "metadata": {
        "colab": {
          "base_uri": "https://localhost:8080/",
          "height": 621
        },
        "id": "nMyMemxOt1Fm",
        "outputId": "d3afc27d-c361-4724-d928-0411a9a9b2ad"
      },
      "outputs": [
        {
          "output_type": "display_data",
          "data": {
            "image/png": "[encoded data removed]",
            "text/plain": [
              "<Figure size 576x684 with 2 Axes>"
            ]
          },
          "metadata": {}
        },
        {
          "output_type": "stream",
          "name": "stdout",
          "text": [
            "Saving figure Shap\n"
          ]
        },
        {
          "output_type": "display_data",
          "data": {
            "text/plain": [
              "<Figure size 864x576 with 0 Axes>"
            ]
          },
          "metadata": {}
        }
      ],
      "source": [
        "import shap\n",
        "shap.summary_plot(shap_values[:,:-1], train)\n",
        "save_fig(\"Shap\")"
      ]
    },
    {
      "cell_type": "markdown",
      "metadata": {
        "id": "Ivh-JrjzEpBa"
      },
      "source": [
        "On the above diagram every client (instance/row in our dataset) is represented by one dot in each row. The x position of the dot is the impact of that feature on the model’s prediction, and the color of the dot represents the value of that feature for that exact employee. Dots that do not fit on the row pile up to show density."
      ]
    },
    {
      "cell_type": "markdown",
      "metadata": {
        "id": "mVDs9ZVLGTBR"
      },
      "source": [
        "https://www.kaggle.com/dansbecker/shap-values"
      ]
    },
    {
      "cell_type": "markdown",
      "metadata": {
        "id": "fIFXwRhZrHAI"
      },
      "source": [
        "## FOR ASSESMENT"
      ]
    },
    {
      "cell_type": "code",
      "execution_count": 89,
      "metadata": {
        "id": "Zpi7hMF0s_Rh"
      },
      "outputs": [],
      "source": [
        "pickle_in = open(path_pikcle + \"after_selection.pickle\", \"rb\")\n",
        "alg = pickle.load(pickle_in)"
      ]
    },
    {
      "cell_type": "code",
      "execution_count": 90,
      "metadata": {
        "id": "TxIJlW1Rndnv"
      },
      "outputs": [],
      "source": [
        "good_features = ['Mean_net_money_per_transaction',\n",
        " 'Std_net_money_per_transaction',\n",
        " 'Mean_spend_money_per_transaction',\n",
        " 'Mean_earn_money_per_transaction',\n",
        " 'Money_spend_std_per_transaction',\n",
        " 'Mean_earn_std_per_transaction',\n",
        " 'Money_earn_spend_ratio_per_transaction',\n",
        " 'ALL_money_net',\n",
        " 'ALL_money_spend',\n",
        " 'ALL_money_earn',\n",
        " 'ALL_money_spend_earn_ratio',\n",
        " 'Frequency_of_spending_all',\n",
        " 'Frequency_of_spending_per_week']"
      ]
    },
    {
      "cell_type": "code",
      "execution_count": 91,
      "metadata": {
        "id": "TgK6oBrvrGGU"
      },
      "outputs": [],
      "source": [
        "pickle_in = open(path_pikcle + \"list_encoded.pickle\", \"rb\")\n",
        "list_encoded = pickle.load(pickle_in)\n",
        "X_test_encod = list_encoded[\"X_test_encod\"][good_features]"
      ]
    },
    {
      "cell_type": "code",
      "execution_count": 92,
      "metadata": {
        "id": "c0Tsb1jstJJd"
      },
      "outputs": [],
      "source": [
        "result = alg.predict(X_test_encod)"
      ]
    },
    {
      "cell_type": "code",
      "execution_count": 93,
      "metadata": {
        "id": "Xl6rmr7wntIJ"
      },
      "outputs": [],
      "source": [
        "X_test_encod[\"gender\"] = result"
      ]
    },
    {
      "cell_type": "code",
      "execution_count": 94,
      "metadata": {
        "id": "KDz5wa_Dnypv",
        "colab": {
          "base_uri": "https://localhost:8080/",
          "height": 270
        },
        "outputId": "282fe5e1-6a7b-41ad-81a8-75ac8ae869a5"
      },
      "outputs": [
        {
          "output_type": "execute_result",
          "data": {
            "text/html": [
              "\n",
              "  <div id=\"df-220a2857-3fe9-461a-b1a1-7fadc682c6c2\">\n",
              "    <div class=\"colab-df-container\">\n",
              "      <div>\n",
              "<style scoped>\n",
              "    .dataframe tbody tr th:only-of-type {\n",
              "        vertical-align: middle;\n",
              "    }\n",
              "\n",
              "    .dataframe tbody tr th {\n",
              "        vertical-align: top;\n",
              "    }\n",
              "\n",
              "    .dataframe thead th {\n",
              "        text-align: right;\n",
              "    }\n",
              "</style>\n",
              "<table border=\"1\" class=\"dataframe\">\n",
              "  <thead>\n",
              "    <tr style=\"text-align: right;\">\n",
              "      <th></th>\n",
              "      <th>Mean_net_money_per_transaction</th>\n",
              "      <th>Std_net_money_per_transaction</th>\n",
              "      <th>Mean_spend_money_per_transaction</th>\n",
              "      <th>Mean_earn_money_per_transaction</th>\n",
              "      <th>Money_spend_std_per_transaction</th>\n",
              "      <th>Mean_earn_std_per_transaction</th>\n",
              "      <th>Money_earn_spend_ratio_per_transaction</th>\n",
              "      <th>ALL_money_net</th>\n",
              "      <th>ALL_money_spend</th>\n",
              "      <th>ALL_money_earn</th>\n",
              "      <th>ALL_money_spend_earn_ratio</th>\n",
              "      <th>Frequency_of_spending_all</th>\n",
              "      <th>Frequency_of_spending_per_week</th>\n",
              "      <th>gender</th>\n",
              "    </tr>\n",
              "  </thead>\n",
              "  <tbody>\n",
              "    <tr>\n",
              "      <th>1453476</th>\n",
              "      <td>-5528.561372</td>\n",
              "      <td>168370.985787</td>\n",
              "      <td>-17981.854409</td>\n",
              "      <td>451092.183333</td>\n",
              "      <td>29652.262014</td>\n",
              "      <td>990028.956041</td>\n",
              "      <td>15.212741</td>\n",
              "      <td>-1249454.87</td>\n",
              "      <td>-3956007.97</td>\n",
              "      <td>2706553.1</td>\n",
              "      <td>1.461641</td>\n",
              "      <td>226</td>\n",
              "      <td>32.285714</td>\n",
              "      <td>0.0</td>\n",
              "    </tr>\n",
              "    <tr>\n",
              "      <th>1453557</th>\n",
              "      <td>-5528.561372</td>\n",
              "      <td>168370.985787</td>\n",
              "      <td>-17981.854409</td>\n",
              "      <td>451092.183333</td>\n",
              "      <td>29652.262014</td>\n",
              "      <td>990028.956041</td>\n",
              "      <td>15.212741</td>\n",
              "      <td>-1249454.87</td>\n",
              "      <td>-3956007.97</td>\n",
              "      <td>2706553.1</td>\n",
              "      <td>1.461641</td>\n",
              "      <td>226</td>\n",
              "      <td>32.285714</td>\n",
              "      <td>0.0</td>\n",
              "    </tr>\n",
              "    <tr>\n",
              "      <th>1453556</th>\n",
              "      <td>-5528.561372</td>\n",
              "      <td>168370.985787</td>\n",
              "      <td>-17981.854409</td>\n",
              "      <td>451092.183333</td>\n",
              "      <td>29652.262014</td>\n",
              "      <td>990028.956041</td>\n",
              "      <td>15.212741</td>\n",
              "      <td>-1249454.87</td>\n",
              "      <td>-3956007.97</td>\n",
              "      <td>2706553.1</td>\n",
              "      <td>1.461641</td>\n",
              "      <td>226</td>\n",
              "      <td>32.285714</td>\n",
              "      <td>0.0</td>\n",
              "    </tr>\n",
              "    <tr>\n",
              "      <th>1453555</th>\n",
              "      <td>-5528.561372</td>\n",
              "      <td>168370.985787</td>\n",
              "      <td>-17981.854409</td>\n",
              "      <td>451092.183333</td>\n",
              "      <td>29652.262014</td>\n",
              "      <td>990028.956041</td>\n",
              "      <td>15.212741</td>\n",
              "      <td>-1249454.87</td>\n",
              "      <td>-3956007.97</td>\n",
              "      <td>2706553.1</td>\n",
              "      <td>1.461641</td>\n",
              "      <td>226</td>\n",
              "      <td>32.285714</td>\n",
              "      <td>0.0</td>\n",
              "    </tr>\n",
              "    <tr>\n",
              "      <th>1453554</th>\n",
              "      <td>-5528.561372</td>\n",
              "      <td>168370.985787</td>\n",
              "      <td>-17981.854409</td>\n",
              "      <td>451092.183333</td>\n",
              "      <td>29652.262014</td>\n",
              "      <td>990028.956041</td>\n",
              "      <td>15.212741</td>\n",
              "      <td>-1249454.87</td>\n",
              "      <td>-3956007.97</td>\n",
              "      <td>2706553.1</td>\n",
              "      <td>1.461641</td>\n",
              "      <td>226</td>\n",
              "      <td>32.285714</td>\n",
              "      <td>0.0</td>\n",
              "    </tr>\n",
              "  </tbody>\n",
              "</table>\n",
              "</div>\n",
              "      <button class=\"colab-df-convert\" onclick=\"convertToInteractive('df-220a2857-3fe9-461a-b1a1-7fadc682c6c2')\"\n",
              "              title=\"Convert this dataframe to an interactive table.\"\n",
              "              style=\"display:none;\">\n",
              "        \n",
              "  <svg xmlns=\"http://www.w3.org/2000/svg\" height=\"24px\"viewBox=\"0 0 24 24\"\n",
              "       width=\"24px\">\n",
              "    <path d=\"M0 0h24v24H0V0z\" fill=\"none\"/>\n",
              "    <path d=\"M18.56 5.44l.94 2.06.94-2.06 2.06-.94-2.06-.94-.94-2.06-.94 2.06-2.06.94zm-11 1L8.5 8.5l.94-2.06 2.06-.94-2.06-.94L8.5 2.5l-.94 2.06-2.06.94zm10 10l.94 2.06.94-2.06 2.06-.94-2.06-.94-.94-2.06-.94 2.06-2.06.94z\"/><path d=\"M17.41 7.96l-1.37-1.37c-.4-.4-.92-.59-1.43-.59-.52 0-1.04.2-1.43.59L10.3 9.45l-7.72 7.72c-.78.78-.78 2.05 0 2.83L4 21.41c.39.39.9.59 1.41.59.51 0 1.02-.2 1.41-.59l7.78-7.78 2.81-2.81c.8-.78.8-2.07 0-2.86zM5.41 20L4 18.59l7.72-7.72 1.47 1.35L5.41 20z\"/>\n",
              "  </svg>\n",
              "      </button>\n",
              "      \n",
              "  <style>\n",
              "    .colab-df-container {\n",
              "      display:flex;\n",
              "      flex-wrap:wrap;\n",
              "      gap: 12px;\n",
              "    }\n",
              "\n",
              "    .colab-df-convert {\n",
              "      background-color: #E8F0FE;\n",
              "      border: none;\n",
              "      border-radius: 50%;\n",
              "      cursor: pointer;\n",
              "      display: none;\n",
              "      fill: #1967D2;\n",
              "      height: 32px;\n",
              "      padding: 0 0 0 0;\n",
              "      width: 32px;\n",
              "    }\n",
              "\n",
              "    .colab-df-convert:hover {\n",
              "      background-color: #E2EBFA;\n",
              "      box-shadow: 0px 1px 2px rgba(60, 64, 67, 0.3), 0px 1px 3px 1px rgba(60, 64, 67, 0.15);\n",
              "      fill: #174EA6;\n",
              "    }\n",
              "\n",
              "    [theme=dark] .colab-df-convert {\n",
              "      background-color: #3B4455;\n",
              "      fill: #D2E3FC;\n",
              "    }\n",
              "\n",
              "    [theme=dark] .colab-df-convert:hover {\n",
              "      background-color: #434B5C;\n",
              "      box-shadow: 0px 1px 3px 1px rgba(0, 0, 0, 0.15);\n",
              "      filter: drop-shadow(0px 1px 2px rgba(0, 0, 0, 0.3));\n",
              "      fill: #FFFFFF;\n",
              "    }\n",
              "  </style>\n",
              "\n",
              "      <script>\n",
              "        const buttonEl =\n",
              "          document.querySelector('#df-220a2857-3fe9-461a-b1a1-7fadc682c6c2 button.colab-df-convert');\n",
              "        buttonEl.style.display =\n",
              "          google.colab.kernel.accessAllowed ? 'block' : 'none';\n",
              "\n",
              "        async function convertToInteractive(key) {\n",
              "          const element = document.querySelector('#df-220a2857-3fe9-461a-b1a1-7fadc682c6c2');\n",
              "          const dataTable =\n",
              "            await google.colab.kernel.invokeFunction('convertToInteractive',\n",
              "                                                     [key], {});\n",
              "          if (!dataTable) return;\n",
              "\n",
              "          const docLinkHtml = 'Like what you see? Visit the ' +\n",
              "            '<a target=\"_blank\" href=https://colab.research.google.com/notebooks/data_table.ipynb>data table notebook</a>'\n",
              "            + ' to learn more about interactive tables.';\n",
              "          element.innerHTML = '';\n",
              "          dataTable['output_type'] = 'display_data';\n",
              "          await google.colab.output.renderOutput(dataTable, element);\n",
              "          const docLink = document.createElement('div');\n",
              "          docLink.innerHTML = docLinkHtml;\n",
              "          element.appendChild(docLink);\n",
              "        }\n",
              "      </script>\n",
              "    </div>\n",
              "  </div>\n",
              "  "
            ],
            "text/plain": [
              "         Mean_net_money_per_transaction  ...  gender\n",
              "1453476                    -5528.561372  ...     0.0\n",
              "1453557                    -5528.561372  ...     0.0\n",
              "1453556                    -5528.561372  ...     0.0\n",
              "1453555                    -5528.561372  ...     0.0\n",
              "1453554                    -5528.561372  ...     0.0\n",
              "\n",
              "[5 rows x 14 columns]"
            ]
          },
          "metadata": {},
          "execution_count": 94
        }
      ],
      "source": [
        "X_test_encod.head()"
      ]
    },
    {
      "cell_type": "code",
      "execution_count": 95,
      "metadata": {
        "id": "sxPEzQz52QX0",
        "colab": {
          "base_uri": "https://localhost:8080/"
        },
        "outputId": "ada0fd02-505c-4fbc-f3aa-cfebb69ad836"
      },
      "outputs": [
        {
          "output_type": "execute_result",
          "data": {
            "text/plain": [
              "0.0    1849342\n",
              "1.0    1269290\n",
              "Name: gender, dtype: int64"
            ]
          },
          "metadata": {},
          "execution_count": 95
        }
      ],
      "source": [
        "X_test_encod[\"gender\"].value_counts()"
      ]
    },
    {
      "cell_type": "markdown",
      "metadata": {
        "id": "wezehG4fD0oY"
      },
      "source": [
        "## After tuning"
      ]
    },
    {
      "cell_type": "code",
      "execution_count": null,
      "metadata": {
        "id": "y8lNSVzHvSYq"
      },
      "outputs": [],
      "source": [
        "train = X_full_encod.drop([\"gender\"], axis = 1)[good_features]\n",
        "target = X_full_encod[\"gender\"]"
      ]
    },
    {
      "cell_type": "code",
      "execution_count": null,
      "metadata": {
        "id": "cEnU_JqnAp_J"
      },
      "outputs": [],
      "source": [
        "from sklearnex import patch_sklearn\n",
        "patch_sklearn(global_patch=True) # make learning a little bit faster\n",
        "\n",
        "from sklearn import tree\n",
        "\n",
        "cv_split = model_selection.KFold(n_splits = 4)\n",
        "alg = tree.DecisionTreeClassifier()\n",
        "\n",
        "#tune hyper-parameters: http://scikit-learn.org/stable/modules/generated/sklearn.tree.DecisionTreeClassifier.html#sklearn.tree.DecisionTreeClassifier\n",
        "param_grid = {'criterion': ['gini', 'entropy'],  #scoring methodology; two supported formulas for calculating information gain - default is gini\n",
        "              # 'splitter': ['best', 'random'], #splitting methodology; two supported strategies - default is best\n",
        "              'max_depth': [2,4,6,8,10,None], #max depth tree can grow; default is none\n",
        "              # 'min_samples_split': [2,5,10,.03,.05], #minimum subset size BEFORE new split (fraction is % of total); default is 2\n",
        "              'min_samples_leaf': [1,5,10,.03,.05], #minimum subset size AFTER new split split (fraction is % of total); default is 1\n",
        "              'max_features': [None, 'auto'], #max features to consider when performing split; default none or all\n",
        "              'random_state': [0] #seed or control random number generator: https://www.quora.com/What-is-seed-in-random-number-generation\n",
        "             }\n",
        "\n",
        "#print(list(model_selection.ParameterGrid(param_grid)))\n",
        "\n",
        "#choose best model with grid_search: #http://scikit-learn.org/stable/modules/grid_search.html#grid-search\n",
        "#http://scikit-learn.org/stable/auto_examples/model_selection/plot_grid_search_digits.html\n",
        "\n",
        "tune_model = model_selection.GridSearchCV(alg, param_grid=param_grid, cv  = cv_split, n_jobs = -1, scoring = \"roc_auc\", return_train_score=True, verbose=True)\n",
        "tune_model.fit(train, target)\n",
        "\n",
        "#print(tune_model.cv_results_.keys())\n",
        "#print(tune_model.cv_results_['params'])\n",
        "print('AFTER TUNING - Parameters: ', tune_model.best_params_)\n",
        "#print(tune_model.cv_results_['mean_train_score'])\n",
        "print(\"AFTER TUNING - Training score mean: {:.2f}\". format(tune_model.cv_results_['mean_train_score'][tune_model.best_index_]*100)) \n",
        "#print(tune_model.cv_results_['mean_test_score'])\n",
        "print(\"AFTER TUNING - Test score mean: {:.2f}\". format(tune_model.cv_results_['mean_test_score'][tune_model.best_index_]*100))\n",
        "print(\"AFTER TUNING - Test score 3*std: +/- {:.2f}\". format(tune_model.cv_results_['std_test_score'][tune_model.best_index_]*100*3))\n",
        "print('-'*10)"
      ]
    }
  ],
  "metadata": {
    "colab": {
      "collapsed_sections": [
        "DzoUIWFvQmbu",
        "YbemNPebmx9E",
        "1Kikaxn4mx9H",
        "Y8_jV9vHmx9I",
        "Rt63MHJIOsN2",
        "hlh-BKf1PrnF",
        "rbqHh0ehOyJe",
        "wapL248jPxA1",
        "SaQz-uMbAwrT",
        "SdS6MlrtaHhH",
        "yhDLYKmjAQ99",
        "pcrkFpkDQUU_",
        "HbkKGRZbGqHa",
        "C6i_drKEQCUk",
        "VtLP_Ws3znck",
        "UAsC0VNvmnzw",
        "FYFdk6nmd9IC",
        "d5aD660WReYW",
        "F36W8Ru8R3bI",
        "ulmD8tK9Cn8v",
        "hrLFliOHCwB2",
        "Blvk2niQbSxk",
        "IXVir3esiruN",
        "k-Sv_GdBRM8A",
        "VT-DGkb0CZj-",
        "adIHwn24gmHP",
        "T9PLdiKFiTq9",
        "mXft5mnbbihv",
        "ld9Z3pZIRqg9",
        "I6bMOmZP6XpO",
        "t1V4Ki8htTIk",
        "8ExDnaewDvgg",
        "cxApcDxlob4Z",
        "J6y1thCFWgDy",
        "fIFXwRhZrHAI",
        "wezehG4fD0oY"
      ],
      "name": "Transactions.ipynb",
      "toc_visible": true,
      "provenance": [],
      "mount_file_id": "1aHwLinBAGbD4z4Y0CsPAj0mPCcm8Hbdr",
      "authorship_tag": "ABX9TyMIE1rccbDtjZj03V/cgJEU",
      "include_colab_link": true
    },
    "kernelspec": {
      "display_name": "Python 3",
      "name": "python3"
    },
    "language_info": {
      "name": "python"
    }
  },
  "nbformat": 4,
  "nbformat_minor": 0
}