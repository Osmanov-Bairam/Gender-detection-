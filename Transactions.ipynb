{
  "cells": [
    {
      "cell_type": "markdown",
      "metadata": {
        "id": "view-in-github",
        "colab_type": "text"
      },
      "source": [
        "<a href=\"https://colab.research.google.com/github/Osmanov-Bairam/Gender-detection-/blob/main/Transactions.ipynb\" target=\"_parent\"><img src=\"https://colab.research.google.com/assets/colab-badge.svg\" alt=\"Open In Colab\"/></a>"
      ]
    },
    {
      "cell_type": "markdown",
      "metadata": {
        "id": "DzoUIWFvQmbu"
      },
      "source": [
        "# Define the problem"
      ]
    },
    {
      "cell_type": "markdown",
      "metadata": {
        "id": "YbemNPebmx9E"
      },
      "source": [
        "## Предсказание пола клиента\n",
        "\n",
        "### Необходимо выявить пол клиента, основываясь на его транзакционных исторических данных. В роли метрики качества выступает [ROC AUC](https://dyakonov.org/2017/07/28/auc-roc-%D0%BF%D0%BB%D0%BE%D1%89%D0%B0%D0%B4%D1%8C-%D0%BF%D0%BE%D0%B4-%D0%BA%D1%80%D0%B8%D0%B2%D0%BE%D0%B9-%D0%BE%D1%88%D0%B8%D0%B1%D0%BE%D0%BA/), который и нужно будет максимизировать."
      ]
    },
    {
      "cell_type": "markdown",
      "metadata": {
        "execution": {
          "iopub.execute_input": "2021-08-23T13:11:26.066752Z",
          "iopub.status.busy": "2021-08-23T13:11:26.065958Z",
          "iopub.status.idle": "2021-08-23T13:11:26.073084Z",
          "shell.execute_reply": "2021-08-23T13:11:26.072336Z",
          "shell.execute_reply.started": "2021-08-23T13:11:26.066698Z"
        },
        "id": "1Kikaxn4mx9H"
      },
      "source": [
        "## Описание файлов\n",
        "- transactions.csv - исторические транзакции банковских клиентов\n",
        "- gender.csv - информация по полу для части клиентов (null - для тестовых)\n",
        "- tr_mcc_codes.csv - mcc-коды транзакций\n",
        "- tr_types.csv - типы транзакций\n",
        "\n",
        "## Описание полей\n",
        "### transactions.csv\n",
        "- customer_id - идентификатор клиента\n",
        "- tr_datetime - день и время совершения транзакции (дни нумеруются с начала данных)\n",
        "- mcc_code - mcc-код транзакции\n",
        "- tr_type - тип транзакции\n",
        "- amount - сумма транзакции в условных единицах; со знаком \"+\" — начисление средств клиенту, \"-\" — списание средств\n",
        "- term_id - идентификатор терминала\n",
        "\n",
        "### gender.csv\n",
        "- customer_id - идентификатор клиента\n",
        "- gender - пол клиента (пустые значения - тестовые клиенты)\n",
        "\n",
        "### tr_mcc_codes.csv\n",
        "- mcc_code - mcc-код транзакции\n",
        "- mcc_description - описание mcc-кода транзакции\n",
        "\n",
        "### tr_types.csv\n",
        "- tr_type - тип транзакции\n",
        "- tr_description - описание типа транзакции"
      ]
    },
    {
      "cell_type": "markdown",
      "metadata": {
        "tags": [],
        "id": "Y8_jV9vHmx9I"
      },
      "source": [
        "## Задачи:\n",
        "- Разработать модель бинарной классификации для определения пола клиента. Никаких ограничений к модели - может быть что угодно от KNN до трансформеров. Главное, чтобы ROC AUC на отложенном тесте получился выше 77.5%.\n",
        "- Интерпретировать результаты модели: важность входящих в нее переменных, демонстрация на нескольких примерах, почему получился соответствующий прогноз. Последнее позволит понять, какой пол к какому из таргетов (0/1) принадлежит. Опять же, полная свобода выбора подходов! Полезные ключевые слова: gain, permutation importance, SHAP. \n",
        "- Конвертировать результаты в отчет без кода (идеально - напрямую в [html](https://stackoverflow.com/questions/49907455/hide-code-when-exporting-jupyter-notebook-to-html))\n",
        "\n",
        "#### P.S. Не забываем про [PEP8](https://www.python.org/dev/peps/pep-0008/)!"
      ]
    },
    {
      "cell_type": "markdown",
      "metadata": {
        "id": "Rt63MHJIOsN2"
      },
      "source": [
        "# Import libraries"
      ]
    },
    {
      "cell_type": "markdown",
      "metadata": {
        "id": "Ggf0ndL1sPpA"
      },
      "source": [
        "Imort and install all neccessery libraries"
      ]
    },
    {
      "cell_type": "code",
      "execution_count": 1,
      "metadata": {
        "id": "5gnkXAWLpEG1",
        "colab": {
          "base_uri": "https://localhost:8080/"
        },
        "outputId": "89e91c72-5937-47b3-8c10-2126b4038941"
      },
      "outputs": [
        {
          "output_type": "stream",
          "name": "stdout",
          "text": [
            "Requirement already satisfied: scikit-learn-intelex in /usr/local/lib/python3.7/dist-packages (2021.5.3)\n",
            "Requirement already satisfied: daal4py==2021.5.3 in /usr/local/lib/python3.7/dist-packages (from scikit-learn-intelex) (2021.5.3)\n",
            "Requirement already satisfied: scikit-learn>=0.22 in /usr/local/lib/python3.7/dist-packages (from scikit-learn-intelex) (1.0.2)\n",
            "Requirement already satisfied: numpy>=1.15 in /usr/local/lib/python3.7/dist-packages (from daal4py==2021.5.3->scikit-learn-intelex) (1.19.5)\n",
            "Requirement already satisfied: daal==2021.5.3 in /usr/local/lib/python3.7/dist-packages (from daal4py==2021.5.3->scikit-learn-intelex) (2021.5.3)\n",
            "Requirement already satisfied: tbb==2021.* in /usr/local/lib/python3.7/dist-packages (from daal==2021.5.3->daal4py==2021.5.3->scikit-learn-intelex) (2021.5.1)\n",
            "Requirement already satisfied: threadpoolctl>=2.0.0 in /usr/local/lib/python3.7/dist-packages (from scikit-learn>=0.22->scikit-learn-intelex) (3.1.0)\n",
            "Requirement already satisfied: scipy>=1.1.0 in /usr/local/lib/python3.7/dist-packages (from scikit-learn>=0.22->scikit-learn-intelex) (1.4.1)\n",
            "Requirement already satisfied: joblib>=0.11 in /usr/local/lib/python3.7/dist-packages (from scikit-learn>=0.22->scikit-learn-intelex) (1.1.0)\n"
          ]
        }
      ],
      "source": [
        "!pip install scikit-learn-intelex"
      ]
    },
    {
      "cell_type": "code",
      "execution_count": 2,
      "metadata": {
        "id": "5IhwNj_qpEuh",
        "colab": {
          "base_uri": "https://localhost:8080/"
        },
        "outputId": "03094683-9ccd-4f53-bf93-f138cd69cf25"
      },
      "outputs": [
        {
          "output_type": "stream",
          "name": "stdout",
          "text": [
            "Requirement already satisfied: catboost in /usr/local/lib/python3.7/dist-packages (1.0.4)\n",
            "Requirement already satisfied: scipy in /usr/local/lib/python3.7/dist-packages (from catboost) (1.4.1)\n",
            "Requirement already satisfied: matplotlib in /usr/local/lib/python3.7/dist-packages (from catboost) (3.2.2)\n",
            "Requirement already satisfied: six in /usr/local/lib/python3.7/dist-packages (from catboost) (1.15.0)\n",
            "Requirement already satisfied: numpy>=1.16.0 in /usr/local/lib/python3.7/dist-packages (from catboost) (1.19.5)\n",
            "Requirement already satisfied: plotly in /usr/local/lib/python3.7/dist-packages (from catboost) (5.5.0)\n",
            "Requirement already satisfied: pandas>=0.24.0 in /usr/local/lib/python3.7/dist-packages (from catboost) (1.3.5)\n",
            "Requirement already satisfied: graphviz in /usr/local/lib/python3.7/dist-packages (from catboost) (0.10.1)\n",
            "Requirement already satisfied: python-dateutil>=2.7.3 in /usr/local/lib/python3.7/dist-packages (from pandas>=0.24.0->catboost) (2.8.2)\n",
            "Requirement already satisfied: pytz>=2017.3 in /usr/local/lib/python3.7/dist-packages (from pandas>=0.24.0->catboost) (2018.9)\n",
            "Requirement already satisfied: pyparsing!=2.0.4,!=2.1.2,!=2.1.6,>=2.0.1 in /usr/local/lib/python3.7/dist-packages (from matplotlib->catboost) (3.0.7)\n",
            "Requirement already satisfied: kiwisolver>=1.0.1 in /usr/local/lib/python3.7/dist-packages (from matplotlib->catboost) (1.3.2)\n",
            "Requirement already satisfied: cycler>=0.10 in /usr/local/lib/python3.7/dist-packages (from matplotlib->catboost) (0.11.0)\n",
            "Requirement already satisfied: tenacity>=6.2.0 in /usr/local/lib/python3.7/dist-packages (from plotly->catboost) (8.0.1)\n"
          ]
        }
      ],
      "source": [
        "!pip install catboost"
      ]
    },
    {
      "cell_type": "code",
      "execution_count": 3,
      "metadata": {
        "id": "uTWFI94hzrv9",
        "colab": {
          "base_uri": "https://localhost:8080/"
        },
        "outputId": "e7b90fa1-aaf9-46a7-c55f-b335095e8d72"
      },
      "outputs": [
        {
          "output_type": "stream",
          "name": "stdout",
          "text": [
            "Requirement already satisfied: shap in /usr/local/lib/python3.7/dist-packages (0.40.0)\n",
            "Requirement already satisfied: packaging>20.9 in /usr/local/lib/python3.7/dist-packages (from shap) (21.3)\n",
            "Requirement already satisfied: scipy in /usr/local/lib/python3.7/dist-packages (from shap) (1.4.1)\n",
            "Requirement already satisfied: tqdm>4.25.0 in /usr/local/lib/python3.7/dist-packages (from shap) (4.62.3)\n",
            "Requirement already satisfied: slicer==0.0.7 in /usr/local/lib/python3.7/dist-packages (from shap) (0.0.7)\n",
            "Requirement already satisfied: scikit-learn in /usr/local/lib/python3.7/dist-packages (from shap) (1.0.2)\n",
            "Requirement already satisfied: numba in /usr/local/lib/python3.7/dist-packages (from shap) (0.51.2)\n",
            "Requirement already satisfied: cloudpickle in /usr/local/lib/python3.7/dist-packages (from shap) (1.3.0)\n",
            "Requirement already satisfied: numpy in /usr/local/lib/python3.7/dist-packages (from shap) (1.19.5)\n",
            "Requirement already satisfied: pandas in /usr/local/lib/python3.7/dist-packages (from shap) (1.3.5)\n",
            "Requirement already satisfied: pyparsing!=3.0.5,>=2.0.2 in /usr/local/lib/python3.7/dist-packages (from packaging>20.9->shap) (3.0.7)\n",
            "Requirement already satisfied: llvmlite<0.35,>=0.34.0.dev0 in /usr/local/lib/python3.7/dist-packages (from numba->shap) (0.34.0)\n",
            "Requirement already satisfied: setuptools in /usr/local/lib/python3.7/dist-packages (from numba->shap) (57.4.0)\n",
            "Requirement already satisfied: pytz>=2017.3 in /usr/local/lib/python3.7/dist-packages (from pandas->shap) (2018.9)\n",
            "Requirement already satisfied: python-dateutil>=2.7.3 in /usr/local/lib/python3.7/dist-packages (from pandas->shap) (2.8.2)\n",
            "Requirement already satisfied: six>=1.5 in /usr/local/lib/python3.7/dist-packages (from python-dateutil>=2.7.3->pandas->shap) (1.15.0)\n",
            "Requirement already satisfied: threadpoolctl>=2.0.0 in /usr/local/lib/python3.7/dist-packages (from scikit-learn->shap) (3.1.0)\n",
            "Requirement already satisfied: joblib>=0.11 in /usr/local/lib/python3.7/dist-packages (from scikit-learn->shap) (1.1.0)\n"
          ]
        }
      ],
      "source": [
        "!pip install shap"
      ]
    },
    {
      "cell_type": "code",
      "execution_count": 4,
      "metadata": {
        "id": "4G2i8Z_h92LP",
        "colab": {
          "base_uri": "https://localhost:8080/"
        },
        "outputId": "488b78b1-1d1e-4b22-9755-b58b0b206b4b"
      },
      "outputs": [
        {
          "output_type": "stream",
          "name": "stdout",
          "text": [
            "Requirement already satisfied: qgrid in /usr/local/lib/python3.7/dist-packages (1.3.1)\n",
            "Requirement already satisfied: pandas>=0.18.0 in /usr/local/lib/python3.7/dist-packages (from qgrid) (1.3.5)\n",
            "Requirement already satisfied: ipywidgets>=7.0.0 in /usr/local/lib/python3.7/dist-packages (from qgrid) (7.6.5)\n",
            "Requirement already satisfied: notebook>=4.0.0 in /usr/local/lib/python3.7/dist-packages (from qgrid) (5.3.1)\n",
            "Requirement already satisfied: traitlets>=4.3.1 in /usr/local/lib/python3.7/dist-packages (from ipywidgets>=7.0.0->qgrid) (5.1.1)\n",
            "Requirement already satisfied: nbformat>=4.2.0 in /usr/local/lib/python3.7/dist-packages (from ipywidgets>=7.0.0->qgrid) (5.1.3)\n",
            "Requirement already satisfied: jupyterlab-widgets>=1.0.0 in /usr/local/lib/python3.7/dist-packages (from ipywidgets>=7.0.0->qgrid) (1.0.2)\n",
            "Requirement already satisfied: ipython-genutils~=0.2.0 in /usr/local/lib/python3.7/dist-packages (from ipywidgets>=7.0.0->qgrid) (0.2.0)\n",
            "Requirement already satisfied: ipython>=4.0.0 in /usr/local/lib/python3.7/dist-packages (from ipywidgets>=7.0.0->qgrid) (5.5.0)\n",
            "Requirement already satisfied: ipykernel>=4.5.1 in /usr/local/lib/python3.7/dist-packages (from ipywidgets>=7.0.0->qgrid) (4.10.1)\n",
            "Requirement already satisfied: widgetsnbextension~=3.5.0 in /usr/local/lib/python3.7/dist-packages (from ipywidgets>=7.0.0->qgrid) (3.5.2)\n",
            "Requirement already satisfied: tornado>=4.0 in /usr/local/lib/python3.7/dist-packages (from ipykernel>=4.5.1->ipywidgets>=7.0.0->qgrid) (5.1.1)\n",
            "Requirement already satisfied: jupyter-client in /usr/local/lib/python3.7/dist-packages (from ipykernel>=4.5.1->ipywidgets>=7.0.0->qgrid) (5.3.5)\n",
            "Requirement already satisfied: setuptools>=18.5 in /usr/local/lib/python3.7/dist-packages (from ipython>=4.0.0->ipywidgets>=7.0.0->qgrid) (57.4.0)\n",
            "Requirement already satisfied: pickleshare in /usr/local/lib/python3.7/dist-packages (from ipython>=4.0.0->ipywidgets>=7.0.0->qgrid) (0.7.5)\n",
            "Requirement already satisfied: pexpect in /usr/local/lib/python3.7/dist-packages (from ipython>=4.0.0->ipywidgets>=7.0.0->qgrid) (4.8.0)\n",
            "Requirement already satisfied: pygments in /usr/local/lib/python3.7/dist-packages (from ipython>=4.0.0->ipywidgets>=7.0.0->qgrid) (2.6.1)\n",
            "Requirement already satisfied: decorator in /usr/local/lib/python3.7/dist-packages (from ipython>=4.0.0->ipywidgets>=7.0.0->qgrid) (4.4.2)\n",
            "Requirement already satisfied: simplegeneric>0.8 in /usr/local/lib/python3.7/dist-packages (from ipython>=4.0.0->ipywidgets>=7.0.0->qgrid) (0.8.1)\n",
            "Requirement already satisfied: prompt-toolkit<2.0.0,>=1.0.4 in /usr/local/lib/python3.7/dist-packages (from ipython>=4.0.0->ipywidgets>=7.0.0->qgrid) (1.0.18)\n",
            "Requirement already satisfied: jupyter-core in /usr/local/lib/python3.7/dist-packages (from nbformat>=4.2.0->ipywidgets>=7.0.0->qgrid) (4.9.1)\n",
            "Requirement already satisfied: jsonschema!=2.5.0,>=2.4 in /usr/local/lib/python3.7/dist-packages (from nbformat>=4.2.0->ipywidgets>=7.0.0->qgrid) (4.3.3)\n",
            "Requirement already satisfied: typing-extensions in /usr/local/lib/python3.7/dist-packages (from jsonschema!=2.5.0,>=2.4->nbformat>=4.2.0->ipywidgets>=7.0.0->qgrid) (3.10.0.2)\n",
            "Requirement already satisfied: pyrsistent!=0.17.0,!=0.17.1,!=0.17.2,>=0.14.0 in /usr/local/lib/python3.7/dist-packages (from jsonschema!=2.5.0,>=2.4->nbformat>=4.2.0->ipywidgets>=7.0.0->qgrid) (0.18.1)\n",
            "Requirement already satisfied: importlib-resources>=1.4.0 in /usr/local/lib/python3.7/dist-packages (from jsonschema!=2.5.0,>=2.4->nbformat>=4.2.0->ipywidgets>=7.0.0->qgrid) (5.4.0)\n",
            "Requirement already satisfied: importlib-metadata in /usr/local/lib/python3.7/dist-packages (from jsonschema!=2.5.0,>=2.4->nbformat>=4.2.0->ipywidgets>=7.0.0->qgrid) (4.10.1)\n",
            "Requirement already satisfied: attrs>=17.4.0 in /usr/local/lib/python3.7/dist-packages (from jsonschema!=2.5.0,>=2.4->nbformat>=4.2.0->ipywidgets>=7.0.0->qgrid) (21.4.0)\n",
            "Requirement already satisfied: zipp>=3.1.0 in /usr/local/lib/python3.7/dist-packages (from importlib-resources>=1.4.0->jsonschema!=2.5.0,>=2.4->nbformat>=4.2.0->ipywidgets>=7.0.0->qgrid) (3.7.0)\n",
            "Requirement already satisfied: Send2Trash in /usr/local/lib/python3.7/dist-packages (from notebook>=4.0.0->qgrid) (1.8.0)\n",
            "Requirement already satisfied: terminado>=0.8.1 in /usr/local/lib/python3.7/dist-packages (from notebook>=4.0.0->qgrid) (0.13.1)\n",
            "Requirement already satisfied: nbconvert in /usr/local/lib/python3.7/dist-packages (from notebook>=4.0.0->qgrid) (5.6.1)\n",
            "Requirement already satisfied: jinja2 in /usr/local/lib/python3.7/dist-packages (from notebook>=4.0.0->qgrid) (2.11.3)\n",
            "Requirement already satisfied: pyzmq>=13 in /usr/local/lib/python3.7/dist-packages (from jupyter-client->ipykernel>=4.5.1->ipywidgets>=7.0.0->qgrid) (22.3.0)\n",
            "Requirement already satisfied: python-dateutil>=2.1 in /usr/local/lib/python3.7/dist-packages (from jupyter-client->ipykernel>=4.5.1->ipywidgets>=7.0.0->qgrid) (2.8.2)\n",
            "Requirement already satisfied: numpy>=1.17.3 in /usr/local/lib/python3.7/dist-packages (from pandas>=0.18.0->qgrid) (1.19.5)\n",
            "Requirement already satisfied: pytz>=2017.3 in /usr/local/lib/python3.7/dist-packages (from pandas>=0.18.0->qgrid) (2018.9)\n",
            "Requirement already satisfied: six>=1.9.0 in /usr/local/lib/python3.7/dist-packages (from prompt-toolkit<2.0.0,>=1.0.4->ipython>=4.0.0->ipywidgets>=7.0.0->qgrid) (1.15.0)\n",
            "Requirement already satisfied: wcwidth in /usr/local/lib/python3.7/dist-packages (from prompt-toolkit<2.0.0,>=1.0.4->ipython>=4.0.0->ipywidgets>=7.0.0->qgrid) (0.2.5)\n",
            "Requirement already satisfied: ptyprocess in /usr/local/lib/python3.7/dist-packages (from terminado>=0.8.1->notebook>=4.0.0->qgrid) (0.7.0)\n",
            "Requirement already satisfied: MarkupSafe>=0.23 in /usr/local/lib/python3.7/dist-packages (from jinja2->notebook>=4.0.0->qgrid) (2.0.1)\n",
            "Requirement already satisfied: bleach in /usr/local/lib/python3.7/dist-packages (from nbconvert->notebook>=4.0.0->qgrid) (4.1.0)\n",
            "Requirement already satisfied: testpath in /usr/local/lib/python3.7/dist-packages (from nbconvert->notebook>=4.0.0->qgrid) (0.5.0)\n",
            "Requirement already satisfied: mistune<2,>=0.8.1 in /usr/local/lib/python3.7/dist-packages (from nbconvert->notebook>=4.0.0->qgrid) (0.8.4)\n",
            "Requirement already satisfied: pandocfilters>=1.4.1 in /usr/local/lib/python3.7/dist-packages (from nbconvert->notebook>=4.0.0->qgrid) (1.5.0)\n",
            "Requirement already satisfied: defusedxml in /usr/local/lib/python3.7/dist-packages (from nbconvert->notebook>=4.0.0->qgrid) (0.7.1)\n",
            "Requirement already satisfied: entrypoints>=0.2.2 in /usr/local/lib/python3.7/dist-packages (from nbconvert->notebook>=4.0.0->qgrid) (0.4)\n",
            "Requirement already satisfied: packaging in /usr/local/lib/python3.7/dist-packages (from bleach->nbconvert->notebook>=4.0.0->qgrid) (21.3)\n",
            "Requirement already satisfied: webencodings in /usr/local/lib/python3.7/dist-packages (from bleach->nbconvert->notebook>=4.0.0->qgrid) (0.5.1)\n",
            "Requirement already satisfied: pyparsing!=3.0.5,>=2.0.2 in /usr/local/lib/python3.7/dist-packages (from packaging->bleach->nbconvert->notebook>=4.0.0->qgrid) (3.0.7)\n"
          ]
        }
      ],
      "source": [
        "pip install qgrid"
      ]
    },
    {
      "cell_type": "code",
      "execution_count": 5,
      "metadata": {
        "colab": {
          "base_uri": "https://localhost:8080/"
        },
        "id": "I8vFy5nsTycz",
        "outputId": "7419b5f4-44cb-42c1-ad58-c0a6b2849875"
      },
      "outputs": [
        {
          "output_type": "stream",
          "name": "stdout",
          "text": [
            "Python version: 3.7.12 (default, Jan 15 2022, 18:48:18) \n",
            "[GCC 7.5.0]\n",
            "pandas version: 1.3.5\n",
            "matplotlib version: 3.2.2\n",
            "NumPy version: 1.19.5\n",
            "SciPy version: 1.4.1\n",
            "IPython version: 5.5.0\n",
            "scikit-learn version: 1.0.2\n",
            "-------------------------\n"
          ]
        },
        {
          "output_type": "stream",
          "name": "stderr",
          "text": [
            "Intel(R) Extension for Scikit-learn* enabled (https://github.com/intel/scikit-learn-intelex)\n"
          ]
        }
      ],
      "source": [
        "# load packages\n",
        "import sys #access to system parameters https://docs.python.org/3/library/sys.html\n",
        "print(\"Python version: {}\". format(sys.version))\n",
        "\n",
        "import pandas as pd #collection of functions for data processing and analysis modeled after R dataframes with SQL like features\n",
        "print(\"pandas version: {}\". format(pd.__version__))\n",
        "\n",
        "import matplotlib #collection of functions for scientific and publication-ready visualization\n",
        "print(\"matplotlib version: {}\". format(matplotlib.__version__))\n",
        "\n",
        "import numpy as np #foundational package for scientific computing\n",
        "print(\"NumPy version: {}\". format(np.__version__))\n",
        "\n",
        "import scipy as sp #collection of functions for scientific computing and advance mathematics\n",
        "print(\"SciPy version: {}\". format(sp.__version__)) \n",
        "\n",
        "import IPython\n",
        "from IPython import display #pretty printing of dataframes in Jupyter notebook\n",
        "print(\"IPython version: {}\". format(IPython.__version__)) \n",
        "\n",
        "import sklearn #collection of machine learning algorithms\n",
        "print(\"scikit-learn version: {}\". format(sklearn.__version__))\n",
        "\n",
        "# ignore warnings\n",
        "import warnings\n",
        "warnings.filterwarnings('ignore')\n",
        "print('-'*25)"
      ]
    },
    {
      "cell_type": "code",
      "execution_count": 6,
      "metadata": {
        "id": "E7NWTar-JLT2"
      },
      "outputs": [],
      "source": [
        "# other libraries\n",
        "import random\n",
        "import time\n",
        "import os\n",
        "import requests\n",
        "import collections\n",
        "import pickle\n",
        "from tqdm import tqdm"
      ]
    },
    {
      "cell_type": "code",
      "execution_count": 7,
      "metadata": {
        "id": "4WYN46uxW7Fh"
      },
      "outputs": [],
      "source": [
        "# Common Model Algorithms\n",
        "from sklearn import svm, tree, linear_model, neighbors, naive_bayes, ensemble, discriminant_analysis, gaussian_process\n",
        "from xgboost import XGBClassifier\n",
        "\n",
        "# Common Model Helpers\n",
        "from sklearn.preprocessing import OneHotEncoder, LabelEncoder\n",
        "from sklearn import feature_selection\n",
        "from sklearn import model_selection\n",
        "from sklearn import metrics\n",
        "from sklearn.pipeline import Pipeline\n",
        "\n",
        "# Uncommon Model Algorithms\n",
        "from catboost import CatBoostClassifier, Pool, metrics, cv\n",
        "from sklearn.metrics import accuracy_score\n",
        "from catboost import Pool\n",
        "\n",
        "# to split the datasets\n",
        "from sklearn.model_selection import train_test_split\n",
        "\n",
        "# Visualization\n",
        "import matplotlib as mpl\n",
        "import matplotlib.pyplot as plt\n",
        "import matplotlib.pylab as pylab\n",
        "import seaborn as sns\n",
        "\n",
        "# from pandas.tools.plotting import scatter_matrix\n",
        "import missingno as msno\n"
      ]
    },
    {
      "cell_type": "code",
      "execution_count": 8,
      "metadata": {
        "id": "oIyLU36of6BH",
        "colab": {
          "base_uri": "https://localhost:8080/"
        },
        "outputId": "58c8bbe7-be58-4260-9930-612d9fba2769"
      },
      "outputs": [
        {
          "output_type": "stream",
          "name": "stdout",
          "text": [
            "Requirement already satisfied: feature-engine in /usr/local/lib/python3.7/dist-packages (1.2.0)\n",
            "Requirement already satisfied: statsmodels>=0.11.1 in /usr/local/lib/python3.7/dist-packages (from feature-engine) (0.13.2)\n",
            "Requirement already satisfied: scipy>=1.4.1 in /usr/local/lib/python3.7/dist-packages (from feature-engine) (1.4.1)\n",
            "Requirement already satisfied: pandas>=1.0.3 in /usr/local/lib/python3.7/dist-packages (from feature-engine) (1.3.5)\n",
            "Requirement already satisfied: numpy>=1.18.2 in /usr/local/lib/python3.7/dist-packages (from feature-engine) (1.19.5)\n",
            "Requirement already satisfied: scikit-learn>=0.22.2 in /usr/local/lib/python3.7/dist-packages (from feature-engine) (1.0.2)\n",
            "Requirement already satisfied: python-dateutil>=2.7.3 in /usr/local/lib/python3.7/dist-packages (from pandas>=1.0.3->feature-engine) (2.8.2)\n",
            "Requirement already satisfied: pytz>=2017.3 in /usr/local/lib/python3.7/dist-packages (from pandas>=1.0.3->feature-engine) (2018.9)\n",
            "Requirement already satisfied: six>=1.5 in /usr/local/lib/python3.7/dist-packages (from python-dateutil>=2.7.3->pandas>=1.0.3->feature-engine) (1.15.0)\n",
            "Requirement already satisfied: threadpoolctl>=2.0.0 in /usr/local/lib/python3.7/dist-packages (from scikit-learn>=0.22.2->feature-engine) (3.1.0)\n",
            "Requirement already satisfied: joblib>=0.11 in /usr/local/lib/python3.7/dist-packages (from scikit-learn>=0.22.2->feature-engine) (1.1.0)\n",
            "Requirement already satisfied: patsy>=0.5.2 in /usr/local/lib/python3.7/dist-packages (from statsmodels>=0.11.1->feature-engine) (0.5.2)\n",
            "Requirement already satisfied: packaging>=21.3 in /usr/local/lib/python3.7/dist-packages (from statsmodels>=0.11.1->feature-engine) (21.3)\n",
            "Requirement already satisfied: pyparsing!=3.0.5,>=2.0.2 in /usr/local/lib/python3.7/dist-packages (from packaging>=21.3->statsmodels>=0.11.1->feature-engine) (3.0.7)\n"
          ]
        }
      ],
      "source": [
        "! pip install feature-engine"
      ]
    },
    {
      "cell_type": "code",
      "execution_count": 9,
      "metadata": {
        "id": "spEgseqAfyVx"
      },
      "outputs": [],
      "source": [
        "# from feature-engine\n",
        "from feature_engine.imputation import (\n",
        "    AddMissingIndicator,\n",
        "    RandomSampleImputer,\n",
        "    EndTailImputer,\n",
        "    CategoricalImputer\n",
        ")\n",
        "\n",
        "from feature_engine.encoding import CountFrequencyEncoder\n",
        "from feature_engine.discretisation import EqualWidthDiscretiser"
      ]
    },
    {
      "cell_type": "markdown",
      "metadata": {
        "id": "hlh-BKf1PrnF"
      },
      "source": [
        "# Presetting"
      ]
    },
    {
      "cell_type": "code",
      "execution_count": 10,
      "metadata": {
        "id": "IPZ1s-Xfor57"
      },
      "outputs": [],
      "source": [
        "# To plot pretty figures\n",
        "\n",
        "#%matplotlib inline = show plots in Jupyter Notebook browser\n",
        "%matplotlib inline\n",
        "\n",
        "mpl.style.use('ggplot')\n",
        "sns.set_style('white')\n",
        "pylab.rcParams['figure.figsize'] = 12,8\n",
        "\n",
        "mpl.rc('axes', labelsize=14)\n",
        "mpl.rc('xtick', labelsize=12)\n",
        "mpl.rc('ytick', labelsize=12)"
      ]
    },
    {
      "cell_type": "code",
      "execution_count": 11,
      "metadata": {
        "id": "ID-wy4uKUO8W",
        "colab": {
          "base_uri": "https://localhost:8080/"
        },
        "outputId": "6ef8bb76-13dd-408a-df64-2712afd336d3"
      },
      "outputs": [
        {
          "output_type": "stream",
          "name": "stdout",
          "text": [
            "Mounted at /content/gdrive\n"
          ]
        }
      ],
      "source": [
        "# Connect to google drive to get access to data\n",
        "\n",
        "from google.colab import drive\n",
        "drive.mount('/content/gdrive', force_remount=True)"
      ]
    },
    {
      "cell_type": "code",
      "execution_count": 12,
      "metadata": {
        "id": "qIJYirJdU_EC"
      },
      "outputs": [],
      "source": [
        "# Where to save the figures\n",
        "\n",
        "IMAGES_PATH = \"/content/gdrive/MyDrive/Projects/Assessment/Plots\"\n",
        "\n",
        "def save_fig(fig_id, tight_layout=True, fig_extension=\"png\", resolution=300):\n",
        "    path = os.path.join(IMAGES_PATH, fig_id + \".\" + fig_extension)\n",
        "    print(\"Saving figure\", fig_id)\n",
        "    if tight_layout:\n",
        "        plt.tight_layout()\n",
        "    plt.savefig(path, format=fig_extension, dpi=resolution)"
      ]
    },
    {
      "cell_type": "code",
      "execution_count": 13,
      "metadata": {
        "id": "qMuZY67ze_xE"
      },
      "outputs": [],
      "source": [
        "path_pikcle = \"/content/gdrive/MyDrive/Projects/Assessment/Pickles\""
      ]
    },
    {
      "cell_type": "markdown",
      "metadata": {
        "id": "rbqHh0ehOyJe"
      },
      "source": [
        "# Gather & Import the data"
      ]
    },
    {
      "cell_type": "code",
      "execution_count": null,
      "metadata": {
        "id": "PMo1hFQd6cqR"
      },
      "outputs": [],
      "source": [
        "# load dataset from google drive folders\n",
        "\n",
        "path_gender = \"/content/gdrive/MyDrive/Projects/Assessment/data/gender.csv\"\n",
        "path_tr_mcc_codes = \"/content/gdrive/MyDrive/Projects/Assessment/data/tr_mcc_codes.csv\"\n",
        "path_tr_types = \"/content/gdrive/MyDrive/Projects/Assessment/data/tr_types.csv\"\n",
        "path_transactions = \"/content/gdrive/MyDrive/Projects/Assessment/data/transactions.csv\"\n",
        "\n",
        "data_gender = pd.read_csv(path_gender)\n",
        "data_tr_mcc_codes = pd.read_csv(path_tr_mcc_codes, sep=';')\n",
        "data_tr_types = pd.read_csv(path_tr_types, sep=';')\n",
        "data_transactions = pd.read_csv(path_transactions, sep=',')"
      ]
    },
    {
      "cell_type": "markdown",
      "metadata": {
        "id": "wapL248jPxA1"
      },
      "source": [
        "# Meet and Greet Data"
      ]
    },
    {
      "cell_type": "markdown",
      "metadata": {
        "id": "2LxpS3AMtP2f"
      },
      "source": [
        "Let's familiarize ourselves with data"
      ]
    },
    {
      "cell_type": "code",
      "execution_count": null,
      "metadata": {
        "colab": {
          "base_uri": "https://localhost:8080/"
        },
        "id": "zgrRUMUu7jYD",
        "outputId": "87f171a2-125a-4027-8307-aa610ac3f94e"
      },
      "outputs": [
        {
          "output_type": "execute_result",
          "data": {
            "text/html": [
              "\n",
              "  <div id=\"df-d2f8cea3-e07d-438c-a34d-43922a7d3037\">\n",
              "    <div class=\"colab-df-container\">\n",
              "      <div>\n",
              "<style scoped>\n",
              "    .dataframe tbody tr th:only-of-type {\n",
              "        vertical-align: middle;\n",
              "    }\n",
              "\n",
              "    .dataframe tbody tr th {\n",
              "        vertical-align: top;\n",
              "    }\n",
              "\n",
              "    .dataframe thead th {\n",
              "        text-align: right;\n",
              "    }\n",
              "</style>\n",
              "<table border=\"1\" class=\"dataframe\">\n",
              "  <thead>\n",
              "    <tr style=\"text-align: right;\">\n",
              "      <th></th>\n",
              "      <th>customer_id</th>\n",
              "      <th>gender</th>\n",
              "    </tr>\n",
              "  </thead>\n",
              "  <tbody>\n",
              "    <tr>\n",
              "      <th>0</th>\n",
              "      <td>6740969</td>\n",
              "      <td>1.0</td>\n",
              "    </tr>\n",
              "    <tr>\n",
              "      <th>1</th>\n",
              "      <td>36599781</td>\n",
              "      <td>0.0</td>\n",
              "    </tr>\n",
              "    <tr>\n",
              "      <th>2</th>\n",
              "      <td>91453656</td>\n",
              "      <td>1.0</td>\n",
              "    </tr>\n",
              "  </tbody>\n",
              "</table>\n",
              "</div>\n",
              "      <button class=\"colab-df-convert\" onclick=\"convertToInteractive('df-d2f8cea3-e07d-438c-a34d-43922a7d3037')\"\n",
              "              title=\"Convert this dataframe to an interactive table.\"\n",
              "              style=\"display:none;\">\n",
              "        \n",
              "  <svg xmlns=\"http://www.w3.org/2000/svg\" height=\"24px\"viewBox=\"0 0 24 24\"\n",
              "       width=\"24px\">\n",
              "    <path d=\"M0 0h24v24H0V0z\" fill=\"none\"/>\n",
              "    <path d=\"M18.56 5.44l.94 2.06.94-2.06 2.06-.94-2.06-.94-.94-2.06-.94 2.06-2.06.94zm-11 1L8.5 8.5l.94-2.06 2.06-.94-2.06-.94L8.5 2.5l-.94 2.06-2.06.94zm10 10l.94 2.06.94-2.06 2.06-.94-2.06-.94-.94-2.06-.94 2.06-2.06.94z\"/><path d=\"M17.41 7.96l-1.37-1.37c-.4-.4-.92-.59-1.43-.59-.52 0-1.04.2-1.43.59L10.3 9.45l-7.72 7.72c-.78.78-.78 2.05 0 2.83L4 21.41c.39.39.9.59 1.41.59.51 0 1.02-.2 1.41-.59l7.78-7.78 2.81-2.81c.8-.78.8-2.07 0-2.86zM5.41 20L4 18.59l7.72-7.72 1.47 1.35L5.41 20z\"/>\n",
              "  </svg>\n",
              "      </button>\n",
              "      \n",
              "  <style>\n",
              "    .colab-df-container {\n",
              "      display:flex;\n",
              "      flex-wrap:wrap;\n",
              "      gap: 12px;\n",
              "    }\n",
              "\n",
              "    .colab-df-convert {\n",
              "      background-color: #E8F0FE;\n",
              "      border: none;\n",
              "      border-radius: 50%;\n",
              "      cursor: pointer;\n",
              "      display: none;\n",
              "      fill: #1967D2;\n",
              "      height: 32px;\n",
              "      padding: 0 0 0 0;\n",
              "      width: 32px;\n",
              "    }\n",
              "\n",
              "    .colab-df-convert:hover {\n",
              "      background-color: #E2EBFA;\n",
              "      box-shadow: 0px 1px 2px rgba(60, 64, 67, 0.3), 0px 1px 3px 1px rgba(60, 64, 67, 0.15);\n",
              "      fill: #174EA6;\n",
              "    }\n",
              "\n",
              "    [theme=dark] .colab-df-convert {\n",
              "      background-color: #3B4455;\n",
              "      fill: #D2E3FC;\n",
              "    }\n",
              "\n",
              "    [theme=dark] .colab-df-convert:hover {\n",
              "      background-color: #434B5C;\n",
              "      box-shadow: 0px 1px 3px 1px rgba(0, 0, 0, 0.15);\n",
              "      filter: drop-shadow(0px 1px 2px rgba(0, 0, 0, 0.3));\n",
              "      fill: #FFFFFF;\n",
              "    }\n",
              "  </style>\n",
              "\n",
              "      <script>\n",
              "        const buttonEl =\n",
              "          document.querySelector('#df-d2f8cea3-e07d-438c-a34d-43922a7d3037 button.colab-df-convert');\n",
              "        buttonEl.style.display =\n",
              "          google.colab.kernel.accessAllowed ? 'block' : 'none';\n",
              "\n",
              "        async function convertToInteractive(key) {\n",
              "          const element = document.querySelector('#df-d2f8cea3-e07d-438c-a34d-43922a7d3037');\n",
              "          const dataTable =\n",
              "            await google.colab.kernel.invokeFunction('convertToInteractive',\n",
              "                                                     [key], {});\n",
              "          if (!dataTable) return;\n",
              "\n",
              "          const docLinkHtml = 'Like what you see? Visit the ' +\n",
              "            '<a target=\"_blank\" href=https://colab.research.google.com/notebooks/data_table.ipynb>data table notebook</a>'\n",
              "            + ' to learn more about interactive tables.';\n",
              "          element.innerHTML = '';\n",
              "          dataTable['output_type'] = 'display_data';\n",
              "          await google.colab.output.renderOutput(dataTable, element);\n",
              "          const docLink = document.createElement('div');\n",
              "          docLink.innerHTML = docLinkHtml;\n",
              "          element.appendChild(docLink);\n",
              "        }\n",
              "      </script>\n",
              "    </div>\n",
              "  </div>\n",
              "  "
            ],
            "text/plain": [
              "   customer_id  gender\n",
              "0      6740969     1.0\n",
              "1     36599781     0.0\n",
              "2     91453656     1.0"
            ]
          },
          "metadata": {},
          "execution_count": 15
        }
      ],
      "source": [
        "data_gender.head(3)"
      ]
    },
    {
      "cell_type": "code",
      "source": [
        "data_gender.info()"
      ],
      "metadata": {
        "colab": {
          "base_uri": "https://localhost:8080/"
        },
        "id": "SCvYEh2m1Daj",
        "outputId": "9a1e2965-edad-4d77-a629-c6f8bc4e8312"
      },
      "execution_count": null,
      "outputs": [
        {
          "output_type": "stream",
          "name": "stdout",
          "text": [
            "<class 'pandas.core.frame.DataFrame'>\n",
            "RangeIndex: 12000 entries, 0 to 11999\n",
            "Data columns (total 2 columns):\n",
            " #   Column       Non-Null Count  Dtype  \n",
            "---  ------       --------------  -----  \n",
            " 0   customer_id  12000 non-null  int64  \n",
            " 1   gender       8400 non-null   float64\n",
            "dtypes: float64(1), int64(1)\n",
            "memory usage: 187.6 KB\n"
          ]
        }
      ]
    },
    {
      "cell_type": "code",
      "source": [
        "data_tr_mcc_codes.head(3)"
      ],
      "metadata": {
        "colab": {
          "base_uri": "https://localhost:8080/"
        },
        "id": "4rbZbbgCzQNq",
        "outputId": "38d08ca5-d16a-48b7-9b09-0a52ae653be4"
      },
      "execution_count": null,
      "outputs": [
        {
          "output_type": "execute_result",
          "data": {
            "text/html": [
              "\n",
              "  <div id=\"df-2133d6a7-252a-4156-82af-5bb18b929624\">\n",
              "    <div class=\"colab-df-container\">\n",
              "      <div>\n",
              "<style scoped>\n",
              "    .dataframe tbody tr th:only-of-type {\n",
              "        vertical-align: middle;\n",
              "    }\n",
              "\n",
              "    .dataframe tbody tr th {\n",
              "        vertical-align: top;\n",
              "    }\n",
              "\n",
              "    .dataframe thead th {\n",
              "        text-align: right;\n",
              "    }\n",
              "</style>\n",
              "<table border=\"1\" class=\"dataframe\">\n",
              "  <thead>\n",
              "    <tr style=\"text-align: right;\">\n",
              "      <th></th>\n",
              "      <th>mcc_code</th>\n",
              "      <th>mcc_description</th>\n",
              "    </tr>\n",
              "  </thead>\n",
              "  <tbody>\n",
              "    <tr>\n",
              "      <th>0</th>\n",
              "      <td>742</td>\n",
              "      <td>Ветеринарные услуги</td>\n",
              "    </tr>\n",
              "    <tr>\n",
              "      <th>1</th>\n",
              "      <td>1711</td>\n",
              "      <td>Генеральные подрядчики по вентиляции, теплосна...</td>\n",
              "    </tr>\n",
              "    <tr>\n",
              "      <th>2</th>\n",
              "      <td>1731</td>\n",
              "      <td>Подрядчики по электричеству</td>\n",
              "    </tr>\n",
              "  </tbody>\n",
              "</table>\n",
              "</div>\n",
              "      <button class=\"colab-df-convert\" onclick=\"convertToInteractive('df-2133d6a7-252a-4156-82af-5bb18b929624')\"\n",
              "              title=\"Convert this dataframe to an interactive table.\"\n",
              "              style=\"display:none;\">\n",
              "        \n",
              "  <svg xmlns=\"http://www.w3.org/2000/svg\" height=\"24px\"viewBox=\"0 0 24 24\"\n",
              "       width=\"24px\">\n",
              "    <path d=\"M0 0h24v24H0V0z\" fill=\"none\"/>\n",
              "    <path d=\"M18.56 5.44l.94 2.06.94-2.06 2.06-.94-2.06-.94-.94-2.06-.94 2.06-2.06.94zm-11 1L8.5 8.5l.94-2.06 2.06-.94-2.06-.94L8.5 2.5l-.94 2.06-2.06.94zm10 10l.94 2.06.94-2.06 2.06-.94-2.06-.94-.94-2.06-.94 2.06-2.06.94z\"/><path d=\"M17.41 7.96l-1.37-1.37c-.4-.4-.92-.59-1.43-.59-.52 0-1.04.2-1.43.59L10.3 9.45l-7.72 7.72c-.78.78-.78 2.05 0 2.83L4 21.41c.39.39.9.59 1.41.59.51 0 1.02-.2 1.41-.59l7.78-7.78 2.81-2.81c.8-.78.8-2.07 0-2.86zM5.41 20L4 18.59l7.72-7.72 1.47 1.35L5.41 20z\"/>\n",
              "  </svg>\n",
              "      </button>\n",
              "      \n",
              "  <style>\n",
              "    .colab-df-container {\n",
              "      display:flex;\n",
              "      flex-wrap:wrap;\n",
              "      gap: 12px;\n",
              "    }\n",
              "\n",
              "    .colab-df-convert {\n",
              "      background-color: #E8F0FE;\n",
              "      border: none;\n",
              "      border-radius: 50%;\n",
              "      cursor: pointer;\n",
              "      display: none;\n",
              "      fill: #1967D2;\n",
              "      height: 32px;\n",
              "      padding: 0 0 0 0;\n",
              "      width: 32px;\n",
              "    }\n",
              "\n",
              "    .colab-df-convert:hover {\n",
              "      background-color: #E2EBFA;\n",
              "      box-shadow: 0px 1px 2px rgba(60, 64, 67, 0.3), 0px 1px 3px 1px rgba(60, 64, 67, 0.15);\n",
              "      fill: #174EA6;\n",
              "    }\n",
              "\n",
              "    [theme=dark] .colab-df-convert {\n",
              "      background-color: #3B4455;\n",
              "      fill: #D2E3FC;\n",
              "    }\n",
              "\n",
              "    [theme=dark] .colab-df-convert:hover {\n",
              "      background-color: #434B5C;\n",
              "      box-shadow: 0px 1px 3px 1px rgba(0, 0, 0, 0.15);\n",
              "      filter: drop-shadow(0px 1px 2px rgba(0, 0, 0, 0.3));\n",
              "      fill: #FFFFFF;\n",
              "    }\n",
              "  </style>\n",
              "\n",
              "      <script>\n",
              "        const buttonEl =\n",
              "          document.querySelector('#df-2133d6a7-252a-4156-82af-5bb18b929624 button.colab-df-convert');\n",
              "        buttonEl.style.display =\n",
              "          google.colab.kernel.accessAllowed ? 'block' : 'none';\n",
              "\n",
              "        async function convertToInteractive(key) {\n",
              "          const element = document.querySelector('#df-2133d6a7-252a-4156-82af-5bb18b929624');\n",
              "          const dataTable =\n",
              "            await google.colab.kernel.invokeFunction('convertToInteractive',\n",
              "                                                     [key], {});\n",
              "          if (!dataTable) return;\n",
              "\n",
              "          const docLinkHtml = 'Like what you see? Visit the ' +\n",
              "            '<a target=\"_blank\" href=https://colab.research.google.com/notebooks/data_table.ipynb>data table notebook</a>'\n",
              "            + ' to learn more about interactive tables.';\n",
              "          element.innerHTML = '';\n",
              "          dataTable['output_type'] = 'display_data';\n",
              "          await google.colab.output.renderOutput(dataTable, element);\n",
              "          const docLink = document.createElement('div');\n",
              "          docLink.innerHTML = docLinkHtml;\n",
              "          element.appendChild(docLink);\n",
              "        }\n",
              "      </script>\n",
              "    </div>\n",
              "  </div>\n",
              "  "
            ],
            "text/plain": [
              "   mcc_code                                    mcc_description\n",
              "0       742                                Ветеринарные услуги\n",
              "1      1711  Генеральные подрядчики по вентиляции, теплосна...\n",
              "2      1731                        Подрядчики по электричеству"
            ]
          },
          "metadata": {},
          "execution_count": 17
        }
      ]
    },
    {
      "cell_type": "code",
      "source": [
        "data_tr_mcc_codes.info()"
      ],
      "metadata": {
        "colab": {
          "base_uri": "https://localhost:8080/"
        },
        "id": "6VPJOMRl04OD",
        "outputId": "dad1c11c-eafd-4359-fff6-29f8e875a0b5"
      },
      "execution_count": null,
      "outputs": [
        {
          "output_type": "stream",
          "name": "stdout",
          "text": [
            "<class 'pandas.core.frame.DataFrame'>\n",
            "RangeIndex: 184 entries, 0 to 183\n",
            "Data columns (total 2 columns):\n",
            " #   Column           Non-Null Count  Dtype \n",
            "---  ------           --------------  ----- \n",
            " 0   mcc_code         184 non-null    int64 \n",
            " 1   mcc_description  184 non-null    object\n",
            "dtypes: int64(1), object(1)\n",
            "memory usage: 3.0+ KB\n"
          ]
        }
      ]
    },
    {
      "cell_type": "code",
      "source": [
        "data_tr_types.head(10)"
      ],
      "metadata": {
        "colab": {
          "base_uri": "https://localhost:8080/"
        },
        "id": "jzlHI5RRzZa6",
        "outputId": "9274e57a-912e-425f-f461-aa59b5e7b00f"
      },
      "execution_count": null,
      "outputs": [
        {
          "output_type": "execute_result",
          "data": {
            "text/html": [
              "\n",
              "  <div id=\"df-6e5a67b3-b98b-4e2d-86e8-6c31cf227662\">\n",
              "    <div class=\"colab-df-container\">\n",
              "      <div>\n",
              "<style scoped>\n",
              "    .dataframe tbody tr th:only-of-type {\n",
              "        vertical-align: middle;\n",
              "    }\n",
              "\n",
              "    .dataframe tbody tr th {\n",
              "        vertical-align: top;\n",
              "    }\n",
              "\n",
              "    .dataframe thead th {\n",
              "        text-align: right;\n",
              "    }\n",
              "</style>\n",
              "<table border=\"1\" class=\"dataframe\">\n",
              "  <thead>\n",
              "    <tr style=\"text-align: right;\">\n",
              "      <th></th>\n",
              "      <th>tr_type</th>\n",
              "      <th>tr_description</th>\n",
              "    </tr>\n",
              "  </thead>\n",
              "  <tbody>\n",
              "    <tr>\n",
              "      <th>0</th>\n",
              "      <td>3200</td>\n",
              "      <td>Плата за предоставление услуг посредством моби...</td>\n",
              "    </tr>\n",
              "    <tr>\n",
              "      <th>1</th>\n",
              "      <td>3210</td>\n",
              "      <td>Плата за предоставление отчета по счету карты ...</td>\n",
              "    </tr>\n",
              "    <tr>\n",
              "      <th>2</th>\n",
              "      <td>3800</td>\n",
              "      <td>Плата за обслуживание банковской карты (за пер...</td>\n",
              "    </tr>\n",
              "    <tr>\n",
              "      <th>3</th>\n",
              "      <td>4000</td>\n",
              "      <td>Плата за получение наличных в Сбербанке</td>\n",
              "    </tr>\n",
              "    <tr>\n",
              "      <th>4</th>\n",
              "      <td>4001</td>\n",
              "      <td>Плата за получение наличных в Сбербанке (в дру...</td>\n",
              "    </tr>\n",
              "    <tr>\n",
              "      <th>5</th>\n",
              "      <td>4010</td>\n",
              "      <td>Плата за получение наличных в АТМ Сбербанка</td>\n",
              "    </tr>\n",
              "    <tr>\n",
              "      <th>6</th>\n",
              "      <td>4011</td>\n",
              "      <td>Плата за получение наличных в АТМ Сбербанка (в...</td>\n",
              "    </tr>\n",
              "    <tr>\n",
              "      <th>7</th>\n",
              "      <td>4020</td>\n",
              "      <td>Плата за получение наличных через POS в Сбербанке</td>\n",
              "    </tr>\n",
              "    <tr>\n",
              "      <th>8</th>\n",
              "      <td>4021</td>\n",
              "      <td>Плата за получение наличных через POS в Сберба...</td>\n",
              "    </tr>\n",
              "    <tr>\n",
              "      <th>9</th>\n",
              "      <td>4030</td>\n",
              "      <td>Плата за взнос наличных через АТМ (в своем тер...</td>\n",
              "    </tr>\n",
              "  </tbody>\n",
              "</table>\n",
              "</div>\n",
              "      <button class=\"colab-df-convert\" onclick=\"convertToInteractive('df-6e5a67b3-b98b-4e2d-86e8-6c31cf227662')\"\n",
              "              title=\"Convert this dataframe to an interactive table.\"\n",
              "              style=\"display:none;\">\n",
              "        \n",
              "  <svg xmlns=\"http://www.w3.org/2000/svg\" height=\"24px\"viewBox=\"0 0 24 24\"\n",
              "       width=\"24px\">\n",
              "    <path d=\"M0 0h24v24H0V0z\" fill=\"none\"/>\n",
              "    <path d=\"M18.56 5.44l.94 2.06.94-2.06 2.06-.94-2.06-.94-.94-2.06-.94 2.06-2.06.94zm-11 1L8.5 8.5l.94-2.06 2.06-.94-2.06-.94L8.5 2.5l-.94 2.06-2.06.94zm10 10l.94 2.06.94-2.06 2.06-.94-2.06-.94-.94-2.06-.94 2.06-2.06.94z\"/><path d=\"M17.41 7.96l-1.37-1.37c-.4-.4-.92-.59-1.43-.59-.52 0-1.04.2-1.43.59L10.3 9.45l-7.72 7.72c-.78.78-.78 2.05 0 2.83L4 21.41c.39.39.9.59 1.41.59.51 0 1.02-.2 1.41-.59l7.78-7.78 2.81-2.81c.8-.78.8-2.07 0-2.86zM5.41 20L4 18.59l7.72-7.72 1.47 1.35L5.41 20z\"/>\n",
              "  </svg>\n",
              "      </button>\n",
              "      \n",
              "  <style>\n",
              "    .colab-df-container {\n",
              "      display:flex;\n",
              "      flex-wrap:wrap;\n",
              "      gap: 12px;\n",
              "    }\n",
              "\n",
              "    .colab-df-convert {\n",
              "      background-color: #E8F0FE;\n",
              "      border: none;\n",
              "      border-radius: 50%;\n",
              "      cursor: pointer;\n",
              "      display: none;\n",
              "      fill: #1967D2;\n",
              "      height: 32px;\n",
              "      padding: 0 0 0 0;\n",
              "      width: 32px;\n",
              "    }\n",
              "\n",
              "    .colab-df-convert:hover {\n",
              "      background-color: #E2EBFA;\n",
              "      box-shadow: 0px 1px 2px rgba(60, 64, 67, 0.3), 0px 1px 3px 1px rgba(60, 64, 67, 0.15);\n",
              "      fill: #174EA6;\n",
              "    }\n",
              "\n",
              "    [theme=dark] .colab-df-convert {\n",
              "      background-color: #3B4455;\n",
              "      fill: #D2E3FC;\n",
              "    }\n",
              "\n",
              "    [theme=dark] .colab-df-convert:hover {\n",
              "      background-color: #434B5C;\n",
              "      box-shadow: 0px 1px 3px 1px rgba(0, 0, 0, 0.15);\n",
              "      filter: drop-shadow(0px 1px 2px rgba(0, 0, 0, 0.3));\n",
              "      fill: #FFFFFF;\n",
              "    }\n",
              "  </style>\n",
              "\n",
              "      <script>\n",
              "        const buttonEl =\n",
              "          document.querySelector('#df-6e5a67b3-b98b-4e2d-86e8-6c31cf227662 button.colab-df-convert');\n",
              "        buttonEl.style.display =\n",
              "          google.colab.kernel.accessAllowed ? 'block' : 'none';\n",
              "\n",
              "        async function convertToInteractive(key) {\n",
              "          const element = document.querySelector('#df-6e5a67b3-b98b-4e2d-86e8-6c31cf227662');\n",
              "          const dataTable =\n",
              "            await google.colab.kernel.invokeFunction('convertToInteractive',\n",
              "                                                     [key], {});\n",
              "          if (!dataTable) return;\n",
              "\n",
              "          const docLinkHtml = 'Like what you see? Visit the ' +\n",
              "            '<a target=\"_blank\" href=https://colab.research.google.com/notebooks/data_table.ipynb>data table notebook</a>'\n",
              "            + ' to learn more about interactive tables.';\n",
              "          element.innerHTML = '';\n",
              "          dataTable['output_type'] = 'display_data';\n",
              "          await google.colab.output.renderOutput(dataTable, element);\n",
              "          const docLink = document.createElement('div');\n",
              "          docLink.innerHTML = docLinkHtml;\n",
              "          element.appendChild(docLink);\n",
              "        }\n",
              "      </script>\n",
              "    </div>\n",
              "  </div>\n",
              "  "
            ],
            "text/plain": [
              "   tr_type                                     tr_description\n",
              "0     3200  Плата за предоставление услуг посредством моби...\n",
              "1     3210  Плата за предоставление отчета по счету карты ...\n",
              "2     3800  Плата за обслуживание банковской карты (за пер...\n",
              "3     4000            Плата за получение наличных в Сбербанке\n",
              "4     4001  Плата за получение наличных в Сбербанке (в дру...\n",
              "5     4010        Плата за получение наличных в АТМ Сбербанка\n",
              "6     4011  Плата за получение наличных в АТМ Сбербанка (в...\n",
              "7     4020  Плата за получение наличных через POS в Сбербанке\n",
              "8     4021  Плата за получение наличных через POS в Сберба...\n",
              "9     4030  Плата за взнос наличных через АТМ (в своем тер..."
            ]
          },
          "metadata": {},
          "execution_count": 19
        }
      ]
    },
    {
      "cell_type": "code",
      "source": [
        "data_tr_types.info()"
      ],
      "metadata": {
        "colab": {
          "base_uri": "https://localhost:8080/"
        },
        "id": "BIvAfy8F1R0T",
        "outputId": "5c94da43-015e-484c-944e-88803b097ab7"
      },
      "execution_count": null,
      "outputs": [
        {
          "output_type": "stream",
          "name": "stdout",
          "text": [
            "<class 'pandas.core.frame.DataFrame'>\n",
            "RangeIndex: 155 entries, 0 to 154\n",
            "Data columns (total 2 columns):\n",
            " #   Column          Non-Null Count  Dtype \n",
            "---  ------          --------------  ----- \n",
            " 0   tr_type         155 non-null    int64 \n",
            " 1   tr_description  155 non-null    object\n",
            "dtypes: int64(1), object(1)\n",
            "memory usage: 2.5+ KB\n"
          ]
        }
      ]
    },
    {
      "cell_type": "code",
      "source": [
        "data_transactions.head(3)"
      ],
      "metadata": {
        "colab": {
          "base_uri": "https://localhost:8080/"
        },
        "id": "pprWg2M4zk65",
        "outputId": "8c01592e-cd41-4e9b-abcc-76b3c056875c"
      },
      "execution_count": null,
      "outputs": [
        {
          "output_type": "execute_result",
          "data": {
            "text/html": [
              "\n",
              "  <div id=\"df-1cf246b4-3196-4a2e-bd34-9f19609769ea\">\n",
              "    <div class=\"colab-df-container\">\n",
              "      <div>\n",
              "<style scoped>\n",
              "    .dataframe tbody tr th:only-of-type {\n",
              "        vertical-align: middle;\n",
              "    }\n",
              "\n",
              "    .dataframe tbody tr th {\n",
              "        vertical-align: top;\n",
              "    }\n",
              "\n",
              "    .dataframe thead th {\n",
              "        text-align: right;\n",
              "    }\n",
              "</style>\n",
              "<table border=\"1\" class=\"dataframe\">\n",
              "  <thead>\n",
              "    <tr style=\"text-align: right;\">\n",
              "      <th></th>\n",
              "      <th>customer_id</th>\n",
              "      <th>tr_datetime</th>\n",
              "      <th>mcc_code</th>\n",
              "      <th>tr_type</th>\n",
              "      <th>amount</th>\n",
              "      <th>term_id</th>\n",
              "    </tr>\n",
              "  </thead>\n",
              "  <tbody>\n",
              "    <tr>\n",
              "      <th>0</th>\n",
              "      <td>39026145</td>\n",
              "      <td>0 10:23:26</td>\n",
              "      <td>4814</td>\n",
              "      <td>1030</td>\n",
              "      <td>-2245.92</td>\n",
              "      <td>NaN</td>\n",
              "    </tr>\n",
              "    <tr>\n",
              "      <th>1</th>\n",
              "      <td>39026145</td>\n",
              "      <td>1 10:19:29</td>\n",
              "      <td>6011</td>\n",
              "      <td>7010</td>\n",
              "      <td>56147.89</td>\n",
              "      <td>NaN</td>\n",
              "    </tr>\n",
              "    <tr>\n",
              "      <th>2</th>\n",
              "      <td>39026145</td>\n",
              "      <td>1 10:20:56</td>\n",
              "      <td>4829</td>\n",
              "      <td>2330</td>\n",
              "      <td>-56147.89</td>\n",
              "      <td>NaN</td>\n",
              "    </tr>\n",
              "  </tbody>\n",
              "</table>\n",
              "</div>\n",
              "      <button class=\"colab-df-convert\" onclick=\"convertToInteractive('df-1cf246b4-3196-4a2e-bd34-9f19609769ea')\"\n",
              "              title=\"Convert this dataframe to an interactive table.\"\n",
              "              style=\"display:none;\">\n",
              "        \n",
              "  <svg xmlns=\"http://www.w3.org/2000/svg\" height=\"24px\"viewBox=\"0 0 24 24\"\n",
              "       width=\"24px\">\n",
              "    <path d=\"M0 0h24v24H0V0z\" fill=\"none\"/>\n",
              "    <path d=\"M18.56 5.44l.94 2.06.94-2.06 2.06-.94-2.06-.94-.94-2.06-.94 2.06-2.06.94zm-11 1L8.5 8.5l.94-2.06 2.06-.94-2.06-.94L8.5 2.5l-.94 2.06-2.06.94zm10 10l.94 2.06.94-2.06 2.06-.94-2.06-.94-.94-2.06-.94 2.06-2.06.94z\"/><path d=\"M17.41 7.96l-1.37-1.37c-.4-.4-.92-.59-1.43-.59-.52 0-1.04.2-1.43.59L10.3 9.45l-7.72 7.72c-.78.78-.78 2.05 0 2.83L4 21.41c.39.39.9.59 1.41.59.51 0 1.02-.2 1.41-.59l7.78-7.78 2.81-2.81c.8-.78.8-2.07 0-2.86zM5.41 20L4 18.59l7.72-7.72 1.47 1.35L5.41 20z\"/>\n",
              "  </svg>\n",
              "      </button>\n",
              "      \n",
              "  <style>\n",
              "    .colab-df-container {\n",
              "      display:flex;\n",
              "      flex-wrap:wrap;\n",
              "      gap: 12px;\n",
              "    }\n",
              "\n",
              "    .colab-df-convert {\n",
              "      background-color: #E8F0FE;\n",
              "      border: none;\n",
              "      border-radius: 50%;\n",
              "      cursor: pointer;\n",
              "      display: none;\n",
              "      fill: #1967D2;\n",
              "      height: 32px;\n",
              "      padding: 0 0 0 0;\n",
              "      width: 32px;\n",
              "    }\n",
              "\n",
              "    .colab-df-convert:hover {\n",
              "      background-color: #E2EBFA;\n",
              "      box-shadow: 0px 1px 2px rgba(60, 64, 67, 0.3), 0px 1px 3px 1px rgba(60, 64, 67, 0.15);\n",
              "      fill: #174EA6;\n",
              "    }\n",
              "\n",
              "    [theme=dark] .colab-df-convert {\n",
              "      background-color: #3B4455;\n",
              "      fill: #D2E3FC;\n",
              "    }\n",
              "\n",
              "    [theme=dark] .colab-df-convert:hover {\n",
              "      background-color: #434B5C;\n",
              "      box-shadow: 0px 1px 3px 1px rgba(0, 0, 0, 0.15);\n",
              "      filter: drop-shadow(0px 1px 2px rgba(0, 0, 0, 0.3));\n",
              "      fill: #FFFFFF;\n",
              "    }\n",
              "  </style>\n",
              "\n",
              "      <script>\n",
              "        const buttonEl =\n",
              "          document.querySelector('#df-1cf246b4-3196-4a2e-bd34-9f19609769ea button.colab-df-convert');\n",
              "        buttonEl.style.display =\n",
              "          google.colab.kernel.accessAllowed ? 'block' : 'none';\n",
              "\n",
              "        async function convertToInteractive(key) {\n",
              "          const element = document.querySelector('#df-1cf246b4-3196-4a2e-bd34-9f19609769ea');\n",
              "          const dataTable =\n",
              "            await google.colab.kernel.invokeFunction('convertToInteractive',\n",
              "                                                     [key], {});\n",
              "          if (!dataTable) return;\n",
              "\n",
              "          const docLinkHtml = 'Like what you see? Visit the ' +\n",
              "            '<a target=\"_blank\" href=https://colab.research.google.com/notebooks/data_table.ipynb>data table notebook</a>'\n",
              "            + ' to learn more about interactive tables.';\n",
              "          element.innerHTML = '';\n",
              "          dataTable['output_type'] = 'display_data';\n",
              "          await google.colab.output.renderOutput(dataTable, element);\n",
              "          const docLink = document.createElement('div');\n",
              "          docLink.innerHTML = docLinkHtml;\n",
              "          element.appendChild(docLink);\n",
              "        }\n",
              "      </script>\n",
              "    </div>\n",
              "  </div>\n",
              "  "
            ],
            "text/plain": [
              "   customer_id tr_datetime  mcc_code  tr_type    amount term_id\n",
              "0     39026145  0 10:23:26      4814     1030  -2245.92     NaN\n",
              "1     39026145  1 10:19:29      6011     7010  56147.89     NaN\n",
              "2     39026145  1 10:20:56      4829     2330 -56147.89     NaN"
            ]
          },
          "metadata": {},
          "execution_count": 21
        }
      ]
    },
    {
      "cell_type": "code",
      "source": [
        "data_transactions.info()"
      ],
      "metadata": {
        "colab": {
          "base_uri": "https://localhost:8080/"
        },
        "id": "gYYQEJ1B1d1m",
        "outputId": "8fbd71a6-557b-41ed-a992-52c56116a8e5"
      },
      "execution_count": null,
      "outputs": [
        {
          "output_type": "stream",
          "name": "stdout",
          "text": [
            "<class 'pandas.core.frame.DataFrame'>\n",
            "RangeIndex: 6849346 entries, 0 to 6849345\n",
            "Data columns (total 6 columns):\n",
            " #   Column       Dtype  \n",
            "---  ------       -----  \n",
            " 0   customer_id  int64  \n",
            " 1   tr_datetime  object \n",
            " 2   mcc_code     int64  \n",
            " 3   tr_type      int64  \n",
            " 4   amount       float64\n",
            " 5   term_id      object \n",
            "dtypes: float64(1), int64(3), object(2)\n",
            "memory usage: 313.5+ MB\n"
          ]
        }
      ]
    },
    {
      "cell_type": "code",
      "execution_count": null,
      "metadata": {
        "colab": {
          "base_uri": "https://localhost:8080/"
        },
        "id": "Hk9yaFrR7zzO",
        "outputId": "d155a69f-6415-417d-b496-a4c8df1abf30"
      },
      "outputs": [
        {
          "output_type": "execute_result",
          "data": {
            "text/plain": [
              "0.0    4651\n",
              "1.0    3749\n",
              "Name: gender, dtype: int64"
            ]
          },
          "metadata": {},
          "execution_count": 23
        }
      ],
      "source": [
        "# data balance\n",
        "\n",
        "data_gender[\"gender\"].value_counts()"
      ]
    },
    {
      "cell_type": "markdown",
      "metadata": {
        "id": "SaQz-uMbAwrT"
      },
      "source": [
        "# Combine and Split the data"
      ]
    },
    {
      "cell_type": "code",
      "source": [
        "full_data = data_transactions.merge(data_gender, how = \"left\", on = \"customer_id\").copy()"
      ],
      "metadata": {
        "id": "adkdJvF_23q1"
      },
      "execution_count": null,
      "outputs": []
    },
    {
      "cell_type": "code",
      "source": [
        "# data_train - will be used for training and validation\n",
        "# data_val - will be used for data_train evaluation\n",
        "\n",
        "# full_data - will be used for final training \n",
        "# test_data - will be used for final training evaluation\n",
        "\n",
        "\n",
        "data = full_data[~full_data[\"gender\"].isnull()].sort_values(by=['customer_id'])\n",
        "data_test = full_data[full_data[\"gender\"].isnull()].sort_values(by=['customer_id'])"
      ],
      "metadata": {
        "id": "f--IlttE4rkG"
      },
      "execution_count": null,
      "outputs": []
    },
    {
      "cell_type": "code",
      "execution_count": null,
      "metadata": {
        "id": "nbTkMFeXGbF5"
      },
      "outputs": [],
      "source": [
        "# from sklearn.model_selection import StratifiedShuffleSplit\n",
        "# from sklearn.model_selection import KFold\n",
        "\n",
        "# split = KFold(n_splits=2)\n",
        "\n",
        "# for train_index, test_index in split.split(data, data[\"gender\"]):\n",
        "#   strat_train_set = data.iloc[train_index]\n",
        "#   strat_test_set = data.iloc[test_index]"
      ]
    },
    {
      "cell_type": "code",
      "execution_count": null,
      "metadata": {
        "id": "-MhoK3COdgd9"
      },
      "outputs": [],
      "source": [
        "# data_train = strat_train_set.copy(deep = True)\n",
        "# data_val = strat_test_set.copy(deep = True)"
      ]
    },
    {
      "cell_type": "code",
      "source": [
        "half_id = data[\"customer_id\"].unique()[int(data[\"customer_id\"].nunique()/2)]\n",
        "half_index = data[data[\"customer_id\"] == half_id].index[-1]"
      ],
      "metadata": {
        "id": "IfonefSq3Lwf"
      },
      "execution_count": null,
      "outputs": []
    },
    {
      "cell_type": "code",
      "source": [
        "data_train = data.loc[:half_index]\n",
        "data_val = data.loc[half_index:]\n",
        "data_full = data.copy()"
      ],
      "metadata": {
        "id": "SncaaJgh48Q7"
      },
      "execution_count": null,
      "outputs": []
    },
    {
      "cell_type": "code",
      "source": [
        "print(data_train.shape)\n",
        "print(data_val.shape)\n",
        "print(data_full.shape)\n",
        "print(data_test.shape)\n"
      ],
      "metadata": {
        "id": "O3vJChnY8dvG",
        "colab": {
          "base_uri": "https://localhost:8080/"
        },
        "outputId": "6100e30b-bc62-4dd9-a6ef-7985f4f7fdd9"
      },
      "execution_count": null,
      "outputs": [
        {
          "output_type": "stream",
          "name": "stdout",
          "text": [
            "(1860145, 7)\n",
            "(1870570, 7)\n",
            "(3730714, 7)\n",
            "(3118632, 7)\n"
          ]
        }
      ]
    },
    {
      "cell_type": "code",
      "source": [
        "# check - do we have the same clients in train and val set?\n",
        "\n",
        "list(set(data_val[\"customer_id\"].unique()) & set(data_train[\"customer_id\"].unique()))"
      ],
      "metadata": {
        "id": "P278wwdD9Wo6",
        "colab": {
          "base_uri": "https://localhost:8080/"
        },
        "outputId": "5973ec07-0bda-4e3b-d109-291057e7ec7a"
      },
      "execution_count": null,
      "outputs": [
        {
          "output_type": "execute_result",
          "data": {
            "text/plain": [
              "[49979298]"
            ]
          },
          "metadata": {},
          "execution_count": 22
        }
      ]
    },
    {
      "cell_type": "code",
      "source": [
        "# check - do we have the same clients in full train and test set?\n",
        "\n",
        "len(list(set(data_full[\"customer_id\"].unique()) & set(data_train[\"customer_id\"].unique())))"
      ],
      "metadata": {
        "id": "NQy-PJp01guR"
      },
      "execution_count": null,
      "outputs": []
    },
    {
      "cell_type": "code",
      "source": [
        "print(data_train[\"customer_id\"].nunique())\n",
        "print(data_val[\"customer_id\"].nunique())\n",
        "print(data_test[\"customer_id\"].nunique())\n",
        "print(full_data[\"customer_id\"].nunique())"
      ],
      "metadata": {
        "id": "h9IGNPGOXjoT",
        "colab": {
          "base_uri": "https://localhost:8080/"
        },
        "outputId": "ba0cdc3c-9d38-4127-87e6-be55dbee2680"
      },
      "execution_count": null,
      "outputs": [
        {
          "output_type": "stream",
          "name": "stdout",
          "text": [
            "4201\n",
            "4200\n",
            "6600\n",
            "15000\n"
          ]
        }
      ]
    },
    {
      "cell_type": "markdown",
      "metadata": {
        "id": "SdS6MlrtaHhH"
      },
      "source": [
        "# Research"
      ]
    },
    {
      "cell_type": "markdown",
      "metadata": {
        "id": "yhDLYKmjAQ99"
      },
      "source": [
        "## Research on fullness"
      ]
    },
    {
      "cell_type": "markdown",
      "metadata": {
        "id": "WmhOYiG3x7SG"
      },
      "source": [
        "**Let's check how many nulls we have in each column.**\n",
        "\n",
        "---\n",
        "\n"
      ]
    },
    {
      "cell_type": "code",
      "execution_count": null,
      "metadata": {
        "colab": {
          "base_uri": "https://localhost:8080/"
        },
        "id": "2IP0dhNd8EE1",
        "outputId": "33c5b543-014c-470a-cf9a-291d82fc5962"
      },
      "outputs": [
        {
          "output_type": "stream",
          "name": "stdout",
          "text": [
            "Saving figure Fullness of columns\n"
          ]
        },
        {
          "output_type": "display_data",
          "data": {
            "image/png": "[encoded data removed]",
            "text/plain": [
              "<Figure size 864x432 with 3 Axes>"
            ]
          },
          "metadata": {}
        }
      ],
      "source": [
        "# how much is null on columns level\n",
        "\n",
        "msno.bar(data_train, figsize=(12, 6), fontsize=12, color='steelblue', sort = \"ascending\");\n",
        "save_fig(\"Fullness of columns\")"
      ]
    },
    {
      "cell_type": "markdown",
      "metadata": {
        "id": "pcrkFpkDQUU_"
      },
      "source": [
        "# Data Imputation"
      ]
    },
    {
      "cell_type": "code",
      "execution_count": null,
      "metadata": {
        "id": "fzbd67-jgL3K"
      },
      "outputs": [],
      "source": [
        "imputed_list = {}"
      ]
    },
    {
      "cell_type": "markdown",
      "metadata": {
        "id": "HbkKGRZbGqHa"
      },
      "source": [
        "## Imputation technic №1\n",
        "\n",
        "---\n",
        "\n"
      ]
    },
    {
      "cell_type": "markdown",
      "metadata": {
        "id": "-jBbFEaOb300"
      },
      "source": [
        "Random sampling imputation is in principle similar to mean / median / mode imputation, in the sense that it aims to preserve the statistical parameters of the original variable, for which data is missing.\n",
        "\n",
        "Random sampling consist of taking a random observation from the pool of available observations of the variable, and using that randomly extracted value to fill the NA. In random sample imputation one takes as many random observations as missing values are present in the variable."
      ]
    },
    {
      "cell_type": "markdown",
      "metadata": {
        "id": "_8EZDKBtdDkL"
      },
      "source": [
        "We do not know whether data are missing at random or not. It is a good idea to replace missing observations by random value AND flag those missing observations as well with a Missing Indicator. A Missing Indicator is an additional binary variable, which indicates whether the data was missing for an observation (1) or not (0).\n",
        "\n"
      ]
    },
    {
      "cell_type": "code",
      "execution_count": null,
      "metadata": {
        "id": "vJlkzr7cgxaS"
      },
      "outputs": [],
      "source": [
        "pipe = Pipeline([\n",
        "    ('missing_ind', AddMissingIndicator()),\n",
        "\n",
        "    ('imputer_random', RandomSampleImputer(random_state = 42))\n",
        "])"
      ]
    },
    {
      "cell_type": "code",
      "execution_count": null,
      "metadata": {
        "id": "bJaD4UTDhJRt"
      },
      "outputs": [],
      "source": [
        "# pipe.fit(data_train)\n",
        "\n",
        "# imputed_train = pipe.transform(data_train)\n",
        "# imputed_val = pipe.transform(data_val)"
      ]
    },
    {
      "cell_type": "code",
      "source": [
        "pipe.fit(data_full)\n",
        "imputed_full = pipe.transform(data_full)\n",
        "imputed_test = pipe.transform(data_test)"
      ],
      "metadata": {
        "id": "UgWBq4otNaQm"
      },
      "execution_count": null,
      "outputs": []
    },
    {
      "cell_type": "code",
      "execution_count": null,
      "metadata": {
        "id": "2oiIDgjUbpip"
      },
      "outputs": [],
      "source": [
        "# # checking\n",
        "\n",
        "# print(\"Columns with missing values in train:\")\n",
        "# [feature for feature in imputed_full.columns if imputed_full.isnull().any()[feature] == True]"
      ]
    },
    {
      "cell_type": "code",
      "execution_count": null,
      "metadata": {
        "id": "rkOv6Jpl98cR"
      },
      "outputs": [],
      "source": [
        "# imputed_list[\"imputed_train\"] = imputed_train\n",
        "# imputed_list[\"imputed_val\"] = imputed_val\n",
        "\n",
        "imputed_list[\"imputed_full\"] = imputed_full\n",
        "imputed_list[\"imputed_test\"] = imputed_test"
      ]
    },
    {
      "cell_type": "markdown",
      "metadata": {
        "id": "C6i_drKEQCUk"
      },
      "source": [
        "# Feature construction"
      ]
    },
    {
      "cell_type": "markdown",
      "source": [
        "## Sampling"
      ],
      "metadata": {
        "id": "VtLP_Ws3znck"
      }
    },
    {
      "cell_type": "code",
      "source": [
        "# create a sample to make preliminary estimation fast \n",
        "\n",
        "data_sample = imputed_full.copy()\n",
        "\n",
        "data_sample[\"combined\"] = list(zip(data_sample[\"customer_id\"],\n",
        "                          data_sample[\"tr_datetime\"],\n",
        "                          data_sample[\"mcc_code\"],\n",
        "                          data_sample[\"tr_type\"],\n",
        "                          data_sample[\"amount\"],\n",
        "                          data_sample[\"term_id\"],\n",
        "                          data_sample[\"gender\"]))\n",
        "\n",
        "combined_weight = data_sample['combined'].value_counts(normalize=True)\n",
        "\n",
        "data_sample['combined_weight'] = data_sample['combined'].apply(lambda x: combined_weight[x])\n",
        "\n",
        "sample = data_sample.sample(100000, weights=data_sample['combined_weight']).drop([\"combined_weight\", \"combined\"], axis = 1)\n",
        "\n",
        "print(sample.shape)"
      ],
      "metadata": {
        "id": "3CyHwwCUwUDz",
        "colab": {
          "base_uri": "https://localhost:8080/"
        },
        "outputId": "6a7deb48-dd39-4ffa-ad11-0ce7b32d6d5d"
      },
      "execution_count": null,
      "outputs": [
        {
          "output_type": "stream",
          "name": "stdout",
          "text": [
            "(100000, 8)\n"
          ]
        }
      ]
    },
    {
      "cell_type": "code",
      "source": [
        "imputed_sample = sample.copy()"
      ],
      "metadata": {
        "id": "7QsS7Wt1M7sN"
      },
      "execution_count": null,
      "outputs": []
    },
    {
      "cell_type": "code",
      "source": [
        "imputed_list[\"imputed_sample\"] = imputed_sample"
      ],
      "metadata": {
        "id": "1Zm_pgMJ52qe"
      },
      "execution_count": null,
      "outputs": []
    },
    {
      "cell_type": "code",
      "source": [
        "imputed_sample.info()"
      ],
      "metadata": {
        "id": "i1Dx8ehWWPuR",
        "colab": {
          "base_uri": "https://localhost:8080/"
        },
        "outputId": "fbf11ff6-d752-408c-9258-791054a705c4"
      },
      "execution_count": null,
      "outputs": [
        {
          "output_type": "stream",
          "name": "stdout",
          "text": [
            "<class 'pandas.core.frame.DataFrame'>\n",
            "Int64Index: 100000 entries, 1863599 to 5670307\n",
            "Data columns (total 8 columns):\n",
            " #   Column       Non-Null Count   Dtype  \n",
            "---  ------       --------------   -----  \n",
            " 0   customer_id  100000 non-null  int64  \n",
            " 1   tr_datetime  100000 non-null  object \n",
            " 2   mcc_code     100000 non-null  int64  \n",
            " 3   tr_type      100000 non-null  int64  \n",
            " 4   amount       100000 non-null  float64\n",
            " 5   term_id      100000 non-null  object \n",
            " 6   gender       100000 non-null  float64\n",
            " 7   term_id_na   100000 non-null  int64  \n",
            "dtypes: float64(2), int64(4), object(2)\n",
            "memory usage: 6.9+ MB\n"
          ]
        }
      ]
    },
    {
      "cell_type": "markdown",
      "metadata": {
        "id": "UAsC0VNvmnzw"
      },
      "source": [
        "## Creating features\n"
      ]
    },
    {
      "cell_type": "code",
      "execution_count": null,
      "metadata": {
        "id": "d_rXipr8ljZ8"
      },
      "outputs": [],
      "source": [
        "def construct_features(data):\n",
        "\n",
        "  # random variable for filtering\n",
        "\n",
        "  data[\"Random_variable\"] = np.random.randint(1, 6, data.shape[0])\n",
        "  \n",
        "  # convert time data for the whole dataset first\n",
        "\n",
        "  splitted = data[\"tr_datetime\"].str.split(' ', expand = True)\n",
        "  data[\"Day\"] = pd.DataFrame(splitted[0]).astype(\"int64\")\n",
        "  data[\"Time\"] = pd.DataFrame(splitted[1].str.split(':', expand = True)[0]).astype(\"int64\")\n",
        "\n",
        "  # patterns\n",
        "\n",
        "  data[\"Mean_net_money_per_day\"] = data.groupby(['customer_id'])[\"amount\"].transform(\"mean\")\n",
        "  data[\"Std_net_money_per_day\"] = data.groupby(['customer_id'])[\"amount\"].transform(\"std\").fillna(0)\n",
        "\n",
        "\n",
        "  func = lambda x: x.values[0] if x[x < 0].count() == 1 else x[x < 0].mean()\n",
        "  data[\"Mean_spend_money_per_day\"] = data.groupby(['customer_id'])[\"amount\"].transform(func).fillna(0)\n",
        "  func = lambda x: x.values[0] if x[x > 0].count() == 1 else x[x > 0].mean()\n",
        "  data[\"Mean_earn_money_per_day\"] = data.groupby(['customer_id'])[\"amount\"].transform(func).fillna(0)\n",
        "\n",
        "  func = lambda x: x[x < 0].std()\n",
        "  data[\"Money_spend_std_per_day\"] = data.groupby(['customer_id'])[\"amount\"].transform(func).fillna(0)\n",
        "  func = lambda x: x[x > 0].std()\n",
        "  data[\"Mean_earn_std_per_day\"] = data.groupby(['customer_id'])[\"amount\"].transform(func).fillna(0)\n",
        "\n",
        "  data[\"Money_earn_spend_ratio_per_day\"] = (data[\"Mean_earn_money_per_day\"].abs() / data[\"Mean_spend_money_per_day\"].abs())\n",
        "  data[\"Money_earn_spend_ratio_per_day\"].replace(np.inf, 1000, inplace = True)\n",
        "\n",
        "  data[\"ALL_money_net\"] = data.groupby(['customer_id'])[\"amount\"].transform(\"sum\")\n",
        "\n",
        "  func = lambda x: x[x < 0].sum()\n",
        "  data[\"ALL_money_spend\"] = data.groupby(['customer_id'])[\"amount\"].transform(func).fillna(0)\n",
        "  func = lambda x: x[x > 0].sum()\n",
        "  data[\"ALL_money_earn\"] = data.groupby(['customer_id'])[\"amount\"].transform(func).fillna(0)\n",
        "\n",
        "  data[\"ALL_money_spend_earn_ratio\"] = (data[\"ALL_money_spend\"].abs() / data[\"ALL_money_earn\"].abs())\n",
        "  data[\"ALL_money_spend_earn_ratio\"].replace(np.inf, 1000, inplace = True)\n",
        "\n",
        "  data[\"Frequency_of_spending_per_day\"] =  data.groupby(['customer_id','Day'])['Day'].transform(\"count\")\n",
        "  data[\"Frequency_of_spending_all\"] =  data.groupby(['customer_id'])['Day'].transform(\"count\")\n",
        "  func = lambda x: (x.count()/7)\n",
        "  data[\"Frequency_of_spending_per_week\"] = data.groupby(['customer_id'])['Day'].transform(func)\n",
        "\n",
        "  data[\"Hours_std_transaction_per_day\"] = data.groupby(['customer_id','Day'])['Time'].transform(\"std\").fillna(0)\n",
        "\n",
        "  data[\"Terminal_habit\"] = data.groupby(['customer_id','term_id'])['term_id'].transform(\"count\").fillna(0)\n",
        "  data[\"Terminal_habit_sum_money\"] = data.groupby(['customer_id','term_id'])['amount'].transform(\"sum\").fillna(0)\n",
        "  data[\"Terminal_habit_money\"] =data.groupby(['customer_id','term_id'])['amount'].transform(\"mean\").fillna(0)\n",
        "\n",
        "  data[\"Service_habit\"] = data.groupby(['customer_id','tr_type'])['tr_type'].transform(\"count\").fillna(0)\n",
        "\n",
        "  data[\"Product_habit_frequency\"] = data.groupby(['customer_id','mcc_code'])['mcc_code'].transform(\"count\").fillna(0)\n",
        "  data[\"Product_habit_sum_money\"] = data.groupby(['customer_id','mcc_code'])['amount'].transform(\"sum\").fillna(0)\n",
        "  data[\"Product_habit_mean_money\"] = data.groupby(['customer_id','mcc_code'])['amount'].transform(\"mean\").fillna(0)\n",
        "\n",
        "  data[\"Random_variable\"] = np.random.randint(1, 6, data.shape[0])\n",
        "\n",
        "  print(\"Feature construction is completed\")"
      ]
    },
    {
      "cell_type": "markdown",
      "metadata": {
        "id": "FYFdk6nmd9IC"
      },
      "source": [
        "## Implement feature construction"
      ]
    },
    {
      "cell_type": "code",
      "execution_count": null,
      "metadata": {
        "id": "whMnrh7Q8TJZ",
        "colab": {
          "base_uri": "https://localhost:8080/"
        },
        "outputId": "6feef01c-dbe1-4acb-a45d-4a5a64f98aac"
      },
      "outputs": [
        {
          "output_type": "stream",
          "name": "stdout",
          "text": [
            "Feature construction is completed\n",
            "===========================================\n",
            "For imputed data imputed_full ALL features are created\n",
            "===========================================\n",
            "Feature construction is completed\n",
            "===========================================\n",
            "For imputed data imputed_test ALL features are created\n",
            "===========================================\n",
            "Feature construction is completed\n",
            "===========================================\n",
            "For imputed data imputed_sample ALL features are created\n",
            "===========================================\n"
          ]
        }
      ],
      "source": [
        "for key, value in imputed_list.items():\n",
        "  construct_features(value)\n",
        "  print(\"===========================================\")\n",
        "  print(f\"For imputed data {key} ALL features are created\")\n",
        "  print(\"===========================================\")"
      ]
    },
    {
      "cell_type": "code",
      "execution_count": null,
      "metadata": {
        "id": "WOIRgxtl99jn"
      },
      "outputs": [],
      "source": [
        "# # checking for null columns\n",
        "# for key, value in imputed_list.items():\n",
        "#   print(f\"Columns with missing values fot {key}:\")\n",
        "#   print([feature for feature in value.columns if value.isnull().any()[feature] == True])"
      ]
    },
    {
      "cell_type": "code",
      "source": [
        "cat_features = ['mcc_code', 'tr_type', 'term_id', 'term_id_na', 'Time']\n",
        "num_features = ['amount', \"Day\", 'Mean_net_money_per_day', 'Std_net_money_per_day',\n",
        "       'Mean_spend_money_per_day', 'Mean_earn_money_per_day',\n",
        "       'Money_spend_std_per_day', 'Mean_earn_std_per_day',\n",
        "       'Money_earn_spend_ratio_per_day', 'ALL_money_net', 'ALL_money_spend',\n",
        "       'ALL_money_earn', 'ALL_money_spend_earn_ratio',\n",
        "       'Frequency_of_spending_per_day', 'Frequency_of_spending_all',\n",
        "       'Frequency_of_spending_per_week', 'Hours_std_transaction_per_day']\n",
        "       \n",
        "filtered_features = cat_features + num_features\n",
        "\n",
        "\n",
        "#№ change type of cat_features        \n",
        "\n",
        "print('Всего столбцов', len(imputed_sample.columns))  \n",
        "print('Численных признаков', len(num_features))\n",
        "print('Категориальных признаков', len(cat_features))"
      ],
      "metadata": {
        "colab": {
          "base_uri": "https://localhost:8080/"
        },
        "id": "HCpHRIm9eDH_",
        "outputId": "c3465cd1-18d0-4fee-861a-49521a95fa40"
      },
      "execution_count": null,
      "outputs": [
        {
          "output_type": "stream",
          "name": "stdout",
          "text": [
            "Всего столбцов 33\n",
            "Численных признаков 17\n",
            "Категориальных признаков 5\n"
          ]
        }
      ]
    },
    {
      "cell_type": "code",
      "source": [
        "for key, value in imputed_list.items():\n",
        "  value[cat_features] = value[cat_features].astype(\"str\")"
      ],
      "metadata": {
        "id": "vOFSKL6KeLAK"
      },
      "execution_count": null,
      "outputs": []
    },
    {
      "cell_type": "code",
      "execution_count": null,
      "metadata": {
        "id": "BWDRiRUmtkGQ"
      },
      "outputs": [],
      "source": [
        "# save imputed data to skip imputation step in the future\n",
        "\n",
        "pickle_out = open(path_pikcle + \"imputed_list.pickle\", \"wb\")\n",
        "pickle.dump(imputed_list, pickle_out)\n",
        "pickle_out.close()"
      ]
    },
    {
      "cell_type": "markdown",
      "metadata": {
        "id": "d5aD660WReYW"
      },
      "source": [
        "# Exploratory Analysis with Statistics (In development)"
      ]
    },
    {
      "cell_type": "markdown",
      "metadata": {
        "id": "h4PekeCCzEJ9"
      },
      "source": [
        "As our data is cleaned, we will explore our data with descriptive and graphical statistics to describe and summarize our variables."
      ]
    },
    {
      "cell_type": "code",
      "source": [
        "imputed_sample.hist(bins = 50)"
      ],
      "metadata": {
        "colab": {
          "base_uri": "https://localhost:8080/"
        },
        "id": "04nkcG_mBE7V",
        "outputId": "d376fd0a-d146-49cf-d415-2b70011f36ce"
      },
      "execution_count": null,
      "outputs": [
        {
          "output_type": "execute_result",
          "data": {
            "text/plain": [
              "array([[<matplotlib.axes._subplots.AxesSubplot object at 0x7f3146330c10>,\n",
              "        <matplotlib.axes._subplots.AxesSubplot object at 0x7f314639b490>],\n",
              "       [<matplotlib.axes._subplots.AxesSubplot object at 0x7f3146386250>,\n",
              "        <matplotlib.axes._subplots.AxesSubplot object at 0x7f3146370f90>],\n",
              "       [<matplotlib.axes._subplots.AxesSubplot object at 0x7f31463dcd50>,\n",
              "        <matplotlib.axes._subplots.AxesSubplot object at 0x7f31463c6b10>]],\n",
              "      dtype=object)"
            ]
          },
          "metadata": {},
          "execution_count": 51
        },
        {
          "output_type": "display_data",
          "data": {
            "image/png": "[encoded data removed]",
            "text/plain": [
              "<Figure size 864x576 with 6 Axes>"
            ]
          },
          "metadata": {}
        }
      ]
    },
    {
      "cell_type": "markdown",
      "metadata": {
        "id": "F36W8Ru8R3bI"
      },
      "source": [
        "# Baseline model\n"
      ]
    },
    {
      "cell_type": "markdown",
      "metadata": {
        "id": "1CrwuZWbXUlz"
      },
      "source": [
        "Here I am going to use simple Decision tree model with simple imputation and and simple encoding"
      ]
    },
    {
      "cell_type": "markdown",
      "metadata": {
        "id": "ulmD8tK9Cn8v"
      },
      "source": [
        "### Categorical Encoding using Count or frequency encoding"
      ]
    },
    {
      "cell_type": "code",
      "execution_count": 18,
      "metadata": {
        "id": "aJ_7diezDGW7"
      },
      "outputs": [],
      "source": [
        "# load imputed data \n",
        "\n",
        "pickle_in = open(path_pikcle + \"imputed_list.pickle\", \"rb\")\n",
        "list_data = pickle.load(pickle_in)"
      ]
    },
    {
      "cell_type": "code",
      "source": [
        "list_data.keys()"
      ],
      "metadata": {
        "colab": {
          "base_uri": "https://localhost:8080/"
        },
        "id": "nJCOEoSi-M7m",
        "outputId": "b0727f0a-fc72-42b2-e57c-34641170501c"
      },
      "execution_count": 19,
      "outputs": [
        {
          "output_type": "execute_result",
          "data": {
            "text/plain": [
              "dict_keys(['imputed_full', 'imputed_test', 'imputed_sample'])"
            ]
          },
          "metadata": {},
          "execution_count": 19
        }
      ]
    },
    {
      "cell_type": "code",
      "source": [
        "# drop some variables\n",
        "data_sample = list_data[\"imputed_sample\"]"
      ],
      "metadata": {
        "id": "b1Jq9MS4_dEz"
      },
      "execution_count": 20,
      "outputs": []
    },
    {
      "cell_type": "markdown",
      "metadata": {
        "id": "UsJv6RocCn8w"
      },
      "source": [
        "In count encoding we replace the categories by the count of the observations that show that category in the dataset.\n",
        "\n",
        "The assumption of this technique is that the number observations shown by each variable is somewhat informative of the predictive power of the category."
      ]
    },
    {
      "cell_type": "markdown",
      "metadata": {
        "id": "eEF83OIGCn8w"
      },
      "source": [
        "Disadvantages\n",
        "\n",
        "If 2 different categories appear the same amount of times in the dataset, that is, they appear in the same number of observations, they will be replaced by the same number: may lose valuable information."
      ]
    },
    {
      "cell_type": "code",
      "execution_count": 21,
      "metadata": {
        "id": "jEGffYnxz6aD"
      },
      "outputs": [],
      "source": [
        "# find categorical variables\n",
        "# those of type 'Object' in the dataset\n",
        "features_categorical =  [c for c in data_sample.columns if data_sample[c].dtypes=='O']"
      ]
    },
    {
      "cell_type": "code",
      "execution_count": 22,
      "metadata": {
        "colab": {
          "base_uri": "https://localhost:8080/"
        },
        "id": "k03y-m-hCn8w",
        "outputId": "608b7ffb-4561-4e78-e842-075d7afd0cd5"
      },
      "outputs": [
        {
          "output_type": "execute_result",
          "data": {
            "text/plain": [
              "CountFrequencyEncoder(encoding_method='frequency',\n",
              "                      variables=['tr_datetime', 'mcc_code', 'tr_type',\n",
              "                                 'term_id', 'term_id_na', 'Time'])"
            ]
          },
          "metadata": {},
          "execution_count": 22
        }
      ],
      "source": [
        "count_enc = CountFrequencyEncoder(\n",
        "    encoding_method='frequency',\n",
        "    variables=features_categorical)\n",
        "\n",
        "count_enc.fit(data_sample)"
      ]
    },
    {
      "cell_type": "code",
      "execution_count": 23,
      "metadata": {
        "id": "KPlaC_4HCn8x"
      },
      "outputs": [],
      "source": [
        "# perform encoding\n",
        "\n",
        "X_sample = count_enc.transform(data_sample)"
      ]
    },
    {
      "cell_type": "markdown",
      "metadata": {
        "id": "aAhYEsuN_2km"
      },
      "source": [
        "Here we will create new features manually. There is a way to do that using nueral networks automatically. But we will not consider that approach in this notebook."
      ]
    },
    {
      "cell_type": "code",
      "source": [
        "X_sample.columns"
      ],
      "metadata": {
        "colab": {
          "base_uri": "https://localhost:8080/"
        },
        "id": "Hgc-O4KzkPv4",
        "outputId": "3ab8d4d6-db9a-4c6d-d383-582df114ef6f"
      },
      "execution_count": 24,
      "outputs": [
        {
          "output_type": "execute_result",
          "data": {
            "text/plain": [
              "Index(['customer_id', 'tr_datetime', 'mcc_code', 'tr_type', 'amount',\n",
              "       'term_id', 'gender', 'term_id_na', 'Random_variable', 'Day', 'Time',\n",
              "       'Mean_net_money_per_day', 'Std_net_money_per_day',\n",
              "       'Mean_spend_money_per_day', 'Mean_earn_money_per_day',\n",
              "       'Money_spend_std_per_day', 'Mean_earn_std_per_day',\n",
              "       'Money_earn_spend_ratio_per_day', 'ALL_money_net', 'ALL_money_spend',\n",
              "       'ALL_money_earn', 'ALL_money_spend_earn_ratio',\n",
              "       'Frequency_of_spending_per_day', 'Frequency_of_spending_all',\n",
              "       'Frequency_of_spending_per_week', 'Hours_std_transaction_per_day',\n",
              "       'Terminal_habit', 'Terminal_habit_sum_money', 'Terminal_habit_money',\n",
              "       'Service_habit', 'Product_habit_frequency', 'Product_habit_sum_money',\n",
              "       'Product_habit_mean_money'],\n",
              "      dtype='object')"
            ]
          },
          "metadata": {},
          "execution_count": 24
        }
      ]
    },
    {
      "cell_type": "markdown",
      "metadata": {
        "id": "hrLFliOHCwB2"
      },
      "source": [
        "## Fitting with base classification algorithms"
      ]
    },
    {
      "cell_type": "code",
      "execution_count": 25,
      "metadata": {
        "colab": {
          "base_uri": "https://localhost:8080/"
        },
        "id": "CD1jWni5Cn8x",
        "outputId": "35349ab7-6c9b-42e8-8d85-6bf0f5bd99bb"
      },
      "outputs": [
        {
          "output_type": "stream",
          "name": "stdout",
          "text": [
            "<class 'pandas.core.frame.DataFrame'>\n",
            "Int64Index: 100000 entries, 1863599 to 5670307\n",
            "Data columns (total 33 columns):\n",
            " #   Column                          Non-Null Count   Dtype  \n",
            "---  ------                          --------------   -----  \n",
            " 0   customer_id                     100000 non-null  int64  \n",
            " 1   tr_datetime                     100000 non-null  float64\n",
            " 2   mcc_code                        100000 non-null  float64\n",
            " 3   tr_type                         100000 non-null  float64\n",
            " 4   amount                          100000 non-null  float64\n",
            " 5   term_id                         100000 non-null  float64\n",
            " 6   gender                          100000 non-null  float64\n",
            " 7   term_id_na                      100000 non-null  float64\n",
            " 8   Random_variable                 100000 non-null  int64  \n",
            " 9   Day                             100000 non-null  int64  \n",
            " 10  Time                            100000 non-null  float64\n",
            " 11  Mean_net_money_per_day          100000 non-null  float64\n",
            " 12  Std_net_money_per_day           100000 non-null  float64\n",
            " 13  Mean_spend_money_per_day        100000 non-null  float64\n",
            " 14  Mean_earn_money_per_day         100000 non-null  float64\n",
            " 15  Money_spend_std_per_day         100000 non-null  float64\n",
            " 16  Mean_earn_std_per_day           100000 non-null  float64\n",
            " 17  Money_earn_spend_ratio_per_day  100000 non-null  float64\n",
            " 18  ALL_money_net                   100000 non-null  float64\n",
            " 19  ALL_money_spend                 100000 non-null  float64\n",
            " 20  ALL_money_earn                  100000 non-null  float64\n",
            " 21  ALL_money_spend_earn_ratio      100000 non-null  float64\n",
            " 22  Frequency_of_spending_per_day   100000 non-null  int64  \n",
            " 23  Frequency_of_spending_all       100000 non-null  int64  \n",
            " 24  Frequency_of_spending_per_week  100000 non-null  float64\n",
            " 25  Hours_std_transaction_per_day   100000 non-null  float64\n",
            " 26  Terminal_habit                  100000 non-null  int64  \n",
            " 27  Terminal_habit_sum_money        100000 non-null  float64\n",
            " 28  Terminal_habit_money            100000 non-null  float64\n",
            " 29  Service_habit                   100000 non-null  int64  \n",
            " 30  Product_habit_frequency         100000 non-null  int64  \n",
            " 31  Product_habit_sum_money         100000 non-null  float64\n",
            " 32  Product_habit_mean_money        100000 non-null  float64\n",
            "dtypes: float64(25), int64(8)\n",
            "memory usage: 25.9 MB\n"
          ]
        }
      ],
      "source": [
        "# check for presence of object type columns\n",
        "X_sample.info()"
      ]
    },
    {
      "cell_type": "code",
      "execution_count": 28,
      "metadata": {
        "colab": {
          "base_uri": "https://localhost:8080/",
          "height": 133
        },
        "id": "gt2Jxo5qCwB4",
        "outputId": "ffdace6a-0754-49ae-9df9-78289a22b28a"
      },
      "outputs": [
        {
          "output_type": "stream",
          "name": "stderr",
          "text": [
            "[Parallel(n_jobs=-1)]: Using backend LokyBackend with 2 concurrent workers.\n",
            "[Parallel(n_jobs=-1)]: Done   4 out of   4 | elapsed:   10.1s finished\n"
          ]
        },
        {
          "output_type": "stream",
          "name": "stdout",
          "text": [
            "Model DecisionTreeClassifier is trained\n"
          ]
        },
        {
          "output_type": "execute_result",
          "data": {
            "text/html": [
              "\n",
              "  <div id=\"df-02757553-2b8e-497a-8ce3-e9768186131c\">\n",
              "    <div class=\"colab-df-container\">\n",
              "      <div>\n",
              "<style scoped>\n",
              "    .dataframe tbody tr th:only-of-type {\n",
              "        vertical-align: middle;\n",
              "    }\n",
              "\n",
              "    .dataframe tbody tr th {\n",
              "        vertical-align: top;\n",
              "    }\n",
              "\n",
              "    .dataframe thead th {\n",
              "        text-align: right;\n",
              "    }\n",
              "</style>\n",
              "<table border=\"1\" class=\"dataframe\">\n",
              "  <thead>\n",
              "    <tr style=\"text-align: right;\">\n",
              "      <th></th>\n",
              "      <th>MLA Name</th>\n",
              "      <th>MLA Parameters</th>\n",
              "      <th>MLA Train Accuracy Mean</th>\n",
              "      <th>MLA Test Accuracy Mean</th>\n",
              "      <th>MLA Test Accuracy 3*STD</th>\n",
              "      <th>MLA Time</th>\n",
              "    </tr>\n",
              "  </thead>\n",
              "  <tbody>\n",
              "    <tr>\n",
              "      <th>0</th>\n",
              "      <td>DecisionTreeClassifier</td>\n",
              "      <td>{'ccp_alpha': 0.0, 'class_weight': None, 'crit...</td>\n",
              "      <td>1.0</td>\n",
              "      <td>0.975508</td>\n",
              "      <td>0.03899</td>\n",
              "      <td>4.860698</td>\n",
              "    </tr>\n",
              "  </tbody>\n",
              "</table>\n",
              "</div>\n",
              "      <button class=\"colab-df-convert\" onclick=\"convertToInteractive('df-02757553-2b8e-497a-8ce3-e9768186131c')\"\n",
              "              title=\"Convert this dataframe to an interactive table.\"\n",
              "              style=\"display:none;\">\n",
              "        \n",
              "  <svg xmlns=\"http://www.w3.org/2000/svg\" height=\"24px\"viewBox=\"0 0 24 24\"\n",
              "       width=\"24px\">\n",
              "    <path d=\"M0 0h24v24H0V0z\" fill=\"none\"/>\n",
              "    <path d=\"M18.56 5.44l.94 2.06.94-2.06 2.06-.94-2.06-.94-.94-2.06-.94 2.06-2.06.94zm-11 1L8.5 8.5l.94-2.06 2.06-.94-2.06-.94L8.5 2.5l-.94 2.06-2.06.94zm10 10l.94 2.06.94-2.06 2.06-.94-2.06-.94-.94-2.06-.94 2.06-2.06.94z\"/><path d=\"M17.41 7.96l-1.37-1.37c-.4-.4-.92-.59-1.43-.59-.52 0-1.04.2-1.43.59L10.3 9.45l-7.72 7.72c-.78.78-.78 2.05 0 2.83L4 21.41c.39.39.9.59 1.41.59.51 0 1.02-.2 1.41-.59l7.78-7.78 2.81-2.81c.8-.78.8-2.07 0-2.86zM5.41 20L4 18.59l7.72-7.72 1.47 1.35L5.41 20z\"/>\n",
              "  </svg>\n",
              "      </button>\n",
              "      \n",
              "  <style>\n",
              "    .colab-df-container {\n",
              "      display:flex;\n",
              "      flex-wrap:wrap;\n",
              "      gap: 12px;\n",
              "    }\n",
              "\n",
              "    .colab-df-convert {\n",
              "      background-color: #E8F0FE;\n",
              "      border: none;\n",
              "      border-radius: 50%;\n",
              "      cursor: pointer;\n",
              "      display: none;\n",
              "      fill: #1967D2;\n",
              "      height: 32px;\n",
              "      padding: 0 0 0 0;\n",
              "      width: 32px;\n",
              "    }\n",
              "\n",
              "    .colab-df-convert:hover {\n",
              "      background-color: #E2EBFA;\n",
              "      box-shadow: 0px 1px 2px rgba(60, 64, 67, 0.3), 0px 1px 3px 1px rgba(60, 64, 67, 0.15);\n",
              "      fill: #174EA6;\n",
              "    }\n",
              "\n",
              "    [theme=dark] .colab-df-convert {\n",
              "      background-color: #3B4455;\n",
              "      fill: #D2E3FC;\n",
              "    }\n",
              "\n",
              "    [theme=dark] .colab-df-convert:hover {\n",
              "      background-color: #434B5C;\n",
              "      box-shadow: 0px 1px 3px 1px rgba(0, 0, 0, 0.15);\n",
              "      filter: drop-shadow(0px 1px 2px rgba(0, 0, 0, 0.3));\n",
              "      fill: #FFFFFF;\n",
              "    }\n",
              "  </style>\n",
              "\n",
              "      <script>\n",
              "        const buttonEl =\n",
              "          document.querySelector('#df-02757553-2b8e-497a-8ce3-e9768186131c button.colab-df-convert');\n",
              "        buttonEl.style.display =\n",
              "          google.colab.kernel.accessAllowed ? 'block' : 'none';\n",
              "\n",
              "        async function convertToInteractive(key) {\n",
              "          const element = document.querySelector('#df-02757553-2b8e-497a-8ce3-e9768186131c');\n",
              "          const dataTable =\n",
              "            await google.colab.kernel.invokeFunction('convertToInteractive',\n",
              "                                                     [key], {});\n",
              "          if (!dataTable) return;\n",
              "\n",
              "          const docLinkHtml = 'Like what you see? Visit the ' +\n",
              "            '<a target=\"_blank\" href=https://colab.research.google.com/notebooks/data_table.ipynb>data table notebook</a>'\n",
              "            + ' to learn more about interactive tables.';\n",
              "          element.innerHTML = '';\n",
              "          dataTable['output_type'] = 'display_data';\n",
              "          await google.colab.output.renderOutput(dataTable, element);\n",
              "          const docLink = document.createElement('div');\n",
              "          docLink.innerHTML = docLinkHtml;\n",
              "          element.appendChild(docLink);\n",
              "        }\n",
              "      </script>\n",
              "    </div>\n",
              "  </div>\n",
              "  "
            ],
            "text/plain": [
              "                 MLA Name  ...  MLA Time\n",
              "0  DecisionTreeClassifier  ...  4.860698\n",
              "\n",
              "[1 rows x 6 columns]"
            ]
          },
          "metadata": {},
          "execution_count": 28
        }
      ],
      "source": [
        "#Machine Learning Algorithm (MLA) Selection and Initialization\n",
        "MLA = [\n",
        "    # #Ensemble Methods\n",
        "    # ensemble.AdaBoostClassifier(),\n",
        "    # ensemble.BaggingClassifier(),\n",
        "    # ensemble.ExtraTreesClassifier(),\n",
        "    # ensemble.GradientBoostingClassifier(),\n",
        "    # ensemble.RandomForestClassifier()\n",
        "\n",
        "    # #Gaussian Processes\n",
        "    # gaussian_process.GaussianProcessClassifier(),\n",
        "    \n",
        "    #GLM\n",
        "    # linear_model.LogisticRegressionCV(),\n",
        "    # linear_model.PassiveAggressiveClassifier(),\n",
        "    # linear_model.RidgeClassifierCV(),\n",
        "    # linear_model.SGDClassifier(),\n",
        "    # linear_model.Perceptron(),\n",
        "    \n",
        "    # #Navies Bayes\n",
        "    # naive_bayes.BernoulliNB(),\n",
        "    # naive_bayes.GaussianNB(),\n",
        "    \n",
        "    #Nearest Neighbor\n",
        "    # neighbors.KNeighborsClassifier(),\n",
        "    \n",
        "    #SVM\n",
        "    # svm.SVC(probability=True),\n",
        "    # svm.NuSVC(probability=True),\n",
        "    # svm.LinearSVC(),\n",
        "    \n",
        "    # #Trees    \n",
        "    tree.DecisionTreeClassifier()\n",
        "    # tree.ExtraTreeClassifier(),\n",
        "    \n",
        "    # #Discriminant Analysis\n",
        "    # discriminant_analysis.LinearDiscriminantAnalysis(),\n",
        "    # discriminant_analysis.QuadraticDiscriminantAnalysis(),\n",
        "\n",
        "    \n",
        "    # #xgboost: http://xgboost.readthedocs.io/en/latest/model.html\n",
        "    # XGBClassifier()    \n",
        "    ]\n",
        "\n",
        "\n",
        "\n",
        "#split dataset in cross-validation with this splitter class: http://scikit-learn.org/stable/modules/generated/sklearn.model_selection.ShuffleSplit.html#sklearn.model_selection.ShuffleSplit\n",
        "#note: this is an alternative to train_test_split\n",
        "#cv_split = model_selection.ShuffleSplit(n_splits = 5, test_size = .3, train_size = .6, random_state = 0 ) # run model 10x with 60/30 split intentionally leaving out 10%\n",
        "cv_split = model_selection.KFold(n_splits = 4)\n",
        "\n",
        "#create table to compare MLA metrics\n",
        "MLA_columns = ['MLA Name', 'MLA Parameters','MLA Train Accuracy Mean', 'MLA Test Accuracy Mean', 'MLA Test Accuracy 3*STD' ,'MLA Time']\n",
        "MLA_compare = pd.DataFrame(columns = MLA_columns)\n",
        "\n",
        "\n",
        "#create table to compare MLA predictions\n",
        "target = X_sample[\"gender\"]\n",
        "train = X_sample.drop([\"customer_id\", \"gender\"], axis = 1)\n",
        "MLA_predict = X_sample[\"gender\"]\n",
        "\n",
        "#index through MLA and save performance to table\n",
        "row_index = 0\n",
        "for alg in MLA:\n",
        "\n",
        "    #set name and parameters\n",
        "    MLA_name = alg.__class__.__name__\n",
        "    MLA_compare.loc[row_index, 'MLA Name'] = MLA_name\n",
        "    MLA_compare.loc[row_index, 'MLA Parameters'] = str(alg.get_params())\n",
        "    \n",
        "    #score model with cross validation: http://scikit-learn.org/stable/modules/generated/sklearn.model_selection.cross_validate.html#sklearn.model_selection.cross_validate\n",
        "    cv_results = model_selection.cross_validate(alg, train, target, cv  = cv_split, n_jobs = -1, scoring = \"roc_auc\", return_train_score=True, verbose=True) # turn on all cores\n",
        "    print(f\"Model {MLA_name} is trained\")\n",
        "    \n",
        "    MLA_compare.loc[row_index, 'MLA Time'] = cv_results['fit_time'].mean()\n",
        "    MLA_compare.loc[row_index, 'MLA Train Accuracy Mean'] = cv_results['train_score'].mean()\n",
        "    MLA_compare.loc[row_index, 'MLA Test Accuracy Mean'] = cv_results['test_score'].mean()   \n",
        "    #if this is a non-bias random sample, then +/-3 standard deviations (std) from the mean, should statistically capture 99.7% of the subsets\n",
        "    MLA_compare.loc[row_index, 'MLA Test Accuracy 3*STD'] = cv_results['test_score'].std()*3   #let's know the worst that can happen!\n",
        "    \n",
        "\n",
        "    #save MLA predictions - see section 6 for usage\n",
        "    alg.fit(train, target)\n",
        "    MLA_predict[MLA_name] = alg.predict(train)\n",
        "    \n",
        "    row_index+=1\n",
        "\n",
        "    \n",
        "#print and sort table: https://pandas.pydata.org/pandas-docs/stable/generated/pandas.DataFrame.sort_values.html\n",
        "MLA_compare.sort_values(by = ['MLA Test Accuracy Mean'], ascending = False, inplace = True)\n",
        "MLA_compare\n",
        "#MLA_predict"
      ]
    },
    {
      "cell_type": "code",
      "execution_count": 27,
      "metadata": {
        "id": "636s3xDGCwB4"
      },
      "outputs": [],
      "source": [
        "# save model for future usage\n",
        "\n",
        "pickle_out = open(path_pikcle + \"MLA_compare_baseline.pickle\", \"wb\")\n",
        "pickle.dump(MLA_compare, pickle_out)\n",
        "pickle_out.close()"
      ]
    },
    {
      "cell_type": "markdown",
      "metadata": {
        "id": "Blvk2niQbSxk"
      },
      "source": [
        "# Other Algorithms"
      ]
    },
    {
      "cell_type": "markdown",
      "source": [
        "### Load all imputed data"
      ],
      "metadata": {
        "id": "IXVir3esiruN"
      }
    },
    {
      "cell_type": "code",
      "source": [
        "# load imputed data \n",
        "\n",
        "pickle_in = open(path_pikcle + \"imputed_list.pickle\", \"rb\")\n",
        "list_data = pickle.load(pickle_in)\n",
        "\n",
        "# imputed_train_drop = list_data[\"imputed_train\"].drop(['tr_datetime', 'customer_id'], axis = 1)\n",
        "# imputed_val_drop = list_data[\"imputed_val\"].drop(['tr_datetime', 'customer_id'], axis = 1)\n",
        "\n",
        "imputed_sample_drop = list_data[\"imputed_sample\"].drop(['tr_datetime', 'customer_id'], axis = 1)\n",
        "\n",
        "imputed_test_drop = list_data[\"imputed_test\"].drop(['tr_datetime', 'customer_id'], axis = 1)\n",
        "imputed_full_drop = list_data[\"imputed_full\"].drop(['tr_datetime', 'customer_id'], axis = 1)\n",
        "\n",
        "cat_features = ['mcc_code', 'tr_type', 'term_id', 'term_id_na', 'Time']"
      ],
      "metadata": {
        "id": "iMTcDVjFKtNP"
      },
      "execution_count": 14,
      "outputs": []
    },
    {
      "cell_type": "markdown",
      "metadata": {
        "id": "k-Sv_GdBRM8A"
      },
      "source": [
        "## Rare lables "
      ]
    },
    {
      "cell_type": "markdown",
      "metadata": {
        "id": "r7MmhiwGbJN7"
      },
      "source": [
        "Rare values are categories within a categorical variable that are present only in a small percentage of the observations. There is no rule of thumb to determine how small is a small percentage, but typically, any value below 5 % can be considered rare."
      ]
    },
    {
      "cell_type": "markdown",
      "metadata": {
        "id": "3Oj1LQzHcZwa"
      },
      "source": [
        "Infrequent labels are so few, that it is hard to derive reliable information from them. But more importantly, infrequent labels tend to appear only on train set or only on the test set:\n",
        "\n",
        "*   If only on the train set, they may cause over-fitting\n",
        "*   If only on the test set, our machine learning model will not know how to score them.\n",
        "\n",
        "Therefore, to avoid this behaviour, we tend to group those into a new category called 'Rare' or 'Other'."
      ]
    },
    {
      "cell_type": "markdown",
      "metadata": {
        "id": "VT-DGkb0CZj-"
      },
      "source": [
        "### Cardinality"
      ]
    },
    {
      "cell_type": "code",
      "execution_count": 15,
      "metadata": {
        "colab": {
          "base_uri": "https://localhost:8080/"
        },
        "id": "WjVFGAfBdqoZ",
        "outputId": "1ffa84a8-6dbc-40c6-c213-5eaf9ae5a2d6"
      },
      "outputs": [
        {
          "output_type": "stream",
          "name": "stdout",
          "text": [
            "term_id_na\n",
            "0    0.59554\n",
            "1    0.40446\n",
            "Name: term_id_na, dtype: float64\n",
            "\n"
          ]
        }
      ],
      "source": [
        "# let's explore a few examples in which variables have only a few categories, say less than 3\n",
        "\n",
        "for col in cat_features:\n",
        "       \n",
        "      if imputed_sample_drop[col].nunique() < 3:  # if the variable has less than 3 categories\n",
        "          \n",
        "          # print percentage of observations per category\n",
        "          print(imputed_sample_drop.groupby(col)[col].count() / len(imputed_sample_drop))\n",
        "          print()"
      ]
    },
    {
      "cell_type": "code",
      "execution_count": 16,
      "metadata": {
        "id": "HoxEcMAmfrKQ",
        "colab": {
          "base_uri": "https://localhost:8080/",
          "height": 575
        },
        "outputId": "2102de47-0498-4498-9479-074ffd924b99"
      },
      "outputs": [
        {
          "output_type": "display_data",
          "data": {
            "image/png": "[encoded data removed]",
            "text/plain": [
              "<Figure size 720x720 with 1 Axes>"
            ]
          },
          "metadata": {}
        }
      ],
      "source": [
        "(imputed_sample_drop[\"term_id_na\"].value_counts(normalize = True)*100).sort_values(ascending = False).plot(kind = \"pie\", fontsize = 25, figsize = (10,10));"
      ]
    },
    {
      "cell_type": "markdown",
      "metadata": {
        "id": "dyMidVJYe1Vx"
      },
      "source": [
        "**Variables with few categories**"
      ]
    },
    {
      "cell_type": "code",
      "execution_count": 17,
      "metadata": {
        "id": "p70tUJ8Th9nS"
      },
      "outputs": [],
      "source": [
        "# let's explore examples in which variables have several categories, say more than 10\n",
        "\n",
        "multi_cat_cols = []\n",
        "\n",
        "for col in cat_features:\n",
        "  \n",
        "      if 2 < imputed_sample_drop[col].nunique() <= 10: # has more than 2 but less than 10 categories\n",
        "          \n",
        "          multi_cat_cols.append(col)  # add to the list\n",
        "          \n",
        "          print(imputed_sample_drop.groupby(col)[col].count()/ len(imputed_sample_drop)) # and print the percentage of observations within each category\n",
        "          \n",
        "          print()"
      ]
    },
    {
      "cell_type": "markdown",
      "metadata": {
        "id": "bekwYA40gJA_"
      },
      "source": [
        "**Variable with high cardinality**"
      ]
    },
    {
      "cell_type": "code",
      "execution_count": 18,
      "metadata": {
        "colab": {
          "base_uri": "https://localhost:8080/"
        },
        "id": "vMcx8mw7fT6n",
        "outputId": "19ff425a-ed14-4c3f-dab6-de5886e7c206"
      },
      "outputs": [
        {
          "output_type": "stream",
          "name": "stdout",
          "text": [
            "mcc_code\n",
            "5169    0.00001\n",
            "5940    0.00001\n",
            "5969    0.00001\n",
            "7210    0.00001\n",
            "5697    0.00001\n",
            "         ...   \n",
            "4829    0.09244\n",
            "6010    0.13031\n",
            "5411    0.14161\n",
            "4814    0.14893\n",
            "6011    0.21403\n",
            "Name: mcc_code, Length: 171, dtype: float64\n",
            "\n",
            "tr_type\n",
            "6000    0.00001\n",
            "1510    0.00001\n",
            "2340    0.00001\n",
            "2341    0.00002\n",
            "8100    0.00003\n",
            "         ...   \n",
            "7070    0.08800\n",
            "1110    0.13902\n",
            "1030    0.14667\n",
            "2010    0.15473\n",
            "1010    0.23442\n",
            "Name: tr_type, Length: 61, dtype: float64\n",
            "\n",
            "term_id\n",
            "0   1262    0.00001\n",
            "50123995    0.00001\n",
            "50124       0.00001\n",
            "50124002    0.00001\n",
            "50124012    0.00001\n",
            "             ...   \n",
            "888990      0.01809\n",
            "888987      0.01837\n",
            "888993      0.01838\n",
            "888986      0.01846\n",
            "888992      0.01850\n",
            "Name: term_id, Length: 48675, dtype: float64\n",
            "\n",
            "Time\n",
            "1     0.00591\n",
            "2     0.00623\n",
            "3     0.00763\n",
            "4     0.01009\n",
            "23    0.01013\n",
            "5     0.01426\n",
            "22    0.01663\n",
            "6     0.02058\n",
            "21    0.02658\n",
            "7     0.02911\n",
            "20    0.03564\n",
            "8     0.04051\n",
            "19    0.04629\n",
            "9     0.04987\n",
            "18    0.05461\n",
            "10    0.05848\n",
            "17    0.06047\n",
            "14    0.06139\n",
            "16    0.06142\n",
            "15    0.06191\n",
            "11    0.06334\n",
            "13    0.06470\n",
            "12    0.06480\n",
            "0     0.12942\n",
            "Name: Time, dtype: float64\n",
            "\n"
          ]
        }
      ],
      "source": [
        "# let's explore examples in which variables have several categories, say more than 10\n",
        "\n",
        "multi_cat_cols = []\n",
        "\n",
        "for col in cat_features:\n",
        "\n",
        "      if imputed_sample_drop[col].nunique() > 10: # and has more than 10 categories\n",
        "          \n",
        "          multi_cat_cols.append(col)  # add to the list\n",
        "          \n",
        "          print((imputed_sample_drop.groupby(col)[col].count()/len(imputed_sample_drop)).sort_values()) # and print the percentage of observations within each category\n",
        "          \n",
        "          print()"
      ]
    },
    {
      "cell_type": "code",
      "execution_count": 19,
      "metadata": {
        "id": "tfo-N3x4frZz",
        "colab": {
          "base_uri": "https://localhost:8080/",
          "height": 735
        },
        "outputId": "89fc33a5-8806-453e-cea1-1728fe7a6162"
      },
      "outputs": [
        {
          "output_type": "stream",
          "name": "stdout",
          "text": [
            "Saving figure Кардинальность_терминалов\n"
          ]
        },
        {
          "output_type": "display_data",
          "data": {
            "image/png": "[encoded data removed]",
            "text/plain": [
              "<Figure size 720x720 with 1 Axes>"
            ]
          },
          "metadata": {}
        }
      ],
      "source": [
        "(imputed_sample_drop[\"tr_type\"].value_counts(normalize = True)*100).sort_values(ascending = False).plot(kind = \"pie\", fontsize = 10, figsize = (10,10));\n",
        "save_fig(\"Кардинальность_терминалов\")"
      ]
    },
    {
      "cell_type": "markdown",
      "metadata": {
        "id": "adIHwn24gmHP"
      },
      "source": [
        "## Re-grouping rare labels"
      ]
    },
    {
      "cell_type": "code",
      "execution_count": 20,
      "metadata": {
        "id": "lnSGlvnDmWj1"
      },
      "outputs": [],
      "source": [
        "from feature_engine.encoding import RareLabelEncoder"
      ]
    },
    {
      "cell_type": "code",
      "execution_count": 21,
      "metadata": {
        "id": "0bOzGvIlmijK"
      },
      "outputs": [],
      "source": [
        "# Rare value encoder\n",
        "rare_encoder_1 = RareLabelEncoder(\n",
        "    tol=0.05,  # minimal percentage to be considered non-rare\n",
        "    n_categories=3, # minimal number of categories the variable should have to re-cgroup rare categories\n",
        "    variables=['mcc_code', 'tr_type', 'Time'] # variables to re-group\n",
        ")  \n",
        "\n",
        "\n",
        "# Rare value encoder\n",
        "rare_encoder_2 = RareLabelEncoder(\n",
        "    tol=0.00005,  # minimal percentage to be considered non-rare\n",
        "    n_categories=3, # minimal number of categories the variable should have to re-cgroup rare categories\n",
        "    variables='term_id' # variables to re-group\n",
        ")  "
      ]
    },
    {
      "cell_type": "code",
      "source": [
        "# for sample\n",
        "\n",
        "rare_encoder_1.fit(imputed_sample_drop)\n",
        "X_sample = rare_encoder_1.transform(imputed_sample_drop)"
      ],
      "metadata": {
        "id": "8iIl5LMOTtqu"
      },
      "execution_count": 22,
      "outputs": []
    },
    {
      "cell_type": "code",
      "execution_count": 23,
      "metadata": {
        "id": "SQDjsguRm_k5"
      },
      "outputs": [],
      "source": [
        "# for train and validation\n",
        "\n",
        "# rare_encoder_1.fit(imputed_train_drop)\n",
        "# rare_encoder_2.fit(imputed_train_drop)\n",
        "\n",
        "# X_train = rare_encoder_1.transform(imputed_train_drop)\n",
        "# X_val = rare_encoder_1.transform(imputed_val_drop)\n",
        "# X_train = rare_encoder_2.transform(X_train)\n",
        "# X_val = rare_encoder_2.transform(X_val)"
      ]
    },
    {
      "cell_type": "code",
      "source": [
        "# for full set and test set\n",
        "\n",
        "rare_encoder_1.fit(imputed_full_drop)\n",
        "rare_encoder_2.fit(imputed_full_drop)\n",
        "\n",
        "X_full = rare_encoder_2.transform(rare_encoder_1.transform(imputed_full_drop))\n",
        "X_test = rare_encoder_2.transform(rare_encoder_1.transform(imputed_test_drop))"
      ],
      "metadata": {
        "id": "6JUShgaiTWl7"
      },
      "execution_count": 24,
      "outputs": []
    },
    {
      "cell_type": "markdown",
      "metadata": {
        "id": "Xg7W4sY5SvsN"
      },
      "source": [
        "Let's visualize changes"
      ]
    },
    {
      "cell_type": "code",
      "source": [
        "for col in ['mcc_code', 'tr_type', 'Time']:\n",
        "\n",
        "    temp_df = pd.Series((imputed_sample_drop[col].value_counts() / len(imputed_sample_drop)))\n",
        "\n",
        "    # make plot with the above percentages\n",
        "    fig = temp_df.sort_values(ascending=True).plot.bar()\n",
        "    \n",
        "    fig.set_xlabel(col)\n",
        "\n",
        "\n",
        "    # add a line at 5 % to flag the threshold for rare categories\n",
        "    fig.axhline(y=0.05, color='red')\n",
        "    fig.set_ylabel('Percentage of clients before')\n",
        "    plt.show();\n",
        "\n",
        "save_fig(\"До группировки\")"
      ],
      "metadata": {
        "colab": {
          "base_uri": "https://localhost:8080/",
          "height": 1000
        },
        "id": "BWuzxNephTGU",
        "outputId": "7f27e7d7-b280-49b3-d956-5915e1bb7837"
      },
      "execution_count": 25,
      "outputs": [
        {
          "output_type": "display_data",
          "data": {
            "image/png": "[encoded data removed]",
            "text/plain": [
              "<Figure size 864x576 with 1 Axes>"
            ]
          },
          "metadata": {}
        },
        {
          "output_type": "display_data",
          "data": {
            "image/png": "[encoded data removed]",
            "text/plain": [
              "<Figure size 864x576 with 1 Axes>"
            ]
          },
          "metadata": {}
        },
        {
          "output_type": "display_data",
          "data": {
            "image/png": "[encoded data removed]",
            "text/plain": [
              "<Figure size 864x576 with 1 Axes>"
            ]
          },
          "metadata": {}
        },
        {
          "output_type": "stream",
          "name": "stdout",
          "text": [
            "Saving figure До группировки\n"
          ]
        },
        {
          "output_type": "display_data",
          "data": {
            "text/plain": [
              "<Figure size 864x576 with 0 Axes>"
            ]
          },
          "metadata": {}
        }
      ]
    },
    {
      "cell_type": "code",
      "execution_count": 26,
      "metadata": {
        "id": "UAl1xg1rCY-W",
        "colab": {
          "base_uri": "https://localhost:8080/",
          "height": 1000
        },
        "outputId": "f7f09d8d-a7bc-4cd0-ddcc-e7c6b18ac661"
      },
      "outputs": [
        {
          "output_type": "display_data",
          "data": {
            "image/png": "[encoded data removed]",
            "text/plain": [
              "<Figure size 864x576 with 1 Axes>"
            ]
          },
          "metadata": {}
        },
        {
          "output_type": "display_data",
          "data": {
            "image/png": "[encoded data removed]",
            "text/plain": [
              "<Figure size 864x576 with 1 Axes>"
            ]
          },
          "metadata": {}
        },
        {
          "output_type": "display_data",
          "data": {
            "image/png": "[encoded data removed]",
            "text/plain": [
              "<Figure size 864x576 with 1 Axes>"
            ]
          },
          "metadata": {}
        },
        {
          "output_type": "stream",
          "name": "stdout",
          "text": [
            "Saving figure После группировки\n"
          ]
        },
        {
          "output_type": "display_data",
          "data": {
            "text/plain": [
              "<Figure size 864x576 with 0 Axes>"
            ]
          },
          "metadata": {}
        }
      ],
      "source": [
        "for col in ['mcc_code', 'tr_type', 'Time']:\n",
        "\n",
        "    temp_df = pd.Series((X_sample[col].value_counts() / len(X_sample)))\n",
        "\n",
        "    # make plot with the above percentages\n",
        "    fig = temp_df.sort_values(ascending=True).plot.bar()\n",
        "    \n",
        "    fig.set_xlabel(col)\n",
        "\n",
        "\n",
        "    # add a line at 5 % to flag the threshold for rare categories\n",
        "    fig.axhline(y=0.05, color='red')\n",
        "    fig.set_ylabel('Percentage of clients after')\n",
        "    plt.show();\n",
        "\n",
        "save_fig(\"После группировки\")"
      ]
    },
    {
      "cell_type": "markdown",
      "metadata": {
        "id": "-Du43znTTGCG"
      },
      "source": [
        "As we expected rare lebels are grouped together."
      ]
    },
    {
      "cell_type": "code",
      "source": [
        "list_grouped = {}"
      ],
      "metadata": {
        "id": "8U4TskxaK4Ap"
      },
      "execution_count": 27,
      "outputs": []
    },
    {
      "cell_type": "code",
      "source": [
        "# list_grouped[\"X_train_grouped\"] = X_train\n",
        "# list_grouped[\"X_val_grouped\"] = X_val\n",
        "\n",
        "list_grouped[\"X_sample_grouped\"] = X_sample\n",
        "list_grouped[\"X_full_grouped\"] = X_full\n",
        "list_grouped[\"X_test_grouped\"] = X_test"
      ],
      "metadata": {
        "id": "ZSFFhrv9K4Ap"
      },
      "execution_count": 28,
      "outputs": []
    },
    {
      "cell_type": "code",
      "source": [
        "# save encoded data to skip encoding step in the future\n",
        "\n",
        "pickle_out = open(path_pikcle + \"list_grouped.pickle\", \"wb\")\n",
        "pickle.dump(list_grouped, pickle_out)\n",
        "pickle_out.close()"
      ],
      "metadata": {
        "id": "hTEBzqf4K4Ap"
      },
      "execution_count": 29,
      "outputs": []
    },
    {
      "cell_type": "markdown",
      "metadata": {
        "id": "T9PLdiKFiTq9"
      },
      "source": [
        "## Modelling with Catboost"
      ]
    },
    {
      "cell_type": "markdown",
      "metadata": {
        "id": "wQxQBX5rHqCK"
      },
      "source": [
        "https://coderzcolumn.com/tutorials/machine-learning/catboost-an-in-depth-guide-python\n",
        "\n",
        "https://colab.research.google.com/github/catboost/tutorials/blob/master/python_tutorial.ipynb#scrollTo=iCEU8FP8U970"
      ]
    },
    {
      "cell_type": "code",
      "execution_count": null,
      "metadata": {
        "id": "mdLeOsMWbUiW"
      },
      "outputs": [],
      "source": [
        "SEED = 42"
      ]
    },
    {
      "cell_type": "code",
      "source": [
        "pickle_in = open(path_pikcle + \"list_grouped.pickle\", \"rb\")\n",
        "list_grouped = pickle.load(pickle_in)\n",
        "\n",
        "X_sample_grouped = list_grouped[\"X_sample_grouped\"]"
      ],
      "metadata": {
        "id": "4Co_JpfHDFxD"
      },
      "execution_count": null,
      "outputs": []
    },
    {
      "cell_type": "code",
      "execution_count": null,
      "metadata": {
        "id": "9j8XjMIocgOM"
      },
      "outputs": [],
      "source": [
        "X = X_sample_grouped.drop([\"gender\"], axis=1)\n",
        "y = X_sample_grouped['gender'].values"
      ]
    },
    {
      "cell_type": "code",
      "execution_count": null,
      "metadata": {
        "id": "VTZtEpxzYT2N"
      },
      "outputs": [],
      "source": [
        "X_train_cat, X_validation, y_train_cat, y_validation = train_test_split(X, y, test_size=0.25, random_state=SEED)"
      ]
    },
    {
      "cell_type": "markdown",
      "metadata": {
        "id": "E0o_x8vNlouU"
      },
      "source": [
        "**Implementation with CPU using cross-validation technic**"
      ]
    },
    {
      "cell_type": "code",
      "execution_count": null,
      "metadata": {
        "id": "KpkWHkvgjgDA",
        "colab": {
          "base_uri": "https://localhost:8080/"
        },
        "outputId": "6985b18d-3aef-443e-f124-e45e3fa19111"
      },
      "outputs": [
        {
          "output_type": "stream",
          "name": "stdout",
          "text": [
            "Training on fold [0/3]\n",
            "0:\ttest: 0.6631791\tbest: 0.6631791 (0)\ttotal: 200ms\tremaining: 3m 20s\n",
            "200:\ttest: 0.8136759\tbest: 0.8136759 (200)\ttotal: 25.9s\tremaining: 1m 42s\n",
            "400:\ttest: 0.8750566\tbest: 0.8750566 (400)\ttotal: 54.2s\tremaining: 1m 20s\n",
            "600:\ttest: 0.9145793\tbest: 0.9145793 (600)\ttotal: 1m 19s\tremaining: 52.9s\n",
            "800:\ttest: 0.9350567\tbest: 0.9350567 (800)\ttotal: 1m 45s\tremaining: 26.1s\n",
            "999:\ttest: 0.9497416\tbest: 0.9497416 (999)\ttotal: 2m 11s\tremaining: 0us\n",
            "\n",
            "bestTest = 0.9497416142\n",
            "bestIteration = 999\n",
            "\n",
            "Training on fold [1/3]\n",
            "0:\ttest: 0.6657275\tbest: 0.6657275 (0)\ttotal: 134ms\tremaining: 2m 13s\n",
            "200:\ttest: 0.8102528\tbest: 0.8102528 (200)\ttotal: 24.8s\tremaining: 1m 38s\n",
            "400:\ttest: 0.8699149\tbest: 0.8699149 (400)\ttotal: 50s\tremaining: 1m 14s\n",
            "600:\ttest: 0.9127195\tbest: 0.9127195 (600)\ttotal: 1m 15s\tremaining: 50.2s\n",
            "800:\ttest: 0.9343916\tbest: 0.9343916 (800)\ttotal: 1m 41s\tremaining: 25.1s\n",
            "999:\ttest: 0.9478881\tbest: 0.9478881 (999)\ttotal: 2m 6s\tremaining: 0us\n",
            "\n",
            "bestTest = 0.9478880538\n",
            "bestIteration = 999\n",
            "\n",
            "Training on fold [2/3]\n",
            "0:\ttest: 0.6538432\tbest: 0.6538432 (0)\ttotal: 136ms\tremaining: 2m 16s\n",
            "200:\ttest: 0.8144176\tbest: 0.8144176 (200)\ttotal: 24.7s\tremaining: 1m 38s\n",
            "400:\ttest: 0.8733679\tbest: 0.8733679 (400)\ttotal: 50.1s\tremaining: 1m 14s\n",
            "600:\ttest: 0.9138425\tbest: 0.9138425 (600)\ttotal: 1m 15s\tremaining: 50.2s\n",
            "800:\ttest: 0.9376458\tbest: 0.9376458 (800)\ttotal: 1m 41s\tremaining: 25.1s\n",
            "999:\ttest: 0.9519609\tbest: 0.9519609 (999)\ttotal: 2m 6s\tremaining: 0us\n",
            "\n",
            "bestTest = 0.9519608845\n",
            "bestIteration = 999\n",
            "\n",
            "Fitting was lasting:  385.553245306015\n"
          ]
        }
      ],
      "source": [
        "params = {'loss_function':'Logloss',\n",
        "          'eval_metric':'AUC',\n",
        "          'verbose': 200,\n",
        "          'random_seed': SEED,\n",
        "          'early_stopping_rounds': 200,\n",
        "          # 'task_type': 'GPU'\n",
        "         }\n",
        "\n",
        "all_train_data = Pool(data=X,\n",
        "                      label=y,\n",
        "                      cat_features=cat_features\n",
        "                     )\n",
        "\n",
        "start_time = time.time()\n",
        "\n",
        "scores = cv(pool=all_train_data,\n",
        "            params=params, \n",
        "            fold_count=3,\n",
        "            seed=SEED, \n",
        "            shuffle=True,\n",
        "            return_models=True,\n",
        "            stratified=True # if True the folds are made by preserving the percentage of samples for each class\n",
        "           )\n",
        "\n",
        "fit_time = (time.time() - start_time)\n",
        "print(\"Fitting was lasting: \", fit_time)\n",
        "\n",
        "cat_boost_model_first = [scores, fit_time]"
      ]
    },
    {
      "cell_type": "code",
      "execution_count": null,
      "metadata": {
        "id": "mq-91ktq5G7U"
      },
      "outputs": [],
      "source": [
        "# save model\n",
        "\n",
        "pickle_out = open(path_pikcle + \"cat_boost_model_first.pickle\", \"wb\")\n",
        "pickle.dump(cat_boost_model_first, pickle_out)\n",
        "pickle_out.close()"
      ]
    },
    {
      "cell_type": "markdown",
      "metadata": {
        "id": "mXft5mnbbihv"
      },
      "source": [
        "## Categorical Encoding using Count or frequency encoding"
      ]
    },
    {
      "cell_type": "code",
      "source": [
        "pickle_in = open(path_pikcle + \"list_grouped.pickle\", \"rb\")\n",
        "list_grouped = pickle.load(pickle_in)\n",
        "\n",
        "X_sample_grouped = list_grouped[\"X_sample_grouped\"]\n",
        "X_full_grouped = list_grouped[\"X_full_grouped\"]\n",
        "X_test_grouped = list_grouped[\"X_test_grouped\"]\n",
        "\n",
        "cat_features = ['mcc_code', 'tr_type', 'term_id', 'term_id_na', 'Time']"
      ],
      "metadata": {
        "id": "IsR1Hc2bvSSi"
      },
      "execution_count": 14,
      "outputs": []
    },
    {
      "cell_type": "markdown",
      "metadata": {
        "id": "WyM8mKMTt4Z9"
      },
      "source": [
        "In count encoding we replace the categories by the count of the observations that show that category in the dataset.\n",
        "\n",
        "The assumption of this technique is that the number observations shown by each variable is somewhat informative of the predictive power of the category."
      ]
    },
    {
      "cell_type": "markdown",
      "metadata": {
        "id": "6oF2_09uuQNw"
      },
      "source": [
        "Disadvantages\n",
        "\n",
        "If 2 different categories appear the same amount of times in the dataset, that is, they appear in the same number of observations, they will be replaced by the same number: may lose valuable information."
      ]
    },
    {
      "cell_type": "code",
      "execution_count": 15,
      "metadata": {
        "id": "LvHATOspu1ma"
      },
      "outputs": [],
      "source": [
        "count_enc = CountFrequencyEncoder(\n",
        "    encoding_method='frequency',\n",
        "    variables=cat_features)\n",
        "\n",
        "count_enc.fit(X_full_grouped)\n",
        "\n",
        "\n",
        "# perform encoding\n",
        "\n",
        "# X_train_encod = count_enc.transform(X_train)\n",
        "# X_val_encod = count_enc.transform(X_val)\n",
        "\n",
        "X_full_encod = count_enc.transform(X_full_grouped)\n",
        "X_test_encod = count_enc.transform(X_test_grouped)"
      ]
    },
    {
      "cell_type": "code",
      "source": [
        "count_enc = CountFrequencyEncoder(\n",
        "    encoding_method='frequency',\n",
        "    variables=cat_features)\n",
        "\n",
        "count_enc.fit(X_sample_grouped)\n",
        "\n",
        "# perform encoding\n",
        "X_sample_encod = count_enc.transform(X_sample_grouped)"
      ],
      "metadata": {
        "id": "ZYmyWhPz6rpY"
      },
      "execution_count": 16,
      "outputs": []
    },
    {
      "cell_type": "code",
      "source": [
        "list_encoded = {}"
      ],
      "metadata": {
        "id": "NAZUAsgdq-4N"
      },
      "execution_count": 17,
      "outputs": []
    },
    {
      "cell_type": "code",
      "source": [
        "# list_encoded[\"X_train_encod\"] = X_train_encod\n",
        "# list_encoded[\"X_val_encod\"] = X_val_encod\n",
        "list_encoded[\"X_full_encod\"] = X_full_encod\n",
        "list_encoded[\"X_test_encod\"] = X_test_encod\n",
        "\n",
        "list_encoded[\"X_sample_encod\"] = X_sample_encod"
      ],
      "metadata": {
        "id": "rdCU_dqdq1sF"
      },
      "execution_count": 18,
      "outputs": []
    },
    {
      "cell_type": "code",
      "source": [
        "# save encoded data to skip encoding step in the future\n",
        "\n",
        "pickle_out = open(path_pikcle + \"list_encoded.pickle\", \"wb\")\n",
        "pickle.dump(list_encoded, pickle_out)\n",
        "pickle_out.close()"
      ],
      "metadata": {
        "id": "a6lLawcnrHPB"
      },
      "execution_count": 19,
      "outputs": []
    },
    {
      "cell_type": "markdown",
      "metadata": {
        "id": "ld9Z3pZIRqg9"
      },
      "source": [
        "## Fitting with other classification algorithms"
      ]
    },
    {
      "cell_type": "code",
      "source": [
        "pickle_in = open(path_pikcle + \"list_encoded.pickle\", \"rb\")\n",
        "list_encoded = pickle.load(pickle_in)\n",
        "X_sample_encod = list_encoded[\"X_sample_encod\"]"
      ],
      "metadata": {
        "id": "Vj3S7plHr4IW"
      },
      "execution_count": 29,
      "outputs": []
    },
    {
      "cell_type": "markdown",
      "metadata": {
        "id": "dGP1D4NKTb5p"
      },
      "source": [
        "Here we will use other classification algorithms to compete with our CatBoost baseline. Additionaly we will apply Intel(R) Extension for Scikit-learn to speed up fitting time.\n",
        "\n",
        "1) How to use\n",
        "\n",
        "https://intel.github.io/scikit-learn-intelex/\n",
        "\n",
        "2) Proofs of acceleration\n",
        "\n",
        "https://www.kaggle.com/andreyrus/tps-apr-rf-with-intel-extension-for-scikit-learn/notebook"
      ]
    },
    {
      "cell_type": "code",
      "execution_count": null,
      "metadata": {
        "id": "pp5a0CHWX-9c"
      },
      "outputs": [],
      "source": [
        "# # checking\n",
        "\n",
        "# print(\"Columns with missing values in train set:\")\n",
        "# [feature for feature in X_sample_encod.columns if X_sample_encod.isnull().any()[feature] == True]"
      ]
    },
    {
      "cell_type": "code",
      "execution_count": 21,
      "metadata": {
        "colab": {
          "base_uri": "https://localhost:8080/",
          "height": 501
        },
        "id": "fOWu-YI6w085",
        "outputId": "fd099e1d-8634-4d87-bc73-3b0532593ad0"
      },
      "outputs": [
        {
          "metadata": {
            "tags": null
          },
          "name": "stdout",
          "output_type": "stream",
          "text": [
            "Scikit-learn was successfully globally patched by Intel(R) Extension for Scikit-learn\n"
          ]
        },
        {
          "metadata": {
            "tags": null
          },
          "name": "stderr",
          "output_type": "stream",
          "text": [
            "Intel(R) Extension for Scikit-learn* enabled (https://github.com/intel/scikit-learn-intelex)\n",
            "[Parallel(n_jobs=-1)]: Using backend LokyBackend with 2 concurrent workers.\n",
            "[Parallel(n_jobs=-1)]: Done   3 out of   3 | elapsed:   31.5s finished\n"
          ]
        },
        {
          "metadata": {
            "tags": null
          },
          "name": "stdout",
          "output_type": "stream",
          "text": [
            "Model RandomForestClassifier is trained\n"
          ]
        },
        {
          "metadata": {
            "tags": null
          },
          "name": "stderr",
          "output_type": "stream",
          "text": [
            "[Parallel(n_jobs=-1)]: Using backend LokyBackend with 2 concurrent workers.\n",
            "[Parallel(n_jobs=-1)]: Done   3 out of   3 | elapsed:    0.9s finished\n"
          ]
        },
        {
          "metadata": {
            "tags": null
          },
          "name": "stdout",
          "output_type": "stream",
          "text": [
            "Model RidgeClassifierCV is trained\n"
          ]
        },
        {
          "metadata": {
            "tags": null
          },
          "name": "stderr",
          "output_type": "stream",
          "text": [
            "[Parallel(n_jobs=-1)]: Using backend LokyBackend with 2 concurrent workers.\n",
            "[Parallel(n_jobs=-1)]: Done   3 out of   3 | elapsed:  1.1min finished\n"
          ]
        },
        {
          "metadata": {
            "tags": null
          },
          "name": "stdout",
          "output_type": "stream",
          "text": [
            "Model KNeighborsClassifier is trained\n"
          ]
        },
        {
          "metadata": {
            "tags": null
          },
          "name": "stderr",
          "output_type": "stream",
          "text": [
            "[Parallel(n_jobs=-1)]: Using backend LokyBackend with 2 concurrent workers.\n",
            "[Parallel(n_jobs=-1)]: Done   3 out of   3 | elapsed:    5.1s finished\n"
          ]
        },
        {
          "metadata": {
            "tags": null
          },
          "name": "stdout",
          "output_type": "stream",
          "text": [
            "Model DecisionTreeClassifier is trained\n"
          ]
        },
        {
          "metadata": {
            "tags": null
          },
          "name": "stderr",
          "output_type": "stream",
          "text": [
            "[Parallel(n_jobs=-1)]: Using backend LokyBackend with 2 concurrent workers.\n",
            "[Parallel(n_jobs=-1)]: Done   3 out of   3 | elapsed:   21.3s finished\n"
          ]
        },
        {
          "metadata": {
            "tags": null
          },
          "name": "stdout",
          "output_type": "stream",
          "text": [
            "Model XGBClassifier is trained\n"
          ]
        },
        {
          "output_type": "execute_result",
          "data": {
            "text/html": [
              "\n",
              "  <div id=\"df-8be8d2f4-fa06-4ab1-b1ff-4b7cd121a258\">\n",
              "    <div class=\"colab-df-container\">\n",
              "      <div>\n",
              "<style scoped>\n",
              "    .dataframe tbody tr th:only-of-type {\n",
              "        vertical-align: middle;\n",
              "    }\n",
              "\n",
              "    .dataframe tbody tr th {\n",
              "        vertical-align: top;\n",
              "    }\n",
              "\n",
              "    .dataframe thead th {\n",
              "        text-align: right;\n",
              "    }\n",
              "</style>\n",
              "<table border=\"1\" class=\"dataframe\">\n",
              "  <thead>\n",
              "    <tr style=\"text-align: right;\">\n",
              "      <th></th>\n",
              "      <th>MLA Name</th>\n",
              "      <th>MLA Parameters</th>\n",
              "      <th>MLA Train Accuracy Mean</th>\n",
              "      <th>MLA Test Accuracy Mean</th>\n",
              "      <th>MLA Test Accuracy 3*STD</th>\n",
              "      <th>MLA Time</th>\n",
              "    </tr>\n",
              "  </thead>\n",
              "  <tbody>\n",
              "    <tr>\n",
              "      <th>1</th>\n",
              "      <td>RandomForestClassifier</td>\n",
              "      <td>{'bootstrap': True, 'ccp_alpha': 0.0, 'class_w...</td>\n",
              "      <td>1.0</td>\n",
              "      <td>0.996625</td>\n",
              "      <td>0.002151</td>\n",
              "      <td>11.576256</td>\n",
              "    </tr>\n",
              "    <tr>\n",
              "      <th>4</th>\n",
              "      <td>DecisionTreeClassifier</td>\n",
              "      <td>{'ccp_alpha': 0.0, 'class_weight': None, 'crit...</td>\n",
              "      <td>1.0</td>\n",
              "      <td>0.964472</td>\n",
              "      <td>0.062244</td>\n",
              "      <td>2.57995</td>\n",
              "    </tr>\n",
              "    <tr>\n",
              "      <th>3</th>\n",
              "      <td>KNeighborsClassifier</td>\n",
              "      <td>{'algorithm': 'auto', 'leaf_size': 30, 'metric...</td>\n",
              "      <td>0.971493</td>\n",
              "      <td>0.920707</td>\n",
              "      <td>0.00452</td>\n",
              "      <td>0.067582</td>\n",
              "    </tr>\n",
              "    <tr>\n",
              "      <th>5</th>\n",
              "      <td>XGBClassifier</td>\n",
              "      <td>{'base_score': 0.5, 'booster': 'gbtree', 'cols...</td>\n",
              "      <td>0.763482</td>\n",
              "      <td>0.758741</td>\n",
              "      <td>0.019844</td>\n",
              "      <td>10.973911</td>\n",
              "    </tr>\n",
              "    <tr>\n",
              "      <th>2</th>\n",
              "      <td>RidgeClassifierCV</td>\n",
              "      <td>{'alphas': array([ 0.1,  1. , 10. ]), 'class_w...</td>\n",
              "      <td>0.516858</td>\n",
              "      <td>0.514955</td>\n",
              "      <td>0.183961</td>\n",
              "      <td>0.375628</td>\n",
              "    </tr>\n",
              "  </tbody>\n",
              "</table>\n",
              "</div>\n",
              "      <button class=\"colab-df-convert\" onclick=\"convertToInteractive('df-8be8d2f4-fa06-4ab1-b1ff-4b7cd121a258')\"\n",
              "              title=\"Convert this dataframe to an interactive table.\"\n",
              "              style=\"display:none;\">\n",
              "        \n",
              "  <svg xmlns=\"http://www.w3.org/2000/svg\" height=\"24px\"viewBox=\"0 0 24 24\"\n",
              "       width=\"24px\">\n",
              "    <path d=\"M0 0h24v24H0V0z\" fill=\"none\"/>\n",
              "    <path d=\"M18.56 5.44l.94 2.06.94-2.06 2.06-.94-2.06-.94-.94-2.06-.94 2.06-2.06.94zm-11 1L8.5 8.5l.94-2.06 2.06-.94-2.06-.94L8.5 2.5l-.94 2.06-2.06.94zm10 10l.94 2.06.94-2.06 2.06-.94-2.06-.94-.94-2.06-.94 2.06-2.06.94z\"/><path d=\"M17.41 7.96l-1.37-1.37c-.4-.4-.92-.59-1.43-.59-.52 0-1.04.2-1.43.59L10.3 9.45l-7.72 7.72c-.78.78-.78 2.05 0 2.83L4 21.41c.39.39.9.59 1.41.59.51 0 1.02-.2 1.41-.59l7.78-7.78 2.81-2.81c.8-.78.8-2.07 0-2.86zM5.41 20L4 18.59l7.72-7.72 1.47 1.35L5.41 20z\"/>\n",
              "  </svg>\n",
              "      </button>\n",
              "      \n",
              "  <style>\n",
              "    .colab-df-container {\n",
              "      display:flex;\n",
              "      flex-wrap:wrap;\n",
              "      gap: 12px;\n",
              "    }\n",
              "\n",
              "    .colab-df-convert {\n",
              "      background-color: #E8F0FE;\n",
              "      border: none;\n",
              "      border-radius: 50%;\n",
              "      cursor: pointer;\n",
              "      display: none;\n",
              "      fill: #1967D2;\n",
              "      height: 32px;\n",
              "      padding: 0 0 0 0;\n",
              "      width: 32px;\n",
              "    }\n",
              "\n",
              "    .colab-df-convert:hover {\n",
              "      background-color: #E2EBFA;\n",
              "      box-shadow: 0px 1px 2px rgba(60, 64, 67, 0.3), 0px 1px 3px 1px rgba(60, 64, 67, 0.15);\n",
              "      fill: #174EA6;\n",
              "    }\n",
              "\n",
              "    [theme=dark] .colab-df-convert {\n",
              "      background-color: #3B4455;\n",
              "      fill: #D2E3FC;\n",
              "    }\n",
              "\n",
              "    [theme=dark] .colab-df-convert:hover {\n",
              "      background-color: #434B5C;\n",
              "      box-shadow: 0px 1px 3px 1px rgba(0, 0, 0, 0.15);\n",
              "      filter: drop-shadow(0px 1px 2px rgba(0, 0, 0, 0.3));\n",
              "      fill: #FFFFFF;\n",
              "    }\n",
              "  </style>\n",
              "\n",
              "      <script>\n",
              "        const buttonEl =\n",
              "          document.querySelector('#df-8be8d2f4-fa06-4ab1-b1ff-4b7cd121a258 button.colab-df-convert');\n",
              "        buttonEl.style.display =\n",
              "          google.colab.kernel.accessAllowed ? 'block' : 'none';\n",
              "\n",
              "        async function convertToInteractive(key) {\n",
              "          const element = document.querySelector('#df-8be8d2f4-fa06-4ab1-b1ff-4b7cd121a258');\n",
              "          const dataTable =\n",
              "            await google.colab.kernel.invokeFunction('convertToInteractive',\n",
              "                                                     [key], {});\n",
              "          if (!dataTable) return;\n",
              "\n",
              "          const docLinkHtml = 'Like what you see? Visit the ' +\n",
              "            '<a target=\"_blank\" href=https://colab.research.google.com/notebooks/data_table.ipynb>data table notebook</a>'\n",
              "            + ' to learn more about interactive tables.';\n",
              "          element.innerHTML = '';\n",
              "          dataTable['output_type'] = 'display_data';\n",
              "          await google.colab.output.renderOutput(dataTable, element);\n",
              "          const docLink = document.createElement('div');\n",
              "          docLink.innerHTML = docLinkHtml;\n",
              "          element.appendChild(docLink);\n",
              "        }\n",
              "      </script>\n",
              "    </div>\n",
              "  </div>\n",
              "  "
            ],
            "text/plain": [
              "                 MLA Name  ...   MLA Time\n",
              "1  RandomForestClassifier  ...  11.576256\n",
              "4  DecisionTreeClassifier  ...    2.57995\n",
              "3    KNeighborsClassifier  ...   0.067582\n",
              "5           XGBClassifier  ...  10.973911\n",
              "2       RidgeClassifierCV  ...   0.375628\n",
              "\n",
              "[5 rows x 6 columns]"
            ]
          },
          "metadata": {},
          "execution_count": 21
        }
      ],
      "source": [
        "from sklearnex import patch_sklearn\n",
        "patch_sklearn(global_patch=True) # make learning a little bit faster\n",
        "\n",
        "from sklearn import svm, tree, linear_model, neighbors, naive_bayes, ensemble, discriminant_analysis, gaussian_process\n",
        "from xgboost import XGBClassifier\n",
        "\n",
        "#Machine Learning Algorithm (MLA) Selection and Initialization\n",
        "MLA = [\n",
        "    # #Ensemble Methods\n",
        "    # ensemble.AdaBoostClassifier(),\n",
        "    # ensemble.BaggingClassifier(),\n",
        "    # ensemble.ExtraTreesClassifier(),\n",
        "    # ensemble.GradientBoostingClassifier(),\n",
        "    ensemble.RandomForestClassifier(),\n",
        "\n",
        "    # #Gaussian Processes\n",
        "    # gaussian_process.GaussianProcessClassifier(),\n",
        "    \n",
        "    #GLM\n",
        "    # linear_model.LogisticRegressionCV(),\n",
        "    # linear_model.PassiveAggressiveClassifier(),\n",
        "    linear_model.RidgeClassifierCV(),\n",
        "    # linear_model.SGDClassifier(),\n",
        "    # linear_model.Perceptron(),\n",
        "    \n",
        "    # #Navies Bayes\n",
        "    # naive_bayes.BernoulliNB(),\n",
        "    # naive_bayes.GaussianNB(),\n",
        "    \n",
        "    #Nearest Neighbor\n",
        "    neighbors.KNeighborsClassifier(),\n",
        "    \n",
        "    #SVM\n",
        "    # svm.SVC(probability=True),\n",
        "    # svm.NuSVC(probability=True),\n",
        "    # svm.LinearSVC(),\n",
        "    \n",
        "    # #Trees    \n",
        "    tree.DecisionTreeClassifier(),\n",
        "    # tree.ExtraTreeClassifier(),\n",
        "    \n",
        "    # #Discriminant Analysis\n",
        "    # discriminant_analysis.LinearDiscriminantAnalysis(),\n",
        "    # discriminant_analysis.QuadraticDiscriminantAnalysis(),\n",
        "\n",
        "    \n",
        "    # #xgboost: http://xgboost.readthedocs.io/en/latest/model.html\n",
        "    XGBClassifier()    \n",
        "    ]\n",
        "\n",
        "\n",
        "\n",
        "#split dataset in cross-validation with this splitter class: http://scikit-learn.org/stable/modules/generated/sklearn.model_selection.ShuffleSplit.html#sklearn.model_selection.ShuffleSplit\n",
        "#note: this is an alternative to train_test_split\n",
        "#cv_split = model_selection.ShuffleSplit(n_splits = 5, test_size = .3, train_size = .6, random_state = 0 ) # run model 10x with 60/30 split intentionally leaving out 10%\n",
        "cv_split = model_selection.KFold(n_splits = 3)\n",
        "#create table to compare MLA metrics\n",
        "MLA_columns = ['MLA Name', 'MLA Parameters','MLA Train Accuracy Mean', 'MLA Test Accuracy Mean', 'MLA Test Accuracy 3*STD' ,'MLA Time']\n",
        "MLA_compare = pd.DataFrame(columns = MLA_columns)\n",
        "\n",
        "\n",
        "#create table to compare MLA predictions\n",
        "target = X_sample_encod[\"gender\"].copy()\n",
        "data = X_sample_encod.drop([\"gender\"], axis = 1).copy()\n",
        "MLA_predict = X_sample_encod[\"gender\"]\n",
        "\n",
        "#index through MLA and save performance to table\n",
        "row_index = 1\n",
        "for alg in MLA:\n",
        "\n",
        "    #set name and parameters\n",
        "    MLA_name = alg.__class__.__name__\n",
        "    MLA_compare.loc[row_index, 'MLA Name'] = MLA_name\n",
        "    MLA_compare.loc[row_index, 'MLA Parameters'] = str(alg.get_params())\n",
        "    \n",
        "    #score model with cross validation: http://scikit-learn.org/stable/modules/generated/sklearn.model_selection.cross_validate.html#sklearn.model_selection.cross_validate\n",
        "    cv_results = model_selection.cross_validate(alg, data, target, cv  = cv_split, n_jobs = -1, scoring = \"roc_auc\", return_train_score=True, verbose=True) # turn on all cores\n",
        "    print(f\"Model {MLA_name} is trained\")\n",
        "    \n",
        "    MLA_compare.loc[row_index, 'MLA Time'] = cv_results['fit_time'].mean()\n",
        "    MLA_compare.loc[row_index, 'MLA Train Accuracy Mean'] = cv_results['train_score'].mean()\n",
        "    MLA_compare.loc[row_index, 'MLA Test Accuracy Mean'] = cv_results['test_score'].mean()   \n",
        "    #if this is a non-bias random sample, then +/-3 standard deviations (std) from the mean, should statistically capture 99.7% of the subsets\n",
        "    MLA_compare.loc[row_index, 'MLA Test Accuracy 3*STD'] = cv_results['test_score'].std()*3   #let's know the worst that can happen!\n",
        "    \n",
        "\n",
        "    #save MLA predictions - see section 6 for usage\n",
        "    alg.fit(data, target)\n",
        "    MLA_predict[MLA_name] = alg.predict(data)\n",
        "    \n",
        "    row_index+=1\n",
        "\n",
        "    \n",
        "#print and sort table: https://pandas.pydata.org/pandas-docs/stable/generated/pandas.DataFrame.sort_values.html\n",
        "MLA_compare.sort_values(by = ['MLA Test Accuracy Mean'], ascending = False, inplace = True)\n",
        "MLA_compare\n",
        "#MLA_predict"
      ]
    },
    {
      "cell_type": "code",
      "execution_count": 22,
      "metadata": {
        "id": "cnzxfcu07Cqi"
      },
      "outputs": [],
      "source": [
        "# save model for future usage\n",
        "\n",
        "pickle_out = open(path_pikcle + \"MLA_compare.pickle\", \"wb\")\n",
        "pickle.dump(MLA_compare, pickle_out)\n",
        "pickle_out.close()"
      ]
    },
    {
      "cell_type": "code",
      "execution_count": 23,
      "metadata": {
        "colab": {
          "base_uri": "https://localhost:8080/",
          "height": 602
        },
        "id": "lJ0bAdBlIMur",
        "outputId": "12f0017d-827f-46f9-d891-33880ebf1e87"
      },
      "outputs": [
        {
          "output_type": "stream",
          "name": "stdout",
          "text": [
            "Saving figure MLA_compare\n"
          ]
        },
        {
          "output_type": "display_data",
          "data": {
            "image/png": "[encoded data removed]",
            "text/plain": [
              "<Figure size 864x576 with 1 Axes>"
            ]
          },
          "metadata": {}
        }
      ],
      "source": [
        "#barplot using https://seaborn.pydata.org/generated/seaborn.barplot.html\n",
        "sns.barplot(x='MLA Time', y = 'MLA Name', data = MLA_compare, color = 'm')\n",
        "\n",
        "#prettify using pyplot: https://matplotlib.org/api/pyplot_api.html\n",
        "plt.title('Machine Learning Algorithm Fitting time with Extension')\n",
        "plt.xlabel('Time (c)')\n",
        "plt.ylabel('Algorithm')\n",
        "\n",
        "save_fig(\"MLA_compare\")"
      ]
    },
    {
      "cell_type": "markdown",
      "metadata": {
        "id": "I6bMOmZP6XpO"
      },
      "source": [
        "## Other algorithms vs CatBoost"
      ]
    },
    {
      "cell_type": "code",
      "execution_count": 14,
      "metadata": {
        "id": "rPVTCrIz6D30"
      },
      "outputs": [],
      "source": [
        "pickle_in = open(path_pikcle + \"cat_boost_model_first.pickle\", \"rb\")\n",
        "cat_boost_model_first = pickle.load(pickle_in)\n",
        "pickle_in = open(path_pikcle + \"MLA_compare.pickle\", \"rb\")\n",
        "MLA_compare = pickle.load(pickle_in)"
      ]
    },
    {
      "cell_type": "code",
      "execution_count": 15,
      "metadata": {
        "id": "UALJRa4dkOYC"
      },
      "outputs": [],
      "source": [
        "cv_cat_results = cat_boost_model_first[0][0]\n",
        "fit_time = cat_boost_model_first[1]"
      ]
    },
    {
      "cell_type": "code",
      "execution_count": 16,
      "metadata": {
        "id": "uePipv0Qih3I"
      },
      "outputs": [],
      "source": [
        "cv_cat_results[\"MLA Name\"] = \"CatBoost\"\n",
        "cv_cat_results[\"MLA Time\"] = fit_time"
      ]
    },
    {
      "cell_type": "code",
      "execution_count": 17,
      "metadata": {
        "id": "wb1jiQkOsMKn"
      },
      "outputs": [],
      "source": [
        "cv_cat_results = cv_cat_results.rename(columns={\"test-AUC-mean\":\"MLA Test Accuracy Mean\", \"test-AUC-std\":\"MLA Test Accuracy 3*STD\"});"
      ]
    },
    {
      "cell_type": "code",
      "execution_count": 18,
      "metadata": {
        "id": "kb2TuGd7ZSg0"
      },
      "outputs": [],
      "source": [
        "cv_cat_results = cv_cat_results[['MLA Test Accuracy Mean', 'MLA Test Accuracy 3*STD', 'MLA Name', 'MLA Time']].max()"
      ]
    },
    {
      "cell_type": "code",
      "execution_count": 19,
      "metadata": {
        "colab": {
          "base_uri": "https://localhost:8080/",
          "height": 238
        },
        "id": "5ByOedK4shVh",
        "outputId": "0f79cdb8-4135-4192-ba0a-adc0e28ecce0"
      },
      "outputs": [
        {
          "output_type": "execute_result",
          "data": {
            "text/html": [
              "\n",
              "  <div id=\"df-52d15bb3-483c-4ec8-a360-6f220e5e22dc\">\n",
              "    <div class=\"colab-df-container\">\n",
              "      <div>\n",
              "<style scoped>\n",
              "    .dataframe tbody tr th:only-of-type {\n",
              "        vertical-align: middle;\n",
              "    }\n",
              "\n",
              "    .dataframe tbody tr th {\n",
              "        vertical-align: top;\n",
              "    }\n",
              "\n",
              "    .dataframe thead th {\n",
              "        text-align: right;\n",
              "    }\n",
              "</style>\n",
              "<table border=\"1\" class=\"dataframe\">\n",
              "  <thead>\n",
              "    <tr style=\"text-align: right;\">\n",
              "      <th></th>\n",
              "      <th>MLA Name</th>\n",
              "      <th>MLA Parameters</th>\n",
              "      <th>MLA Train Accuracy Mean</th>\n",
              "      <th>MLA Test Accuracy Mean</th>\n",
              "      <th>MLA Test Accuracy 3*STD</th>\n",
              "      <th>MLA Time</th>\n",
              "    </tr>\n",
              "  </thead>\n",
              "  <tbody>\n",
              "    <tr>\n",
              "      <th>4</th>\n",
              "      <td>RidgeClassifierCV</td>\n",
              "      <td>{'alphas': array([ 0.1,  1. , 10. ]), 'class_w...</td>\n",
              "      <td>0.516858</td>\n",
              "      <td>0.514955</td>\n",
              "      <td>0.183961</td>\n",
              "      <td>0.375628</td>\n",
              "    </tr>\n",
              "    <tr>\n",
              "      <th>3</th>\n",
              "      <td>XGBClassifier</td>\n",
              "      <td>{'base_score': 0.5, 'booster': 'gbtree', 'cols...</td>\n",
              "      <td>0.763482</td>\n",
              "      <td>0.758741</td>\n",
              "      <td>0.019844</td>\n",
              "      <td>10.973911</td>\n",
              "    </tr>\n",
              "    <tr>\n",
              "      <th>2</th>\n",
              "      <td>KNeighborsClassifier</td>\n",
              "      <td>{'algorithm': 'auto', 'leaf_size': 30, 'metric...</td>\n",
              "      <td>0.971493</td>\n",
              "      <td>0.920707</td>\n",
              "      <td>0.00452</td>\n",
              "      <td>0.067582</td>\n",
              "    </tr>\n",
              "    <tr>\n",
              "      <th>5</th>\n",
              "      <td>CatBoost</td>\n",
              "      <td>NaN</td>\n",
              "      <td>NaN</td>\n",
              "      <td>0.949864</td>\n",
              "      <td>0.007609</td>\n",
              "      <td>385.553245</td>\n",
              "    </tr>\n",
              "    <tr>\n",
              "      <th>1</th>\n",
              "      <td>DecisionTreeClassifier</td>\n",
              "      <td>{'ccp_alpha': 0.0, 'class_weight': None, 'crit...</td>\n",
              "      <td>1.0</td>\n",
              "      <td>0.964472</td>\n",
              "      <td>0.062244</td>\n",
              "      <td>2.57995</td>\n",
              "    </tr>\n",
              "    <tr>\n",
              "      <th>0</th>\n",
              "      <td>RandomForestClassifier</td>\n",
              "      <td>{'bootstrap': True, 'ccp_alpha': 0.0, 'class_w...</td>\n",
              "      <td>1.0</td>\n",
              "      <td>0.996625</td>\n",
              "      <td>0.002151</td>\n",
              "      <td>11.576256</td>\n",
              "    </tr>\n",
              "  </tbody>\n",
              "</table>\n",
              "</div>\n",
              "      <button class=\"colab-df-convert\" onclick=\"convertToInteractive('df-52d15bb3-483c-4ec8-a360-6f220e5e22dc')\"\n",
              "              title=\"Convert this dataframe to an interactive table.\"\n",
              "              style=\"display:none;\">\n",
              "        \n",
              "  <svg xmlns=\"http://www.w3.org/2000/svg\" height=\"24px\"viewBox=\"0 0 24 24\"\n",
              "       width=\"24px\">\n",
              "    <path d=\"M0 0h24v24H0V0z\" fill=\"none\"/>\n",
              "    <path d=\"M18.56 5.44l.94 2.06.94-2.06 2.06-.94-2.06-.94-.94-2.06-.94 2.06-2.06.94zm-11 1L8.5 8.5l.94-2.06 2.06-.94-2.06-.94L8.5 2.5l-.94 2.06-2.06.94zm10 10l.94 2.06.94-2.06 2.06-.94-2.06-.94-.94-2.06-.94 2.06-2.06.94z\"/><path d=\"M17.41 7.96l-1.37-1.37c-.4-.4-.92-.59-1.43-.59-.52 0-1.04.2-1.43.59L10.3 9.45l-7.72 7.72c-.78.78-.78 2.05 0 2.83L4 21.41c.39.39.9.59 1.41.59.51 0 1.02-.2 1.41-.59l7.78-7.78 2.81-2.81c.8-.78.8-2.07 0-2.86zM5.41 20L4 18.59l7.72-7.72 1.47 1.35L5.41 20z\"/>\n",
              "  </svg>\n",
              "      </button>\n",
              "      \n",
              "  <style>\n",
              "    .colab-df-container {\n",
              "      display:flex;\n",
              "      flex-wrap:wrap;\n",
              "      gap: 12px;\n",
              "    }\n",
              "\n",
              "    .colab-df-convert {\n",
              "      background-color: #E8F0FE;\n",
              "      border: none;\n",
              "      border-radius: 50%;\n",
              "      cursor: pointer;\n",
              "      display: none;\n",
              "      fill: #1967D2;\n",
              "      height: 32px;\n",
              "      padding: 0 0 0 0;\n",
              "      width: 32px;\n",
              "    }\n",
              "\n",
              "    .colab-df-convert:hover {\n",
              "      background-color: #E2EBFA;\n",
              "      box-shadow: 0px 1px 2px rgba(60, 64, 67, 0.3), 0px 1px 3px 1px rgba(60, 64, 67, 0.15);\n",
              "      fill: #174EA6;\n",
              "    }\n",
              "\n",
              "    [theme=dark] .colab-df-convert {\n",
              "      background-color: #3B4455;\n",
              "      fill: #D2E3FC;\n",
              "    }\n",
              "\n",
              "    [theme=dark] .colab-df-convert:hover {\n",
              "      background-color: #434B5C;\n",
              "      box-shadow: 0px 1px 3px 1px rgba(0, 0, 0, 0.15);\n",
              "      filter: drop-shadow(0px 1px 2px rgba(0, 0, 0, 0.3));\n",
              "      fill: #FFFFFF;\n",
              "    }\n",
              "  </style>\n",
              "\n",
              "      <script>\n",
              "        const buttonEl =\n",
              "          document.querySelector('#df-52d15bb3-483c-4ec8-a360-6f220e5e22dc button.colab-df-convert');\n",
              "        buttonEl.style.display =\n",
              "          google.colab.kernel.accessAllowed ? 'block' : 'none';\n",
              "\n",
              "        async function convertToInteractive(key) {\n",
              "          const element = document.querySelector('#df-52d15bb3-483c-4ec8-a360-6f220e5e22dc');\n",
              "          const dataTable =\n",
              "            await google.colab.kernel.invokeFunction('convertToInteractive',\n",
              "                                                     [key], {});\n",
              "          if (!dataTable) return;\n",
              "\n",
              "          const docLinkHtml = 'Like what you see? Visit the ' +\n",
              "            '<a target=\"_blank\" href=https://colab.research.google.com/notebooks/data_table.ipynb>data table notebook</a>'\n",
              "            + ' to learn more about interactive tables.';\n",
              "          element.innerHTML = '';\n",
              "          dataTable['output_type'] = 'display_data';\n",
              "          await google.colab.output.renderOutput(dataTable, element);\n",
              "          const docLink = document.createElement('div');\n",
              "          docLink.innerHTML = docLinkHtml;\n",
              "          element.appendChild(docLink);\n",
              "        }\n",
              "      </script>\n",
              "    </div>\n",
              "  </div>\n",
              "  "
            ],
            "text/plain": [
              "                 MLA Name  ...    MLA Time\n",
              "4       RidgeClassifierCV  ...    0.375628\n",
              "3           XGBClassifier  ...   10.973911\n",
              "2    KNeighborsClassifier  ...    0.067582\n",
              "5                CatBoost  ...  385.553245\n",
              "1  DecisionTreeClassifier  ...     2.57995\n",
              "0  RandomForestClassifier  ...   11.576256\n",
              "\n",
              "[6 rows x 6 columns]"
            ]
          },
          "metadata": {},
          "execution_count": 19
        }
      ],
      "source": [
        "MLA_compare = MLA_compare.append(cv_cat_results, ignore_index=True).sort_values(by = \"MLA Test Accuracy Mean\")\n",
        "MLA_compare"
      ]
    },
    {
      "cell_type": "code",
      "execution_count": 20,
      "metadata": {
        "colab": {
          "base_uri": "https://localhost:8080/",
          "height": 602
        },
        "id": "d9aeU0i6U7Te",
        "outputId": "26614940-d741-4f14-8495-71e6c6c0771f"
      },
      "outputs": [
        {
          "output_type": "stream",
          "name": "stdout",
          "text": [
            "Saving figure Compare time\n"
          ]
        },
        {
          "output_type": "display_data",
          "data": {
            "image/png": "[encoded data removed]",
            "text/plain": [
              "<Figure size 864x576 with 1 Axes>"
            ]
          },
          "metadata": {}
        }
      ],
      "source": [
        "#barplot using https://seaborn.pydata.org/generated/seaborn.barplot.html\n",
        "sns.barplot(x='MLA Time', y = 'MLA Name', data = MLA_compare, color = 'm')\n",
        "\n",
        "#prettify using pyplot: https://matplotlib.org/api/pyplot_api.html\n",
        "plt.title('Machine Learning Algorithm Fitting time')\n",
        "plt.xlabel('Time (c)')\n",
        "plt.ylabel('Algorithm')\n",
        "save_fig(\"Compare time\")"
      ]
    },
    {
      "cell_type": "code",
      "execution_count": 21,
      "metadata": {
        "colab": {
          "base_uri": "https://localhost:8080/",
          "height": 602
        },
        "id": "EnM8-56oqjMm",
        "outputId": "7edf0685-f951-4d3a-f627-f56da009230d"
      },
      "outputs": [
        {
          "output_type": "stream",
          "name": "stdout",
          "text": [
            "Saving figure Compare Accuracy\n"
          ]
        },
        {
          "output_type": "display_data",
          "data": {
            "image/png": "[encoded data removed]",
            "text/plain": [
              "<Figure size 864x576 with 1 Axes>"
            ]
          },
          "metadata": {}
        }
      ],
      "source": [
        "#barplot using https://seaborn.pydata.org/generated/seaborn.barplot.html\n",
        "sns.barplot(x='MLA Test Accuracy Mean', y = 'MLA Name', data = MLA_compare, color = 'm')\n",
        "\n",
        "#prettify using pyplot: https://matplotlib.org/api/pyplot_api.html\n",
        "plt.title('Machine Learning Algorithm Accuracy Score \\n')\n",
        "plt.xlabel('Accuracy Score (%)')\n",
        "plt.ylabel('Algorithm')\n",
        "\n",
        "save_fig(\"Compare Accuracy\")"
      ]
    },
    {
      "cell_type": "markdown",
      "source": [
        "We will choose RandomForest because it gives best score on validation test and requires less time than CatBoost. But first lets check how it predicts on unseen data by fitting on X_train_encod and validating on X_val_encod."
      ],
      "metadata": {
        "id": "b6iMiLfGq0hE"
      }
    },
    {
      "cell_type": "markdown",
      "source": [
        "# Validate by RandomForest"
      ],
      "metadata": {
        "id": "t1V4Ki8htTIk"
      }
    },
    {
      "cell_type": "code",
      "source": [
        "pickle_in = open(path_pikcle + \"list_encoded.pickle\", \"rb\")\n",
        "list_encoded = pickle.load(pickle_in)\n",
        "X_train_encod = list_encoded[\"X_train_encod\"].sample(frac=1)\n",
        "X_val_encod = list_encoded[\"X_val_encod\"].sample(frac=1)"
      ],
      "metadata": {
        "id": "BVSAuPRNsK55"
      },
      "execution_count": null,
      "outputs": []
    },
    {
      "cell_type": "code",
      "source": [
        "train = X_train_encod.drop([\"gender\"], axis = 1)\n",
        "target = X_train_encod[\"gender\"]\n",
        "\n",
        "val = X_val_encod.drop([\"gender\"], axis = 1)\n",
        "val_target = X_val_encod[\"gender\"]"
      ],
      "metadata": {
        "id": "I64LN3Anh5Gr"
      },
      "execution_count": null,
      "outputs": []
    },
    {
      "cell_type": "code",
      "source": [
        "%%time\n",
        "\n",
        "from sklearnex import patch_sklearn\n",
        "patch_sklearn(global_patch=True) # make learning a little bit faster\n",
        "\n",
        "from sklearn import ensemble\n",
        "\n",
        "alg = ensemble.RandomForestClassifier(max_depth=8)\n",
        "alg.fit(train, target)"
      ],
      "metadata": {
        "colab": {
          "base_uri": "https://localhost:8080/"
        },
        "id": "mwbVrvkLiC8H",
        "outputId": "67a2cf0d-476d-4597-9130-56d39a4fbcc8"
      },
      "execution_count": null,
      "outputs": [
        {
          "output_type": "stream",
          "name": "stdout",
          "text": [
            "Scikit-learn was successfully globally patched by Intel(R) Extension for Scikit-learn\n"
          ]
        },
        {
          "output_type": "stream",
          "name": "stderr",
          "text": [
            "Intel(R) Extension for Scikit-learn* enabled (https://github.com/intel/scikit-learn-intelex)\n"
          ]
        },
        {
          "output_type": "stream",
          "name": "stdout",
          "text": [
            "CPU times: user 44.3 s, sys: 1.15 s, total: 45.4 s\n",
            "Wall time: 49.6 s\n"
          ]
        }
      ]
    },
    {
      "cell_type": "code",
      "source": [
        "from sklearn.metrics import roc_auc_score\n",
        "roc_auc_score(val_target, alg.predict_proba(val)[:, 1]) "
      ],
      "metadata": {
        "id": "ZvKoExbKvXrF"
      },
      "execution_count": null,
      "outputs": []
    },
    {
      "cell_type": "markdown",
      "source": [
        "We get high train and validation score using X_sample_encode and low test score using X_train_encode and X_val_encode. It means that there are a lot of instances in X_val_encode that differs a lot from  X_train_encode ones.  "
      ],
      "metadata": {
        "id": "Xc-I2ZVRJil9"
      }
    },
    {
      "cell_type": "markdown",
      "source": [
        "# Final fitting"
      ],
      "metadata": {
        "id": "YB9xpb8V6NGD"
      }
    },
    {
      "cell_type": "markdown",
      "source": [
        "I hope, that by using X_full_encode we will resolve the problem of data shifting as we will have more instances to construct more generalized features. Moreover 2 data sets contains the same clients - \n",
        "\n",
        "Let's check first similarity between variable disributions in different data sets."
      ],
      "metadata": {
        "id": "FJqpV5RBKTGO"
      }
    },
    {
      "cell_type": "code",
      "source": [
        "pickle_in = open(path_pikcle + \"list_encoded.pickle\", \"rb\")\n",
        "list_encoded = pickle.load(pickle_in)\n",
        "X_full_encod = list_encoded[\"X_full_encod\"].sample(frac=1)"
      ],
      "metadata": {
        "id": "1p0zKm_U7QD4"
      },
      "execution_count": 14,
      "outputs": []
    },
    {
      "cell_type": "markdown",
      "source": [
        "## Before tuning"
      ],
      "metadata": {
        "id": "8ExDnaewDvgg"
      }
    },
    {
      "cell_type": "code",
      "source": [
        "train = X_full_encod.drop([\"gender\"], axis = 1)\n",
        "target = X_full_encod[\"gender\"]\n",
        "\n",
        "# val = X_test_encod.drop([\"gender\"], axis = 1)\n",
        "# val_target = X_test_encod[\"gender\"]"
      ],
      "metadata": {
        "id": "M600rLvo8JzX"
      },
      "execution_count": 15,
      "outputs": []
    },
    {
      "cell_type": "code",
      "source": [
        "from sklearnex import patch_sklearn\n",
        "patch_sklearn(global_patch=True) # make learning a little bit faster\n",
        "\n",
        "from sklearn import ensemble\n",
        "\n",
        "cv_split = model_selection.KFold(n_splits = 4)\n",
        "alg = ensemble.RandomForestClassifier(max_depth=12)\n",
        "\n",
        "base_results = model_selection.cross_validate(alg, train, target, cv  = cv_split, n_jobs = -1, scoring = \"roc_auc\", return_train_score=True, verbose=True)\n",
        "\n",
        "alg.fit(train, target)\n",
        "\n",
        "# print('BEFORE - Parameters: ', alg.get_params())\n",
        "\n",
        "print(\"BEFORE - Training score mean: {:.2f}\". format(base_results['train_score'].mean()*100)) \n",
        "print(\"BEFORE - Test score mean: {:.2f}\". format(base_results['test_score'].mean()*100))\n",
        "print(\"BEFORE - Test score 3*std: +/- {:.2f}\". format(base_results['test_score'].std()*100*3))\n",
        "print(\"BEFORE - Test set score min: {:.2f}\". format(base_results['test_score'].min()*100))\n",
        "print('-'*10)"
      ],
      "metadata": {
        "colab": {
          "base_uri": "https://localhost:8080/"
        },
        "id": "6F9qU8s27tO7",
        "outputId": "0b8b54d3-156c-4cc3-99c2-917d37e5d78e"
      },
      "execution_count": 16,
      "outputs": [
        {
          "output_type": "stream",
          "name": "stdout",
          "text": [
            "Scikit-learn was successfully globally patched by Intel(R) Extension for Scikit-learn\n"
          ]
        },
        {
          "output_type": "stream",
          "name": "stderr",
          "text": [
            "Intel(R) Extension for Scikit-learn* enabled (https://github.com/intel/scikit-learn-intelex)\n",
            "[Parallel(n_jobs=-1)]: Using backend LokyBackend with 2 concurrent workers.\n",
            "[Parallel(n_jobs=-1)]: Done   4 out of   4 | elapsed: 22.8min finished\n"
          ]
        },
        {
          "output_type": "stream",
          "name": "stdout",
          "text": [
            "BEFORE - Training score mean: 94.32\n",
            "BEFORE - Test score mean: 94.29\n",
            "BEFORE - Test score 3*std: +/- 0.05\n",
            "BEFORE - Test set score min: 94.27\n",
            "----------\n"
          ]
        }
      ]
    },
    {
      "cell_type": "code",
      "source": [
        "pickle_out = open(path_pikcle + \"before_tuning.pickle\", \"wb\")\n",
        "pickle.dump(alg, pickle_out)\n",
        "\n",
        "pickle_out.close()"
      ],
      "metadata": {
        "id": "Y5cg6xZlB6jB"
      },
      "execution_count": 17,
      "outputs": []
    },
    {
      "cell_type": "code",
      "source": [
        "pickle_out = open(path_pikcle + \"base_results_before_tuning.pickle\", \"wb\")\n",
        "pickle.dump(base_results, pickle_out)\n",
        "\n",
        "pickle_out.close()"
      ],
      "metadata": {
        "id": "o-TisNSAd00c"
      },
      "execution_count": 18,
      "outputs": []
    },
    {
      "cell_type": "markdown",
      "metadata": {
        "id": "cxApcDxlob4Z"
      },
      "source": [
        "## After feature selection"
      ]
    },
    {
      "cell_type": "code",
      "source": [
        "pickle_in = open(path_pikcle + \"before_tuning.pickle\", \"rb\")\n",
        "alg = pickle.load(pickle_in)"
      ],
      "metadata": {
        "id": "egwMzGr_EBFZ"
      },
      "execution_count": 16,
      "outputs": []
    },
    {
      "cell_type": "code",
      "source": [
        "pickle_in = open(path_pikcle + \"list_encoded.pickle\", \"rb\")\n",
        "list_encoded = pickle.load(pickle_in)\n",
        "X_full_encod = list_encoded[\"X_full_encod\"].sample(frac=1)"
      ],
      "metadata": {
        "id": "L-emc6tTbqH4"
      },
      "execution_count": 14,
      "outputs": []
    },
    {
      "cell_type": "markdown",
      "source": [
        "Feature importances are provided by the fitted attribute feature_importances_ and they are computed as the mean and standard deviation of accumulation of the impurity decrease within each tree."
      ],
      "metadata": {
        "id": "sla8bGWc_TFI"
      }
    },
    {
      "cell_type": "code",
      "source": [
        "import time\n",
        "import numpy as np\n",
        "\n",
        "start_time = time.time()\n",
        "importances = alg.feature_importances_\n",
        "std = np.std([tree.feature_importances_ for tree in alg.estimators_], axis=0)\n",
        "elapsed_time = time.time() - start_time\n",
        "\n",
        "print(f\"Elapsed time to compute the importances: {elapsed_time:.3f} seconds\")"
      ],
      "metadata": {
        "colab": {
          "base_uri": "https://localhost:8080/"
        },
        "id": "EGtlMz5b_fBc",
        "outputId": "b098c233-70e7-49d0-c8bb-84720c8e21da"
      },
      "execution_count": 17,
      "outputs": [
        {
          "output_type": "stream",
          "name": "stdout",
          "text": [
            "Elapsed time to compute the importances: 0.022 seconds\n"
          ]
        }
      ]
    },
    {
      "cell_type": "code",
      "source": [
        "import pandas as pd\n",
        "\n",
        "feature_names = X_full_encod.drop(['gender'], axis = 1).columns\n",
        "forest_importances = pd.Series(importances, index=feature_names)\n",
        "\n",
        "fig, ax = plt.subplots()\n",
        "forest_importances.plot.bar(yerr=std, ax=ax)\n",
        "ax.set_title(\"Feature importances using MDI\")\n",
        "ax.set_ylabel(\"Mean decrease in impurity\")\n",
        "fig.tight_layout()\n",
        "\n",
        "save_fig(\"Важность\")"
      ],
      "metadata": {
        "colab": {
          "base_uri": "https://localhost:8080/",
          "height": 602
        },
        "id": "fr4la54q_R8v",
        "outputId": "b79ef039-476a-4576-be49-72d051a2f7cc"
      },
      "execution_count": 18,
      "outputs": [
        {
          "output_type": "stream",
          "name": "stdout",
          "text": [
            "Saving figure Важность\n"
          ]
        },
        {
          "output_type": "display_data",
          "data": {
            "image/png": "[encoded data removed]",
            "text/plain": [
              "<Figure size 864x576 with 1 Axes>"
            ]
          },
          "metadata": {}
        }
      ]
    },
    {
      "cell_type": "code",
      "source": [
        "good_features = forest_importances[forest_importances > 0.04].index.to_list()\n",
        "good_features"
      ],
      "metadata": {
        "colab": {
          "base_uri": "https://localhost:8080/"
        },
        "id": "DIRvXjuOcaH6",
        "outputId": "0181eb21-dfdf-4c39-e16d-a8c92b1193bf"
      },
      "execution_count": 19,
      "outputs": [
        {
          "output_type": "execute_result",
          "data": {
            "text/plain": [
              "['Mean_net_money_per_day',\n",
              " 'Std_net_money_per_day',\n",
              " 'Mean_spend_money_per_day',\n",
              " 'Mean_earn_money_per_day',\n",
              " 'Money_spend_std_per_day',\n",
              " 'Mean_earn_std_per_day',\n",
              " 'Money_earn_spend_ratio_per_day',\n",
              " 'ALL_money_net',\n",
              " 'ALL_money_spend',\n",
              " 'ALL_money_earn',\n",
              " 'ALL_money_spend_earn_ratio',\n",
              " 'Frequency_of_spending_all',\n",
              " 'Frequency_of_spending_per_week']"
            ]
          },
          "metadata": {},
          "execution_count": 19
        }
      ]
    },
    {
      "cell_type": "code",
      "source": [
        "train = X_full_encod.drop([\"gender\"], axis = 1)[good_features]\n",
        "target = X_full_encod[\"gender\"]"
      ],
      "metadata": {
        "id": "6jjCnQSSddzW"
      },
      "execution_count": 22,
      "outputs": []
    },
    {
      "cell_type": "code",
      "source": [
        "from sklearnex import patch_sklearn\n",
        "patch_sklearn(global_patch=True) # make learning a little bit faster\n",
        "\n",
        "from sklearn import ensemble\n",
        "\n",
        "cv_split = model_selection.KFold(n_splits = 4)\n",
        "alg = ensemble.RandomForestClassifier(max_depth=8)\n",
        "\n",
        "base_results = model_selection.cross_validate(alg, train, target, cv  = cv_split, n_jobs = -1, scoring = \"roc_auc\", return_train_score=True, verbose=True)\n",
        "\n",
        "alg.fit(train, target)\n",
        "\n",
        "# print('BEFORE - Parameters: ', alg.get_params())\n",
        "\n",
        "print(\"BEFORE - Training score mean: {:.2f}\". format(base_results['train_score'].mean()*100)) \n",
        "print(\"BEFORE - Test score mean: {:.2f}\". format(base_results['test_score'].mean()*100))\n",
        "print(\"BEFORE - Test score 3*std: +/- {:.2f}\". format(base_results['test_score'].std()*100*3))\n",
        "print(\"BEFORE - Test set score min: {:.2f}\". format(base_results['test_score'].min()*100))\n",
        "print('-'*10)"
      ],
      "metadata": {
        "colab": {
          "base_uri": "https://localhost:8080/"
        },
        "id": "p73fOmqKdH8D",
        "outputId": "a4844afe-e881-4d7a-c04d-95f28f02288d"
      },
      "execution_count": 23,
      "outputs": [
        {
          "output_type": "stream",
          "name": "stdout",
          "text": [
            "Scikit-learn was successfully globally patched by Intel(R) Extension for Scikit-learn\n"
          ]
        },
        {
          "output_type": "stream",
          "name": "stderr",
          "text": [
            "Intel(R) Extension for Scikit-learn* enabled (https://github.com/intel/scikit-learn-intelex)\n",
            "[Parallel(n_jobs=-1)]: Using backend LokyBackend with 2 concurrent workers.\n",
            "[Parallel(n_jobs=-1)]: Done   4 out of   4 | elapsed: 24.5min finished\n"
          ]
        },
        {
          "output_type": "stream",
          "name": "stdout",
          "text": [
            "BEFORE - Training score mean: 100.00\n",
            "BEFORE - Test score mean: 100.00\n",
            "BEFORE - Test score 3*std: +/- 0.00\n",
            "BEFORE - Test set score min: 100.00\n",
            "----------\n"
          ]
        }
      ]
    },
    {
      "cell_type": "code",
      "source": [
        "pickle_out = open(path_pikcle + \"after_selection.pickle\", \"wb\")\n",
        "pickle.dump(alg, pickle_out)\n",
        "\n",
        "pickle_out.close()"
      ],
      "metadata": {
        "id": "2SeTzOkGdhwb"
      },
      "execution_count": 24,
      "outputs": []
    },
    {
      "cell_type": "code",
      "source": [
        "pickle_out = open(path_pikcle + \"base_results_after_selection.pickle\", \"wb\")\n",
        "pickle.dump(base_results, pickle_out)\n",
        "\n",
        "pickle_out.close()"
      ],
      "metadata": {
        "id": "JKJj3sPyd9lG"
      },
      "execution_count": 25,
      "outputs": []
    },
    {
      "cell_type": "markdown",
      "source": [
        "## SHAP"
      ],
      "metadata": {
        "id": "J6y1thCFWgDy"
      }
    },
    {
      "cell_type": "code",
      "source": [
        "pickle_in = open(path_pikcle + \"after_selection.pickle\", \"rb\")\n",
        "alg = pickle.load(pickle_in)"
      ],
      "metadata": {
        "id": "q6K4ERbQWtZt"
      },
      "execution_count": 14,
      "outputs": []
    },
    {
      "cell_type": "code",
      "source": [
        "good_features = ['Mean_net_money_per_day',\n",
        " 'Std_net_money_per_day',\n",
        " 'Mean_spend_money_per_day',\n",
        " 'Mean_earn_money_per_day',\n",
        " 'Money_spend_std_per_day',\n",
        " 'Mean_earn_std_per_day',\n",
        " 'Money_earn_spend_ratio_per_day',\n",
        " 'ALL_money_net',\n",
        " 'ALL_money_spend',\n",
        " 'ALL_money_earn',\n",
        " 'ALL_money_spend_earn_ratio',\n",
        " 'Frequency_of_spending_all',\n",
        " 'Frequency_of_spending_per_week']"
      ],
      "metadata": {
        "id": "1XuBRXv4mXSE"
      },
      "execution_count": 15,
      "outputs": []
    },
    {
      "cell_type": "code",
      "source": [
        "pickle_in = open(path_pikcle + \"list_encoded.pickle\", \"rb\")\n",
        "list_encoded = pickle.load(pickle_in)\n",
        "\n",
        "X_sample_encod = list_encoded[\"X_sample_encod\"].drop([\"gender\"], axis = 1)[good_features]"
      ],
      "metadata": {
        "id": "o5Pyo8fuWfW1"
      },
      "execution_count": 16,
      "outputs": []
    },
    {
      "cell_type": "code",
      "execution_count": null,
      "metadata": {
        "id": "TiqSeAqRvXaY"
      },
      "outputs": [],
      "source": [
        "import shap\n",
        "explainer = shap.TreeExplainer(alg) # insert your model"
      ]
    },
    {
      "cell_type": "code",
      "source": [
        "shap_values = explainer.shap_values(X_sample_encod) # insert your train"
      ],
      "metadata": {
        "id": "6dVNaWUgwEcO"
      },
      "execution_count": null,
      "outputs": []
    },
    {
      "cell_type": "code",
      "source": [
        "shap.summary_plot(shap_values, X_sample_encod)\n",
        "save_fig(\"Shap\")"
      ],
      "metadata": {
        "id": "nMyMemxOt1Fm"
      },
      "execution_count": null,
      "outputs": []
    },
    {
      "cell_type": "markdown",
      "metadata": {
        "id": "Ivh-JrjzEpBa"
      },
      "source": [
        "On the above diagram every client (instance/row in our dataset) is represented by one dot in each row. The x position of the dot is the impact of that feature on the model’s prediction, and the color of the dot represents the value of that feature for that exact employee. Dots that do not fit on the row pile up to show density."
      ]
    },
    {
      "cell_type": "markdown",
      "metadata": {
        "id": "mVDs9ZVLGTBR"
      },
      "source": [
        "https://www.kaggle.com/dansbecker/shap-values"
      ]
    },
    {
      "cell_type": "markdown",
      "source": [
        "## FOR ASSESMENT"
      ],
      "metadata": {
        "id": "fIFXwRhZrHAI"
      }
    },
    {
      "cell_type": "code",
      "source": [
        "pickle_in = open(path_pikcle + \"after_selection.pickle\", \"rb\")\n",
        "alg = pickle.load(pickle_in)"
      ],
      "metadata": {
        "id": "Zpi7hMF0s_Rh"
      },
      "execution_count": 22,
      "outputs": []
    },
    {
      "cell_type": "code",
      "source": [
        "good_features = ['Mean_net_money_per_day',\n",
        " 'Std_net_money_per_day',\n",
        " 'Mean_spend_money_per_day',\n",
        " 'Mean_earn_money_per_day',\n",
        " 'Money_spend_std_per_day',\n",
        " 'Mean_earn_std_per_day',\n",
        " 'Money_earn_spend_ratio_per_day',\n",
        " 'ALL_money_net',\n",
        " 'ALL_money_spend',\n",
        " 'ALL_money_earn',\n",
        " 'ALL_money_spend_earn_ratio',\n",
        " 'Frequency_of_spending_all',\n",
        " 'Frequency_of_spending_per_week']"
      ],
      "metadata": {
        "id": "TxIJlW1Rndnv"
      },
      "execution_count": 23,
      "outputs": []
    },
    {
      "cell_type": "code",
      "source": [
        "pickle_in = open(path_pikcle + \"list_encoded.pickle\", \"rb\")\n",
        "list_encoded = pickle.load(pickle_in)\n",
        "X_test_encod = list_encoded[\"X_test_encod\"][good_features]"
      ],
      "metadata": {
        "id": "TgK6oBrvrGGU"
      },
      "execution_count": 24,
      "outputs": []
    },
    {
      "cell_type": "code",
      "source": [
        "result = alg.predict(X_test_encod)"
      ],
      "metadata": {
        "id": "c0Tsb1jstJJd"
      },
      "execution_count": 25,
      "outputs": []
    },
    {
      "cell_type": "code",
      "source": [
        "X_test_encod[\"gender\"] = result"
      ],
      "metadata": {
        "id": "Xl6rmr7wntIJ"
      },
      "execution_count": 26,
      "outputs": []
    },
    {
      "cell_type": "code",
      "source": [
        "X_test_encod.head()"
      ],
      "metadata": {
        "colab": {
          "base_uri": "https://localhost:8080/",
          "height": 270
        },
        "id": "KDz5wa_Dnypv",
        "outputId": "61f0b7dc-c68b-4dc6-e047-143421253bd6"
      },
      "execution_count": 27,
      "outputs": [
        {
          "output_type": "execute_result",
          "data": {
            "text/html": [
              "\n",
              "  <div id=\"df-e8b8afee-96f8-4790-9646-00c280c3b9a8\">\n",
              "    <div class=\"colab-df-container\">\n",
              "      <div>\n",
              "<style scoped>\n",
              "    .dataframe tbody tr th:only-of-type {\n",
              "        vertical-align: middle;\n",
              "    }\n",
              "\n",
              "    .dataframe tbody tr th {\n",
              "        vertical-align: top;\n",
              "    }\n",
              "\n",
              "    .dataframe thead th {\n",
              "        text-align: right;\n",
              "    }\n",
              "</style>\n",
              "<table border=\"1\" class=\"dataframe\">\n",
              "  <thead>\n",
              "    <tr style=\"text-align: right;\">\n",
              "      <th></th>\n",
              "      <th>Mean_net_money_per_day</th>\n",
              "      <th>Std_net_money_per_day</th>\n",
              "      <th>Mean_spend_money_per_day</th>\n",
              "      <th>Mean_earn_money_per_day</th>\n",
              "      <th>Money_spend_std_per_day</th>\n",
              "      <th>Mean_earn_std_per_day</th>\n",
              "      <th>Money_earn_spend_ratio_per_day</th>\n",
              "      <th>ALL_money_net</th>\n",
              "      <th>ALL_money_spend</th>\n",
              "      <th>ALL_money_earn</th>\n",
              "      <th>ALL_money_spend_earn_ratio</th>\n",
              "      <th>Frequency_of_spending_all</th>\n",
              "      <th>Frequency_of_spending_per_week</th>\n",
              "      <th>gender</th>\n",
              "    </tr>\n",
              "  </thead>\n",
              "  <tbody>\n",
              "    <tr>\n",
              "      <th>1453476</th>\n",
              "      <td>-5528.561372</td>\n",
              "      <td>168370.985787</td>\n",
              "      <td>-17981.854409</td>\n",
              "      <td>451092.183333</td>\n",
              "      <td>29652.262014</td>\n",
              "      <td>990028.956041</td>\n",
              "      <td>25.085966</td>\n",
              "      <td>-1249454.87</td>\n",
              "      <td>-3956007.97</td>\n",
              "      <td>2706553.1</td>\n",
              "      <td>1.461641</td>\n",
              "      <td>226</td>\n",
              "      <td>32.285714</td>\n",
              "      <td>0.0</td>\n",
              "    </tr>\n",
              "    <tr>\n",
              "      <th>1453557</th>\n",
              "      <td>-5528.561372</td>\n",
              "      <td>168370.985787</td>\n",
              "      <td>-17981.854409</td>\n",
              "      <td>451092.183333</td>\n",
              "      <td>29652.262014</td>\n",
              "      <td>990028.956041</td>\n",
              "      <td>25.085966</td>\n",
              "      <td>-1249454.87</td>\n",
              "      <td>-3956007.97</td>\n",
              "      <td>2706553.1</td>\n",
              "      <td>1.461641</td>\n",
              "      <td>226</td>\n",
              "      <td>32.285714</td>\n",
              "      <td>0.0</td>\n",
              "    </tr>\n",
              "    <tr>\n",
              "      <th>1453556</th>\n",
              "      <td>-5528.561372</td>\n",
              "      <td>168370.985787</td>\n",
              "      <td>-17981.854409</td>\n",
              "      <td>451092.183333</td>\n",
              "      <td>29652.262014</td>\n",
              "      <td>990028.956041</td>\n",
              "      <td>25.085966</td>\n",
              "      <td>-1249454.87</td>\n",
              "      <td>-3956007.97</td>\n",
              "      <td>2706553.1</td>\n",
              "      <td>1.461641</td>\n",
              "      <td>226</td>\n",
              "      <td>32.285714</td>\n",
              "      <td>0.0</td>\n",
              "    </tr>\n",
              "    <tr>\n",
              "      <th>1453555</th>\n",
              "      <td>-5528.561372</td>\n",
              "      <td>168370.985787</td>\n",
              "      <td>-17981.854409</td>\n",
              "      <td>451092.183333</td>\n",
              "      <td>29652.262014</td>\n",
              "      <td>990028.956041</td>\n",
              "      <td>25.085966</td>\n",
              "      <td>-1249454.87</td>\n",
              "      <td>-3956007.97</td>\n",
              "      <td>2706553.1</td>\n",
              "      <td>1.461641</td>\n",
              "      <td>226</td>\n",
              "      <td>32.285714</td>\n",
              "      <td>0.0</td>\n",
              "    </tr>\n",
              "    <tr>\n",
              "      <th>1453554</th>\n",
              "      <td>-5528.561372</td>\n",
              "      <td>168370.985787</td>\n",
              "      <td>-17981.854409</td>\n",
              "      <td>451092.183333</td>\n",
              "      <td>29652.262014</td>\n",
              "      <td>990028.956041</td>\n",
              "      <td>25.085966</td>\n",
              "      <td>-1249454.87</td>\n",
              "      <td>-3956007.97</td>\n",
              "      <td>2706553.1</td>\n",
              "      <td>1.461641</td>\n",
              "      <td>226</td>\n",
              "      <td>32.285714</td>\n",
              "      <td>0.0</td>\n",
              "    </tr>\n",
              "  </tbody>\n",
              "</table>\n",
              "</div>\n",
              "      <button class=\"colab-df-convert\" onclick=\"convertToInteractive('df-e8b8afee-96f8-4790-9646-00c280c3b9a8')\"\n",
              "              title=\"Convert this dataframe to an interactive table.\"\n",
              "              style=\"display:none;\">\n",
              "        \n",
              "  <svg xmlns=\"http://www.w3.org/2000/svg\" height=\"24px\"viewBox=\"0 0 24 24\"\n",
              "       width=\"24px\">\n",
              "    <path d=\"M0 0h24v24H0V0z\" fill=\"none\"/>\n",
              "    <path d=\"M18.56 5.44l.94 2.06.94-2.06 2.06-.94-2.06-.94-.94-2.06-.94 2.06-2.06.94zm-11 1L8.5 8.5l.94-2.06 2.06-.94-2.06-.94L8.5 2.5l-.94 2.06-2.06.94zm10 10l.94 2.06.94-2.06 2.06-.94-2.06-.94-.94-2.06-.94 2.06-2.06.94z\"/><path d=\"M17.41 7.96l-1.37-1.37c-.4-.4-.92-.59-1.43-.59-.52 0-1.04.2-1.43.59L10.3 9.45l-7.72 7.72c-.78.78-.78 2.05 0 2.83L4 21.41c.39.39.9.59 1.41.59.51 0 1.02-.2 1.41-.59l7.78-7.78 2.81-2.81c.8-.78.8-2.07 0-2.86zM5.41 20L4 18.59l7.72-7.72 1.47 1.35L5.41 20z\"/>\n",
              "  </svg>\n",
              "      </button>\n",
              "      \n",
              "  <style>\n",
              "    .colab-df-container {\n",
              "      display:flex;\n",
              "      flex-wrap:wrap;\n",
              "      gap: 12px;\n",
              "    }\n",
              "\n",
              "    .colab-df-convert {\n",
              "      background-color: #E8F0FE;\n",
              "      border: none;\n",
              "      border-radius: 50%;\n",
              "      cursor: pointer;\n",
              "      display: none;\n",
              "      fill: #1967D2;\n",
              "      height: 32px;\n",
              "      padding: 0 0 0 0;\n",
              "      width: 32px;\n",
              "    }\n",
              "\n",
              "    .colab-df-convert:hover {\n",
              "      background-color: #E2EBFA;\n",
              "      box-shadow: 0px 1px 2px rgba(60, 64, 67, 0.3), 0px 1px 3px 1px rgba(60, 64, 67, 0.15);\n",
              "      fill: #174EA6;\n",
              "    }\n",
              "\n",
              "    [theme=dark] .colab-df-convert {\n",
              "      background-color: #3B4455;\n",
              "      fill: #D2E3FC;\n",
              "    }\n",
              "\n",
              "    [theme=dark] .colab-df-convert:hover {\n",
              "      background-color: #434B5C;\n",
              "      box-shadow: 0px 1px 3px 1px rgba(0, 0, 0, 0.15);\n",
              "      filter: drop-shadow(0px 1px 2px rgba(0, 0, 0, 0.3));\n",
              "      fill: #FFFFFF;\n",
              "    }\n",
              "  </style>\n",
              "\n",
              "      <script>\n",
              "        const buttonEl =\n",
              "          document.querySelector('#df-e8b8afee-96f8-4790-9646-00c280c3b9a8 button.colab-df-convert');\n",
              "        buttonEl.style.display =\n",
              "          google.colab.kernel.accessAllowed ? 'block' : 'none';\n",
              "\n",
              "        async function convertToInteractive(key) {\n",
              "          const element = document.querySelector('#df-e8b8afee-96f8-4790-9646-00c280c3b9a8');\n",
              "          const dataTable =\n",
              "            await google.colab.kernel.invokeFunction('convertToInteractive',\n",
              "                                                     [key], {});\n",
              "          if (!dataTable) return;\n",
              "\n",
              "          const docLinkHtml = 'Like what you see? Visit the ' +\n",
              "            '<a target=\"_blank\" href=https://colab.research.google.com/notebooks/data_table.ipynb>data table notebook</a>'\n",
              "            + ' to learn more about interactive tables.';\n",
              "          element.innerHTML = '';\n",
              "          dataTable['output_type'] = 'display_data';\n",
              "          await google.colab.output.renderOutput(dataTable, element);\n",
              "          const docLink = document.createElement('div');\n",
              "          docLink.innerHTML = docLinkHtml;\n",
              "          element.appendChild(docLink);\n",
              "        }\n",
              "      </script>\n",
              "    </div>\n",
              "  </div>\n",
              "  "
            ],
            "text/plain": [
              "         Mean_net_money_per_day  ...  gender\n",
              "1453476            -5528.561372  ...     0.0\n",
              "1453557            -5528.561372  ...     0.0\n",
              "1453556            -5528.561372  ...     0.0\n",
              "1453555            -5528.561372  ...     0.0\n",
              "1453554            -5528.561372  ...     0.0\n",
              "\n",
              "[5 rows x 14 columns]"
            ]
          },
          "metadata": {},
          "execution_count": 27
        }
      ]
    },
    {
      "cell_type": "code",
      "source": [
        "X_test_encod[\"gender\"].value_counts()"
      ],
      "metadata": {
        "colab": {
          "base_uri": "https://localhost:8080/"
        },
        "id": "sxPEzQz52QX0",
        "outputId": "ddb1dd73-fc7d-4571-89fe-dd3c7f898613"
      },
      "execution_count": 28,
      "outputs": [
        {
          "output_type": "execute_result",
          "data": {
            "text/plain": [
              "0.0    1862802\n",
              "1.0    1255830\n",
              "Name: gender, dtype: int64"
            ]
          },
          "metadata": {},
          "execution_count": 28
        }
      ]
    },
    {
      "cell_type": "markdown",
      "source": [
        "## After tuning"
      ],
      "metadata": {
        "id": "wezehG4fD0oY"
      }
    },
    {
      "cell_type": "code",
      "source": [
        "train = X_full_encod.drop([\"gender\"], axis = 1)[good_features]\n",
        "target = X_full_encod[\"gender\"]"
      ],
      "metadata": {
        "id": "y8lNSVzHvSYq"
      },
      "execution_count": 20,
      "outputs": []
    },
    {
      "cell_type": "code",
      "source": [
        "from sklearnex import patch_sklearn\n",
        "patch_sklearn(global_patch=True) # make learning a little bit faster\n",
        "\n",
        "from sklearn import tree\n",
        "\n",
        "cv_split = model_selection.KFold(n_splits = 4)\n",
        "alg = tree.DecisionTreeClassifier()\n",
        "\n",
        "#tune hyper-parameters: http://scikit-learn.org/stable/modules/generated/sklearn.tree.DecisionTreeClassifier.html#sklearn.tree.DecisionTreeClassifier\n",
        "param_grid = {'criterion': ['gini', 'entropy'],  #scoring methodology; two supported formulas for calculating information gain - default is gini\n",
        "              # 'splitter': ['best', 'random'], #splitting methodology; two supported strategies - default is best\n",
        "              'max_depth': [2,4,6,8,10,None], #max depth tree can grow; default is none\n",
        "              # 'min_samples_split': [2,5,10,.03,.05], #minimum subset size BEFORE new split (fraction is % of total); default is 2\n",
        "              'min_samples_leaf': [1,5,10,.03,.05], #minimum subset size AFTER new split split (fraction is % of total); default is 1\n",
        "              'max_features': [None, 'auto'], #max features to consider when performing split; default none or all\n",
        "              'random_state': [0] #seed or control random number generator: https://www.quora.com/What-is-seed-in-random-number-generation\n",
        "             }\n",
        "\n",
        "#print(list(model_selection.ParameterGrid(param_grid)))\n",
        "\n",
        "#choose best model with grid_search: #http://scikit-learn.org/stable/modules/grid_search.html#grid-search\n",
        "#http://scikit-learn.org/stable/auto_examples/model_selection/plot_grid_search_digits.html\n",
        "\n",
        "tune_model = model_selection.GridSearchCV(alg, param_grid=param_grid, cv  = cv_split, n_jobs = -1, scoring = \"roc_auc\", return_train_score=True, verbose=True)\n",
        "tune_model.fit(train, target)\n",
        "\n",
        "#print(tune_model.cv_results_.keys())\n",
        "#print(tune_model.cv_results_['params'])\n",
        "print('AFTER TUNING - Parameters: ', tune_model.best_params_)\n",
        "#print(tune_model.cv_results_['mean_train_score'])\n",
        "print(\"AFTER TUNING - Training score mean: {:.2f}\". format(tune_model.cv_results_['mean_train_score'][tune_model.best_index_]*100)) \n",
        "#print(tune_model.cv_results_['mean_test_score'])\n",
        "print(\"AFTER TUNING - Test score mean: {:.2f}\". format(tune_model.cv_results_['mean_test_score'][tune_model.best_index_]*100))\n",
        "print(\"AFTER TUNING - Test score 3*std: +/- {:.2f}\". format(tune_model.cv_results_['std_test_score'][tune_model.best_index_]*100*3))\n",
        "print('-'*10)"
      ],
      "metadata": {
        "id": "cEnU_JqnAp_J"
      },
      "execution_count": null,
      "outputs": []
    }
  ],
  "metadata": {
    "colab": {
      "collapsed_sections": [],
      "name": "Transactions.ipynb",
      "provenance": [],
      "mount_file_id": "1aHwLinBAGbD4z4Y0CsPAj0mPCcm8Hbdr",
      "authorship_tag": "ABX9TyOEu2cfnNd9uPJ2IL6brxT/",
      "include_colab_link": true
    },
    "kernelspec": {
      "display_name": "Python 3",
      "name": "python3"
    },
    "language_info": {
      "name": "python"
    }
  },
  "nbformat": 4,
  "nbformat_minor": 0
}